{
  "nbformat": 4,
  "nbformat_minor": 0,
  "metadata": {
    "colab": {
      "name": "tensorflow : car_evaluation 자료로 분류/회귀",
      "private_outputs": true,
      "provenance": [],
      "collapsed_sections": [],
      "authorship_tag": "ABX9TyNOu22UvnRP9D69mKKxlmqH",
      "include_colab_link": true
    },
    "kernelspec": {
      "name": "python3",
      "display_name": "Python 3"
    },
    "language_info": {
      "name": "python"
    }
  },
  "cells": [
    {
      "cell_type": "markdown",
      "metadata": {
        "id": "view-in-github",
        "colab_type": "text"
      },
      "source": [
        "<a href=\"https://colab.research.google.com/github/seunghee0518/python_colab/blob/main/tensorflow_car_evaluation_%EC%9E%90%EB%A3%8C%EB%A1%9C_%EB%B6%84%EB%A5%98_%ED%9A%8C%EA%B7%80.ipynb\" target=\"_parent\"><img src=\"https://colab.research.google.com/assets/colab-badge.svg\" alt=\"Open In Colab\"/></a>"
      ]
    },
    {
      "cell_type": "markdown",
      "metadata": {
        "id": "5DAL6ymdCUyd"
      },
      "source": [
        "#install& import library"
      ]
    },
    {
      "cell_type": "code",
      "metadata": {
        "id": "HqQ8yFIq-7dx"
      },
      "source": [
        "#library install\n",
        "!pip install pandas\n",
        "!pip install matplotlib\n",
        "!pip install seaborn\n",
        "!pip install scikit-learn"
      ],
      "execution_count": null,
      "outputs": []
    },
    {
      "cell_type": "code",
      "metadata": {
        "id": "C8N_8RT0_NHh"
      },
      "source": [
        "#(must!) upgrade\n",
        "!pip install --upgrade pandas --use-feature=2020-resolver\n",
        "!pip install --upgrade matplotlib --use-feature=2020-resolver\n",
        "!pip install --upgrade seaborn --use-feature=2020-resolver"
      ],
      "execution_count": null,
      "outputs": []
    },
    {
      "cell_type": "code",
      "metadata": {
        "id": "uskxZS1-CGSq"
      },
      "source": [
        "#tensorflow library\n",
        "!pip install -q tensorflow-gpu==2.0.0-rc1"
      ],
      "execution_count": null,
      "outputs": []
    },
    {
      "cell_type": "code",
      "metadata": {
        "id": "d16Pabcn_lHI"
      },
      "source": [
        "#import library\n",
        "import pandas as pd\n",
        "import numpy as np\n",
        "import tensorflow as tf\n",
        "import matplotlib.pyplot as plt\n",
        "%matplotlib inline\n",
        "import seaborn as sns\n",
        "sns.set(style=\"whitegrid\")"
      ],
      "execution_count": null,
      "outputs": []
    },
    {
      "cell_type": "markdown",
      "metadata": {
        "id": "Y38M51I9Cp2M"
      },
      "source": [
        "# load data"
      ]
    },
    {
      "cell_type": "code",
      "metadata": {
        "id": "jnagKyEHCkJr"
      },
      "source": [
        "#data link : https://github.com/gilbutITbook/080263"
      ],
      "execution_count": null,
      "outputs": []
    },
    {
      "cell_type": "code",
      "metadata": {
        "id": "kKjLjolJEuoG"
      },
      "source": [
        "cols = ['price', 'maint', 'doors', 'persons', 'lug_capacity', 'safety', 'output']\n",
        "car_url = 'https://raw.githubusercontent.com/gilbutITbook/080263/master/chap2/data/car_evaluation.csv'\n",
        "cars = pd.read_csv(car_url, names=cols, header = None)\n",
        "cars"
      ],
      "execution_count": null,
      "outputs": []
    },
    {
      "cell_type": "code",
      "metadata": {
        "id": "Z92wf9kKFISN"
      },
      "source": [
        "#pie-chart\n",
        "plot_size = plt.rcParams[\"figure.figsize\"]\n",
        "plot_size[0] = 8\n",
        "plot_size[1] = 6\n",
        "plt.rcParams[\"figure.figsize\"] = plot_size\n",
        "cars.output.value_counts().plot(kind='pie', autopct = '%0.05f%%', colors = ['lightblue', 'lightgreen', 'orange', 'pink'] , explode = (0.05, 0.05, 0.05, 0.05))"
      ],
      "execution_count": null,
      "outputs": []
    },
    {
      "cell_type": "markdown",
      "metadata": {
        "id": "WGZ2TNy0It4K"
      },
      "source": [
        "* output(차 상태)\n",
        "  * unacc : 허용 불가능 상태\n",
        "  * acc : 허용 가능한 수준\n",
        "  * good : 양호\n",
        "  * very good : 매우 좋은 상태\n",
        "* 70%가 허용 불가능"
      ]
    },
    {
      "cell_type": "markdown",
      "metadata": {
        "id": "XUIOeElOI86-"
      },
      "source": [
        "#preprocess\n",
        "* get_dummies() : 가변수 만듦, 문자열만 인코딩 됨, 숫자X\n",
        "* train_test_split() : 훈련/검증 데이터 분리"
      ]
    },
    {
      "cell_type": "code",
      "metadata": {
        "id": "p_5OpltrG7Pt"
      },
      "source": [
        "#one-hot encording\n",
        "price = pd.get_dummies(cars.price, prefix = 'price')\n",
        "maint = pd.get_dummies(cars.maint, prefix = 'maint')\n",
        "doors = pd.get_dummies(cars.doors, prefix = 'doors')\n",
        "persons = pd.get_dummies(cars.persons, prefix = 'persons')\n",
        "lug_capacity = pd.get_dummies(cars.lug_capacity, prefix = 'lug_capacity')\n",
        "safety = pd.get_dummies(cars.safety, prefix = 'safety')\n",
        "labels = pd.get_dummies(cars.output, prefix = 'condition')\n",
        "\n",
        "X = pd.concat([price, maint, doors, persons, lug_capacity, safety], axis = 1)\n",
        "y = labels.values"
      ],
      "execution_count": null,
      "outputs": []
    },
    {
      "cell_type": "code",
      "metadata": {
        "id": "_DxDini-8iwJ"
      },
      "source": [
        "#train/test data\n",
        "from sklearn.model_selection import train_test_split\n",
        "X_train, X_test, y_train, y_test = train_test_split(X, y, test_size = 0.20, random_state = 42)"
      ],
      "execution_count": null,
      "outputs": []
    },
    {
      "cell_type": "code",
      "metadata": {
        "id": "KFgUXQ12934S"
      },
      "source": [
        "#create model & compile\n",
        "from tensorflow.keras.layers import Input, Dense, Activation, Dropout\n",
        "from tensorflow.keras.models import Model\n",
        "\n",
        "input_layer = Input(shape = (X.shape[1],))\n",
        "dense_layer_1 = Dense(15, activation = 'relu')(input_layer)\n",
        "dense_layer_2 = Dense(10, activation = 'relu')(dense_layer_1)\n",
        "output = Dense(y.shape[1], activation = 'softmax')(dense_layer_2) #이때 마지막 밀집층은 노드 4개임 y.shape[1] == 4\n",
        "model = Model(inputs = input_layer, outputs = output)\n",
        "\n",
        "model.compile(loss = 'categorical_crossentropy', optimizer = 'adam', metrics = ['acc'])\n",
        "\n",
        "model.summary()"
      ],
      "execution_count": null,
      "outputs": []
    },
    {
      "cell_type": "code",
      "metadata": {
        "id": "dglJ2nx2GQ-B"
      },
      "source": [
        "#training model\n",
        "history = model.fit(X_train, y_train, batch_size = 8, epochs = 50, verbose=1, validation_split = 0.2)"
      ],
      "execution_count": null,
      "outputs": []
    },
    {
      "cell_type": "code",
      "metadata": {
        "id": "Rl2BnRJkH4w8"
      },
      "source": [
        "#evaluate model\n",
        "score = model.evaluate(X_test, y_test, verbose = 1)\n",
        "print(\"Test Score:\", score[0])\n",
        "print(\"Test Accuracy:\", score[1])"
      ],
      "execution_count": null,
      "outputs": []
    }
  ]
}