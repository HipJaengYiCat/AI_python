{
  "nbformat": 4,
  "nbformat_minor": 0,
  "metadata": {
    "colab": {
      "name": "tensorflow : car_evaluation 자료로 분류/회귀",
      "private_outputs": true,
      "provenance": [],
      "collapsed_sections": [],
      "authorship_tag": "ABX9TyOS5bKmdg6Ew5ABtY5jzDbM",
      "include_colab_link": true
    },
    "kernelspec": {
      "name": "python3",
      "display_name": "Python 3"
    },
    "language_info": {
      "name": "python"
    }
  },
  "cells": [
    {
      "cell_type": "markdown",
      "metadata": {
        "id": "view-in-github",
        "colab_type": "text"
      },
      "source": [
        "<a href=\"https://colab.research.google.com/github/seunghee0518/python_colab/blob/main/tensorflow_car_evaluation_%EC%9E%90%EB%A3%8C%EB%A1%9C_%EB%B6%84%EB%A5%98_%ED%9A%8C%EA%B7%80.ipynb\" target=\"_parent\"><img src=\"https://colab.research.google.com/assets/colab-badge.svg\" alt=\"Open In Colab\"/></a>"
      ]
    },
    {
      "cell_type": "markdown",
      "metadata": {
        "id": "5DAL6ymdCUyd"
      },
      "source": [
        "#install& import library"
      ]
    },
    {
      "cell_type": "code",
      "metadata": {
        "id": "HqQ8yFIq-7dx"
      },
      "source": [
        "#library install\n",
        "!pip install pandas\n",
        "!pip install matplotlib\n",
        "!pip install seaborn\n",
        "!pip install scikit-learn"
      ],
      "execution_count": null,
      "outputs": []
    },
    {
      "cell_type": "code",
      "metadata": {
        "id": "C8N_8RT0_NHh"
      },
      "source": [
        "#(must!) upgrade\n",
        "!pip install --upgrade pandas --use-feature=2020-resolver\n",
        "!pip install --upgrade matplotlib --use-feature=2020-resolver\n",
        "!pip install --upgrade seaborn --use-feature=2020-resolver"
      ],
      "execution_count": null,
      "outputs": []
    },
    {
      "cell_type": "code",
      "metadata": {
        "id": "uskxZS1-CGSq"
      },
      "source": [
        "#tensorflow library\n",
        "!pip install -q tensorflow-gpu==2.0.0-rc1"
      ],
      "execution_count": null,
      "outputs": []
    },
    {
      "cell_type": "code",
      "metadata": {
        "id": "d16Pabcn_lHI"
      },
      "source": [
        "#import library\n",
        "import pandas as pd\n",
        "import numpy as np\n",
        "import tensorflow as tf\n",
        "import matplotlib.pyplot as plt\n",
        "%matplotlib inline\n",
        "import seaborn as sns\n",
        "sns.set(style=\"whitegrid\")"
      ],
      "execution_count": null,
      "outputs": []
    },
    {
      "cell_type": "markdown",
      "metadata": {
        "id": "Y38M51I9Cp2M"
      },
      "source": [
        "# load data"
      ]
    },
    {
      "cell_type": "code",
      "metadata": {
        "id": "jnagKyEHCkJr"
      },
      "source": [
        "#data link : https://github.com/gilbutITbook/080263"
      ],
      "execution_count": null,
      "outputs": []
    },
    {
      "cell_type": "code",
      "metadata": {
        "id": "kKjLjolJEuoG"
      },
      "source": [
        "cols = ['price', 'maint', 'doors', 'persons', 'lug_capacity', 'safety', 'output']\n",
        "car_url = 'https://raw.githubusercontent.com/gilbutITbook/080263/master/chap2/data/car_evaluation.csv'\n",
        "cars = pd.read_csv(car_url, names=cols, header = None)\n",
        "cars"
      ],
      "execution_count": null,
      "outputs": []
    },
    {
      "cell_type": "code",
      "metadata": {
        "id": "Z92wf9kKFISN"
      },
      "source": [
        "#pie-chart\n",
        "plot_size = plt.rcParams[\"figure.figsize\"]\n",
        "plot_size[0] = 8\n",
        "plot_size[1] = 6\n",
        "plt.rcParams[\"figure.figsize\"] = plo\n",
        "t_size\n",
        "cars.output.value_counts().plot(kind='pie', autopct = '%0.05f%%', colors = ['lightblue', 'lightgreen', 'orange', 'pink'] , explode = (0.05, 0.05, 0.05, 0.05))"
      ],
      "execution_count": null,
      "outputs": []
    },
    {
      "cell_type": "markdown",
      "metadata": {
        "id": "WGZ2TNy0It4K"
      },
      "source": [
        "* output(차 상태)\n",
        "  * unacc : 허용 불가능 상태\n",
        "  * acc : 허용 가능한 수준\n",
        "  * good : 양호\n",
        "  * very good : 매우 좋은 상태\n",
        "* 70%가 허용 불가능"
      ]
    },
    {
      "cell_type": "markdown",
      "metadata": {
        "id": "XUIOeElOI86-"
      },
      "source": [
        "#preprocess"
      ]
    },
    {
      "cell_type": "code",
      "metadata": {
        "id": "p_5OpltrG7Pt"
      },
      "source": [
        ""
      ],
      "execution_count": null,
      "outputs": []
    }
  ]
}