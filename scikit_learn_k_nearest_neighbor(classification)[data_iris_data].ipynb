{
  "nbformat": 4,
  "nbformat_minor": 0,
  "metadata": {
    "colab": {
      "name": "scikit-learn : k-nearest neighbor(classification)[data: iris_data]",
      "private_outputs": true,
      "provenance": [],
      "collapsed_sections": [],
      "authorship_tag": "ABX9TyOGI1WXhsOmU39r6YO5gBI5",
      "include_colab_link": true
    },
    "kernelspec": {
      "name": "python3",
      "display_name": "Python 3"
    },
    "language_info": {
      "name": "python"
    }
  },
  "cells": [
    {
      "cell_type": "markdown",
      "metadata": {
        "id": "view-in-github",
        "colab_type": "text"
      },
      "source": [
        "<a href=\"https://colab.research.google.com/github/seunghee0518/python_colab/blob/main/scikit_learn_k_nearest_neighbor(classification)%5Bdata_iris_data%5D.ipynb\" target=\"_parent\"><img src=\"https://colab.research.google.com/assets/colab-badge.svg\" alt=\"Open In Colab\"/></a>"
      ]
    },
    {
      "cell_type": "markdown",
      "metadata": {
        "id": "5DAL6ymdCUyd"
      },
      "source": [
        "#import library"
      ]
    },
    {
      "cell_type": "code",
      "metadata": {
        "id": "d16Pabcn_lHI"
      },
      "source": [
        "#import library\n",
        "import pandas as pd\n",
        "import numpy as np\n",
        "import matplotlib.pyplot as plt\n",
        "%matplotlib inline\n",
        "import sklearn\n",
        "from sklearn import metrics # 모델 성능 평가"
      ],
      "execution_count": null,
      "outputs": []
    },
    {
      "cell_type": "markdown",
      "metadata": {
        "id": "Y38M51I9Cp2M"
      },
      "source": [
        "# load data"
      ]
    },
    {
      "cell_type": "code",
      "metadata": {
        "id": "jnagKyEHCkJr"
      },
      "source": [
        "#data link : https://github.com/gilbutITbook/080263"
      ],
      "execution_count": null,
      "outputs": []
    },
    {
      "cell_type": "code",
      "metadata": {
        "id": "kKjLjolJEuoG"
      },
      "source": [
        "names = ['sepal-length', 'sepal-width', 'petal-length', 'petal-width', 'Class']\n",
        "iris_url = 'https://raw.githubusercontent.com/gilbutITbook/080263/master/chap3/data/iris.data'\n",
        "dataset = pd.read_csv(iris_url, names=names)\n",
        "dataset"
      ],
      "execution_count": null,
      "outputs": []
    },
    {
      "cell_type": "markdown",
      "metadata": {
        "id": "XUIOeElOI86-"
      },
      "source": [
        "#preprocess\n",
        "* train_test_split() : 훈련/검증 데이터 분리"
      ]
    },
    {
      "cell_type": "code",
      "metadata": {
        "id": "OZfFRJfdjZVo"
      },
      "source": [
        "X = dataset.iloc[:, :-1].values #마지막 분류 값만 제외\n",
        "y = dataset.iloc[:, 4].values"
      ],
      "execution_count": null,
      "outputs": []
    },
    {
      "cell_type": "code",
      "metadata": {
        "id": "AlbUkXbFj2w6"
      },
      "source": [
        "from sklearn.model_selection import train_test_split\n",
        "X_train, X_test, y_train, y_test = train_test_split(X, y, test_size = 0.20)"
      ],
      "execution_count": null,
      "outputs": []
    },
    {
      "cell_type": "code",
      "metadata": {
        "id": "GVUqI369kDI6"
      },
      "source": [
        "from sklearn.preprocessing import StandardScaler\n",
        "s = StandardScaler() # 특성 스케일링, 평균0, 표준편차 1로 변환\n",
        "X_train = s.fit_transform(X_train)\n",
        "X_test = s.fit_transform(X_test)"
      ],
      "execution_count": null,
      "outputs": []
    },
    {
      "cell_type": "markdown",
      "metadata": {
        "id": "k2LonxJjx0Ab"
      },
      "source": [
        "#create model & accuracy "
      ]
    },
    {
      "cell_type": "code",
      "metadata": {
        "id": "sTQzXFtSke4o"
      },
      "source": [
        "#create model & training\n",
        "from sklearn.neighbors import KNeighborsClassifier\n",
        "knn = KNeighborsClassifier(n_neighbors = 50) # k=50인 k최근접 이웃 모델 생성\n",
        "knn.fit(X_train, y_train)"
      ],
      "execution_count": null,
      "outputs": []
    },
    {
      "cell_type": "code",
      "metadata": {
        "id": "4AXIdEoCt5iB"
      },
      "source": [
        "#accuracy, 이때 데이터가 무작위로 분할되어 코드 실행마다 정확도가 달라짐\n",
        "from sklearn.metrics import accuracy_score\n",
        "y_pred = knn.predict(X_test)\n",
        "print(\"정확도(accuracy) : {}\".format(accuracy_score(y_test, y_pred)))"
      ],
      "execution_count": null,
      "outputs": []
    },
    {
      "cell_type": "code",
      "metadata": {
        "id": "JHgFRP9duvE8"
      },
      "source": [
        "#최적의 k값 구하기\n",
        "k = 10\n",
        "acc_array = np.zeros(k)\n",
        "for k in np.arange(1, k+1, 1):\n",
        "  classifier = KNeighborsClassifier(n_neighbors=k).fit(X_train, y_train)\n",
        "  y_pred = classifier.predict(X_test)\n",
        "  acc = metrics.accuracy_score(y_test, y_pred)\n",
        "  acc_array[k-1] = acc\n",
        "\n",
        "max_acc = np.amax(acc_array)\n",
        "acc_list = list(acc_array)\n",
        "k = acc_list.index(max_acc)\n",
        "print(\"정확도\", max_acc, \"으로 최적 k는\", k+1)"
      ],
      "execution_count": null,
      "outputs": []
    }
  ]
}