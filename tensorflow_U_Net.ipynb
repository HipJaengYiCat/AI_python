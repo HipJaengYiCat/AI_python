{
  "nbformat": 4,
  "nbformat_minor": 0,
  "metadata": {
    "colab": {
      "name": "tensorflow : U-Net",
      "provenance": [],
      "collapsed_sections": [],
      "include_colab_link": true
    },
    "kernelspec": {
      "name": "python3",
      "display_name": "Python 3"
    },
    "language_info": {
      "name": "python"
    }
  },
  "cells": [
    {
      "cell_type": "markdown",
      "metadata": {
        "id": "view-in-github",
        "colab_type": "text"
      },
      "source": [
        "<a href=\"https://colab.research.google.com/github/seunghee0518/python_colab/blob/main/tensorflow_U_Net.ipynb\" target=\"_parent\"><img src=\"https://colab.research.google.com/assets/colab-badge.svg\" alt=\"Open In Colab\"/></a>"
      ]
    },
    {
      "cell_type": "markdown",
      "metadata": {
        "id": "a4-QNn_d6aVA"
      },
      "source": [
        "# U-Net : image segmentation\n",
        "* make up Network"
      ]
    },
    {
      "cell_type": "code",
      "metadata": {
        "id": "10HJtbuKQAtE"
      },
      "source": [
        "inputs = layers.Input(shape = (572, 572, 1)) # 입력이미지 -> 그레이스케일\n",
        "\n",
        "c0 = layers.Conv2D(64, activation = 'relu', kernel_size = 3)(inputs)\n",
        "c1 = layers.Conv2D(64, activation = 'relu', kernel_size = 3)(c0) # 확장 경로와 연결\n",
        "c2 = layers.MaxPool2D(pool_size = (2, 2), strides = (2, 2), padding = 'valid')(c1) # 합성곱 두개와 하나의 최대 풀링으로 구성\n",
        "\n",
        "c3 = layers.Conv2D(128, activation = 'relu', kernel_size = 3)(c2)\n",
        "c4 = layers.Conv2D(128, activation = 'relu', kernel_size = 3)(c3)\n",
        "c5 = layers.MaxPool2D(pool_size = (2, 2), strides = (2, 2), padding = 'valid')(c4)\n",
        "\n",
        "c6 = layers.Conv2D(256, activation = 'relu', kernel_size = 3)(c5)\n",
        "c7 = layers.Conv2D(256, activation = 'relu', kernel_size = 3)(c6)\n",
        "c8 = layers.MaxPool2D(pool_size = (2, 2), strides = (2, 2), padding = 'valid')(c7)\n",
        "\n",
        "c9 = layers.Conv2D(512, activation = 'relu', kernel_size = 3)(c8)\n",
        "c10 = layers.Conv2D(512, activation = 'relu', kernel_size = 3)(c9)\n",
        "c11 = layers.MaxPool2D(pool_size = (2, 2), strides = (2, 2), padding = 'valid')(c10)\n",
        "\n",
        "c12 = layers.Conv2D(1024, activation = 'relu', kernel_size = 3)(c11)\n",
        "c13 = layers.Conv2D(1024, activation = 'relu', kernel_size = 3, padding = 'valid')(c12)"
      ],
      "execution_count": null,
      "outputs": []
    },
    {
      "cell_type": "code",
      "metadata": {
        "id": "dFVBVGoO6Z8D"
      },
      "source": [
        ""
      ],
      "execution_count": null,
      "outputs": []
    }
  ]
}