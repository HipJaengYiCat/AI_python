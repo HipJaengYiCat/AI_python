{
  "nbformat": 4,
  "nbformat_minor": 0,
  "metadata": {
    "colab": {
      "name": "이미지셋_전처리및배열저장.ipynb",
      "provenance": [],
      "collapsed_sections": [],
      "machine_shape": "hm",
      "include_colab_link": true
    },
    "kernelspec": {
      "name": "python3",
      "display_name": "Python 3"
    },
    "language_info": {
      "name": "python"
    },
    "accelerator": "TPU"
  },
  "cells": [
    {
      "cell_type": "markdown",
      "metadata": {
        "id": "view-in-github",
        "colab_type": "text"
      },
      "source": [
        "<a href=\"https://colab.research.google.com/github/seunghee0518/AI_python/blob/main/%EC%9D%B4%EB%AF%B8%EC%A7%80%EC%85%8B_%EC%A0%84%EC%B2%98%EB%A6%AC%EB%B0%8F%EB%B0%B0%EC%97%B4%EC%A0%80%EC%9E%A5.ipynb\" target=\"_parent\"><img src=\"https://colab.research.google.com/assets/colab-badge.svg\" alt=\"Open In Colab\"/></a>"
      ]
    },
    {
      "cell_type": "markdown",
      "source": [
        "# 데이터 셋 전처리 및 시각화"
      ],
      "metadata": {
        "id": "KIQY-zObazwG"
      }
    },
    {
      "cell_type": "code",
      "source": [
        "## 구글 드라이브와 연동\n",
        "from google.colab import drive\n",
        "drive.mount('/content/drive')"
      ],
      "metadata": {
        "colab": {
          "base_uri": "https://localhost:8080/"
        },
        "id": "GZSDGyp_1yYO",
        "outputId": "6820048f-6b99-442c-8590-d7de7cbf6eb7"
      },
      "execution_count": 5,
      "outputs": [
        {
          "output_type": "stream",
          "name": "stdout",
          "text": [
            "Drive already mounted at /content/drive; to attempt to forcibly remount, call drive.mount(\"/content/drive\", force_remount=True).\n"
          ]
        }
      ]
    },
    {
      "cell_type": "markdown",
      "source": [
        "1. Import libraries"
      ],
      "metadata": {
        "id": "KTCUxqBxeXHD"
      }
    },
    {
      "cell_type": "code",
      "source": [
        "## 파일 전처리 등\n",
        "import cv2 \n",
        "import numpy as np \n",
        "import pandas as pd\n",
        "import keras\n",
        "import math\n",
        "\n",
        "import matplotlib.pyplot as plt\n",
        "import os # miscellaneous operating system interfaces\n",
        "import shutil # high-level file operations\n",
        "from glob import glob\n",
        "from tqdm import tqdm\n",
        "import re\n",
        "from sklearn.model_selection import train_test_split\n",
        "import random\n",
        "import cv2\n",
        "from PIL import Image\n",
        "import PIL.ImageOps    \n",
        "from keras.preprocessing.image import ImageDataGenerator\n",
        "from keras.preprocessing.image import array_to_img, img_to_array, load_img\n",
        "import gc\n",
        "\n",
        "## 케라스 패키지 import\n",
        "#from tensorflow import keras\n",
        "#from tensorflow.keras import layers\n",
        "#from tensorflow.keras.layers.core import Layer # !pip install dependencies # 설치 안됨\n",
        "import keras.backend as K\n",
        "import tensorflow as tf\n",
        "from keras.models import Model\n",
        "from keras.layers import Conv2D, MaxPool2D,  \\\n",
        "    Dropout, Dense, Input, concatenate,      \\\n",
        "    GlobalAveragePooling2D, AveragePooling2D,\\\n",
        "    Flatten\n",
        "from keras.datasets import cifar10 \n",
        "from keras import backend as K \n",
        "from keras.utils import np_utils \n",
        "from tensorflow.keras.optimizers import SGD \n",
        "from keras.callbacks import LearningRateScheduler\n",
        "\n",
        "from keras.preprocessing import image\n",
        "from keras.preprocessing.image import ImageDataGenerator\n",
        "from tensorflow.keras.utils import to_categorical"
      ],
      "metadata": {
        "id": "s3lJpiMT_k2R"
      },
      "execution_count": 3,
      "outputs": []
    },
    {
      "cell_type": "code",
      "source": [
        "#!pip install keras\n",
        "import sys\n",
        "print(sys.version)\n",
        "print(keras.__version__)"
      ],
      "metadata": {
        "id": "LgUCB-sHeRvz",
        "colab": {
          "base_uri": "https://localhost:8080/"
        },
        "outputId": "6e88c189-ab55-4585-8dea-e933770f5040"
      },
      "execution_count": 6,
      "outputs": [
        {
          "output_type": "stream",
          "name": "stdout",
          "text": [
            "3.7.13 (default, Apr 24 2022, 01:04:09) \n",
            "[GCC 7.5.0]\n",
            "2.8.0\n"
          ]
        }
      ]
    },
    {
      "cell_type": "code",
      "source": [
        ""
      ],
      "metadata": {
        "id": "mRfWhStryg93"
      },
      "execution_count": null,
      "outputs": []
    },
    {
      "cell_type": "markdown",
      "source": [
        "## 이미지셋 분석"
      ],
      "metadata": {
        "id": "HXRuXTqfyhhU"
      }
    },
    {
      "cell_type": "code",
      "source": [
        "import cv2 \n",
        "import numpy as np \n",
        "import pandas as pd\n",
        "import keras\n",
        "import math\n",
        "import matplotlib.pyplot as plt\n",
        "\n",
        "train_df = pd.read_csv('/content/drive/Othercomputers/내 MacBook Pro/open/train_df.csv')"
      ],
      "metadata": {
        "id": "YPx3XTVeyg_v"
      },
      "execution_count": 3,
      "outputs": []
    },
    {
      "cell_type": "code",
      "source": [
        "train_df"
      ],
      "metadata": {
        "colab": {
          "base_uri": "https://localhost:8080/",
          "height": 423
        },
        "id": "iKwiejitzZ_f",
        "outputId": "0a928380-bda7-4266-bd57-9e566b8c4b48"
      },
      "execution_count": 67,
      "outputs": [
        {
          "output_type": "execute_result",
          "data": {
            "text/plain": [
              "      index  file_name objects_class state            label\n",
              "0         0  10000.png    transistor  good  transistor-good\n",
              "1         1  10001.png       capsule  good     capsule-good\n",
              "2         2  10002.png    transistor  good  transistor-good\n",
              "3         3  10003.png          wood  good        wood-good\n",
              "4         4  10004.png        bottle  good      bottle-good\n",
              "...     ...        ...           ...   ...              ...\n",
              "4272   4272  14272.png    transistor  good  transistor-good\n",
              "4273   4273  14273.png    transistor  good  transistor-good\n",
              "4274   4274  14274.png          grid  good        grid-good\n",
              "4275   4275  14275.png        zipper  good      zipper-good\n",
              "4276   4276  14276.png         screw  good       screw-good\n",
              "\n",
              "[4277 rows x 5 columns]"
            ],
            "text/html": [
              "\n",
              "  <div id=\"df-e3e72f31-a670-4732-903d-5d2453c188e1\">\n",
              "    <div class=\"colab-df-container\">\n",
              "      <div>\n",
              "<style scoped>\n",
              "    .dataframe tbody tr th:only-of-type {\n",
              "        vertical-align: middle;\n",
              "    }\n",
              "\n",
              "    .dataframe tbody tr th {\n",
              "        vertical-align: top;\n",
              "    }\n",
              "\n",
              "    .dataframe thead th {\n",
              "        text-align: right;\n",
              "    }\n",
              "</style>\n",
              "<table border=\"1\" class=\"dataframe\">\n",
              "  <thead>\n",
              "    <tr style=\"text-align: right;\">\n",
              "      <th></th>\n",
              "      <th>index</th>\n",
              "      <th>file_name</th>\n",
              "      <th>objects_class</th>\n",
              "      <th>state</th>\n",
              "      <th>label</th>\n",
              "    </tr>\n",
              "  </thead>\n",
              "  <tbody>\n",
              "    <tr>\n",
              "      <th>0</th>\n",
              "      <td>0</td>\n",
              "      <td>10000.png</td>\n",
              "      <td>transistor</td>\n",
              "      <td>good</td>\n",
              "      <td>transistor-good</td>\n",
              "    </tr>\n",
              "    <tr>\n",
              "      <th>1</th>\n",
              "      <td>1</td>\n",
              "      <td>10001.png</td>\n",
              "      <td>capsule</td>\n",
              "      <td>good</td>\n",
              "      <td>capsule-good</td>\n",
              "    </tr>\n",
              "    <tr>\n",
              "      <th>2</th>\n",
              "      <td>2</td>\n",
              "      <td>10002.png</td>\n",
              "      <td>transistor</td>\n",
              "      <td>good</td>\n",
              "      <td>transistor-good</td>\n",
              "    </tr>\n",
              "    <tr>\n",
              "      <th>3</th>\n",
              "      <td>3</td>\n",
              "      <td>10003.png</td>\n",
              "      <td>wood</td>\n",
              "      <td>good</td>\n",
              "      <td>wood-good</td>\n",
              "    </tr>\n",
              "    <tr>\n",
              "      <th>4</th>\n",
              "      <td>4</td>\n",
              "      <td>10004.png</td>\n",
              "      <td>bottle</td>\n",
              "      <td>good</td>\n",
              "      <td>bottle-good</td>\n",
              "    </tr>\n",
              "    <tr>\n",
              "      <th>...</th>\n",
              "      <td>...</td>\n",
              "      <td>...</td>\n",
              "      <td>...</td>\n",
              "      <td>...</td>\n",
              "      <td>...</td>\n",
              "    </tr>\n",
              "    <tr>\n",
              "      <th>4272</th>\n",
              "      <td>4272</td>\n",
              "      <td>14272.png</td>\n",
              "      <td>transistor</td>\n",
              "      <td>good</td>\n",
              "      <td>transistor-good</td>\n",
              "    </tr>\n",
              "    <tr>\n",
              "      <th>4273</th>\n",
              "      <td>4273</td>\n",
              "      <td>14273.png</td>\n",
              "      <td>transistor</td>\n",
              "      <td>good</td>\n",
              "      <td>transistor-good</td>\n",
              "    </tr>\n",
              "    <tr>\n",
              "      <th>4274</th>\n",
              "      <td>4274</td>\n",
              "      <td>14274.png</td>\n",
              "      <td>grid</td>\n",
              "      <td>good</td>\n",
              "      <td>grid-good</td>\n",
              "    </tr>\n",
              "    <tr>\n",
              "      <th>4275</th>\n",
              "      <td>4275</td>\n",
              "      <td>14275.png</td>\n",
              "      <td>zipper</td>\n",
              "      <td>good</td>\n",
              "      <td>zipper-good</td>\n",
              "    </tr>\n",
              "    <tr>\n",
              "      <th>4276</th>\n",
              "      <td>4276</td>\n",
              "      <td>14276.png</td>\n",
              "      <td>screw</td>\n",
              "      <td>good</td>\n",
              "      <td>screw-good</td>\n",
              "    </tr>\n",
              "  </tbody>\n",
              "</table>\n",
              "<p>4277 rows × 5 columns</p>\n",
              "</div>\n",
              "      <button class=\"colab-df-convert\" onclick=\"convertToInteractive('df-e3e72f31-a670-4732-903d-5d2453c188e1')\"\n",
              "              title=\"Convert this dataframe to an interactive table.\"\n",
              "              style=\"display:none;\">\n",
              "        \n",
              "  <svg xmlns=\"http://www.w3.org/2000/svg\" height=\"24px\"viewBox=\"0 0 24 24\"\n",
              "       width=\"24px\">\n",
              "    <path d=\"M0 0h24v24H0V0z\" fill=\"none\"/>\n",
              "    <path d=\"M18.56 5.44l.94 2.06.94-2.06 2.06-.94-2.06-.94-.94-2.06-.94 2.06-2.06.94zm-11 1L8.5 8.5l.94-2.06 2.06-.94-2.06-.94L8.5 2.5l-.94 2.06-2.06.94zm10 10l.94 2.06.94-2.06 2.06-.94-2.06-.94-.94-2.06-.94 2.06-2.06.94z\"/><path d=\"M17.41 7.96l-1.37-1.37c-.4-.4-.92-.59-1.43-.59-.52 0-1.04.2-1.43.59L10.3 9.45l-7.72 7.72c-.78.78-.78 2.05 0 2.83L4 21.41c.39.39.9.59 1.41.59.51 0 1.02-.2 1.41-.59l7.78-7.78 2.81-2.81c.8-.78.8-2.07 0-2.86zM5.41 20L4 18.59l7.72-7.72 1.47 1.35L5.41 20z\"/>\n",
              "  </svg>\n",
              "      </button>\n",
              "      \n",
              "  <style>\n",
              "    .colab-df-container {\n",
              "      display:flex;\n",
              "      flex-wrap:wrap;\n",
              "      gap: 12px;\n",
              "    }\n",
              "\n",
              "    .colab-df-convert {\n",
              "      background-color: #E8F0FE;\n",
              "      border: none;\n",
              "      border-radius: 50%;\n",
              "      cursor: pointer;\n",
              "      display: none;\n",
              "      fill: #1967D2;\n",
              "      height: 32px;\n",
              "      padding: 0 0 0 0;\n",
              "      width: 32px;\n",
              "    }\n",
              "\n",
              "    .colab-df-convert:hover {\n",
              "      background-color: #E2EBFA;\n",
              "      box-shadow: 0px 1px 2px rgba(60, 64, 67, 0.3), 0px 1px 3px 1px rgba(60, 64, 67, 0.15);\n",
              "      fill: #174EA6;\n",
              "    }\n",
              "\n",
              "    [theme=dark] .colab-df-convert {\n",
              "      background-color: #3B4455;\n",
              "      fill: #D2E3FC;\n",
              "    }\n",
              "\n",
              "    [theme=dark] .colab-df-convert:hover {\n",
              "      background-color: #434B5C;\n",
              "      box-shadow: 0px 1px 3px 1px rgba(0, 0, 0, 0.15);\n",
              "      filter: drop-shadow(0px 1px 2px rgba(0, 0, 0, 0.3));\n",
              "      fill: #FFFFFF;\n",
              "    }\n",
              "  </style>\n",
              "\n",
              "      <script>\n",
              "        const buttonEl =\n",
              "          document.querySelector('#df-e3e72f31-a670-4732-903d-5d2453c188e1 button.colab-df-convert');\n",
              "        buttonEl.style.display =\n",
              "          google.colab.kernel.accessAllowed ? 'block' : 'none';\n",
              "\n",
              "        async function convertToInteractive(key) {\n",
              "          const element = document.querySelector('#df-e3e72f31-a670-4732-903d-5d2453c188e1');\n",
              "          const dataTable =\n",
              "            await google.colab.kernel.invokeFunction('convertToInteractive',\n",
              "                                                     [key], {});\n",
              "          if (!dataTable) return;\n",
              "\n",
              "          const docLinkHtml = 'Like what you see? Visit the ' +\n",
              "            '<a target=\"_blank\" href=https://colab.research.google.com/notebooks/data_table.ipynb>data table notebook</a>'\n",
              "            + ' to learn more about interactive tables.';\n",
              "          element.innerHTML = '';\n",
              "          dataTable['output_type'] = 'display_data';\n",
              "          await google.colab.output.renderOutput(dataTable, element);\n",
              "          const docLink = document.createElement('div');\n",
              "          docLink.innerHTML = docLinkHtml;\n",
              "          element.appendChild(docLink);\n",
              "        }\n",
              "      </script>\n",
              "    </div>\n",
              "  </div>\n",
              "  "
            ]
          },
          "metadata": {},
          "execution_count": 67
        }
      ]
    },
    {
      "cell_type": "code",
      "source": [
        "train_df.rename(columns = {'class' : 'objects_class'}, inplace = True)\n",
        "state_name1 = ['good', 'the_others']\n",
        "state_cnt1 = [len(train_df[train_df.state == 'good']), len(train_df[train_df.state != 'good'])]\n",
        "\n",
        "except_good = train_df[train_df.state != 'good'].state.unique().tolist()\n",
        "except_good_cnt = [len(train_df[train_df.state == f'{x}']) for x in except_good]\n",
        "\n",
        "state_name2 = train_df.state.unique().tolist()\n",
        "state_cnt2 = [len(train_df[train_df.state == f'{x}']) for x in state_name2]\n",
        "\n",
        "class_name = train_df.objects_class.unique().tolist()\n",
        "class_cnt = [len(train_df[train_df.objects_class == f'{x}']) for x in class_name]\n",
        "\n",
        "label_name = train_df.label.unique().tolist()\n",
        "label_cnt = [len(train_df[train_df.label == f'{x}']) for x in label_name]"
      ],
      "metadata": {
        "id": "DdlepMEJyhB3"
      },
      "execution_count": 25,
      "outputs": []
    },
    {
      "cell_type": "code",
      "source": [
        "import matplotlib.pyplot as plt\n",
        "import numpy as np\n",
        "\n",
        "## state : good vs the others\n",
        "train_df.rename(columns = {'class' : 'objects_class'}, inplace = True)\n",
        "state_name1 = ['good', 'the_others']\n",
        "state_cnt1 = [len(train_df[train_df.state == 'good']), len(train_df[train_df.state != 'good'])]\n",
        "\n",
        "except_good = train_df[train_df.state != 'good'].state.unique().tolist()\n",
        "except_good_cnt = [len(train_df[train_df.state == f'{x}']) for x in except_good]\n",
        "\n",
        "\n",
        "plt.rcParams['figure.figsize'] = [12, 8] # 그래프 크기\n",
        "\n",
        "## 컬러맵 지정\n",
        "cmap1 = plt.get_cmap('Paired') # 컬러맵\n",
        "cmap2 = plt.get_cmap('tab20') # 컬러맵2\n",
        "outer_colors = cmap1(np.array([x for x in range(len(state_name1))]))\n",
        "inner_colors = cmap2(np.array([x for x in range(len(except_good))]))\n",
        "\n",
        "## 원 별 두께\n",
        "width_num = 0.4\n",
        "\n",
        "# Outside Ring\n",
        "fig, ax = plt.subplots()\n",
        "ax.axis('equal')\n",
        "pie_outside= ax.pie(state_cnt1, \n",
        "                    radius=1.3, \n",
        "                    labels=state_name1, \n",
        "                    labeldistance=0.8,\n",
        "                    startangle = 90,\n",
        "                    autopct=lambda p : '{:.2f}%'.format(p) if p > 1 else \"\",\n",
        "                    colors = outer_colors,\n",
        "                    wedgeprops = {'edgecolor' : 'w', 'linewidth' : 0.4, 'width' : 0.5})\n",
        "\n",
        "# Inside Ring\n",
        "pie_inside, plt_labels, junk = ax.pie(state_cnt2, \n",
        "                                      radius=(1.3 - width_num), \n",
        "                                      labels=state_name2, \n",
        "                                      labeldistance=0.75, \n",
        "                                      autopct=lambda p : '{:.2f}%'.format(p) if p > 1 else \"\",\n",
        "                                      startangle = 90,\n",
        "                                      colors=inner_colors)\n",
        "plt.setp(pie_inside, \n",
        "         width=width_num, \n",
        "         edgecolor='white')\n",
        "plt.title('good VS the others', fontsize=20)\n",
        "plt.show()"
      ],
      "metadata": {
        "colab": {
          "base_uri": "https://localhost:8080/",
          "height": 497
        },
        "id": "UXT1ON2GK9lG",
        "outputId": "82bd7388-a6c3-4537-a351-100d547cb029"
      },
      "execution_count": 61,
      "outputs": [
        {
          "output_type": "display_data",
          "data": {
            "text/plain": [
              "<Figure size 864x576 with 1 Axes>"
            ],
            "image/png": "[encoded data removed]"
          },
          "metadata": {}
        }
      ]
    },
    {
      "cell_type": "code",
      "source": [
        "## state : good vs the others\n",
        "plt.rcParams['figure.figsize'] = [12, 8] # 그래프 크기\n",
        "\n",
        "except_good = train_df[train_df.state != 'good'].state.unique().tolist()\n",
        "except_good_cnt = [len(train_df[train_df.state == f'{x}']) for x in except_good]\n",
        "\n",
        "## 컬러맵 지정\n",
        "cmap1 = plt.get_cmap('tab20') # 컬러맵\n",
        "cmap2 = plt.get_cmap('tab20b') # 컬러맵2\n",
        "outer_colors = np.concatenate([cmap1(np.array([x for x in range(len(except_good[:20]))])), cmap2(np.array([x for x in range(len(except_good[20:]))]))], 0)\n",
        "#inner_colors = cmap2(np.array([x for x in range(len(except_good))]))\n",
        "\n",
        "## 원 별 두께\n",
        "width_num = 0.4\n",
        "\n",
        "# Outside Ring\n",
        "fig, ax = plt.subplots()\n",
        "ax.axis('equal')\n",
        "pie_outside= ax.pie(except_good_cnt, \n",
        "                    radius=1.3, \n",
        "                    labels=except_good, \n",
        "                    labeldistance=0.8,\n",
        "                    startangle = 90,\n",
        "                    autopct=lambda p : '{:.2f}%'.format(p) if p > 1 else \"\",\n",
        "                    colors = outer_colors,\n",
        "                    wedgeprops = {'edgecolor' : 'w', 'linewidth' : 0.4, 'width' : 0.5})\n",
        "\n",
        "# # Inside Ring\n",
        "# pie_inside, plt_labels, junk = ax.pie(state_cnt2, \n",
        "#                                       radius=(1.3 - width_num), \n",
        "#                                       labels=state_name2, \n",
        "#                                       labeldistance=0.75, \n",
        "#                                       autopct=lambda p : '{:.2f}%'.format(p) if p > 1 else \"\",\n",
        "#                                       startangle = 90,\n",
        "#                                       colors=inner_colors)\n",
        "plt.setp(pie_inside, \n",
        "         width=width_num, \n",
        "         edgecolor='white')\n",
        "plt.title(f'the others (total_cnt : {len(except_good)})', fontsize=20)\n",
        "plt.show()"
      ],
      "metadata": {
        "colab": {
          "base_uri": "https://localhost:8080/",
          "height": 496
        },
        "id": "FpwXyi11A9cE",
        "outputId": "6001aebf-a5e8-478d-e00f-dc31b1b80c6d"
      },
      "execution_count": 71,
      "outputs": [
        {
          "output_type": "display_data",
          "data": {
            "text/plain": [
              "<Figure size 864x576 with 1 Axes>"
            ],
            "image/png": "[encoded data removed]"
          },
          "metadata": {}
        }
      ]
    },
    {
      "cell_type": "code",
      "source": [
        "len(class_cnt), len(label_cnt)"
      ],
      "metadata": {
        "colab": {
          "base_uri": "https://localhost:8080/"
        },
        "id": "ewaj2EXLECw0",
        "outputId": "eb502949-e400-4ce5-b296-6f15b6477ed1"
      },
      "execution_count": 70,
      "outputs": [
        {
          "output_type": "execute_result",
          "data": {
            "text/plain": [
              "(15, 88)"
            ]
          },
          "metadata": {},
          "execution_count": 70
        }
      ]
    },
    {
      "cell_type": "code",
      "source": [
        "class_name = train_df.objects_class.unique().tolist()\n",
        "class_cnt = [len(train_df[train_df.objects_class == f'{x}']) for x in class_name]\n",
        "\n",
        "label_name = train_df.label.unique().tolist()\n",
        "label_cnt = [len(train_df[train_df.label == f'{x}']) for x in label_name]\n",
        "\n",
        "## state : class vs label\n",
        "plt.rcParams['figure.figsize'] = [12, 8] # 그래프 크기\n",
        "\n",
        "## 컬러맵 지정\n",
        "cmap1 = plt.get_cmap('Paired') # 컬러맵\n",
        "cmap2 = plt.get_cmap('tab10') # 컬러맵2\n",
        "cmap3 = plt.get_cmap('tab20') # 컬러맵2\n",
        "cmap4 = plt.get_cmap('tab20b') # 컬러맵2\n",
        "cmap5 = plt.get_cmap('tab20c') # 컬러맵2\n",
        "outer_colors = cmap1(np.array([x for x in range(len(state_name1))]))\n",
        "inner_colors = np.concatenate([cmap2(np.array([x for x in range(len(except_good[:20]))])),\n",
        "                               cmap3(np.array([x for x in range(len(except_good[20:40]))])),\n",
        "                               cmap4(np.array([x for x in range(len(except_good[40:60]))])),\n",
        "                               cmap5(np.array([x for x in range(len(except_good[60:]))]))], 0)\n",
        "\n",
        "## 원 별 두께\n",
        "width_num = 0.4\n",
        "\n",
        "# Outside Ring\n",
        "fig, ax = plt.subplots()\n",
        "ax.axis('equal')\n",
        "pie_outside= ax.pie(class_cnt, \n",
        "                    radius=1.3, \n",
        "                    labels=class_name, \n",
        "                    labeldistance=0.8,\n",
        "                    startangle = 90,\n",
        "                    autopct=lambda p : '{:.2f}%'.format(p) if p > 1 else \"\",\n",
        "                    colors = outer_colors,\n",
        "                    wedgeprops = {'edgecolor' : 'w', 'linewidth' : 0.4, 'width' : 0.5})\n",
        "\n",
        "# Inside Ring\n",
        "pie_inside, plt_labels, junk = ax.pie(label_cnt, \n",
        "                                      radius=(1.3 - width_num), \n",
        "                                      labels=label_name, \n",
        "                                      labeldistance=0.75, \n",
        "                                      autopct=lambda p : '{:.2f}%'.format(p) if p > 1 else \"\",\n",
        "                                      startangle = 90,\n",
        "                                      colors=inner_colors)\n",
        "plt.setp(pie_inside, \n",
        "         width=width_num, \n",
        "         edgecolor='white')\n",
        "plt.title('class VS label', fontsize=20)\n",
        "plt.show()"
      ],
      "metadata": {
        "colab": {
          "base_uri": "https://localhost:8080/",
          "height": 497
        },
        "id": "1VPWx5LsA9d8",
        "outputId": "d1ba72a6-3b13-42ea-d3c4-ab54756a1295"
      },
      "execution_count": 74,
      "outputs": [
        {
          "output_type": "display_data",
          "data": {
            "text/plain": [
              "<Figure size 864x576 with 1 Axes>"
            ],
            "image/png": "[encoded data removed]"
          },
          "metadata": {}
        }
      ]
    },
    {
      "cell_type": "markdown",
      "source": [
        "## 이미지셋준비\n",
        "* 기본 이미지와 증량된 이미지로 구성된 넘파이배열 데이터셋을 생성함(증량된 이미지는 별도로 저장하지 않음)\n",
        "* 이미지 증량 방법\n",
        "0. 기본이미지\n",
        "> 단순 반전 및 회전\n",
        "  1. 좌우반전     \n",
        "  2. 상하반전\n",
        "  3. 90도 회전\n",
        "  4. 180도 회전\n",
        "  5. 270도 회전\n",
        "\n",
        " > 이상치 데이터\n",
        "  6. 찌그러짐  : shear_range = 0.5\n",
        "  7. 줌인아웃 : zoom_range = [0.5, 2]\n",
        "  8. 노이즈(가우스노이즈) 901000대 \n",
        "\n"
      ],
      "metadata": {
        "id": "pGhQTlwEK9xD"
      }
    },
    {
      "cell_type": "code",
      "source": [
        "#/content/drive/Othercomputers/내 MacBook Pro/open/\n",
        "base_dir = '/content/drive/Othercomputers/내 MacBook Pro/open'\n",
        "train_dir = '/content/drive/Othercomputers/내 MacBook Pro/open/train'\n",
        "test_dir = '/content/drive/Othercomputers/내 MacBook Pro/open/open/test'\n",
        "\n",
        "train_df = pd.read_csv('/content/drive/Othercomputers/내 MacBook Pro/open/train_df.csv')\n",
        "test_df = pd.read_csv('/content/drive/Othercomputers/내 MacBook Pro/open/test_df.csv')"
      ],
      "metadata": {
        "id": "neeJGz3SbI1D"
      },
      "execution_count": 5,
      "outputs": []
    },
    {
      "cell_type": "code",
      "source": [
        ""
      ],
      "metadata": {
        "id": "qn54XTxBK5jk"
      },
      "execution_count": null,
      "outputs": []
    },
    {
      "cell_type": "code",
      "source": [
        "## 주어진 train_df에 각 레이블마다 원핫인코딩값을 생성할 인덱스 부여\n",
        "final_train88_df = train_df.copy()\n",
        "label_lst = final_train88_df.label.unique().tolist()\n",
        "label_lst.sort()\n",
        "one_hot_label = pd.DataFrame(label_lst, columns = {'label'})\n",
        "one_hot_label['one_hot_label'] = one_hot_label.index.tolist()\n",
        "one_hot_label\n",
        "\n",
        "final_train88_df = pd.merge(final_train88_df, one_hot_label, how = 'left', on = 'label')\n",
        "final_train88_df"
      ],
      "metadata": {
        "colab": {
          "base_uri": "https://localhost:8080/",
          "height": 423
        },
        "id": "ohhGlJfnK5lr",
        "outputId": "6f6bd2db-a15a-45a8-8e96-881615b77531"
      },
      "execution_count": 6,
      "outputs": [
        {
          "output_type": "execute_result",
          "data": {
            "text/plain": [
              "      index  file_name       class state            label  one_hot_label\n",
              "0         0  10000.png  transistor  good  transistor-good             72\n",
              "1         1  10001.png     capsule  good     capsule-good             15\n",
              "2         2  10002.png  transistor  good  transistor-good             72\n",
              "3         3  10003.png        wood  good        wood-good             76\n",
              "4         4  10004.png      bottle  good      bottle-good              3\n",
              "...     ...        ...         ...   ...              ...            ...\n",
              "4272   4272  14272.png  transistor  good  transistor-good             72\n",
              "4273   4273  14273.png  transistor  good  transistor-good             72\n",
              "4274   4274  14274.png        grid  good        grid-good             28\n",
              "4275   4275  14275.png      zipper  good      zipper-good             84\n",
              "4276   4276  14276.png       screw  good       screw-good             55\n",
              "\n",
              "[4277 rows x 6 columns]"
            ],
            "text/html": [
              "\n",
              "  <div id=\"df-af2ae585-45c5-4481-b5ae-4c1b0227d088\">\n",
              "    <div class=\"colab-df-container\">\n",
              "      <div>\n",
              "<style scoped>\n",
              "    .dataframe tbody tr th:only-of-type {\n",
              "        vertical-align: middle;\n",
              "    }\n",
              "\n",
              "    .dataframe tbody tr th {\n",
              "        vertical-align: top;\n",
              "    }\n",
              "\n",
              "    .dataframe thead th {\n",
              "        text-align: right;\n",
              "    }\n",
              "</style>\n",
              "<table border=\"1\" class=\"dataframe\">\n",
              "  <thead>\n",
              "    <tr style=\"text-align: right;\">\n",
              "      <th></th>\n",
              "      <th>index</th>\n",
              "      <th>file_name</th>\n",
              "      <th>class</th>\n",
              "      <th>state</th>\n",
              "      <th>label</th>\n",
              "      <th>one_hot_label</th>\n",
              "    </tr>\n",
              "  </thead>\n",
              "  <tbody>\n",
              "    <tr>\n",
              "      <th>0</th>\n",
              "      <td>0</td>\n",
              "      <td>10000.png</td>\n",
              "      <td>transistor</td>\n",
              "      <td>good</td>\n",
              "      <td>transistor-good</td>\n",
              "      <td>72</td>\n",
              "    </tr>\n",
              "    <tr>\n",
              "      <th>1</th>\n",
              "      <td>1</td>\n",
              "      <td>10001.png</td>\n",
              "      <td>capsule</td>\n",
              "      <td>good</td>\n",
              "      <td>capsule-good</td>\n",
              "      <td>15</td>\n",
              "    </tr>\n",
              "    <tr>\n",
              "      <th>2</th>\n",
              "      <td>2</td>\n",
              "      <td>10002.png</td>\n",
              "      <td>transistor</td>\n",
              "      <td>good</td>\n",
              "      <td>transistor-good</td>\n",
              "      <td>72</td>\n",
              "    </tr>\n",
              "    <tr>\n",
              "      <th>3</th>\n",
              "      <td>3</td>\n",
              "      <td>10003.png</td>\n",
              "      <td>wood</td>\n",
              "      <td>good</td>\n",
              "      <td>wood-good</td>\n",
              "      <td>76</td>\n",
              "    </tr>\n",
              "    <tr>\n",
              "      <th>4</th>\n",
              "      <td>4</td>\n",
              "      <td>10004.png</td>\n",
              "      <td>bottle</td>\n",
              "      <td>good</td>\n",
              "      <td>bottle-good</td>\n",
              "      <td>3</td>\n",
              "    </tr>\n",
              "    <tr>\n",
              "      <th>...</th>\n",
              "      <td>...</td>\n",
              "      <td>...</td>\n",
              "      <td>...</td>\n",
              "      <td>...</td>\n",
              "      <td>...</td>\n",
              "      <td>...</td>\n",
              "    </tr>\n",
              "    <tr>\n",
              "      <th>4272</th>\n",
              "      <td>4272</td>\n",
              "      <td>14272.png</td>\n",
              "      <td>transistor</td>\n",
              "      <td>good</td>\n",
              "      <td>transistor-good</td>\n",
              "      <td>72</td>\n",
              "    </tr>\n",
              "    <tr>\n",
              "      <th>4273</th>\n",
              "      <td>4273</td>\n",
              "      <td>14273.png</td>\n",
              "      <td>transistor</td>\n",
              "      <td>good</td>\n",
              "      <td>transistor-good</td>\n",
              "      <td>72</td>\n",
              "    </tr>\n",
              "    <tr>\n",
              "      <th>4274</th>\n",
              "      <td>4274</td>\n",
              "      <td>14274.png</td>\n",
              "      <td>grid</td>\n",
              "      <td>good</td>\n",
              "      <td>grid-good</td>\n",
              "      <td>28</td>\n",
              "    </tr>\n",
              "    <tr>\n",
              "      <th>4275</th>\n",
              "      <td>4275</td>\n",
              "      <td>14275.png</td>\n",
              "      <td>zipper</td>\n",
              "      <td>good</td>\n",
              "      <td>zipper-good</td>\n",
              "      <td>84</td>\n",
              "    </tr>\n",
              "    <tr>\n",
              "      <th>4276</th>\n",
              "      <td>4276</td>\n",
              "      <td>14276.png</td>\n",
              "      <td>screw</td>\n",
              "      <td>good</td>\n",
              "      <td>screw-good</td>\n",
              "      <td>55</td>\n",
              "    </tr>\n",
              "  </tbody>\n",
              "</table>\n",
              "<p>4277 rows × 6 columns</p>\n",
              "</div>\n",
              "      <button class=\"colab-df-convert\" onclick=\"convertToInteractive('df-af2ae585-45c5-4481-b5ae-4c1b0227d088')\"\n",
              "              title=\"Convert this dataframe to an interactive table.\"\n",
              "              style=\"display:none;\">\n",
              "        \n",
              "  <svg xmlns=\"http://www.w3.org/2000/svg\" height=\"24px\"viewBox=\"0 0 24 24\"\n",
              "       width=\"24px\">\n",
              "    <path d=\"M0 0h24v24H0V0z\" fill=\"none\"/>\n",
              "    <path d=\"M18.56 5.44l.94 2.06.94-2.06 2.06-.94-2.06-.94-.94-2.06-.94 2.06-2.06.94zm-11 1L8.5 8.5l.94-2.06 2.06-.94-2.06-.94L8.5 2.5l-.94 2.06-2.06.94zm10 10l.94 2.06.94-2.06 2.06-.94-2.06-.94-.94-2.06-.94 2.06-2.06.94z\"/><path d=\"M17.41 7.96l-1.37-1.37c-.4-.4-.92-.59-1.43-.59-.52 0-1.04.2-1.43.59L10.3 9.45l-7.72 7.72c-.78.78-.78 2.05 0 2.83L4 21.41c.39.39.9.59 1.41.59.51 0 1.02-.2 1.41-.59l7.78-7.78 2.81-2.81c.8-.78.8-2.07 0-2.86zM5.41 20L4 18.59l7.72-7.72 1.47 1.35L5.41 20z\"/>\n",
              "  </svg>\n",
              "      </button>\n",
              "      \n",
              "  <style>\n",
              "    .colab-df-container {\n",
              "      display:flex;\n",
              "      flex-wrap:wrap;\n",
              "      gap: 12px;\n",
              "    }\n",
              "\n",
              "    .colab-df-convert {\n",
              "      background-color: #E8F0FE;\n",
              "      border: none;\n",
              "      border-radius: 50%;\n",
              "      cursor: pointer;\n",
              "      display: none;\n",
              "      fill: #1967D2;\n",
              "      height: 32px;\n",
              "      padding: 0 0 0 0;\n",
              "      width: 32px;\n",
              "    }\n",
              "\n",
              "    .colab-df-convert:hover {\n",
              "      background-color: #E2EBFA;\n",
              "      box-shadow: 0px 1px 2px rgba(60, 64, 67, 0.3), 0px 1px 3px 1px rgba(60, 64, 67, 0.15);\n",
              "      fill: #174EA6;\n",
              "    }\n",
              "\n",
              "    [theme=dark] .colab-df-convert {\n",
              "      background-color: #3B4455;\n",
              "      fill: #D2E3FC;\n",
              "    }\n",
              "\n",
              "    [theme=dark] .colab-df-convert:hover {\n",
              "      background-color: #434B5C;\n",
              "      box-shadow: 0px 1px 3px 1px rgba(0, 0, 0, 0.15);\n",
              "      filter: drop-shadow(0px 1px 2px rgba(0, 0, 0, 0.3));\n",
              "      fill: #FFFFFF;\n",
              "    }\n",
              "  </style>\n",
              "\n",
              "      <script>\n",
              "        const buttonEl =\n",
              "          document.querySelector('#df-af2ae585-45c5-4481-b5ae-4c1b0227d088 button.colab-df-convert');\n",
              "        buttonEl.style.display =\n",
              "          google.colab.kernel.accessAllowed ? 'block' : 'none';\n",
              "\n",
              "        async function convertToInteractive(key) {\n",
              "          const element = document.querySelector('#df-af2ae585-45c5-4481-b5ae-4c1b0227d088');\n",
              "          const dataTable =\n",
              "            await google.colab.kernel.invokeFunction('convertToInteractive',\n",
              "                                                     [key], {});\n",
              "          if (!dataTable) return;\n",
              "\n",
              "          const docLinkHtml = 'Like what you see? Visit the ' +\n",
              "            '<a target=\"_blank\" href=https://colab.research.google.com/notebooks/data_table.ipynb>data table notebook</a>'\n",
              "            + ' to learn more about interactive tables.';\n",
              "          element.innerHTML = '';\n",
              "          dataTable['output_type'] = 'display_data';\n",
              "          await google.colab.output.renderOutput(dataTable, element);\n",
              "          const docLink = document.createElement('div');\n",
              "          docLink.innerHTML = docLinkHtml;\n",
              "          element.appendChild(docLink);\n",
              "        }\n",
              "      </script>\n",
              "    </div>\n",
              "  </div>\n",
              "  "
            ]
          },
          "metadata": {},
          "execution_count": 6
        }
      ]
    },
    {
      "cell_type": "code",
      "source": [
        "## 레이블별 학습 데이터양 조정을 위해 레이블별로 넘파이 배열 생성\n",
        "# base_dir : /content/drive/MyDrive/DACON_이상치 탐지 알고리즘 경진대회/open\n",
        "\n",
        "## 기본 설정값\n",
        "imageset_save_dir = '/content/drive/MyDrive/DACON_이상치 탐지 알고리즘 경진대회/open/imageset' # 저장 경로\n",
        "# 넘파일 배열을 생성할 레이블의 one_hot_label값 [0 ~ 87] / df > one_hot_label 참조\n",
        "num_total_label = 88 # 레이블 총 개수\n",
        "one_hot_label = [x for x in range(88)]\n",
        "\n",
        "# 넘파일 배열을 생성할 이미지의 타입(기본, 좌우반전 , 찌그러짐 등등) [0 ~ 8]\n",
        "img_type_lst = [8] # 6,7,8 제외\n",
        "\n",
        "img_rows = 512\n",
        "img_cols = 512\n",
        "\n",
        "## 이미지 배열 파일 생성\n",
        "for label_idx in tqdm(one_hot_label) : \n",
        "  file_name_list = final_train88_df[final_train88_df.one_hot_label == label_idx].file_name.tolist() # 해당 레이블에 해당하는 이미지파일명 리스트\n",
        "\n",
        "  # img_label : Y 배열에 들어갈 원-핫 인코딩된 정답값\n",
        "  img_label = [0 for i in range(num_total_label)]\n",
        "  img_label[label_idx] = 1\n",
        "\n",
        "  ## 이미지 imread 및 이미지 증가\n",
        "  for img_type in img_type_lst: # 이미지 증가\n",
        "    try:\n",
        "      del X, Y\n",
        "      gc.collect()\n",
        "    except: pass\n",
        "\n",
        "    X = [] # 입력 데이터\n",
        "    Y = [] # 정답값\n",
        "\n",
        "    if (img_type == 0) : # 이미지 조정 없이 바로 넘파이 배열로 전환\n",
        "      for img_name in tqdm(file_name_list):\n",
        "        img = cv2.imread(f'{train_dir}/{img_name}') # train_dir = '/content/drive/Othercomputers/내 MacBook Pro/open/train'\n",
        "        img = cv2.resize(img, (img_rows,img_cols)) # 사이즈 변경\n",
        "        X.append(img/256) # 0~1 사이값으로 정규화\n",
        "        Y.append(img_label)\n",
        "\n",
        "    elif (img_type == 1) : # 좌우반전\n",
        "      for img_name in tqdm(file_name_list):\n",
        "        img = Image.open(f'{train_dir}/{img_name}')\n",
        "        img = img.transpose(Image.FLIP_LEFT_RIGHT)\n",
        "        img = np.array(img)\n",
        "        img = cv2.resize(img, (img_rows,img_cols))\n",
        "        X.append(img/256) # 0~1 사이값으로 정규화\n",
        "        Y.append(img_label)\n",
        "\n",
        "    elif (img_type == 2) : # 상하반전\n",
        "      for img_name in tqdm(file_name_list):\n",
        "        img = Image.open(f'{train_dir}/{img_name}')\n",
        "        img = img.transpose(Image.FLIP_TOP_BOTTOM)\n",
        "        img = np.array(img)\n",
        "        img = cv2.resize(img, (img_rows,img_cols))\n",
        "        X.append(img/256) # 0~1 사이값으로 정규화\n",
        "        Y.append(img_label)\n",
        "\n",
        "    elif (img_type == 3) : # 90도 회전\n",
        "      for img_name in tqdm(file_name_list):\n",
        "        img = Image.open(f'{train_dir}/{img_name}')\n",
        "        img = img.transpose(Image.ROTATE_90)\n",
        "        img = np.array(img)\n",
        "        img = cv2.resize(img, (img_rows,img_cols))\n",
        "        X.append(img/256) # 0~1 사이값으로 정규화\n",
        "        Y.append(img_label)\n",
        "\n",
        "    elif (img_type == 4) : # 180도 회전\n",
        "      for img_name in tqdm(file_name_list):\n",
        "        img = Image.open(f'{train_dir}/{img_name}')\n",
        "        img = img.transpose(Image.ROTATE_180)\n",
        "        img = np.array(img)\n",
        "        img = cv2.resize(img, (img_rows,img_cols))\n",
        "        X.append(img/256) # 0~1 사이값으로 정규화\n",
        "        Y.append(img_label)\n",
        "\n",
        "    elif (img_type == 5) : # 270도 회전\n",
        "      for img_name in tqdm(file_name_list):\n",
        "        img = Image.open(f'{train_dir}/{img_name}')\n",
        "        img = img.transpose(Image.ROTATE_270)\n",
        "        img = np.array(img)\n",
        "        img = cv2.resize(img, (img_rows,img_cols))\n",
        "        X.append(img/256) # 0~1 사이값으로 정규화\n",
        "        Y.append(img_label)\n",
        "\n",
        "    elif (img_type == 6):\n",
        "      for img_name in tqdm(file_name_list):\n",
        "        #이미지 찌그러짐 shear_range = 0.5\n",
        "        #print(\"shear\")\n",
        "        img = load_img(f'{train_dir}/{img_name}')\n",
        "        x = img_to_array(img)\n",
        "        x = x.reshape((1,) + x.shape)\n",
        "        img = img_shear.fit(x).flow(x, batch_size=1)\n",
        "        datagen.fit(x)  \n",
        "        datagen.flow(x_train, y_train, batch_size=32, subset='training')\n",
        "        img = cv2.resize(img, (img_rows,img_cols))\n",
        "        X.append(img) \n",
        "        Y.append(img_label)\n",
        "\n",
        "    elif (img_type == 7) : \n",
        "      for img_name in tqdm(file_name_list):\n",
        "        #이미지 줌인아웃 zoom_range = [0.5, 2]\n",
        "        #print(\"zoom_in_out\")\n",
        "        img = load_img(f'{train_dir}/{img_name}')\n",
        "        x = img_to_array(img)\n",
        "        x = x.reshape((1,) + x.shape)\n",
        "        img = img_zoom.flow(x, batch_size=1)[0][0]\n",
        "        img = cv2.resize(img, (img_rows,img_cols))\n",
        "        X.append(img) \n",
        "        Y.append(img_label)\n",
        "        \n",
        "    elif (img_type == 8):\n",
        "      for img_name in tqdm(file_name_list):\n",
        "        #print(\"noise\")\n",
        "        img = cv2.imread(f'{train_dir}/{img_name}')\n",
        "        row,col,ch= img.shape\n",
        "        mean = 0\n",
        "        var = 0.1\n",
        "        sigma = var ** 0.5\n",
        "        gauss = np.random.normal(mean,sigma,(row,col,ch))\n",
        "        gauss = gauss.reshape(row,col,ch)\n",
        "        noisy_array = img + gauss # 기존 이미지 배열 + 노이즈 추가\n",
        "        noisy_image = Image.fromarray(np.uint8(noisy_array)).convert('RGB')\n",
        "        img = cv2.resize(np.asarray(noisy_image), (img_rows,img_cols))\n",
        "        X.append(img) \n",
        "        Y.append(img_label)\n",
        "\n",
        "    # 배열 -> 넘파이 배열로 변환\n",
        "    X = np.array(X)\n",
        "    Y = np.array(Y)\n",
        "\n",
        "    # numpy 배열 저장 # 압축 저장 함수 savez_compressed / 압축없이 저장 savez : 차이 (많은 공간이 절약되지만 로드 시간이 약간 소요됨)\n",
        "    np.savez_compressed(f\"{imageset_save_dir}/imageset_label{label_idx}_type{img_type}_{img_rows}*{img_cols}.npz\", x=X, y=Y)"
      ],
      "metadata": {
        "id": "I4fWizKQO2M9"
      },
      "execution_count": null,
      "outputs": []
    },
    {
      "cell_type": "markdown",
      "source": [
        "## 이미지셋 통합 후 학습 데이터 생성"
      ],
      "metadata": {
        "id": "KUC4DG9UitLE"
      }
    },
    {
      "cell_type": "code",
      "source": [
        "imageset_save_dir = '/content/drive/MyDrive/DACON_이상치 탐지 알고리즘 경진대회/open/imageset'\n",
        "imagset512 = glob(f'{imageset_save_dir}/*_512*')\n",
        "imagset512.sort()"
      ],
      "metadata": {
        "id": "S_mlPINQisWv"
      },
      "execution_count": 8,
      "outputs": []
    },
    {
      "cell_type": "code",
      "source": [
        "## 저장된 이미지 불러오기\n",
        "for i in tqdm(range(len(imagset512))):\n",
        "  path = imagset512[i]\n",
        "  if i == 0:\n",
        "    xy_savez_load = np.load(path)\n",
        "    X = xy_savez_load['x']\n",
        "    Y = xy_savez_load['y']\n",
        "    xy_savez_load.close()\n",
        "  else:\n",
        "    xy_savez_load = np.load(path)\n",
        "    each_X = xy_savez_load['x']\n",
        "    each_Y = xy_savez_load['y']\n",
        "    xy_savez_load.close()\n",
        "\n",
        "    X = np.concatenate([X, each_X], 0)\n",
        "    Y = np.concatenate([Y, each_Y], 0)\n",
        "    try:\n",
        "      del each_X, each_Y\n",
        "      gc.collect()\n",
        "    except: pass\n",
        "\n",
        "print('X 차원 : ', np.shape(X))\n",
        "print('Y 차원 : ', np.shape(Y))"
      ],
      "metadata": {
        "colab": {
          "base_uri": "https://localhost:8080/",
          "height": 294
        },
        "id": "0chqNL-ejKsP",
        "outputId": "a2da8e11-7b75-42d5-dada-e397efa95c69"
      },
      "execution_count": 10,
      "outputs": [
        {
          "output_type": "stream",
          "name": "stderr",
          "text": [
            " 11%|█         | 66/612 [04:47<39:36,  4.35s/it]  \n"
          ]
        },
        {
          "output_type": "error",
          "ename": "KeyboardInterrupt",
          "evalue": "ignored",
          "traceback": [
            "\u001b[0;31m---------------------------------------------------------------------------\u001b[0m",
            "\u001b[0;31mKeyboardInterrupt\u001b[0m                         Traceback (most recent call last)",
            "\u001b[0;32m<ipython-input-10-31211fd8fcff>\u001b[0m in \u001b[0;36m<module>\u001b[0;34m()\u001b[0m\n\u001b[1;32m     13\u001b[0m     \u001b[0mxy_savez_load\u001b[0m\u001b[0;34m.\u001b[0m\u001b[0mclose\u001b[0m\u001b[0;34m(\u001b[0m\u001b[0;34m)\u001b[0m\u001b[0;34m\u001b[0m\u001b[0;34m\u001b[0m\u001b[0m\n\u001b[1;32m     14\u001b[0m \u001b[0;34m\u001b[0m\u001b[0m\n\u001b[0;32m---> 15\u001b[0;31m     \u001b[0mX\u001b[0m \u001b[0;34m=\u001b[0m \u001b[0mnp\u001b[0m\u001b[0;34m.\u001b[0m\u001b[0mconcatenate\u001b[0m\u001b[0;34m(\u001b[0m\u001b[0;34m[\u001b[0m\u001b[0mX\u001b[0m\u001b[0;34m,\u001b[0m \u001b[0meach_X\u001b[0m\u001b[0;34m]\u001b[0m\u001b[0;34m,\u001b[0m \u001b[0;36m0\u001b[0m\u001b[0;34m)\u001b[0m\u001b[0;34m\u001b[0m\u001b[0;34m\u001b[0m\u001b[0m\n\u001b[0m\u001b[1;32m     16\u001b[0m     \u001b[0mY\u001b[0m \u001b[0;34m=\u001b[0m \u001b[0mnp\u001b[0m\u001b[0;34m.\u001b[0m\u001b[0mconcatenate\u001b[0m\u001b[0;34m(\u001b[0m\u001b[0;34m[\u001b[0m\u001b[0mY\u001b[0m\u001b[0;34m,\u001b[0m \u001b[0meach_Y\u001b[0m\u001b[0;34m]\u001b[0m\u001b[0;34m,\u001b[0m \u001b[0;36m0\u001b[0m\u001b[0;34m)\u001b[0m\u001b[0;34m\u001b[0m\u001b[0;34m\u001b[0m\u001b[0m\n\u001b[1;32m     17\u001b[0m     \u001b[0;32mtry\u001b[0m\u001b[0;34m:\u001b[0m\u001b[0;34m\u001b[0m\u001b[0;34m\u001b[0m\u001b[0m\n",
            "\u001b[0;32m<__array_function__ internals>\u001b[0m in \u001b[0;36mconcatenate\u001b[0;34m(*args, **kwargs)\u001b[0m\n",
            "\u001b[0;31mKeyboardInterrupt\u001b[0m: "
          ]
        }
      ]
    },
    {
      "cell_type": "code",
      "source": [
        "X = np.array\n",
        "type(X)"
      ],
      "metadata": {
        "colab": {
          "base_uri": "https://localhost:8080/"
        },
        "id": "4FyPtGsan6R9",
        "outputId": "d095a13a-6acc-45a5-9186-545e457768da"
      },
      "execution_count": 40,
      "outputs": [
        {
          "output_type": "execute_result",
          "data": {
            "text/plain": [
              "builtin_function_or_method"
            ]
          },
          "metadata": {},
          "execution_count": 40
        }
      ]
    },
    {
      "cell_type": "code",
      "source": [
        "c = np.concatenate([X1, X2], 0)\n",
        "np.shape(c)"
      ],
      "metadata": {
        "colab": {
          "base_uri": "https://localhost:8080/"
        },
        "id": "5gOkTy5skGAM",
        "outputId": "d02542f4-66d3-47c0-940d-7fde8ef9f799"
      },
      "execution_count": 37,
      "outputs": [
        {
          "output_type": "execute_result",
          "data": {
            "text/plain": [
              "(16, 512, 512, 3)"
            ]
          },
          "metadata": {},
          "execution_count": 37
        }
      ]
    },
    {
      "cell_type": "code",
      "source": [
        ""
      ],
      "metadata": {
        "id": "0ZQPYBmFkGFs"
      },
      "execution_count": null,
      "outputs": []
    },
    {
      "cell_type": "code",
      "source": [
        "img = Image.open(f'{train_dir}/{img_name}')\n",
        "#img = img.transpose(Image.FLIP_LEFT_RIGHT)\n",
        "a = cv2.resize(np.array(img), (img_rows,img_cols))\n",
        "np.shape(a)"
      ],
      "metadata": {
        "colab": {
          "base_uri": "https://localhost:8080/"
        },
        "id": "MGzHvr5z8z-G",
        "outputId": "801ec73f-8f7d-489e-9f5f-749c6a7bac70"
      },
      "execution_count": 20,
      "outputs": [
        {
          "output_type": "execute_result",
          "data": {
            "text/plain": [
              "(512, 512, 3)"
            ]
          },
          "metadata": {},
          "execution_count": 20
        }
      ]
    },
    {
      "cell_type": "code",
      "source": [
        "np.shape(X)"
      ],
      "metadata": {
        "colab": {
          "base_uri": "https://localhost:8080/"
        },
        "id": "_uUzZj4BCgzP",
        "outputId": "8c21989e-1305-4765-e803-079981506f6e"
      },
      "execution_count": 22,
      "outputs": [
        {
          "output_type": "execute_result",
          "data": {
            "text/plain": [
              "(10, 512, 512, 3)"
            ]
          },
          "metadata": {},
          "execution_count": 22
        }
      ]
    },
    {
      "cell_type": "code",
      "source": [
        "Image.fromarray(np.shape(X[0]), 'RGB')"
      ],
      "metadata": {
        "colab": {
          "base_uri": "https://localhost:8080/",
          "height": 294
        },
        "id": "brLp9mvX5vji",
        "outputId": "38b37e8e-ebd4-4b3d-e483-b3dba1b6ae6d"
      },
      "execution_count": 145,
      "outputs": [
        {
          "output_type": "error",
          "ename": "AttributeError",
          "evalue": "ignored",
          "traceback": [
            "\u001b[0;31m---------------------------------------------------------------------------\u001b[0m",
            "\u001b[0;31mAttributeError\u001b[0m                            Traceback (most recent call last)",
            "\u001b[0;32m<ipython-input-145-fc07c91f8754>\u001b[0m in \u001b[0;36m<module>\u001b[0;34m()\u001b[0m\n\u001b[0;32m----> 1\u001b[0;31m \u001b[0mImage\u001b[0m\u001b[0;34m.\u001b[0m\u001b[0mfromarray\u001b[0m\u001b[0;34m(\u001b[0m\u001b[0mnp\u001b[0m\u001b[0;34m.\u001b[0m\u001b[0mshape\u001b[0m\u001b[0;34m(\u001b[0m\u001b[0mX\u001b[0m\u001b[0;34m[\u001b[0m\u001b[0;36m0\u001b[0m\u001b[0;34m]\u001b[0m\u001b[0;34m)\u001b[0m\u001b[0;34m,\u001b[0m \u001b[0;34m'RGB'\u001b[0m\u001b[0;34m)\u001b[0m\u001b[0;34m\u001b[0m\u001b[0;34m\u001b[0m\u001b[0m\n\u001b[0m",
            "\u001b[0;32m/usr/local/lib/python3.7/dist-packages/PIL/Image.py\u001b[0m in \u001b[0;36mfromarray\u001b[0;34m(obj, mode)\u001b[0m\n\u001b[1;32m   2702\u001b[0m     \u001b[0;34m.\u001b[0m\u001b[0;34m.\u001b[0m \u001b[0mversionadded\u001b[0m\u001b[0;34m:\u001b[0m\u001b[0;34m:\u001b[0m \u001b[0;36m1.1\u001b[0m\u001b[0;36m.6\u001b[0m\u001b[0;34m\u001b[0m\u001b[0;34m\u001b[0m\u001b[0m\n\u001b[1;32m   2703\u001b[0m     \"\"\"\n\u001b[0;32m-> 2704\u001b[0;31m     \u001b[0marr\u001b[0m \u001b[0;34m=\u001b[0m \u001b[0mobj\u001b[0m\u001b[0;34m.\u001b[0m\u001b[0m__array_interface__\u001b[0m\u001b[0;34m\u001b[0m\u001b[0;34m\u001b[0m\u001b[0m\n\u001b[0m\u001b[1;32m   2705\u001b[0m     \u001b[0mshape\u001b[0m \u001b[0;34m=\u001b[0m \u001b[0marr\u001b[0m\u001b[0;34m[\u001b[0m\u001b[0;34m\"shape\"\u001b[0m\u001b[0;34m]\u001b[0m\u001b[0;34m\u001b[0m\u001b[0;34m\u001b[0m\u001b[0m\n\u001b[1;32m   2706\u001b[0m     \u001b[0mndim\u001b[0m \u001b[0;34m=\u001b[0m \u001b[0mlen\u001b[0m\u001b[0;34m(\u001b[0m\u001b[0mshape\u001b[0m\u001b[0;34m)\u001b[0m\u001b[0;34m\u001b[0m\u001b[0;34m\u001b[0m\u001b[0m\n",
            "\u001b[0;31mAttributeError\u001b[0m: 'tuple' object has no attribute '__array_interface__'"
          ]
        }
      ]
    },
    {
      "cell_type": "code",
      "source": [
        ""
      ],
      "metadata": {
        "id": "dXvRIBKPybxo"
      },
      "execution_count": null,
      "outputs": []
    },
    {
      "cell_type": "code",
      "source": [
        ""
      ],
      "metadata": {
        "id": "iwkcO57Byb2F"
      },
      "execution_count": null,
      "outputs": []
    },
    {
      "cell_type": "code",
      "source": [
        ""
      ],
      "metadata": {
        "id": "5AT_DiECyb5c"
      },
      "execution_count": null,
      "outputs": []
    },
    {
      "cell_type": "code",
      "source": [
        ""
      ],
      "metadata": {
        "id": "KuywgUoJyb7y"
      },
      "execution_count": null,
      "outputs": []
    },
    {
      "cell_type": "markdown",
      "source": [
        "## 이미지증량 코드 초안"
      ],
      "metadata": {
        "id": "lCwoCgMOyX9Z"
      }
    },
    {
      "cell_type": "code",
      "source": [
        "np.shape(img[0])"
      ],
      "metadata": {
        "colab": {
          "base_uri": "https://localhost:8080/"
        },
        "id": "zX7JUeXk4C-V",
        "outputId": "759a7016-a508-4b58-8d80-dd950cbe3e36"
      },
      "execution_count": 132,
      "outputs": [
        {
          "output_type": "execute_result",
          "data": {
            "text/plain": [
              "(900, 900, 3)"
            ]
          },
          "metadata": {},
          "execution_count": 132
        }
      ]
    },
    {
      "cell_type": "code",
      "source": [
        "  ## 찌그러짐 & 줌 인아웃\n",
        "  img_shear = ImageDataGenerator(shear_range = 0.5)\n",
        "  img_zoom  = ImageDataGenerator(zoom_range = [0.5, 2])\n",
        "\n",
        "  for i in tqdm(range(len(file_names))): \n",
        "      #change_picture_index = random.randrange(1, total_origin_image_num-1)\n",
        "      #print(change_picture_index)\n",
        "      #print(file_names[change_picture_index])\n",
        "      file_name = file_names[i] # 랜덤 인덱스 사용안함\n",
        "      \n",
        "      origin_image_path = f'{file_path}/{file_name}'\n",
        "      #print(origin_image_path)\n",
        "      image = Image.open(origin_image_path)\n",
        "      \n",
        "      ## 증가 종류\n",
        "      for image_augment in image_augment_lst: # 2 ~ 9    \n",
        "        if (image_augment == 2):\n",
        "          #이미지 좌우 반전\n",
        "          #print(\"FLIP_LEFT_RIGHT\")\n",
        "          image = Image.open(origin_image_path)\n",
        "          new_image = image.transpose(Image.FLIP_LEFT_RIGHT)\n",
        "          new_image.save(f'{file_path}/{image_augment}0{file_name}')\n",
        "\n",
        "        elif (image_augment == 3):\n",
        "          #이미지 상하반전\n",
        "          #print(\"FLIP_TOP_BOTTOM\")\n",
        "          new_image = image.transpose(Image.FLIP_TOP_BOTTOM)\n",
        "          new_image.save(f'{file_path}/{image_augment}0{file_name}')\n",
        "\n",
        "        elif (image_augment == 4):\n",
        "          #이미지 90도 회전\n",
        "          #print(\"ROTATE_90\")\n",
        "          new_image = image.transpose(Image.ROTATE_90)\n",
        "          new_image.save(f'{file_path}/{image_augment}0{file_name}')  \n",
        "\n",
        "        elif (image_augment == 5):\n",
        "          #이미지 180도 회전\n",
        "          #print(\"ROTATE_180\")\n",
        "          new_image = image.transpose(Image.ROTATE_180)\n",
        "          new_image.save(f'{file_path}/{image_augment}0{file_name}')    \n",
        "\n",
        "        elif (image_augment == 6):\n",
        "          #이미지 270도 회전\n",
        "          #print(\"ROTATE_270\")\n",
        "          new_image = image.transpose(Image.ROTATE_270)\n",
        "          new_image.save(f'{file_path}/{image_augment}0{file_name}')  \n",
        "\n",
        "        elif (image_augment == 7):\n",
        "          #이미지 찌그러짐 shear_range = 0.5\n",
        "          #print(\"shear\")\n",
        "          img = load_img(origin_image_path)\n",
        "          x = img_to_array(img)        #(3, 150, 150) 크기의 NumPy 배열\n",
        "          x = x.reshape((1,) + x.shape)#(1, 3, 150, 150) 크기의 NumPy 배열\n",
        "\n",
        "          img_shear.flow(x, batch_size=1,\n",
        "                        save_to_dir=f'{file_path}/',\n",
        "                        save_prefix=f'{image_augment}0{file_name[:-4]}',\n",
        "                        save_format='png') \n",
        "        elif (image_augment == 8):\n",
        "          #이미지 줌인아웃 zoom_range = [0.5, 2]\n",
        "          #print(\"zoom_in_out\")\n",
        "          img = load_img(origin_image_path)\n",
        "          x = img_to_array(img)        #(3, 150, 150) 크기의 NumPy 배열\n",
        "          x = x.reshape((1,) + x.shape)#(1, 3, 150, 150) 크기의 NumPy 배열\n",
        "\n",
        "          img_zoom.flow(x, batch_size=1,\n",
        "                        save_to_dir=f'{file_path}/',\n",
        "                        save_prefix=f'{image_augment}0{file_name[:-4]}',\n",
        "                        save_format='png') \n",
        "\n",
        "    #     elif(random_augment == 2):\n",
        "    #         #이미지 범위내 기울이기\n",
        "    #         print(\"rotate\")\n",
        "    #         rotated_image = image.rotate(random.randrange(-20, 20))\n",
        "    #         rotated_image.save(file_path + 'rotated_' + str(augment_cnt) + '.png')\n",
        "            \n",
        "        elif(image_augment == 9):\n",
        "            #노이즈 추가하기\n",
        "            img = cv2.imread(origin_image_path)\n",
        "            #print(\"noise\")\n",
        "            row,col,ch= img.shape\n",
        "            mean = 0\n",
        "            var = 0.1\n",
        "            sigma = var**0.5\n",
        "            gauss = np.random.normal(mean,sigma,(row,col,ch))\n",
        "            gauss = gauss.reshape(row,col,ch)\n",
        "            noisy_array = img + gauss\n",
        "            new_image = Image.fromarray(np.uint8(noisy_array)).convert('RGB')\n",
        "            new_image.save(f'{file_path}/{image_augment}0{file_name}') \n",
        "        print(f'{train_label[folder_idx]} : {i+1}')\n",
        "        ## 변수 지우기"
      ],
      "metadata": {
        "id": "KBS5qCZMO2Q6"
      },
      "execution_count": 43,
      "outputs": []
    },
    {
      "cell_type": "code",
      "source": [
        "img_rows = 32\n",
        "img_cols = 32\n",
        "img_name = '10000.png'\n",
        "img = cv2.imread(f'{train_dir}/{img_name}') # image_dir = '/content/drive/Othercomputers/내 MacBook Pro/open/train'\n",
        "img = cv2.resize(img, (img_rows,img_cols)) # 사이즈 변경"
      ],
      "metadata": {
        "id": "whLsSq8kO2PC"
      },
      "execution_count": null,
      "outputs": []
    },
    {
      "cell_type": "code",
      "source": [
        "## 저장된 이미지 불러오기\n",
        "xy_savez_load = np.load(f\"/content/drive/MyDrive/DACON_이상치 탐지 알고리즘 경진대회/open/imageset_224*224.npz\")\n",
        "type(xy_savez_load)\n",
        "X = xy_savez_load['x']\n",
        "Y = xy_savez_load['y']\n",
        "xy_savez_load.close()"
      ],
      "metadata": {
        "id": "Sfw_T9WLYjyL"
      },
      "execution_count": 54,
      "outputs": []
    },
    {
      "cell_type": "code",
      "source": [
        "np.shape(X), np.shape(Y)"
      ],
      "metadata": {
        "colab": {
          "base_uri": "https://localhost:8080/"
        },
        "id": "Ut-IP8x1Yzb7",
        "outputId": "47ab97f7-b971-4a77-dd53-427dc582441d"
      },
      "execution_count": 68,
      "outputs": [
        {
          "output_type": "execute_result",
          "data": {
            "text/plain": [
              "((4277, 224, 224, 3), (4277, 88))"
            ]
          },
          "metadata": {},
          "execution_count": 68
        }
      ]
    },
    {
      "cell_type": "code",
      "source": [
        "## 넘파이 배열 합치기\n",
        "np.shape(np.concatenate([Y, Y], 0))"
      ],
      "metadata": {
        "colab": {
          "base_uri": "https://localhost:8080/"
        },
        "id": "6qoHnlUuO2S-",
        "outputId": "4042cb77-de82-4088-9624-a89d9ea0cd28"
      },
      "execution_count": 69,
      "outputs": [
        {
          "output_type": "execute_result",
          "data": {
            "text/plain": [
              "(8554, 88)"
            ]
          },
          "metadata": {},
          "execution_count": 69
        }
      ]
    },
    {
      "cell_type": "code",
      "source": [
        ""
      ],
      "metadata": {
        "id": "USBTsSPxO2U0"
      },
      "execution_count": null,
      "outputs": []
    },
    {
      "cell_type": "code",
      "source": [
        ""
      ],
      "metadata": {
        "id": "X7Zcd0U_O2W3"
      },
      "execution_count": null,
      "outputs": []
    },
    {
      "cell_type": "markdown",
      "source": [
        "## 이미지 증가"
      ],
      "metadata": {
        "id": "nZNsklVeA3ki"
      }
    },
    {
      "cell_type": "code",
      "source": [
        "## train 데이터 개수 및 레이블 개수\n",
        "train_label = train_df.label.tolist()\n",
        "train_label_unique = list(set(train_label))\n",
        "print(len(train_label), len(train_label_unique))\n",
        "train_label_unique.sort()"
      ],
      "metadata": {
        "colab": {
          "base_uri": "https://localhost:8080/"
        },
        "id": "Y6tFAf8WA3DN",
        "outputId": "bcda72f2-67f0-4e8e-d241-011be09bb4f8"
      },
      "execution_count": null,
      "outputs": [
        {
          "output_type": "stream",
          "name": "stdout",
          "text": [
            "4277 88\n"
          ]
        }
      ]
    },
    {
      "cell_type": "code",
      "source": [
        "train_label_unique.sort()"
      ],
      "metadata": {
        "id": "6tlSzlGVH5eo"
      },
      "execution_count": null,
      "outputs": []
    },
    {
      "cell_type": "code",
      "source": [
        "folder_idx = 0\n",
        "file_path = f'{base_dir}/train_label_88/{train_label[folder_idx]}'\n",
        "file_names = os.listdir(file_path)\n",
        "len(file_names)"
      ],
      "metadata": {
        "colab": {
          "base_uri": "https://localhost:8080/"
        },
        "id": "XrnPjNK3H5hc",
        "outputId": "6e50549f-b2b4-4acd-b683-1e82e2381f03"
      },
      "execution_count": null,
      "outputs": [
        {
          "output_type": "execute_result",
          "data": {
            "text/plain": [
              "213"
            ]
          },
          "metadata": {},
          "execution_count": 9
        }
      ]
    },
    {
      "cell_type": "code",
      "source": [
        "base_dir"
      ],
      "metadata": {
        "colab": {
          "base_uri": "https://localhost:8080/",
          "height": 36
        },
        "id": "sAhUnaXJH4Mj",
        "outputId": "4e814636-f314-4ece-e4ef-8f1d9937ede6"
      },
      "execution_count": null,
      "outputs": [
        {
          "output_type": "execute_result",
          "data": {
            "text/plain": [
              "'/content/drive/Othercomputers/내 MacBook Pro/open'"
            ],
            "application/vnd.google.colaboratory.intrinsic+json": {
              "type": "string"
            }
          },
          "metadata": {},
          "execution_count": 11
        }
      ]
    },
    {
      "cell_type": "code",
      "source": [
        "## 이미지 증량\n",
        "import random\n",
        "import numpy as np\n",
        "import os\n",
        "import cv2\n",
        "import glob\n",
        "from PIL import Image\n",
        "import PIL.ImageOps    \n",
        "from keras.preprocessing.image import ImageDataGenerator\n",
        "from keras.preprocessing.image import array_to_img, img_to_array, load_img\n",
        "from tqdm import tqdm\n",
        "import gc\n",
        "\n",
        "# base_dir = '/content/drive/Othercomputers/내 MacBook Pro/open'\n",
        "\n",
        "## 이미지 증가\n",
        "for folder_idx in tqdm(range(len(train_label_unique))):\n",
        "  file_path = f'{base_dir}/train_label_88/{train_label[folder_idx]}' # 한개 폴더 씩 가져옴\n",
        "  file_names = os.listdir(file_path)\n",
        "  total_origin_image_num = len(file_names)\n",
        "  print(total_origin_image_num)\n",
        "\n",
        "  ## 이미지 증가 종류\n",
        "  image_augment_lst = [x for x in range(2, 10)] \n",
        "  '''\n",
        "  2 : 좌우반전,\n",
        "  3 : 상하반전,\n",
        "  4 : 90도회전,\n",
        "  5 : 180도 회전\n",
        "  6 : 270도 회전\n",
        "  7 : 찌그러짐\n",
        "  8 : 줌인아웃\n",
        "  9 : 가우스노이즈\n",
        "  '''\n",
        "  ## 찌그러짐 & 줌 인아웃\n",
        "  img_shear = ImageDataGenerator(shear_range = 0.5)\n",
        "  img_zoom  = ImageDataGenerator(zoom_range = [0.5, 2])\n",
        "\n",
        "  for i in tqdm(range(len(file_names))): \n",
        "      #change_picture_index = random.randrange(1, total_origin_image_num-1)\n",
        "      #print(change_picture_index)\n",
        "      #print(file_names[change_picture_index])\n",
        "      file_name = file_names[i] # 랜덤 인덱스 사용안함\n",
        "      \n",
        "      origin_image_path = f'{file_path}/{file_name}'\n",
        "      #print(origin_image_path)\n",
        "      image = Image.open(origin_image_path)\n",
        "      \n",
        "      ## 증가 종류\n",
        "      for image_augment in image_augment_lst: # 2 ~ 9    \n",
        "        if (image_augment == 2):\n",
        "          #이미지 좌우 반전\n",
        "          #print(\"FLIP_LEFT_RIGHT\")\n",
        "          new_image = image.transpose(Image.FLIP_LEFT_RIGHT)\n",
        "          new_image.save(f'{file_path}/{image_augment}0{file_name}')\n",
        "\n",
        "        elif (image_augment == 3):\n",
        "          #이미지 상하반전\n",
        "          #print(\"FLIP_TOP_BOTTOM\")\n",
        "          new_image = image.transpose(Image.FLIP_TOP_BOTTOM)\n",
        "          new_image.save(f'{file_path}/{image_augment}0{file_name}')\n",
        "\n",
        "        elif (image_augment == 4):\n",
        "          #이미지 90도 회전\n",
        "          #print(\"ROTATE_90\")\n",
        "          new_image = image.transpose(Image.ROTATE_90)\n",
        "          new_image.save(f'{file_path}/{image_augment}0{file_name}')  \n",
        "\n",
        "        elif (image_augment == 5):\n",
        "          #이미지 180도 회전\n",
        "          #print(\"ROTATE_180\")\n",
        "          new_image = image.transpose(Image.ROTATE_180)\n",
        "          new_image.save(f'{file_path}/{image_augment}0{file_name}')    \n",
        "\n",
        "        elif (image_augment == 6):\n",
        "          #이미지 270도 회전\n",
        "          #print(\"ROTATE_270\")\n",
        "          new_image = image.transpose(Image.ROTATE_270)\n",
        "          new_image.save(f'{file_path}/{image_augment}0{file_name}')  \n",
        "\n",
        "        elif (image_augment == 7):\n",
        "          #이미지 찌그러짐 shear_range = 0.5\n",
        "          #print(\"shear\")\n",
        "          img = load_img(origin_image_path)\n",
        "          x = img_to_array(img)        #(3, 150, 150) 크기의 NumPy 배열\n",
        "          x = x.reshape((1,) + x.shape)#(1, 3, 150, 150) 크기의 NumPy 배열\n",
        "\n",
        "          img_shear.flow(x, batch_size=1,\n",
        "                        save_to_dir=f'{file_path}/',\n",
        "                        save_prefix=f'{image_augment}0{file_name[:-4]}',\n",
        "                        save_format='png') \n",
        "        elif (image_augment == 8):\n",
        "          #이미지 줌인아웃 zoom_range = [0.5, 2]\n",
        "          #print(\"zoom_in_out\")\n",
        "          img = load_img(origin_image_path)\n",
        "          x = img_to_array(img)        #(3, 150, 150) 크기의 NumPy 배열\n",
        "          x = x.reshape((1,) + x.shape)#(1, 3, 150, 150) 크기의 NumPy 배열\n",
        "\n",
        "          img_zoom.flow(x, batch_size=1,\n",
        "                        save_to_dir=f'{file_path}/',\n",
        "                        save_prefix=f'{image_augment}0{file_name[:-4]}',\n",
        "                        save_format='png') \n",
        "\n",
        "    #     elif(random_augment == 2):\n",
        "    #         #이미지 범위내 기울이기\n",
        "    #         print(\"rotate\")\n",
        "    #         rotated_image = image.rotate(random.randrange(-20, 20))\n",
        "    #         rotated_image.save(file_path + 'rotated_' + str(augment_cnt) + '.png')\n",
        "            \n",
        "        elif(image_augment == 9):\n",
        "            #노이즈 추가하기\n",
        "            img = cv2.imread(origin_image_path)\n",
        "            #print(\"noise\")\n",
        "            row,col,ch= img.shape\n",
        "            mean = 0\n",
        "            var = 0.1\n",
        "            sigma = var**0.5\n",
        "            gauss = np.random.normal(mean,sigma,(row,col,ch))\n",
        "            gauss = gauss.reshape(row,col,ch)\n",
        "            noisy_array = img + gauss\n",
        "            new_image = Image.fromarray(np.uint8(noisy_array)).convert('RGB')\n",
        "            new_image.save(f'{file_path}/{image_augment}0{file_name}') \n",
        "        print(f'{train_label[folder_idx]} : {i+1}')\n",
        "        ## 변수 지우기\n",
        "        # del image, new_image\n",
        "        # gc.collect()\n",
        "    ###########\n",
        "    #     elif(random_augment == 2):\n",
        "    #         #이미지 범위내 기울이기\n",
        "    #         print(\"rotate\")\n",
        "    #         rotated_image = image.rotate(random.randrange(-20, 20))\n",
        "    #         rotated_image.save(file_path + 'rotated_' + str(augment_cnt) + '.png')\n",
        "            "
      ],
      "metadata": {
        "colab": {
          "base_uri": "https://localhost:8080/",
          "height": 1000
        },
        "id": "wguMB9c-CN2I",
        "outputId": "c69921c6-5869-4416-bc7a-93d52eb77937"
      },
      "execution_count": null,
      "outputs": [
        {
          "output_type": "stream",
          "name": "stdout",
          "text": [
            "capsule-good : 6218\n",
            "capsule-good : 6218\n",
            "capsule-good : 6218\n",
            "capsule-good : 6218\n"
          ]
        },
        {
          "output_type": "stream",
          "name": "stderr",
          "text": [
            " 66%|██████▌   | 6217/9417 [9:14:41<4:45:30,  5.35s/it]\n",
            "  1%|          | 1/88 [9:32:14<829:44:37, 34334.22s/it]\n",
            "ERROR:root:Internal Python error in the inspect module.\n",
            "Below is the traceback from this internal error.\n",
            "\n"
          ]
        },
        {
          "output_type": "stream",
          "name": "stdout",
          "text": [
            "Traceback (most recent call last):\n",
            "  File \"/usr/local/lib/python3.7/dist-packages/PIL/ImageFile.py\", line 496, in _save\n",
            "    fh = fp.fileno()\n",
            "AttributeError: '_idat' object has no attribute 'fileno'\n",
            "\n",
            "During handling of the above exception, another exception occurred:\n",
            "\n",
            "Traceback (most recent call last):\n",
            "  File \"/usr/local/lib/python3.7/dist-packages/IPython/core/interactiveshell.py\", line 2882, in run_code\n",
            "    exec(code_obj, self.user_global_ns, self.user_ns)\n",
            "  File \"<ipython-input-12-cc3aadb87261>\", line 122, in <module>\n",
            "    new_image.save(f'{file_path}/{image_augment}0{file_name}')\n",
            "  File \"/usr/local/lib/python3.7/dist-packages/PIL/Image.py\", line 2134, in save\n",
            "    save_handler(self, fp, filename)\n",
            "  File \"/usr/local/lib/python3.7/dist-packages/PIL/PngImagePlugin.py\", line 1291, in _save\n",
            "    ImageFile._save(im, _idat(fp, chunk), [(\"zip\", (0, 0) + im.size, 0, rawmode)])\n",
            "  File \"/usr/local/lib/python3.7/dist-packages/PIL/ImageFile.py\", line 510, in _save\n",
            "    l, s, d = e.encode(bufsize)\n",
            "KeyboardInterrupt\n",
            "\n",
            "During handling of the above exception, another exception occurred:\n",
            "\n",
            "Traceback (most recent call last):\n",
            "  File \"/usr/local/lib/python3.7/dist-packages/IPython/core/interactiveshell.py\", line 1823, in showtraceback\n",
            "    stb = value._render_traceback_()\n",
            "AttributeError: 'KeyboardInterrupt' object has no attribute '_render_traceback_'\n",
            "\n",
            "During handling of the above exception, another exception occurred:\n",
            "\n",
            "Traceback (most recent call last):\n",
            "  File \"/usr/local/lib/python3.7/dist-packages/IPython/core/ultratb.py\", line 1132, in get_records\n",
            "    return _fixed_getinnerframes(etb, number_of_lines_of_context, tb_offset)\n",
            "  File \"/usr/local/lib/python3.7/dist-packages/IPython/core/ultratb.py\", line 313, in wrapped\n",
            "    return f(*args, **kwargs)\n",
            "  File \"/usr/local/lib/python3.7/dist-packages/IPython/core/ultratb.py\", line 358, in _fixed_getinnerframes\n",
            "    records = fix_frame_records_filenames(inspect.getinnerframes(etb, context))\n",
            "  File \"/usr/lib/python3.7/inspect.py\", line 1502, in getinnerframes\n",
            "    frameinfo = (tb.tb_frame,) + getframeinfo(tb, context)\n",
            "  File \"/usr/lib/python3.7/inspect.py\", line 1464, in getframeinfo\n",
            "    lines, lnum = findsource(frame)\n",
            "  File \"/usr/local/lib/python3.7/dist-packages/IPython/core/ultratb.py\", line 182, in findsource\n",
            "    lines = linecache.getlines(file, globals_dict)\n",
            "  File \"/usr/lib/python3.7/linecache.py\", line 47, in getlines\n",
            "    return updatecache(filename, module_globals)\n",
            "  File \"/usr/lib/python3.7/linecache.py\", line 137, in updatecache\n",
            "    lines = fp.readlines()\n",
            "  File \"/usr/lib/python3.7/codecs.py\", line 319, in decode\n",
            "    def decode(self, input, final=False):\n",
            "KeyboardInterrupt\n"
          ]
        },
        {
          "output_type": "error",
          "ename": "TypeError",
          "evalue": "ignored",
          "traceback": [
            "\u001b[0;31m---------------------------------------------------------------------------\u001b[0m",
            "\u001b[0;31mAttributeError\u001b[0m                            Traceback (most recent call last)",
            "\u001b[0;32m/usr/local/lib/python3.7/dist-packages/PIL/ImageFile.py\u001b[0m in \u001b[0;36m_save\u001b[0;34m(im, fp, tile, bufsize)\u001b[0m\n\u001b[1;32m    495\u001b[0m     \u001b[0;32mtry\u001b[0m\u001b[0;34m:\u001b[0m\u001b[0;34m\u001b[0m\u001b[0;34m\u001b[0m\u001b[0m\n\u001b[0;32m--> 496\u001b[0;31m         \u001b[0mfh\u001b[0m \u001b[0;34m=\u001b[0m \u001b[0mfp\u001b[0m\u001b[0;34m.\u001b[0m\u001b[0mfileno\u001b[0m\u001b[0;34m(\u001b[0m\u001b[0;34m)\u001b[0m\u001b[0;34m\u001b[0m\u001b[0;34m\u001b[0m\u001b[0m\n\u001b[0m\u001b[1;32m    497\u001b[0m         \u001b[0mfp\u001b[0m\u001b[0;34m.\u001b[0m\u001b[0mflush\u001b[0m\u001b[0;34m(\u001b[0m\u001b[0;34m)\u001b[0m\u001b[0;34m\u001b[0m\u001b[0;34m\u001b[0m\u001b[0m\n",
            "\u001b[0;31mAttributeError\u001b[0m: '_idat' object has no attribute 'fileno'",
            "\nDuring handling of the above exception, another exception occurred:\n",
            "\u001b[0;31mKeyboardInterrupt\u001b[0m                         Traceback (most recent call last)",
            "\u001b[0;32m/usr/local/lib/python3.7/dist-packages/IPython/core/interactiveshell.py\u001b[0m in \u001b[0;36mrun_code\u001b[0;34m(self, code_obj, result)\u001b[0m\n\u001b[1;32m   2881\u001b[0m                 \u001b[0;31m#rprint('Running code', repr(code_obj)) # dbg\u001b[0m\u001b[0;34m\u001b[0m\u001b[0;34m\u001b[0m\u001b[0;34m\u001b[0m\u001b[0m\n\u001b[0;32m-> 2882\u001b[0;31m                 \u001b[0mexec\u001b[0m\u001b[0;34m(\u001b[0m\u001b[0mcode_obj\u001b[0m\u001b[0;34m,\u001b[0m \u001b[0mself\u001b[0m\u001b[0;34m.\u001b[0m\u001b[0muser_global_ns\u001b[0m\u001b[0;34m,\u001b[0m \u001b[0mself\u001b[0m\u001b[0;34m.\u001b[0m\u001b[0muser_ns\u001b[0m\u001b[0;34m)\u001b[0m\u001b[0;34m\u001b[0m\u001b[0;34m\u001b[0m\u001b[0m\n\u001b[0m\u001b[1;32m   2883\u001b[0m             \u001b[0;32mfinally\u001b[0m\u001b[0;34m:\u001b[0m\u001b[0;34m\u001b[0m\u001b[0;34m\u001b[0m\u001b[0m\n",
            "\u001b[0;32m<ipython-input-12-cc3aadb87261>\u001b[0m in \u001b[0;36m<module>\u001b[0;34m()\u001b[0m\n\u001b[1;32m    121\u001b[0m             \u001b[0mnew_image\u001b[0m \u001b[0;34m=\u001b[0m \u001b[0mImage\u001b[0m\u001b[0;34m.\u001b[0m\u001b[0mfromarray\u001b[0m\u001b[0;34m(\u001b[0m\u001b[0mnp\u001b[0m\u001b[0;34m.\u001b[0m\u001b[0muint8\u001b[0m\u001b[0;34m(\u001b[0m\u001b[0mnoisy_array\u001b[0m\u001b[0;34m)\u001b[0m\u001b[0;34m)\u001b[0m\u001b[0;34m.\u001b[0m\u001b[0mconvert\u001b[0m\u001b[0;34m(\u001b[0m\u001b[0;34m'RGB'\u001b[0m\u001b[0;34m)\u001b[0m\u001b[0;34m\u001b[0m\u001b[0;34m\u001b[0m\u001b[0m\n\u001b[0;32m--> 122\u001b[0;31m             \u001b[0mnew_image\u001b[0m\u001b[0;34m.\u001b[0m\u001b[0msave\u001b[0m\u001b[0;34m(\u001b[0m\u001b[0;34mf'{file_path}/{image_augment}0{file_name}'\u001b[0m\u001b[0;34m)\u001b[0m\u001b[0;34m\u001b[0m\u001b[0;34m\u001b[0m\u001b[0m\n\u001b[0m\u001b[1;32m    123\u001b[0m         \u001b[0mprint\u001b[0m\u001b[0;34m(\u001b[0m\u001b[0;34mf'{train_label[folder_idx]} : {i+1}'\u001b[0m\u001b[0;34m)\u001b[0m\u001b[0;34m\u001b[0m\u001b[0;34m\u001b[0m\u001b[0m\n",
            "\u001b[0;32m/usr/local/lib/python3.7/dist-packages/PIL/Image.py\u001b[0m in \u001b[0;36msave\u001b[0;34m(self, fp, format, **params)\u001b[0m\n\u001b[1;32m   2133\u001b[0m         \u001b[0;32mtry\u001b[0m\u001b[0;34m:\u001b[0m\u001b[0;34m\u001b[0m\u001b[0;34m\u001b[0m\u001b[0m\n\u001b[0;32m-> 2134\u001b[0;31m             \u001b[0msave_handler\u001b[0m\u001b[0;34m(\u001b[0m\u001b[0mself\u001b[0m\u001b[0;34m,\u001b[0m \u001b[0mfp\u001b[0m\u001b[0;34m,\u001b[0m \u001b[0mfilename\u001b[0m\u001b[0;34m)\u001b[0m\u001b[0;34m\u001b[0m\u001b[0;34m\u001b[0m\u001b[0m\n\u001b[0m\u001b[1;32m   2135\u001b[0m         \u001b[0;32mfinally\u001b[0m\u001b[0;34m:\u001b[0m\u001b[0;34m\u001b[0m\u001b[0;34m\u001b[0m\u001b[0m\n",
            "\u001b[0;32m/usr/local/lib/python3.7/dist-packages/PIL/PngImagePlugin.py\u001b[0m in \u001b[0;36m_save\u001b[0;34m(im, fp, filename, chunk, save_all)\u001b[0m\n\u001b[1;32m   1290\u001b[0m     \u001b[0;32melse\u001b[0m\u001b[0;34m:\u001b[0m\u001b[0;34m\u001b[0m\u001b[0;34m\u001b[0m\u001b[0m\n\u001b[0;32m-> 1291\u001b[0;31m         \u001b[0mImageFile\u001b[0m\u001b[0;34m.\u001b[0m\u001b[0m_save\u001b[0m\u001b[0;34m(\u001b[0m\u001b[0mim\u001b[0m\u001b[0;34m,\u001b[0m \u001b[0m_idat\u001b[0m\u001b[0;34m(\u001b[0m\u001b[0mfp\u001b[0m\u001b[0;34m,\u001b[0m \u001b[0mchunk\u001b[0m\u001b[0;34m)\u001b[0m\u001b[0;34m,\u001b[0m \u001b[0;34m[\u001b[0m\u001b[0;34m(\u001b[0m\u001b[0;34m\"zip\"\u001b[0m\u001b[0;34m,\u001b[0m \u001b[0;34m(\u001b[0m\u001b[0;36m0\u001b[0m\u001b[0;34m,\u001b[0m \u001b[0;36m0\u001b[0m\u001b[0;34m)\u001b[0m \u001b[0;34m+\u001b[0m \u001b[0mim\u001b[0m\u001b[0;34m.\u001b[0m\u001b[0msize\u001b[0m\u001b[0;34m,\u001b[0m \u001b[0;36m0\u001b[0m\u001b[0;34m,\u001b[0m \u001b[0mrawmode\u001b[0m\u001b[0;34m)\u001b[0m\u001b[0;34m]\u001b[0m\u001b[0;34m)\u001b[0m\u001b[0;34m\u001b[0m\u001b[0;34m\u001b[0m\u001b[0m\n\u001b[0m\u001b[1;32m   1292\u001b[0m \u001b[0;34m\u001b[0m\u001b[0m\n",
            "\u001b[0;32m/usr/local/lib/python3.7/dist-packages/PIL/ImageFile.py\u001b[0m in \u001b[0;36m_save\u001b[0;34m(im, fp, tile, bufsize)\u001b[0m\n\u001b[1;32m    509\u001b[0m                 \u001b[0;32mwhile\u001b[0m \u001b[0;32mTrue\u001b[0m\u001b[0;34m:\u001b[0m\u001b[0;34m\u001b[0m\u001b[0;34m\u001b[0m\u001b[0m\n\u001b[0;32m--> 510\u001b[0;31m                     \u001b[0ml\u001b[0m\u001b[0;34m,\u001b[0m \u001b[0ms\u001b[0m\u001b[0;34m,\u001b[0m \u001b[0md\u001b[0m \u001b[0;34m=\u001b[0m \u001b[0me\u001b[0m\u001b[0;34m.\u001b[0m\u001b[0mencode\u001b[0m\u001b[0;34m(\u001b[0m\u001b[0mbufsize\u001b[0m\u001b[0;34m)\u001b[0m\u001b[0;34m\u001b[0m\u001b[0;34m\u001b[0m\u001b[0m\n\u001b[0m\u001b[1;32m    511\u001b[0m                     \u001b[0mfp\u001b[0m\u001b[0;34m.\u001b[0m\u001b[0mwrite\u001b[0m\u001b[0;34m(\u001b[0m\u001b[0md\u001b[0m\u001b[0;34m)\u001b[0m\u001b[0;34m\u001b[0m\u001b[0;34m\u001b[0m\u001b[0m\n",
            "\u001b[0;31mKeyboardInterrupt\u001b[0m: ",
            "\nDuring handling of the above exception, another exception occurred:\n",
            "\u001b[0;31mAttributeError\u001b[0m                            Traceback (most recent call last)",
            "\u001b[0;32m/usr/local/lib/python3.7/dist-packages/IPython/core/interactiveshell.py\u001b[0m in \u001b[0;36mshowtraceback\u001b[0;34m(self, exc_tuple, filename, tb_offset, exception_only)\u001b[0m\n\u001b[1;32m   1822\u001b[0m                         \u001b[0;31m# in the engines. This should return a list of strings.\u001b[0m\u001b[0;34m\u001b[0m\u001b[0;34m\u001b[0m\u001b[0;34m\u001b[0m\u001b[0m\n\u001b[0;32m-> 1823\u001b[0;31m                         \u001b[0mstb\u001b[0m \u001b[0;34m=\u001b[0m \u001b[0mvalue\u001b[0m\u001b[0;34m.\u001b[0m\u001b[0m_render_traceback_\u001b[0m\u001b[0;34m(\u001b[0m\u001b[0;34m)\u001b[0m\u001b[0;34m\u001b[0m\u001b[0;34m\u001b[0m\u001b[0m\n\u001b[0m\u001b[1;32m   1824\u001b[0m                     \u001b[0;32mexcept\u001b[0m \u001b[0mException\u001b[0m\u001b[0;34m:\u001b[0m\u001b[0;34m\u001b[0m\u001b[0;34m\u001b[0m\u001b[0m\n",
            "\u001b[0;31mAttributeError\u001b[0m: 'KeyboardInterrupt' object has no attribute '_render_traceback_'",
            "\nDuring handling of the above exception, another exception occurred:\n",
            "\u001b[0;31mTypeError\u001b[0m                                 Traceback (most recent call last)",
            "\u001b[0;32m/usr/local/lib/python3.7/dist-packages/IPython/core/interactiveshell.py\u001b[0m in \u001b[0;36mrun_code\u001b[0;34m(self, code_obj, result)\u001b[0m\n\u001b[1;32m   2897\u001b[0m             \u001b[0;32mif\u001b[0m \u001b[0mresult\u001b[0m \u001b[0;32mis\u001b[0m \u001b[0;32mnot\u001b[0m \u001b[0;32mNone\u001b[0m\u001b[0;34m:\u001b[0m\u001b[0;34m\u001b[0m\u001b[0;34m\u001b[0m\u001b[0m\n\u001b[1;32m   2898\u001b[0m                 \u001b[0mresult\u001b[0m\u001b[0;34m.\u001b[0m\u001b[0merror_in_exec\u001b[0m \u001b[0;34m=\u001b[0m \u001b[0msys\u001b[0m\u001b[0;34m.\u001b[0m\u001b[0mexc_info\u001b[0m\u001b[0;34m(\u001b[0m\u001b[0;34m)\u001b[0m\u001b[0;34m[\u001b[0m\u001b[0;36m1\u001b[0m\u001b[0;34m]\u001b[0m\u001b[0;34m\u001b[0m\u001b[0;34m\u001b[0m\u001b[0m\n\u001b[0;32m-> 2899\u001b[0;31m             \u001b[0mself\u001b[0m\u001b[0;34m.\u001b[0m\u001b[0mshowtraceback\u001b[0m\u001b[0;34m(\u001b[0m\u001b[0;34m)\u001b[0m\u001b[0;34m\u001b[0m\u001b[0;34m\u001b[0m\u001b[0m\n\u001b[0m\u001b[1;32m   2900\u001b[0m         \u001b[0;32melse\u001b[0m\u001b[0;34m:\u001b[0m\u001b[0;34m\u001b[0m\u001b[0;34m\u001b[0m\u001b[0m\n\u001b[1;32m   2901\u001b[0m             \u001b[0moutflag\u001b[0m \u001b[0;34m=\u001b[0m \u001b[0;36m0\u001b[0m\u001b[0;34m\u001b[0m\u001b[0;34m\u001b[0m\u001b[0m\n",
            "\u001b[0;32m/usr/local/lib/python3.7/dist-packages/IPython/core/interactiveshell.py\u001b[0m in \u001b[0;36mshowtraceback\u001b[0;34m(self, exc_tuple, filename, tb_offset, exception_only)\u001b[0m\n\u001b[1;32m   1824\u001b[0m                     \u001b[0;32mexcept\u001b[0m \u001b[0mException\u001b[0m\u001b[0;34m:\u001b[0m\u001b[0;34m\u001b[0m\u001b[0;34m\u001b[0m\u001b[0m\n\u001b[1;32m   1825\u001b[0m                         stb = self.InteractiveTB.structured_traceback(etype,\n\u001b[0;32m-> 1826\u001b[0;31m                                             value, tb, tb_offset=tb_offset)\n\u001b[0m\u001b[1;32m   1827\u001b[0m \u001b[0;34m\u001b[0m\u001b[0m\n\u001b[1;32m   1828\u001b[0m                     \u001b[0mself\u001b[0m\u001b[0;34m.\u001b[0m\u001b[0m_showtraceback\u001b[0m\u001b[0;34m(\u001b[0m\u001b[0metype\u001b[0m\u001b[0;34m,\u001b[0m \u001b[0mvalue\u001b[0m\u001b[0;34m,\u001b[0m \u001b[0mstb\u001b[0m\u001b[0;34m)\u001b[0m\u001b[0;34m\u001b[0m\u001b[0;34m\u001b[0m\u001b[0m\n",
            "\u001b[0;32m/usr/local/lib/python3.7/dist-packages/IPython/core/ultratb.py\u001b[0m in \u001b[0;36mstructured_traceback\u001b[0;34m(self, etype, value, tb, tb_offset, number_of_lines_of_context)\u001b[0m\n\u001b[1;32m   1409\u001b[0m         \u001b[0mself\u001b[0m\u001b[0;34m.\u001b[0m\u001b[0mtb\u001b[0m \u001b[0;34m=\u001b[0m \u001b[0mtb\u001b[0m\u001b[0;34m\u001b[0m\u001b[0;34m\u001b[0m\u001b[0m\n\u001b[1;32m   1410\u001b[0m         return FormattedTB.structured_traceback(\n\u001b[0;32m-> 1411\u001b[0;31m             self, etype, value, tb, tb_offset, number_of_lines_of_context)\n\u001b[0m\u001b[1;32m   1412\u001b[0m \u001b[0;34m\u001b[0m\u001b[0m\n\u001b[1;32m   1413\u001b[0m \u001b[0;34m\u001b[0m\u001b[0m\n",
            "\u001b[0;32m/usr/local/lib/python3.7/dist-packages/IPython/core/ultratb.py\u001b[0m in \u001b[0;36mstructured_traceback\u001b[0;34m(self, etype, value, tb, tb_offset, number_of_lines_of_context)\u001b[0m\n\u001b[1;32m   1317\u001b[0m             \u001b[0;31m# Verbose modes need a full traceback\u001b[0m\u001b[0;34m\u001b[0m\u001b[0;34m\u001b[0m\u001b[0;34m\u001b[0m\u001b[0m\n\u001b[1;32m   1318\u001b[0m             return VerboseTB.structured_traceback(\n\u001b[0;32m-> 1319\u001b[0;31m                 \u001b[0mself\u001b[0m\u001b[0;34m,\u001b[0m \u001b[0metype\u001b[0m\u001b[0;34m,\u001b[0m \u001b[0mvalue\u001b[0m\u001b[0;34m,\u001b[0m \u001b[0mtb\u001b[0m\u001b[0;34m,\u001b[0m \u001b[0mtb_offset\u001b[0m\u001b[0;34m,\u001b[0m \u001b[0mnumber_of_lines_of_context\u001b[0m\u001b[0;34m\u001b[0m\u001b[0;34m\u001b[0m\u001b[0m\n\u001b[0m\u001b[1;32m   1320\u001b[0m             )\n\u001b[1;32m   1321\u001b[0m         \u001b[0;32melse\u001b[0m\u001b[0;34m:\u001b[0m\u001b[0;34m\u001b[0m\u001b[0;34m\u001b[0m\u001b[0m\n",
            "\u001b[0;32m/usr/local/lib/python3.7/dist-packages/IPython/core/ultratb.py\u001b[0m in \u001b[0;36mstructured_traceback\u001b[0;34m(self, etype, evalue, etb, tb_offset, number_of_lines_of_context)\u001b[0m\n\u001b[1;32m   1180\u001b[0m             \u001b[0mexception\u001b[0m \u001b[0;34m=\u001b[0m \u001b[0mself\u001b[0m\u001b[0;34m.\u001b[0m\u001b[0mget_parts_of_chained_exception\u001b[0m\u001b[0;34m(\u001b[0m\u001b[0mevalue\u001b[0m\u001b[0;34m)\u001b[0m\u001b[0;34m\u001b[0m\u001b[0;34m\u001b[0m\u001b[0m\n\u001b[1;32m   1181\u001b[0m             \u001b[0;32mif\u001b[0m \u001b[0mexception\u001b[0m\u001b[0;34m:\u001b[0m\u001b[0;34m\u001b[0m\u001b[0;34m\u001b[0m\u001b[0m\n\u001b[0;32m-> 1182\u001b[0;31m                 \u001b[0mformatted_exceptions\u001b[0m \u001b[0;34m+=\u001b[0m \u001b[0mself\u001b[0m\u001b[0;34m.\u001b[0m\u001b[0mprepare_chained_exception_message\u001b[0m\u001b[0;34m(\u001b[0m\u001b[0mevalue\u001b[0m\u001b[0;34m.\u001b[0m\u001b[0m__cause__\u001b[0m\u001b[0;34m)\u001b[0m\u001b[0;34m\u001b[0m\u001b[0;34m\u001b[0m\u001b[0m\n\u001b[0m\u001b[1;32m   1183\u001b[0m                 \u001b[0metype\u001b[0m\u001b[0;34m,\u001b[0m \u001b[0mevalue\u001b[0m\u001b[0;34m,\u001b[0m \u001b[0metb\u001b[0m \u001b[0;34m=\u001b[0m \u001b[0mexception\u001b[0m\u001b[0;34m\u001b[0m\u001b[0;34m\u001b[0m\u001b[0m\n\u001b[1;32m   1184\u001b[0m             \u001b[0;32melse\u001b[0m\u001b[0;34m:\u001b[0m\u001b[0;34m\u001b[0m\u001b[0;34m\u001b[0m\u001b[0m\n",
            "\u001b[0;31mTypeError\u001b[0m: can only concatenate str (not \"list\") to str"
          ]
        }
      ]
    },
    {
      "cell_type": "code",
      "source": [
        "file_name"
      ],
      "metadata": {
        "colab": {
          "base_uri": "https://localhost:8080/",
          "height": 36
        },
        "id": "J4dsvrF2CN4M",
        "outputId": "46e75d7d-7991-48dc-b99e-774c0d6d92b2"
      },
      "execution_count": null,
      "outputs": [
        {
          "output_type": "execute_result",
          "data": {
            "text/plain": [
              "'10049.png'"
            ],
            "application/vnd.google.colaboratory.intrinsic+json": {
              "type": "string"
            }
          },
          "metadata": {},
          "execution_count": 23
        }
      ]
    },
    {
      "cell_type": "code",
      "source": [
        "'11111.png'[:-4]"
      ],
      "metadata": {
        "colab": {
          "base_uri": "https://localhost:8080/",
          "height": 36
        },
        "id": "fs7fqL62CN6D",
        "outputId": "2102485f-59a3-4dc0-c6fb-7e2911c683f4"
      },
      "execution_count": null,
      "outputs": [
        {
          "output_type": "execute_result",
          "data": {
            "text/plain": [
              "'11111'"
            ],
            "application/vnd.google.colaboratory.intrinsic+json": {
              "type": "string"
            }
          },
          "metadata": {},
          "execution_count": 24
        }
      ]
    },
    {
      "cell_type": "code",
      "source": [
        ""
      ],
      "metadata": {
        "id": "K47VLBH1CN8G"
      },
      "execution_count": null,
      "outputs": []
    },
    {
      "cell_type": "code",
      "source": [
        "# ## 88개 레이블 폴더 생성\n",
        "# os.mkdir(base_dir+f'train_label_88')\n",
        "# for dir in train_label_unique:\n",
        "#   os.mkdir(base_dir+f'train_label_88/{dir}')"
      ],
      "metadata": {
        "id": "d9LLeDPmazH9"
      },
      "execution_count": null,
      "outputs": []
    },
    {
      "cell_type": "code",
      "source": [
        "# import shutil\n",
        "# from tqdm import tqdm\n",
        "\n",
        "# for i in tqdm(range(len(train_df))):\n",
        "#   file_name = train_df.loc[i, 'file_name']\n",
        "#   label     = train_df.loc[i, 'label']\n",
        "\n",
        "#   source = train_dir + f'/{file_name}'\n",
        "#   destination = base_dir + f'train_label_88/{label}/{file_name}'\n",
        "#   shutil.copyfile(source, destination) # 이동이 아닌 카피로 실행함\n",
        "#   # shutil.move(file_source, file_destination) # 이동하는 코드"
      ],
      "metadata": {
        "colab": {
          "base_uri": "https://localhost:8080/"
        },
        "id": "dgueJKRsazKG",
        "outputId": "0483f6da-df73-4b82-d9c1-c819972c6709"
      },
      "execution_count": null,
      "outputs": [
        {
          "output_type": "stream",
          "name": "stderr",
          "text": [
            "100%|██████████| 4277/4277 [23:58<00:00,  2.97it/s]\n"
          ]
        }
      ]
    },
    {
      "cell_type": "code",
      "source": [
        "# 분리된 이미지 파일 전체 개수 확인\n",
        "all_folder = glob(base_dir + '/train_label_88/*')\n",
        "all_img_cnt = 0\n",
        "all_img_path = []\n",
        "for folder in tqdm(all_folder, total = len(all_folder)):\n",
        "  img_list = glob(folder + '/*')\n",
        "  all_img_path += img_list\n",
        "  img_cnt = len(img_list)\n",
        "  all_img_cnt += img_cnt"
      ],
      "metadata": {
        "colab": {
          "base_uri": "https://localhost:8080/"
        },
        "id": "f3-oo5XOnyus",
        "outputId": "d6b5005d-1cbc-44a8-f0ce-25319ee1b6ef"
      },
      "execution_count": null,
      "outputs": [
        {
          "output_type": "stream",
          "name": "stderr",
          "text": [
            "100%|██████████| 88/88 [00:00<00:00, 908.36it/s]\n"
          ]
        }
      ]
    },
    {
      "cell_type": "code",
      "source": [
        "# print('분리된 이미지 파일 총 개수 : ', all_img_cnt)"
      ],
      "metadata": {
        "colab": {
          "base_uri": "https://localhost:8080/"
        },
        "id": "2z8ndVnZon7B",
        "outputId": "9b25bb5b-fd1e-4282-fdc3-76e65971b1f1"
      },
      "execution_count": null,
      "outputs": [
        {
          "output_type": "stream",
          "name": "stdout",
          "text": [
            "분리된 이미지 파일 총 개수 :  4277\n"
          ]
        }
      ]
    },
    {
      "cell_type": "code",
      "source": [
        ""
      ],
      "metadata": {
        "id": "wxCHENg3A3BK"
      },
      "execution_count": null,
      "outputs": []
    },
    {
      "cell_type": "markdown",
      "source": [
        "## 이미지 파일 로딩 + float array 변환 + 전처리"
      ],
      "metadata": {
        "id": "0pkjscwPqOYz"
      }
    },
    {
      "cell_type": "code",
      "source": [
        "# from keras.preprocessing import image\n",
        "\n",
        "# def preprocess_img(img_path, target_size):\n",
        "#   img = image.load_img(img_path, target_size = (target_size, target_size))\n",
        "#   img_tensor = image.img_to_array(img)\n",
        "#   img_tensor = np.expand_dims(img_tensor, axis = 0) # 차원 추가\n",
        "#   img_tensor /= 255. # [0, 1] 범위로 표준화\n",
        "#   return img_tensor"
      ],
      "metadata": {
        "id": "h_Un-AanovPw"
      },
      "execution_count": null,
      "outputs": []
    },
    {
      "cell_type": "code",
      "source": [
        "error_file_name = train_df[train_df.state != 'good'].file_name.tolist()"
      ],
      "metadata": {
        "colab": {
          "base_uri": "https://localhost:8080/",
          "height": 423
        },
        "id": "WUANHRZW73jM",
        "outputId": "3daa00e3-b071-44ce-f2f3-e676c6e6cfae"
      },
      "execution_count": null,
      "outputs": [
        {
          "output_type": "execute_result",
          "data": {
            "text/plain": [
              "      index  file_name       class        state                 label\n",
              "8         8  10008.png       cable    bent_wire       cable-bent_wire\n",
              "10       10  10010.png      carpet         hole           carpet-hole\n",
              "13       13  10013.png        pill    pill_type        pill-pill_type\n",
              "16       16  10016.png   metal_nut      scratch     metal_nut-scratch\n",
              "19       19  10019.png       screw  thread_side     screw-thread_side\n",
              "...     ...        ...         ...          ...                   ...\n",
              "4245   4245  14245.png     leather          cut           leather-cut\n",
              "4248   4248  14248.png  transistor    bent_lead  transistor-bent_lead\n",
              "4251   4251  14251.png       cable     combined        cable-combined\n",
              "4252   4252  14252.png        pill        color            pill-color\n",
              "4266   4266  14266.png        grid       broken           grid-broken\n",
              "\n",
              "[648 rows x 5 columns]"
            ],
            "text/html": [
              "\n",
              "  <div id=\"df-a8af585f-0e1b-4942-a723-49fda576e740\">\n",
              "    <div class=\"colab-df-container\">\n",
              "      <div>\n",
              "<style scoped>\n",
              "    .dataframe tbody tr th:only-of-type {\n",
              "        vertical-align: middle;\n",
              "    }\n",
              "\n",
              "    .dataframe tbody tr th {\n",
              "        vertical-align: top;\n",
              "    }\n",
              "\n",
              "    .dataframe thead th {\n",
              "        text-align: right;\n",
              "    }\n",
              "</style>\n",
              "<table border=\"1\" class=\"dataframe\">\n",
              "  <thead>\n",
              "    <tr style=\"text-align: right;\">\n",
              "      <th></th>\n",
              "      <th>index</th>\n",
              "      <th>file_name</th>\n",
              "      <th>class</th>\n",
              "      <th>state</th>\n",
              "      <th>label</th>\n",
              "    </tr>\n",
              "  </thead>\n",
              "  <tbody>\n",
              "    <tr>\n",
              "      <th>8</th>\n",
              "      <td>8</td>\n",
              "      <td>10008.png</td>\n",
              "      <td>cable</td>\n",
              "      <td>bent_wire</td>\n",
              "      <td>cable-bent_wire</td>\n",
              "    </tr>\n",
              "    <tr>\n",
              "      <th>10</th>\n",
              "      <td>10</td>\n",
              "      <td>10010.png</td>\n",
              "      <td>carpet</td>\n",
              "      <td>hole</td>\n",
              "      <td>carpet-hole</td>\n",
              "    </tr>\n",
              "    <tr>\n",
              "      <th>13</th>\n",
              "      <td>13</td>\n",
              "      <td>10013.png</td>\n",
              "      <td>pill</td>\n",
              "      <td>pill_type</td>\n",
              "      <td>pill-pill_type</td>\n",
              "    </tr>\n",
              "    <tr>\n",
              "      <th>16</th>\n",
              "      <td>16</td>\n",
              "      <td>10016.png</td>\n",
              "      <td>metal_nut</td>\n",
              "      <td>scratch</td>\n",
              "      <td>metal_nut-scratch</td>\n",
              "    </tr>\n",
              "    <tr>\n",
              "      <th>19</th>\n",
              "      <td>19</td>\n",
              "      <td>10019.png</td>\n",
              "      <td>screw</td>\n",
              "      <td>thread_side</td>\n",
              "      <td>screw-thread_side</td>\n",
              "    </tr>\n",
              "    <tr>\n",
              "      <th>...</th>\n",
              "      <td>...</td>\n",
              "      <td>...</td>\n",
              "      <td>...</td>\n",
              "      <td>...</td>\n",
              "      <td>...</td>\n",
              "    </tr>\n",
              "    <tr>\n",
              "      <th>4245</th>\n",
              "      <td>4245</td>\n",
              "      <td>14245.png</td>\n",
              "      <td>leather</td>\n",
              "      <td>cut</td>\n",
              "      <td>leather-cut</td>\n",
              "    </tr>\n",
              "    <tr>\n",
              "      <th>4248</th>\n",
              "      <td>4248</td>\n",
              "      <td>14248.png</td>\n",
              "      <td>transistor</td>\n",
              "      <td>bent_lead</td>\n",
              "      <td>transistor-bent_lead</td>\n",
              "    </tr>\n",
              "    <tr>\n",
              "      <th>4251</th>\n",
              "      <td>4251</td>\n",
              "      <td>14251.png</td>\n",
              "      <td>cable</td>\n",
              "      <td>combined</td>\n",
              "      <td>cable-combined</td>\n",
              "    </tr>\n",
              "    <tr>\n",
              "      <th>4252</th>\n",
              "      <td>4252</td>\n",
              "      <td>14252.png</td>\n",
              "      <td>pill</td>\n",
              "      <td>color</td>\n",
              "      <td>pill-color</td>\n",
              "    </tr>\n",
              "    <tr>\n",
              "      <th>4266</th>\n",
              "      <td>4266</td>\n",
              "      <td>14266.png</td>\n",
              "      <td>grid</td>\n",
              "      <td>broken</td>\n",
              "      <td>grid-broken</td>\n",
              "    </tr>\n",
              "  </tbody>\n",
              "</table>\n",
              "<p>648 rows × 5 columns</p>\n",
              "</div>\n",
              "      <button class=\"colab-df-convert\" onclick=\"convertToInteractive('df-a8af585f-0e1b-4942-a723-49fda576e740')\"\n",
              "              title=\"Convert this dataframe to an interactive table.\"\n",
              "              style=\"display:none;\">\n",
              "        \n",
              "  <svg xmlns=\"http://www.w3.org/2000/svg\" height=\"24px\"viewBox=\"0 0 24 24\"\n",
              "       width=\"24px\">\n",
              "    <path d=\"M0 0h24v24H0V0z\" fill=\"none\"/>\n",
              "    <path d=\"M18.56 5.44l.94 2.06.94-2.06 2.06-.94-2.06-.94-.94-2.06-.94 2.06-2.06.94zm-11 1L8.5 8.5l.94-2.06 2.06-.94-2.06-.94L8.5 2.5l-.94 2.06-2.06.94zm10 10l.94 2.06.94-2.06 2.06-.94-2.06-.94-.94-2.06-.94 2.06-2.06.94z\"/><path d=\"M17.41 7.96l-1.37-1.37c-.4-.4-.92-.59-1.43-.59-.52 0-1.04.2-1.43.59L10.3 9.45l-7.72 7.72c-.78.78-.78 2.05 0 2.83L4 21.41c.39.39.9.59 1.41.59.51 0 1.02-.2 1.41-.59l7.78-7.78 2.81-2.81c.8-.78.8-2.07 0-2.86zM5.41 20L4 18.59l7.72-7.72 1.47 1.35L5.41 20z\"/>\n",
              "  </svg>\n",
              "      </button>\n",
              "      \n",
              "  <style>\n",
              "    .colab-df-container {\n",
              "      display:flex;\n",
              "      flex-wrap:wrap;\n",
              "      gap: 12px;\n",
              "    }\n",
              "\n",
              "    .colab-df-convert {\n",
              "      background-color: #E8F0FE;\n",
              "      border: none;\n",
              "      border-radius: 50%;\n",
              "      cursor: pointer;\n",
              "      display: none;\n",
              "      fill: #1967D2;\n",
              "      height: 32px;\n",
              "      padding: 0 0 0 0;\n",
              "      width: 32px;\n",
              "    }\n",
              "\n",
              "    .colab-df-convert:hover {\n",
              "      background-color: #E2EBFA;\n",
              "      box-shadow: 0px 1px 2px rgba(60, 64, 67, 0.3), 0px 1px 3px 1px rgba(60, 64, 67, 0.15);\n",
              "      fill: #174EA6;\n",
              "    }\n",
              "\n",
              "    [theme=dark] .colab-df-convert {\n",
              "      background-color: #3B4455;\n",
              "      fill: #D2E3FC;\n",
              "    }\n",
              "\n",
              "    [theme=dark] .colab-df-convert:hover {\n",
              "      background-color: #434B5C;\n",
              "      box-shadow: 0px 1px 3px 1px rgba(0, 0, 0, 0.15);\n",
              "      filter: drop-shadow(0px 1px 2px rgba(0, 0, 0, 0.3));\n",
              "      fill: #FFFFFF;\n",
              "    }\n",
              "  </style>\n",
              "\n",
              "      <script>\n",
              "        const buttonEl =\n",
              "          document.querySelector('#df-a8af585f-0e1b-4942-a723-49fda576e740 button.colab-df-convert');\n",
              "        buttonEl.style.display =\n",
              "          google.colab.kernel.accessAllowed ? 'block' : 'none';\n",
              "\n",
              "        async function convertToInteractive(key) {\n",
              "          const element = document.querySelector('#df-a8af585f-0e1b-4942-a723-49fda576e740');\n",
              "          const dataTable =\n",
              "            await google.colab.kernel.invokeFunction('convertToInteractive',\n",
              "                                                     [key], {});\n",
              "          if (!dataTable) return;\n",
              "\n",
              "          const docLinkHtml = 'Like what you see? Visit the ' +\n",
              "            '<a target=\"_blank\" href=https://colab.research.google.com/notebooks/data_table.ipynb>data table notebook</a>'\n",
              "            + ' to learn more about interactive tables.';\n",
              "          element.innerHTML = '';\n",
              "          dataTable['output_type'] = 'display_data';\n",
              "          await google.colab.output.renderOutput(dataTable, element);\n",
              "          const docLink = document.createElement('div');\n",
              "          docLink.innerHTML = docLinkHtml;\n",
              "          element.appendChild(docLink);\n",
              "        }\n",
              "      </script>\n",
              "    </div>\n",
              "  </div>\n",
              "  "
            ]
          },
          "metadata": {},
          "execution_count": 9
        }
      ]
    },
    {
      "cell_type": "code",
      "source": [
        "base_dir = ''\n",
        "error_file_name = train_df[train_df.state != 'good'].file_name.tolist()\n",
        "all_img_path = [f\"{base_dir}/{x}\" for x in error_file_name]"
      ],
      "metadata": {
        "id": "jHDztT6E8WcF"
      },
      "execution_count": null,
      "outputs": []
    },
    {
      "cell_type": "code",
      "source": [
        "## 이미지 시각화(랜덤 30개만)\n",
        "import random\n",
        "n_pic = 30 # 시각화할 이미지 수\n",
        "n_col = 5 # 가로 개수\n",
        "n_row = 6 # 세로 개수\n",
        "\n",
        "target_size = 100\n",
        "margin = 3\n",
        "\n",
        "total = np.zeros((n_row * target_size + (n_row - 1) * margin, n_col * target_size + (n_col - 1) * margin, 3))\n",
        "\n",
        "img_seq = 0\n",
        "\n",
        "# 전체 중 랜덤 샘플 추출함\n",
        "sampleList = random.sample(all_img_path, n_pic)\n",
        "\n",
        "for i in range(n_row):\n",
        "  for j in range(n_col):\n",
        "    img_path = sampleList[img_seq]\n",
        "    img_tensor = preprocess_img(img_path, target_size)\n",
        "\n",
        "    h_start = i * target_size + i * margin\n",
        "    h_end   = h_start + target_size\n",
        "    v_start = j * target_size + j * margin\n",
        "    v_end   = v_start + target_size\n",
        "\n",
        "    total[h_start:h_end, v_start:v_end] = img_tensor[0]\n",
        "    img_seq += 1\n",
        "\n",
        "plt.figure(figsize = (200, 200))\n",
        "plt.imshow(total)\n",
        "plt.show()"
      ],
      "metadata": {
        "id": "k7WdndFKrlmW"
      },
      "execution_count": null,
      "outputs": []
    },
    {
      "cell_type": "markdown",
      "source": [
        "## 이미지 파일 -> 학습 데이터로 변경"
      ],
      "metadata": {
        "id": "YfPMqStHxY2h"
      }
    },
    {
      "cell_type": "code",
      "source": [
        "base_dir + '/train_label_88/'"
      ],
      "metadata": {
        "colab": {
          "base_uri": "https://localhost:8080/",
          "height": 36
        },
        "id": "bSsYqK7nkzGL",
        "outputId": "fdb3ab11-3340-4c3c-fc99-323ec20a4e7e"
      },
      "execution_count": null,
      "outputs": [
        {
          "output_type": "execute_result",
          "data": {
            "text/plain": [
              "'/content/drive/MyDrive/DACON_이상치 탐지 알고리즘 경진대회/open/train_label_88/'"
            ],
            "application/vnd.google.colaboratory.intrinsic+json": {
              "type": "string"
            }
          },
          "metadata": {},
          "execution_count": 10
        }
      ]
    },
    {
      "cell_type": "code",
      "source": [
        "# 학습 파일 기본 경로 지정 및 분류할 클래스 \n",
        "import re\n",
        "import cv2\n",
        "from sklearn.model_selection import train_test_split\n",
        "\n",
        "# base_dir : /content/drive/MyDrive/DACON_이상치 탐지 알고리즘 경진대회/open\n",
        "train_base_dir = base_dir + '/train_label_88/'\n",
        "\n",
        "categories = train_label_unique\n",
        "categories.sort() # 알파벳 순으로 정렬\n",
        "num_classes = len(categories)"
      ],
      "metadata": {
        "id": "tZCaY4kQoZo_"
      },
      "execution_count": null,
      "outputs": []
    },
    {
      "cell_type": "code",
      "source": [
        "import gc\n",
        "del X, Y\n",
        "gc.collect()"
      ],
      "metadata": {
        "colab": {
          "base_uri": "https://localhost:8080/"
        },
        "id": "ywhqWTe2p08x",
        "outputId": "6e136cfd-9ca9-4935-de9e-0640188abea8"
      },
      "execution_count": null,
      "outputs": [
        {
          "output_type": "execute_result",
          "data": {
            "text/plain": [
              "454"
            ]
          },
          "metadata": {},
          "execution_count": 15
        }
      ]
    },
    {
      "cell_type": "code",
      "source": [
        "# 학습 파일 기본 경로 지정 및 분류할 클래스 \n",
        "import re\n",
        "import cv2\n",
        "from sklearn.model_selection import train_test_split\n",
        "\n",
        "# base_dir : /content/drive/MyDrive/DACON_이상치 탐지 알고리즘 경진대회/open\n",
        "train_base_dir = base_dir + '/train_label_88/'\n",
        "\n",
        "categories = train_label_unique\n",
        "categories.sort() # 알파벳 순으로 정렬\n",
        "num_classes = len(categories)\n",
        "\n",
        "# 이미지 사이즈 변경 : \n",
        "img_rows = 1024\n",
        "img_cols = 1024\n",
        "\n",
        "X = [] # 입력 데이터\n",
        "Y = [] # 정답값\n",
        "\n",
        "for idx, categorie in enumerate(tqdm(categories[22:33])):\n",
        "  ## label -> 원-핫 인코딩\n",
        "  label = [0 for i in range(num_classes)]\n",
        "  label[idx] = 1\n",
        "\n",
        "  # 이미지 파일 경로\n",
        "  image_dir = train_base_dir + categorie + '/'\n",
        "\n",
        "  # 레이블 폴더 별로 이미지 파일 추출\n",
        "  for top, dir, f in os.walk(image_dir):\n",
        "    for filename in f:\n",
        "      img = cv2.imread(image_dir + filename)\n",
        "      img = cv2.resize(img, (img_rows,img_cols))#, fx=img_w/img.shape[1], fy=img_h/img.shape[0])\n",
        "      X.append(img/256)\n",
        "      Y.append(label)\n",
        "\n",
        "# 배열 -> 넘파이 배열로 변환\n",
        "X = np.array(X)\n",
        "Y = np.array(Y)\n",
        "\n",
        "# numpy 배열 save\n",
        "np.savez(f\"{train_base_dir}/imageset_1024*1024_3.npz\", x=X, y=Y)\n",
        "\n",
        "# # 학습 / 검증 데이터로 분리\n",
        "# X_train, X_test, y_train, y_test = train_test_split(X, Y) # test_size=0.25(default)\n",
        "\n",
        "# X_train = X_train.astype('float32')\n",
        "# y_train = y_train.astype('float32')\n",
        "\n",
        "# # numpy 배열 저장하기\n",
        "# xy = (X_train, X_test, y_train, y_test)\n",
        "# np.save(f\"{train_base_dir}img_data.npy\", xy)"
      ],
      "metadata": {
        "id": "Pr9UuWInvjJ5",
        "colab": {
          "base_uri": "https://localhost:8080/"
        },
        "outputId": "6bcc8924-8ea2-4b9c-b78f-e31dae016823"
      },
      "execution_count": null,
      "outputs": [
        {
          "output_type": "stream",
          "name": "stderr",
          "text": [
            "100%|██████████| 11/11 [00:41<00:00,  3.76s/it]\n"
          ]
        }
      ]
    },
    {
      "cell_type": "code",
      "source": [
        "np.savez(f\"{train_base_dir}/imageset_512*512_2.npz\", x=X, y=Y)"
      ],
      "metadata": {
        "id": "1ZXCpgXwkk_U"
      },
      "execution_count": null,
      "outputs": []
    },
    {
      "cell_type": "code",
      "source": [
        "## 저장한 x,y. 배열 가져오기\n",
        "# 배열로 불러오기\n",
        "train_base_dir = base_dir + '/train_label_88/'\n",
        "xy_savez_load = np.load(f\"{train_base_dir}/imageset_224*224.npz\")\n",
        "type(xy_savez_load)\n",
        "X = xy_savez_load['x']\n",
        "Y = xy_savez_load['y']"
      ],
      "metadata": {
        "id": "JUIj6hQIKdig"
      },
      "execution_count": null,
      "outputs": []
    },
    {
      "cell_type": "code",
      "source": [
        "# 저장한 배열로 학습 / 검증 데이터로 분리\n",
        "X_train, X_test, y_train, y_test = train_test_split(X, Y) # test_size=0.25(default), shuffle : 셔플여부설정 (default = True)\n",
        "\n",
        "X_train = X_train.astype('float32')\n",
        "y_train = y_train.astype('float32')"
      ],
      "metadata": {
        "id": "NQav2-KcLGHa"
      },
      "execution_count": null,
      "outputs": []
    },
    {
      "cell_type": "markdown",
      "source": [
        "2. Prepare the dataset"
      ],
      "metadata": {
        "id": "G3sKGLANCEcu"
      }
    },
    {
      "cell_type": "code",
      "source": [
        "# # load_cifar10_data 전처리 코드\n",
        "# num_classes = 10 # 분류할 레이블 수\n",
        "\n",
        "# def load_cifar10_data(img_rows, img_cols):\n",
        "\n",
        "#     # Load cifar10 training and validation sets\n",
        "#     (X_train, Y_train), (X_valid, Y_valid) = #cifar10.load_data()\n",
        "\n",
        "#     ## 데이터셋이 넘 커서 램 감당 안됨\n",
        "#     X_train = X_train[:100]\n",
        "#     Y_train = Y_train[:100]\n",
        "\n",
        "#     X_valid = X_valid[:10]\n",
        "#     Y_valid = Y_valid[:10]\n",
        "    \n",
        "#     # Resize training images\n",
        "#     X_train = np.array([cv2.resize(img, (img_rows,img_cols)) for img in X_train[:,:,:,:]])\n",
        "#     X_valid = np.array([cv2.resize(img, (img_rows,img_cols)) for img in X_valid[:,:,:,:]])\n",
        "\n",
        "#     # Transform targets to keras compatible format [np_utils.to_categorical ->  Converts a class vector (integers) to binary class matrix] \n",
        "#     Y_train = np_utils.to_categorical(Y_train, num_classes)\n",
        "#     Y_valid = np_utils.to_categorical(Y_valid, num_classes)\n",
        "    \n",
        "#     X_train = X_train.astype('float32')\n",
        "#     X_valid = X_valid.astype('float32')\n",
        "\n",
        "#     # preprocess data\n",
        "#     X_train = X_train / 255.0\n",
        "#     X_valid = X_valid / 255.0\n",
        "\n",
        "#     return X_train, Y_train, X_valid, Y_valid\n",
        "# X_train, y_train, X_test, y_test = load_cifar10_data(224, 224) # 이미지 사이즈를 줄임"
      ],
      "metadata": {
        "id": "D_aOmszl_oAj"
      },
      "execution_count": null,
      "outputs": []
    },
    {
      "cell_type": "markdown",
      "source": [
        "3. Create the inception module"
      ],
      "metadata": {
        "id": "yBNhC_-NB-iq"
      }
    },
    {
      "cell_type": "code",
      "source": [
        "def inception_module(x,\n",
        "                     filters_1x1,\n",
        "                     filters_3x3_reduce,\n",
        "                     filters_3x3,\n",
        "                     filters_5x5_reduce,\n",
        "                     filters_5x5,\n",
        "                     filters_pool_proj,\n",
        "                     name=None):\n",
        "    \n",
        "    conv_1x1 = Conv2D(filters_1x1, (1, 1), padding='same', activation='relu', kernel_initializer=kernel_init, bias_initializer=bias_init)(x)\n",
        "    \n",
        "    conv_3x3 = Conv2D(filters_3x3_reduce, (1, 1), padding='same', activation='relu', kernel_initializer=kernel_init, bias_initializer=bias_init)(x)\n",
        "    conv_3x3 = Conv2D(filters_3x3, (3, 3), padding='same', activation='relu', kernel_initializer=kernel_init, bias_initializer=bias_init)(conv_3x3)\n",
        "\n",
        "    conv_5x5 = Conv2D(filters_5x5_reduce, (1, 1), padding='same', activation='relu', kernel_initializer=kernel_init, bias_initializer=bias_init)(x)\n",
        "    conv_5x5 = Conv2D(filters_5x5, (5, 5), padding='same', activation='relu', kernel_initializer=kernel_init, bias_initializer=bias_init)(conv_5x5)\n",
        "\n",
        "    pool_proj = MaxPool2D((3, 3), strides=(1, 1), padding='same')(x)\n",
        "    pool_proj = Conv2D(filters_pool_proj, (1, 1), padding='same', activation='relu', kernel_initializer=kernel_init, bias_initializer=bias_init)(pool_proj)\n",
        "\n",
        "    output = concatenate([conv_1x1, conv_3x3, conv_5x5, pool_proj], axis=3, name=name)\n",
        "    ## concatenate  : 선택한 축 방향으로 배열 연결하는 함수[3차원 일 경우 0 : 높이, 1 : 행, 2 : 열, 3 : ?]\n",
        "    return output"
      ],
      "metadata": {
        "id": "Tyx2rcj3_rDH"
      },
      "execution_count": null,
      "outputs": []
    },
    {
      "cell_type": "markdown",
      "source": [
        "4. Create the GoogLeNet architecture"
      ],
      "metadata": {
        "id": "8-imZgUIARhD"
      }
    },
    {
      "cell_type": "code",
      "source": [
        "# ## 책 코드 카피 + 88레이블로 분류 위해 코드 조정\n",
        "# from keras.layers.normalization.batch_normalization import BatchNormalization\n",
        "# kernel_init = keras.initializers.glorot_uniform()\n",
        "# bias_init = keras.initializers.Constant(value=0.2)\n",
        "\n",
        "# input_layer = Input(shape=(224, 224, 3)) # (가로, 세로, 채널(컬러 = 3))\n",
        "\n",
        "# ### A부분 ### \n",
        "# x = Conv2D(64, (7, 7), padding='same', strides=(2, 2), activation='relu', name='conv_1_7x7/2', kernel_initializer=kernel_init, bias_initializer=bias_init)(input_layer)\n",
        "# x = MaxPool2D((3, 3), padding='same', strides=(2, 2), name='max_pool_1_3x3/2')(x)\n",
        "# x = BatchNormalization()(x) # 책내용 코드 추가\n",
        "\n",
        "# ## 합성곱층 -> 1,1풀링 : 차원축소 +  3,3 풀링\n",
        "# x = Conv2D(64, (1, 1), padding='same', strides=(1, 1), activation='relu', name='conv_2a_3x3/1')(x)\n",
        "# x = Conv2D(192, (3, 3), padding='same', strides=(1, 1), activation='relu', name='conv_2b_3x3/1')(x)\n",
        "# x = BatchNormalization()(x) # 책내용 코드 추가\n",
        "# x = MaxPool2D((3, 3), padding='same', strides=(2, 2), name='max_pool_2_3x3/2')(x)\n",
        "\n",
        "# ### B 부분 - 인셉션 모듈 2 + 최대풀링 + 인셉션5 + 최대풀링 + 인셉션2 + 평균 풀링\n",
        "# x = inception_module(x,\n",
        "#                      filters_1x1=64,\n",
        "#                      filters_3x3_reduce=96,\n",
        "#                      filters_3x3=128,\n",
        "#                      filters_5x5_reduce=16,\n",
        "#                      filters_5x5=32,\n",
        "#                      filters_pool_proj=32,\n",
        "#                      name='inception_3a')\n",
        "\n",
        "# x = inception_module(x,\n",
        "#                      filters_1x1=128,\n",
        "#                      filters_3x3_reduce=128,\n",
        "#                      filters_3x3=192,\n",
        "#                      filters_5x5_reduce=32,\n",
        "#                      filters_5x5=96,\n",
        "#                      filters_pool_proj=64,\n",
        "#                      name='inception_3b')\n",
        "\n",
        "# x = MaxPool2D((3, 3), padding='same', strides=(2, 2), name='max_pool_2_3x3/2')(x)\n",
        "\n",
        "# x = inception_module(x,\n",
        "#                      filters_1x1=192,\n",
        "#                      filters_3x3_reduce=96,\n",
        "#                      filters_3x3=208,\n",
        "#                      filters_5x5_reduce=16,\n",
        "#                      filters_5x5=48,\n",
        "#                      filters_pool_proj=64,\n",
        "#                      name='inception_4a')\n",
        "\n",
        "# # 중간 분류기 제외\n",
        "# # classifier_1 = AveragePooling2D((5, 5), strides=3)(x)\n",
        "# # classifier_1 = Conv2D(128, (1, 1), padding='same', activation='relu')(classifier_1)\n",
        "# # classifier_1 = Flatten()(classifier_1)\n",
        "# # classifier_1 = Dense(1024, activation='relu')(classifier_1)\n",
        "# # classifier_1 = Dropout(0.7)(classifier_1)\n",
        "# # classifier_1 = Dense(88, activation='softmax', name='auxilliary_output_1')(classifier_1) # 10\n",
        "\n",
        "# x = inception_module(x,\n",
        "#                      filters_1x1=160,\n",
        "#                      filters_3x3_reduce=112,\n",
        "#                      filters_3x3=224,\n",
        "#                      filters_5x5_reduce=24,\n",
        "#                      filters_5x5=64,\n",
        "#                      filters_pool_proj=64,\n",
        "#                      name='inception_4b')\n",
        "\n",
        "# x = inception_module(x,\n",
        "#                      filters_1x1=128,\n",
        "#                      filters_3x3_reduce=128,\n",
        "#                      filters_3x3=256,\n",
        "#                      filters_5x5_reduce=24,\n",
        "#                      filters_5x5=64,\n",
        "#                      filters_pool_proj=64,\n",
        "#                      name='inception_4c')\n",
        "\n",
        "# x = inception_module(x,\n",
        "#                      filters_1x1=112,\n",
        "#                      filters_3x3_reduce=144,\n",
        "#                      filters_3x3=288,\n",
        "#                      filters_5x5_reduce=32,\n",
        "#                      filters_5x5=64,\n",
        "#                      filters_pool_proj=64,\n",
        "#                      name='inception_4d')\n",
        "# # 중간 분류기 제외\n",
        "# # classifier_2 = AveragePooling2D((5, 5), strides=3)(x)\n",
        "# # classifier_2 = Conv2D(128, (1, 1), padding='same', activation='relu')(classifier_2)\n",
        "# # classifier_2 = Flatten()(classifier_2)\n",
        "# # classifier_2 = Dense(1024, activation='relu')(classifier_2)\n",
        "# # classifier_2 = Dropout(0.7)(classifier_2)\n",
        "# # classifier_2 = Dense(88, activation='softmax', name='auxilliary_output_2')(classifier_2) # 10\n",
        "\n",
        "# x = inception_module(x,\n",
        "#                      filters_1x1=256,\n",
        "#                      filters_3x3_reduce=160,\n",
        "#                      filters_3x3=320,\n",
        "#                      filters_5x5_reduce=32,\n",
        "#                      filters_5x5=128,\n",
        "#                      filters_pool_proj=128,\n",
        "#                      name='inception_4e')\n",
        "\n",
        "# x = MaxPool2D((3, 3), padding='same', strides=(2, 2), name='max_pool_3_3x3/2')(x)\n",
        "\n",
        "# x = inception_module(x,\n",
        "#                      filters_1x1=256,\n",
        "#                      filters_3x3_reduce=160,\n",
        "#                      filters_3x3=320,\n",
        "#                      filters_5x5_reduce=32,\n",
        "#                      filters_5x5=128,\n",
        "#                      filters_pool_proj=128,\n",
        "#                      name='inception_5a')\n",
        "\n",
        "# x = inception_module(x,\n",
        "#                      filters_1x1=384,\n",
        "#                      filters_3x3_reduce=192,\n",
        "#                      filters_3x3=384,\n",
        "#                      filters_5x5_reduce=48,\n",
        "#                      filters_5x5=128,\n",
        "#                      filters_pool_proj=128,\n",
        "#                      name='inception_5b')\n",
        "# ## C 부분 : 분류기 구현\n",
        "# x = AveragePooling2D(pool_size=(7,7), strides=1, padding='valid',name='avg_pool_5_3x3/1')(x)\n",
        "# x = Conv2D(128, (1, 1), padding='same' activation='relu', name='conv_3_3x3/1')(\bx)\n",
        "# x = Flatten()\n",
        "# x = Dense(1024, activation='relu', name='linear')(x)\n",
        "# x = Dropout(0.4)(x) # 40% 드롭아웃\n",
        "# x = Dense(88, activation='softmax', name='output')(x)\n",
        "\n",
        "# ## 모델 생성\n",
        "# # GoogleNet model without the classfiers 1 and 2 \n",
        "# model = Model(input_layer, [x], name='googlenet')\n",
        "# ## 모델 요약\n",
        "# model.summary()"
      ],
      "metadata": {
        "id": "4uAYmKhNAqNY"
      },
      "execution_count": null,
      "outputs": []
    },
    {
      "cell_type": "code",
      "source": [
        "# ## 책 코드 카피\n",
        "# from keras.layers.normalization.batch_normalization import BatchNormalization\n",
        "# kernel_init = keras.initializers.glorot_uniform()\n",
        "# bias_init = keras.initializers.Constant(value=0.2)\n",
        "\n",
        "# input_layer = Input(shape=(224, 224, 3)) # (가로, 세로, 채널(컬러 = 3))\n",
        "\n",
        "# ### A부분 ### \n",
        "# x = Conv2D(64, (7, 7), padding='same', strides=(2, 2), activation='relu', name='conv_1_7x7/2', kernel_initializer=kernel_init, bias_initializer=bias_init)(input_layer)\n",
        "# x = MaxPool2D((3, 3), padding='same', strides=(2, 2), name='max_pool_1_3x3/2')(x)\n",
        "# x = BatchNormalization()(x) # 책내용 코드 추가\n",
        "\n",
        "# ## 합성곱층 -> 1,1풀링 : 차원축소 +  3,3 풀링\n",
        "# x = Conv2D(64, (1, 1), padding='same', strides=(1, 1), activation='relu', name='conv_2a_3x3/1')(x)\n",
        "# x = Conv2D(192, (3, 3), padding='same', strides=(1, 1), activation='relu', name='conv_2b_3x3/1')(x)\n",
        "# x = BatchNormalization()(x) # 책내용 코드 추가\n",
        "# x = MaxPool2D((3, 3), padding='same', strides=(2, 2), name='max_pool_2_3x3/2')(x)\n",
        "\n",
        "# ### B 부분 - 인셉션 모듈 2 + 최대풀링 + 인셉션5 + 최대풀링 + 인셉션2 + 평균 풀링\n",
        "# x = inception_module(x,\n",
        "#                      filters_1x1=64,\n",
        "#                      filters_3x3_reduce=96,\n",
        "#                      filters_3x3=128,\n",
        "#                      filters_5x5_reduce=16,\n",
        "#                      filters_5x5=32,\n",
        "#                      filters_pool_proj=32,\n",
        "#                      name='inception_3a')\n",
        "\n",
        "# x = inception_module(x,\n",
        "#                      filters_1x1=128,\n",
        "#                      filters_3x3_reduce=128,\n",
        "#                      filters_3x3=192,\n",
        "#                      filters_5x5_reduce=32,\n",
        "#                      filters_5x5=96,\n",
        "#                      filters_pool_proj=64,\n",
        "#                      name='inception_3b')\n",
        "\n",
        "# x = MaxPool2D((3, 3), padding='same', strides=(2, 2), name='max_pool_2_3x3/2')(x)\n",
        "\n",
        "# x = inception_module(x,\n",
        "#                      filters_1x1=192,\n",
        "#                      filters_3x3_reduce=96,\n",
        "#                      filters_3x3=208,\n",
        "#                      filters_5x5_reduce=16,\n",
        "#                      filters_5x5=48,\n",
        "#                      filters_pool_proj=64,\n",
        "#                      name='inception_4a')\n",
        "\n",
        "# # 중간 분류기 제외\n",
        "# # classifier_1 = AveragePooling2D((5, 5), strides=3)(x)\n",
        "# # classifier_1 = Conv2D(128, (1, 1), padding='same', activation='relu')(classifier_1)\n",
        "# # classifier_1 = Flatten()(classifier_1)\n",
        "# # classifier_1 = Dense(1024, activation='relu')(classifier_1)\n",
        "# # classifier_1 = Dropout(0.7)(classifier_1)\n",
        "# # classifier_1 = Dense(88, activation='softmax', name='auxilliary_output_1')(classifier_1) # 10\n",
        "\n",
        "# x = inception_module(x,\n",
        "#                      filters_1x1=160,\n",
        "#                      filters_3x3_reduce=112,\n",
        "#                      filters_3x3=224,\n",
        "#                      filters_5x5_reduce=24,\n",
        "#                      filters_5x5=64,\n",
        "#                      filters_pool_proj=64,\n",
        "#                      name='inception_4b')\n",
        "\n",
        "# x = inception_module(x,\n",
        "#                      filters_1x1=128,\n",
        "#                      filters_3x3_reduce=128,\n",
        "#                      filters_3x3=256,\n",
        "#                      filters_5x5_reduce=24,\n",
        "#                      filters_5x5=64,\n",
        "#                      filters_pool_proj=64,\n",
        "#                      name='inception_4c')\n",
        "\n",
        "# x = inception_module(x,\n",
        "#                      filters_1x1=112,\n",
        "#                      filters_3x3_reduce=144,\n",
        "#                      filters_3x3=288,\n",
        "#                      filters_5x5_reduce=32,\n",
        "#                      filters_5x5=64,\n",
        "#                      filters_pool_proj=64,\n",
        "#                      name='inception_4d')\n",
        "# # 중간 분류기 제외\n",
        "# # classifier_2 = AveragePooling2D((5, 5), strides=3)(x)\n",
        "# # classifier_2 = Conv2D(128, (1, 1), padding='same', activation='relu')(classifier_2)\n",
        "# # classifier_2 = Flatten()(classifier_2)\n",
        "# # classifier_2 = Dense(1024, activation='relu')(classifier_2)\n",
        "# # classifier_2 = Dropout(0.7)(classifier_2)\n",
        "# # classifier_2 = Dense(88, activation='softmax', name='auxilliary_output_2')(classifier_2) # 10\n",
        "\n",
        "# x = inception_module(x,\n",
        "#                      filters_1x1=256,\n",
        "#                      filters_3x3_reduce=160,\n",
        "#                      filters_3x3=320,\n",
        "#                      filters_5x5_reduce=32,\n",
        "#                      filters_5x5=128,\n",
        "#                      filters_pool_proj=128,\n",
        "#                      name='inception_4e')\n",
        "\n",
        "# x = MaxPool2D((3, 3), padding='same', strides=(2, 2), name='max_pool_3_3x3/2')(x)\n",
        "\n",
        "# x = inception_module(x,\n",
        "#                      filters_1x1=256,\n",
        "#                      filters_3x3_reduce=160,\n",
        "#                      filters_3x3=320,\n",
        "#                      filters_5x5_reduce=32,\n",
        "#                      filters_5x5=128,\n",
        "#                      filters_pool_proj=128,\n",
        "#                      name='inception_5a')\n",
        "\n",
        "# x = inception_module(x,\n",
        "#                      filters_1x1=384,\n",
        "#                      filters_3x3_reduce=192,\n",
        "#                      filters_3x3=384,\n",
        "#                      filters_5x5_reduce=48,\n",
        "#                      filters_5x5=128,\n",
        "#                      filters_pool_proj=128,\n",
        "#                      name='inception_5b')\n",
        "# ## C 부분 : 분류기 구현\n",
        "# x = AveragePooling2D(pool_size=(7,7), strides=1, padding='valid',name='avg_pool_5_3x3/1')(x)\n",
        "# x = Dropout(0.4)(x) # 40% 드롭아웃\n",
        "# x = Dense(10, activation='softmax', name='output')(x)\n",
        "\n",
        "# ## 모델 생성\n",
        "# # GoogleNet model without the classfiers 1 and 2 \n",
        "# model = Model(input_layer, [x], name='googlenet')\n",
        "# ## 모델 요약\n",
        "# model.summary()"
      ],
      "metadata": {
        "id": "v1uXmB8g_rKp"
      },
      "execution_count": null,
      "outputs": []
    },
    {
      "cell_type": "code",
      "source": [
        ""
      ],
      "metadata": {
        "id": "kIVynSfx_Omj"
      },
      "execution_count": null,
      "outputs": []
    },
    {
      "cell_type": "code",
      "source": [
        ""
      ],
      "metadata": {
        "id": "OblLCo3F_Oof"
      },
      "execution_count": null,
      "outputs": []
    },
    {
      "cell_type": "code",
      "source": [
        ""
      ],
      "metadata": {
        "id": "1zWu-D7WdRmQ"
      },
      "execution_count": null,
      "outputs": []
    }
  ]
}
