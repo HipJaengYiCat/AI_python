{
  "cells": [
    {
      "cell_type": "markdown",
      "metadata": {
        "id": "view-in-github",
        "colab_type": "text"
      },
      "source": [
        "<a href=\"https://colab.research.google.com/github/seunghee0518/AI_python/blob/main/Outlier%20detection%20%EC%8B%A0%EC%9A%A9%EC%B9%B4%EB%93%9C%20%EC%82%AC%EA%B8%B0%EA%B1%B0%EB%9E%98%20%EA%B0%90%EC%A7%80/%5Bbaseline2%5D%EC%8B%A0%EC%9A%A9%EC%B9%B4%EB%93%9C_%EC%82%AC%EA%B8%B0_%EA%B1%B0%EB%9E%98_%ED%83%90%EC%A7%80_AI_%EA%B2%BD%EC%A7%84%EB%8C%80%ED%9A%8C%5BPublic_score_0_93052%5D.ipynb\" target=\"_parent\"><img src=\"https://colab.research.google.com/assets/colab-badge.svg\" alt=\"Open In Colab\"/></a>"
      ]
    },
    {
      "cell_type": "markdown",
      "metadata": {
        "id": "4d3a1d7a-cd78-4feb-a3fb-6616e9f4b1b6"
      },
      "source": [
        "## Import"
      ],
      "id": "4d3a1d7a-cd78-4feb-a3fb-6616e9f4b1b6"
    },
    {
      "cell_type": "code",
      "execution_count": null,
      "metadata": {
        "id": "c2d64ba0-c815-400a-aaae-893b6a014460"
      },
      "outputs": [],
      "source": [
        "import torch\n",
        "\n",
        "import pandas as pd\n",
        "import numpy as np\n",
        "\n",
        "from sklearn.covariance import EllipticEnvelope\n",
        "from sklearn.metrics import f1_score\n",
        "from sklearn.metrics import classification_report\n",
        "from sklearn.metrics import confusion_matrix\n",
        "\n",
        "import matplotlib.pyplot as plt\n",
        "\n",
        "import warnings\n",
        "warnings.filterwarnings(action='ignore')"
      ],
      "id": "c2d64ba0-c815-400a-aaae-893b6a014460"
    },
    {
      "cell_type": "code",
      "execution_count": null,
      "metadata": {
        "colab": {
          "base_uri": "https://localhost:8080/"
        },
        "id": "sYEInBTnKqdG",
        "outputId": "eaea0d8e-7a5e-4831-f763-b96adc9b0b3c"
      },
      "outputs": [
        {
          "output_type": "stream",
          "name": "stdout",
          "text": [
            "Mounted at /content/drive\n"
          ]
        }
      ],
      "source": [
        "from google.colab import drive\n",
        "drive.mount('/content/drive')"
      ],
      "id": "sYEInBTnKqdG"
    },
    {
      "cell_type": "markdown",
      "metadata": {
        "id": "61089ab8-281f-46d4-a800-d42322ce0f02"
      },
      "source": [
        "## Data Load"
      ],
      "id": "61089ab8-281f-46d4-a800-d42322ce0f02"
    },
    {
      "cell_type": "code",
      "execution_count": null,
      "metadata": {
        "id": "cvIc1wrMKu3P"
      },
      "outputs": [],
      "source": [
        "directory = '/content/drive/MyDrive/DACON_신용카드 사기 거래 탐지 AI 경진대회'\n",
        "train_df = pd.read_csv(f'{directory}/data/train.csv') # Train\n",
        "#train_df = train_df.drop(columns=['ID'])\n",
        "#display(train_df.head())\n",
        "\n",
        "val_df = pd.read_csv(f'{directory}/data/val.csv') # Validation\n",
        "#val_df = val_df.drop(columns=['ID'])\n",
        "#display(val_df.head())\n",
        "\n",
        "test_df = pd.read_csv(f'{directory}/data/test.csv') # test\n",
        "#display(test_df.head())"
      ],
      "id": "cvIc1wrMKu3P"
    },
    {
      "cell_type": "markdown",
      "metadata": {
        "id": "58b756b1-798b-4136-89b3-ab0cd0a478ca"
      },
      "source": [
        "## Validation set 사기 거래 비율\n",
        "#### (*) Validation set의 사기 거래 비율이 다른 데이터집합에서도 비슷하게 발생할 것이라고 가정"
      ],
      "id": "58b756b1-798b-4136-89b3-ab0cd0a478ca"
    },
    {
      "cell_type": "code",
      "execution_count": null,
      "metadata": {
        "id": "b87799db-e356-446c-929f-3800c5e04888",
        "colab": {
          "base_uri": "https://localhost:8080/"
        },
        "outputId": "7c42e2a0-48fa-4b62-fdac-960931341b87"
      },
      "outputs": [
        {
          "output_type": "stream",
          "name": "stdout",
          "text": [
            "Validation contamination : [0.0010551491277433877]\n"
          ]
        }
      ],
      "source": [
        "val_normal, val_fraud = val_df['Class'].value_counts()\n",
        "val_contamination = val_fraud / val_normal\n",
        "print(f'Validation contamination : [{val_contamination}]')"
      ],
      "id": "b87799db-e356-446c-929f-3800c5e04888"
    },
    {
      "cell_type": "markdown",
      "metadata": {
        "id": "6d24ae39-6313-4aaa-aacc-088858d13319"
      },
      "source": [
        "## Model Define & Fit"
      ],
      "id": "6d24ae39-6313-4aaa-aacc-088858d13319"
    },
    {
      "cell_type": "code",
      "execution_count": null,
      "metadata": {
        "id": "fa12d84c-b285-4cdd-86ad-090c85e33cfe"
      },
      "outputs": [],
      "source": [
        "# Train dataset은 Label이 존재하지 않음\n",
        "train_x = train_df.drop(columns=['ID']) # Input Data"
      ],
      "id": "fa12d84c-b285-4cdd-86ad-090c85e33cfe"
    },
    {
      "cell_type": "code",
      "execution_count": null,
      "metadata": {
        "id": "3ba756c8-b011-4b85-ac96-a482f1bfd74b",
        "colab": {
          "base_uri": "https://localhost:8080/"
        },
        "outputId": "704c1af1-5363-404c-c6b1-ed04c7fa5f10"
      },
      "outputs": [
        {
          "output_type": "execute_result",
          "data": {
            "text/plain": [
              "EllipticEnvelope(contamination=0.005, random_state=42, support_fraction=0.994)"
            ]
          },
          "metadata": {},
          "execution_count": 35
        }
      ],
      "source": [
        "# 가설 설정 : Train dataset도 Validation dataset과 동일한 비율로 사기거래가 발생 했을 것이다. -> model parameter : contamination=val_contamination(=0.001055) 적용\n",
        "val_contamination = 0.00\n",
        "model = EllipticEnvelope(support_fraction = 0.994, contamination = val_contamination, random_state = 42)\n",
        "model.fit(train_x)"
      ],
      "id": "3ba756c8-b011-4b85-ac96-a482f1bfd74b"
    },
    {
      "cell_type": "code",
      "source": [
        "len(val_df[val_df['Class'] == 1])"
      ],
      "metadata": {
        "colab": {
          "base_uri": "https://localhost:8080/"
        },
        "id": "kkrEWOnW-YEk",
        "outputId": "61a2ef58-f5f7-453f-b24f-66d3dcee4252"
      },
      "id": "kkrEWOnW-YEk",
      "execution_count": null,
      "outputs": [
        {
          "output_type": "execute_result",
          "data": {
            "text/plain": [
              "30"
            ]
          },
          "metadata": {},
          "execution_count": 31
        }
      ]
    },
    {
      "cell_type": "markdown",
      "source": [
        "k가 318인이유 : \n",
        "EllipticEnvelope의 predict 기능을 사용하여 제출할 경우 318개 보다 적은 개수를 사기로 잡아내는데 이 경우 퍼블릭 리더보드상의 점수가 낮더군요. 그래서 개수를 늘리다보니 315~318개에서 퍼블릭 리더보드 상 높은 점수를 얻었습니다 "
      ],
      "metadata": {
        "id": "7QkNIQjA95iY"
      },
      "id": "7QkNIQjA95iY"
    },
    {
      "cell_type": "markdown",
      "source": [
        "# 0.005로 오염비율을 높여보았으나 k를 318ㄹ"
      ],
      "metadata": {
        "id": "Lrrw2DcwBjDo"
      },
      "id": "Lrrw2DcwBjDo"
    },
    {
      "cell_type": "code",
      "source": [
        "def get_pred_label(model, x, k):\n",
        "  prob = model.score_samples(x) # 각 샘플의 로그 우도를 계산합니다.\n",
        "  prob = torch.tensor(prob, dtype = torch.float) # 텐서로 변환 => n차원 배열 == 벡터\n",
        "  topk_indices = torch.topk(prob, k = k, largest = False).indices # 결과값중 가장 큰값 k개만 이상치로 추출\n",
        "  pred = torch.zeros(len(x), dtype = torch.long)\n",
        "  pred[topk_indices] = 1\n",
        "  return pred.tolist(), prob.tolist()\n",
        "\n",
        "val_x = val_df.drop(columns=['ID', 'Class']) # Input Data\n",
        "val_y = val_df['Class'] # Label\n",
        "\n",
        "val_pred, val_prob = get_pred_label(model, val_x, 30) # vaild 데이터셋은 이상치가 30개임, 원본코드는 29로함\n",
        "val_score = f1_score(val_y, val_pred, average='macro')\n",
        "print(f'Validation F1 Score : [{val_score}]')\n",
        "print(classification_report(val_y, val_pred))\n",
        "tn, fp, fn, tp = confusion_matrix(val_y, val_pred).ravel()\n",
        "print('tp : ', tp, ', fp : ', fp, ', tn : ', tn, ', fn : ', fn)"
      ],
      "metadata": {
        "colab": {
          "base_uri": "https://localhost:8080/"
        },
        "id": "xsLrrKTMqlZk",
        "outputId": "f95a2cd0-3bc0-4a2a-e330-89cd4a19629b"
      },
      "id": "xsLrrKTMqlZk",
      "execution_count": null,
      "outputs": [
        {
          "output_type": "stream",
          "name": "stdout",
          "text": [
            "Validation F1 Score : [0.9165787375726882]\n",
            "              precision    recall  f1-score   support\n",
            "\n",
            "           0       1.00      1.00      1.00     28432\n",
            "           1       0.83      0.83      0.83        30\n",
            "\n",
            "    accuracy                           1.00     28462\n",
            "   macro avg       0.92      0.92      0.92     28462\n",
            "weighted avg       1.00      1.00      1.00     28462\n",
            "\n",
            "tp :  25 , fp :  5 , tn :  28427 , fn :  5\n"
          ]
        }
      ]
    },
    {
      "cell_type": "markdown",
      "metadata": {
        "id": "d579d05d-71b1-4bae-a6d4-ab58f894262e"
      },
      "source": [
        "## Inference : Test set"
      ],
      "id": "d579d05d-71b1-4bae-a6d4-ab58f894262e"
    },
    {
      "cell_type": "code",
      "execution_count": null,
      "metadata": {
        "id": "1b8e6fa7-9780-4f66-8493-f1c55c0f5991"
      },
      "outputs": [],
      "source": [
        "# test_df = pd.read_csv('./test.csv') # Train\n",
        "# test_df.head()"
      ],
      "id": "1b8e6fa7-9780-4f66-8493-f1c55c0f5991"
    },
    {
      "cell_type": "code",
      "execution_count": null,
      "metadata": {
        "id": "c7a3abf6-9fc6-4ba0-b28c-088687b29ba3"
      },
      "outputs": [],
      "source": [
        "test_x = test_df.drop(columns=['ID'])"
      ],
      "id": "c7a3abf6-9fc6-4ba0-b28c-088687b29ba3"
    },
    {
      "cell_type": "code",
      "execution_count": null,
      "metadata": {
        "colab": {
          "base_uri": "https://localhost:8080/"
        },
        "id": "DExRCfO1_8v_",
        "outputId": "70942051-05fa-456d-a73b-000689279892"
      },
      "outputs": [
        {
          "output_type": "stream",
          "name": "stdout",
          "text": [
            "n_fraud :  318\n"
          ]
        }
      ],
      "source": [
        "test_pred, _ = get_pred_label(model, test_x, 318)\n",
        "print('n_fraud : ', sum(test_pred))"
      ],
      "id": "DExRCfO1_8v_"
    },
    {
      "cell_type": "markdown",
      "metadata": {
        "id": "62892923-4157-48ba-9223-adcf567816c3"
      },
      "source": [
        "## Submission"
      ],
      "id": "62892923-4157-48ba-9223-adcf567816c3"
    },
    {
      "cell_type": "code",
      "execution_count": null,
      "metadata": {
        "colab": {
          "base_uri": "https://localhost:8080/",
          "height": 206
        },
        "id": "c0f3c393-f839-44d4-93b1-e536a8973110",
        "outputId": "0d8eef85-65d1-42db-a44d-58c495b6a25a"
      },
      "outputs": [
        {
          "output_type": "execute_result",
          "data": {
            "text/plain": [
              "        ID  Class\n",
              "0  AAAA0x1      1\n",
              "1  AAAA0x2      1\n",
              "2  AAAA0x5      1\n",
              "3  AAAA0x7      1\n",
              "4  AAAA0xc      1"
            ],
            "text/html": [
              "\n",
              "  <div id=\"df-def1403a-07d5-468d-ae26-8494147a9f1f\">\n",
              "    <div class=\"colab-df-container\">\n",
              "      <div>\n",
              "<style scoped>\n",
              "    .dataframe tbody tr th:only-of-type {\n",
              "        vertical-align: middle;\n",
              "    }\n",
              "\n",
              "    .dataframe tbody tr th {\n",
              "        vertical-align: top;\n",
              "    }\n",
              "\n",
              "    .dataframe thead th {\n",
              "        text-align: right;\n",
              "    }\n",
              "</style>\n",
              "<table border=\"1\" class=\"dataframe\">\n",
              "  <thead>\n",
              "    <tr style=\"text-align: right;\">\n",
              "      <th></th>\n",
              "      <th>ID</th>\n",
              "      <th>Class</th>\n",
              "    </tr>\n",
              "  </thead>\n",
              "  <tbody>\n",
              "    <tr>\n",
              "      <th>0</th>\n",
              "      <td>AAAA0x1</td>\n",
              "      <td>1</td>\n",
              "    </tr>\n",
              "    <tr>\n",
              "      <th>1</th>\n",
              "      <td>AAAA0x2</td>\n",
              "      <td>1</td>\n",
              "    </tr>\n",
              "    <tr>\n",
              "      <th>2</th>\n",
              "      <td>AAAA0x5</td>\n",
              "      <td>1</td>\n",
              "    </tr>\n",
              "    <tr>\n",
              "      <th>3</th>\n",
              "      <td>AAAA0x7</td>\n",
              "      <td>1</td>\n",
              "    </tr>\n",
              "    <tr>\n",
              "      <th>4</th>\n",
              "      <td>AAAA0xc</td>\n",
              "      <td>1</td>\n",
              "    </tr>\n",
              "  </tbody>\n",
              "</table>\n",
              "</div>\n",
              "      <button class=\"colab-df-convert\" onclick=\"convertToInteractive('df-def1403a-07d5-468d-ae26-8494147a9f1f')\"\n",
              "              title=\"Convert this dataframe to an interactive table.\"\n",
              "              style=\"display:none;\">\n",
              "        \n",
              "  <svg xmlns=\"http://www.w3.org/2000/svg\" height=\"24px\"viewBox=\"0 0 24 24\"\n",
              "       width=\"24px\">\n",
              "    <path d=\"M0 0h24v24H0V0z\" fill=\"none\"/>\n",
              "    <path d=\"M18.56 5.44l.94 2.06.94-2.06 2.06-.94-2.06-.94-.94-2.06-.94 2.06-2.06.94zm-11 1L8.5 8.5l.94-2.06 2.06-.94-2.06-.94L8.5 2.5l-.94 2.06-2.06.94zm10 10l.94 2.06.94-2.06 2.06-.94-2.06-.94-.94-2.06-.94 2.06-2.06.94z\"/><path d=\"M17.41 7.96l-1.37-1.37c-.4-.4-.92-.59-1.43-.59-.52 0-1.04.2-1.43.59L10.3 9.45l-7.72 7.72c-.78.78-.78 2.05 0 2.83L4 21.41c.39.39.9.59 1.41.59.51 0 1.02-.2 1.41-.59l7.78-7.78 2.81-2.81c.8-.78.8-2.07 0-2.86zM5.41 20L4 18.59l7.72-7.72 1.47 1.35L5.41 20z\"/>\n",
              "  </svg>\n",
              "      </button>\n",
              "      \n",
              "  <style>\n",
              "    .colab-df-container {\n",
              "      display:flex;\n",
              "      flex-wrap:wrap;\n",
              "      gap: 12px;\n",
              "    }\n",
              "\n",
              "    .colab-df-convert {\n",
              "      background-color: #E8F0FE;\n",
              "      border: none;\n",
              "      border-radius: 50%;\n",
              "      cursor: pointer;\n",
              "      display: none;\n",
              "      fill: #1967D2;\n",
              "      height: 32px;\n",
              "      padding: 0 0 0 0;\n",
              "      width: 32px;\n",
              "    }\n",
              "\n",
              "    .colab-df-convert:hover {\n",
              "      background-color: #E2EBFA;\n",
              "      box-shadow: 0px 1px 2px rgba(60, 64, 67, 0.3), 0px 1px 3px 1px rgba(60, 64, 67, 0.15);\n",
              "      fill: #174EA6;\n",
              "    }\n",
              "\n",
              "    [theme=dark] .colab-df-convert {\n",
              "      background-color: #3B4455;\n",
              "      fill: #D2E3FC;\n",
              "    }\n",
              "\n",
              "    [theme=dark] .colab-df-convert:hover {\n",
              "      background-color: #434B5C;\n",
              "      box-shadow: 0px 1px 3px 1px rgba(0, 0, 0, 0.15);\n",
              "      filter: drop-shadow(0px 1px 2px rgba(0, 0, 0, 0.3));\n",
              "      fill: #FFFFFF;\n",
              "    }\n",
              "  </style>\n",
              "\n",
              "      <script>\n",
              "        const buttonEl =\n",
              "          document.querySelector('#df-def1403a-07d5-468d-ae26-8494147a9f1f button.colab-df-convert');\n",
              "        buttonEl.style.display =\n",
              "          google.colab.kernel.accessAllowed ? 'block' : 'none';\n",
              "\n",
              "        async function convertToInteractive(key) {\n",
              "          const element = document.querySelector('#df-def1403a-07d5-468d-ae26-8494147a9f1f');\n",
              "          const dataTable =\n",
              "            await google.colab.kernel.invokeFunction('convertToInteractive',\n",
              "                                                     [key], {});\n",
              "          if (!dataTable) return;\n",
              "\n",
              "          const docLinkHtml = 'Like what you see? Visit the ' +\n",
              "            '<a target=\"_blank\" href=https://colab.research.google.com/notebooks/data_table.ipynb>data table notebook</a>'\n",
              "            + ' to learn more about interactive tables.';\n",
              "          element.innerHTML = '';\n",
              "          dataTable['output_type'] = 'display_data';\n",
              "          await google.colab.output.renderOutput(dataTable, element);\n",
              "          const docLink = document.createElement('div');\n",
              "          docLink.innerHTML = docLinkHtml;\n",
              "          element.appendChild(docLink);\n",
              "        }\n",
              "      </script>\n",
              "    </div>\n",
              "  </div>\n",
              "  "
            ]
          },
          "metadata": {},
          "execution_count": 27
        }
      ],
      "source": [
        "submit = pd.read_csv(f'{directory}/data/sample_submission.csv')\n",
        "submit.head()"
      ],
      "id": "c0f3c393-f839-44d4-93b1-e536a8973110"
    },
    {
      "cell_type": "code",
      "execution_count": null,
      "metadata": {
        "id": "f4846fb1-9558-4560-bae3-cbda4973ed04"
      },
      "outputs": [],
      "source": [
        "submit['Class'] = test_pred\n",
        "submit.to_csv(f'{directory}/submit/EllipticEnvelope_{val_contamination}_by_sh.csv', index=False)"
      ],
      "id": "f4846fb1-9558-4560-bae3-cbda4973ed04"
    },
    {
      "cell_type": "code",
      "execution_count": null,
      "metadata": {
        "colab": {
          "base_uri": "https://localhost:8080/"
        },
        "id": "dpSncZyWajaQ",
        "outputId": "d026309a-9440-4c55-dab5-a9ff9ee87635"
      },
      "outputs": [
        {
          "output_type": "execute_result",
          "data": {
            "text/plain": [
              "318"
            ]
          },
          "metadata": {},
          "execution_count": 14
        }
      ],
      "source": [
        "pd.read_csv('/content/submit_EllipticEnvelope.csv')['Class'].sum()"
      ],
      "id": "dpSncZyWajaQ"
    }
  ],
  "metadata": {
    "colab": {
      "collapsed_sections": [
        "58b756b1-798b-4136-89b3-ab0cd0a478ca"
      ],
      "machine_shape": "hm",
      "name": "[baseline2]신용카드_사기_거래_탐지_AI_경진대회[Public_score_0_93052].ipynb",
      "provenance": [],
      "include_colab_link": true
    },
    "gpuClass": "standard",
    "kernelspec": {
      "display_name": "Python 3",
      "name": "python3"
    },
    "language_info": {
      "name": "python"
    }
  },
  "nbformat": 4,
  "nbformat_minor": 5
}