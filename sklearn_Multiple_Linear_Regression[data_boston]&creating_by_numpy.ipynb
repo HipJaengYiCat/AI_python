{
  "nbformat": 4,
  "nbformat_minor": 0,
  "metadata": {
    "colab": {
      "name": "sklearn : Multiple Linear Regression[data:boston]&creating by numpy",
      "provenance": [],
      "collapsed_sections": [
        "lHbezhYSlz0t",
        "hEziMAz7mHd1"
      ],
      "authorship_tag": "ABX9TyO/oqMH85k+ppwlQZ+D8Z/7",
      "include_colab_link": true
    },
    "kernelspec": {
      "name": "python3",
      "display_name": "Python 3"
    }
  },
  "cells": [
    {
      "cell_type": "markdown",
      "metadata": {
        "id": "view-in-github",
        "colab_type": "text"
      },
      "source": [
        "<a href=\"https://colab.research.google.com/github/seunghee0518/python_colab/blob/main/sklearn_Multiple_Linear_Regression%5Bdata_boston%5D%26creating_by_numpy.ipynb\" target=\"_parent\"><img src=\"https://colab.research.google.com/assets/colab-badge.svg\" alt=\"Open In Colab\"/></a>"
      ]
    },
    {
      "cell_type": "markdown",
      "metadata": {
        "id": "Ab3Tk5U8F3OE"
      },
      "source": [
        "#MLR by numpy"
      ]
    },
    {
      "cell_type": "code",
      "metadata": {
        "id": "qcZkNukvF8MU"
      },
      "source": [
        "#data\n",
        "import numpy as np\n",
        "x1 = np.array(([2,4,6,8,10]))\n",
        "x2 = np.array(([0,4,2,3,4]))\n",
        "y = np.array(([81,93,91,97,100]))"
      ],
      "execution_count": 16,
      "outputs": []
    },
    {
      "cell_type": "code",
      "metadata": {
        "id": "8FBfHSM4GKCv"
      },
      "source": [
        "#creat MLR model[epochs = 2000]\n",
        "a1 = 0\n",
        "a2 = 0\n",
        "b = 0\n",
        "lr = 0.01\n",
        "epochs = 2001\n",
        "for i in range(0, epochs) : \n",
        "  y_pred = ((a1 * x1) + (a2 * x2)) + b\n",
        "  error = y - y_pred\n",
        "  a1_diff = (-(1/(len(x1))))* (sum((x1*error)))\n",
        "  a2_diff = (-(1/(len(x2)))) * (sum((x2*error)))\n",
        "  b_diff = (-(1/(len(x1)))) * (sum((y - y_pred)))\n",
        "  a1 = a1 - (lr * a1_diff)\n",
        "  a2 = a2 - (lr * a2_diff)\n",
        "  b = b - (lr*b_diff)"
      ],
      "execution_count": 17,
      "outputs": []
    },
    {
      "cell_type": "code",
      "metadata": {
        "colab": {
          "base_uri": "https://localhost:8080/"
        },
        "id": "FtlvTEq3IOpA",
        "outputId": "0e5b0b21-321c-4dce-a0e3-7bdbe0daed9e"
      },
      "source": [
        "#prediction\n",
        "print('x1 = 2 & x2 = 2, y_pred ? : ', str(((a1*2)+(a2*2)+b)))\n",
        "\n",
        "#coefficient\n",
        "print('a1:', str(a1))\n",
        "print('a2:', str(a2))\n",
        "print('b:', str(b))"
      ],
      "execution_count": 18,
      "outputs": [
        {
          "output_type": "stream",
          "text": [
            "x1 = 2 & x2 = 2, y_pred ? :  84.27225286661961\n",
            "a1: 1.5575075035724975\n",
            "a2: 2.4641717060092954\n",
            "b: 76.22889444745603\n"
          ],
          "name": "stdout"
        }
      ]
    },
    {
      "cell_type": "code",
      "metadata": {
        "id": "4Yq68v2zIwfJ"
      },
      "source": [
        "#epochs = 5001\n",
        "a1_ver2 = 0\n",
        "a2_ver2 = 0\n",
        "b_ver2 = 0\n",
        "epochs2 = 5001\n",
        "for i in range(0, epochs2) :\n",
        "  y_pred2 = ((a1_ver2*x1) + (a2_ver2*x2)) + b_ver2\n",
        "  error2 = y - y_pred2\n",
        "  a1_diff2 = (-(1/(len(x1)))) * (sum((x1*error2)))\n",
        "  a2_diff2 = (-(1/(len(x2)))) * (sum((x2*error2)))\n",
        "  b_diff2 = (-(1/(len(x1)))) * (sum((y - y_pred2)))\n",
        "  a1_ver2 = a1_ver2 - (lr * a1_diff2)\n",
        "  a2_ver2 = a2_ver2 - (lr * a2_diff2)\n",
        "  b_ver2 = b_ver2 - (lr * b_diff2) "
      ],
      "execution_count": 19,
      "outputs": []
    },
    {
      "cell_type": "code",
      "metadata": {
        "colab": {
          "base_uri": "https://localhost:8080/"
        },
        "id": "8VNaxn-bKIb7",
        "outputId": "5499f50e-4938-4578-e650-9657a14bc76c"
      },
      "source": [
        "#prediction\n",
        "print('epochs = 5001')\n",
        "print('x2 = 2 & x2 = 2, y_pred ? :', str(((a1_ver2 * 2) + (a2_ver2 * 2) + b_ver2)))\n",
        "print('a1 : ', str(a1_ver2))\n",
        "print('a2 : ', str(a2_ver2))\n",
        "print('b : ', str(b_ver2))"
      ],
      "execution_count": 20,
      "outputs": [
        {
          "output_type": "stream",
          "text": [
            "epochs = 5001\n",
            "x2 = 2 & x2 = 2, y_pred ? : 85.81984473450294\n",
            "a1 :  1.3014439133847755\n",
            "a2 :  2.2867149441630388\n",
            "b :  78.6435270194073\n"
          ],
          "name": "stdout"
        }
      ]
    },
    {
      "cell_type": "markdown",
      "metadata": {
        "id": "lHbezhYSlz0t"
      },
      "source": [
        "# simple data"
      ]
    },
    {
      "cell_type": "code",
      "metadata": {
        "id": "fDkJHxWnltmP"
      },
      "source": [
        "#패키지 가져오기\n",
        "#회귀분석을 할 수 있게 도와주는 모듈\n",
        "from sklearn import linear_model\n",
        "#numpy : 행렬, 벡터 등 수학 계산을 위한 자료구조와 계산 함수\n",
        "import numpy as np\n",
        "#pandas : csv파일, 데이터베이스에서 데이터를 읽고 쓰기, 데이터를 테이블형태로 조작\n",
        "import pandas as pd\n",
        "#matplotlib : 시각화 패키지(막대그래프, 히스토그램, 파이차트, 산점도 등)\n",
        "import matplotlib\n",
        "#matplotlib의 서브 패키지인 pyplot\n",
        "import matplotlib.pyplot as plt\n",
        "#ipython notebook에 그림을 추력할 수 있게하는 코드\n",
        "%matplotlib inline\n",
        "#matplotlib에서 제공하는 스타일중 하나인 'ggplot'를 사용하겠다는 코드\n",
        "matplotlib.style.use('ggplot')"
      ],
      "execution_count": 21,
      "outputs": []
    },
    {
      "cell_type": "code",
      "metadata": {
        "colab": {
          "base_uri": "https://localhost:8080/",
          "height": 235
        },
        "id": "W_7R1qZslvHO",
        "outputId": "de6484a7-14a2-47e9-a1cf-a55fa7471f48"
      },
      "source": [
        "# 데이터 만들기\n",
        "data = {'x1':[13, 18, 17, 20, 22, 21],\n",
        "        'x2':[9, 7, 17, 11, 8, 10],\n",
        "        'y':[20, 22, 30, 27, 35, 32]}\n",
        "\n",
        "#data변수 에 저장된 데이터를 2차원의 수정가능한 테이블형태로 변경\n",
        "data= pd.DataFrame(data)\n",
        "\n",
        "#독립변수들과 종속변수를 따로 변수에 저장함\n",
        "X = data[['x1', 'x2']]\n",
        "Y = data['y']         \n",
        "data"
      ],
      "execution_count": 22,
      "outputs": [
        {
          "output_type": "execute_result",
          "data": {
            "text/html": [
              "<div>\n",
              "<style scoped>\n",
              "    .dataframe tbody tr th:only-of-type {\n",
              "        vertical-align: middle;\n",
              "    }\n",
              "\n",
              "    .dataframe tbody tr th {\n",
              "        vertical-align: top;\n",
              "    }\n",
              "\n",
              "    .dataframe thead th {\n",
              "        text-align: right;\n",
              "    }\n",
              "</style>\n",
              "<table border=\"1\" class=\"dataframe\">\n",
              "  <thead>\n",
              "    <tr style=\"text-align: right;\">\n",
              "      <th></th>\n",
              "      <th>x1</th>\n",
              "      <th>x2</th>\n",
              "      <th>y</th>\n",
              "    </tr>\n",
              "  </thead>\n",
              "  <tbody>\n",
              "    <tr>\n",
              "      <th>0</th>\n",
              "      <td>13</td>\n",
              "      <td>9</td>\n",
              "      <td>20</td>\n",
              "    </tr>\n",
              "    <tr>\n",
              "      <th>1</th>\n",
              "      <td>18</td>\n",
              "      <td>7</td>\n",
              "      <td>22</td>\n",
              "    </tr>\n",
              "    <tr>\n",
              "      <th>2</th>\n",
              "      <td>17</td>\n",
              "      <td>17</td>\n",
              "      <td>30</td>\n",
              "    </tr>\n",
              "    <tr>\n",
              "      <th>3</th>\n",
              "      <td>20</td>\n",
              "      <td>11</td>\n",
              "      <td>27</td>\n",
              "    </tr>\n",
              "    <tr>\n",
              "      <th>4</th>\n",
              "      <td>22</td>\n",
              "      <td>8</td>\n",
              "      <td>35</td>\n",
              "    </tr>\n",
              "    <tr>\n",
              "      <th>5</th>\n",
              "      <td>21</td>\n",
              "      <td>10</td>\n",
              "      <td>32</td>\n",
              "    </tr>\n",
              "  </tbody>\n",
              "</table>\n",
              "</div>"
            ],
            "text/plain": [
              "   x1  x2   y\n",
              "0  13   9  20\n",
              "1  18   7  22\n",
              "2  17  17  30\n",
              "3  20  11  27\n",
              "4  22   8  35\n",
              "5  21  10  32"
            ]
          },
          "metadata": {
            "tags": []
          },
          "execution_count": 22
        }
      ]
    },
    {
      "cell_type": "code",
      "metadata": {
        "colab": {
          "base_uri": "https://localhost:8080/"
        },
        "id": "8vwXP8v3l-wA",
        "outputId": "f839094c-b703-482c-83e7-25a5e969824c"
      },
      "source": [
        "#데이터 학습시키기\n",
        "#선형회귀모델을 만들어 해당 변수에 저장\n",
        "linear_regression = linear_model.LinearRegression()\n",
        "#fit 함수를 통해 모델을 학습함\n",
        "linear_regression.fit(X=pd.DataFrame(X),y=Y)\n",
        "#학습한 선형회귀모델에 x값을 입력해 y값을 구함, y값이 predicion변수에 저장됨\n",
        "prediction = linear_regression.predict(X=pd.DataFrame(X))\n",
        "\n",
        "#선형회귀모델의 a, b 계수를 출력함\n",
        "#종속변수 y의 값 : yi = a(회귀계수) + b1(회귀계수)x1i + b2x2i +ei(오차항)◆\n",
        "print('a value = ', linear_regression.intercept_)\n",
        "print('b value = ', linear_regression.coef_)\n",
        "print('독립변수의 계수b가 n개만큼 나온 것을 알 수 있음')"
      ],
      "execution_count": 23,
      "outputs": [
        {
          "output_type": "stream",
          "text": [
            "a value =  -7.359201773835938\n",
            "b value =  [1.5443459  0.62472284]\n",
            "독립변수의 계수b가 n개만큼 나온 것을 알 수 있음\n"
          ],
          "name": "stdout"
        }
      ]
    },
    {
      "cell_type": "code",
      "metadata": {
        "colab": {
          "base_uri": "https://localhost:8080/"
        },
        "id": "WTtA0XzdmAAg",
        "outputId": "34a8b61a-532a-4387-f4a9-fee2ba50658a"
      },
      "source": [
        "#적합도 검증 : 방법1) 표준오차 구하기\n",
        "#residuals = 잔차 : 결과의 오류 : 잔차들의 표준편차\n",
        "residuals = Y - prediction\n",
        "residuals.describe()\n",
        "# 전체개수, 평균, 표준편차, 최대값, 최솟값, 백분위수(25%, 50%, 75%)"
      ],
      "execution_count": 24,
      "outputs": [
        {
          "output_type": "execute_result",
          "data": {
            "text/plain": [
              "count    6.000000e+00\n",
              "mean     2.368476e-15\n",
              "std      2.622371e+00\n",
              "min     -3.399667e+00\n",
              "25%     -1.987805e+00\n",
              "50%      5.828714e-01\n",
              "75%      1.415327e+00\n",
              "max      3.385809e+00\n",
              "Name: y, dtype: float64"
            ]
          },
          "metadata": {
            "tags": []
          },
          "execution_count": 24
        }
      ]
    },
    {
      "cell_type": "code",
      "metadata": {
        "colab": {
          "base_uri": "https://localhost:8080/"
        },
        "id": "ojKV063kmBEU",
        "outputId": "dd3d9dff-42af-441f-81c6-ec45331a2d1e"
      },
      "source": [
        "#적합도 검증 : 방법2) 결정계수 구하기\n",
        "#결론: x값이 y값에 79%영향을 준다\n",
        "SSE = (residuals**2).sum()\n",
        "SST = ((Y-Y.mean())**2).sum()\n",
        "R_squared = 1-(SSE/SST)\n",
        "print('R_squared = ', R_squared)"
      ],
      "execution_count": 25,
      "outputs": [
        {
          "output_type": "stream",
          "text": [
            "R_squared =  0.796944017668523\n"
          ],
          "name": "stdout"
        }
      ]
    },
    {
      "cell_type": "code",
      "metadata": {
        "colab": {
          "base_uri": "https://localhost:8080/"
        },
        "id": "wdG4SUHxmEfl",
        "outputId": "3b786f29-b3f3-4a43-874b-c94fb7c3ce38"
      },
      "source": [
        "# 해당 회귀분선모델의 성능평가하기\n",
        "#MSE를 구하기 위한 모듈을 가져옴\n",
        "from sklearn.metrics import mean_squared_error\n",
        "#score에 예측한 결과값과 정확한 결과값을 비교해서 성능을 평가한 값을 넣음\n",
        "print('score = ', linear_regression.score(X=pd.DataFrame(X), y=Y))\n",
        "#평균제곱오차값(MSE)을 구함\n",
        "print('Mean_Squared_Error = ', mean_squared_error(prediction, Y))\n",
        "#RMSE값을 구함\n",
        "print('RMSE = ', mean_squared_error(prediction, Y)**0.5)\n",
        "print('결론 : 결정계수값과 score값이 같다는 것을 알수 있고, RMSE결과를 통해 오차도 작다는 것을 알수 있다.')"
      ],
      "execution_count": 26,
      "outputs": [
        {
          "output_type": "stream",
          "text": [
            "score =  0.796944017668523\n",
            "Mean_Squared_Error =  5.730691056910575\n",
            "RMSE =  2.3938861829482567\n",
            "결론 : 결정계수값과 score값이 같다는 것을 알수 있고, RMSE결과를 통해 오차도 작다는 것을 알수 있다.\n"
          ],
          "name": "stdout"
        }
      ]
    },
    {
      "cell_type": "markdown",
      "metadata": {
        "id": "hEziMAz7mHd1"
      },
      "source": [
        "#boston house"
      ]
    },
    {
      "cell_type": "code",
      "metadata": {
        "colab": {
          "base_uri": "https://localhost:8080/"
        },
        "id": "XKu1x3lvmFsi",
        "outputId": "49d5ed73-80d4-41a3-97ac-0959596e7e8d"
      },
      "source": [
        "#데이터 불러오기\n",
        "from sklearn import datasets\n",
        "boston_house_prices = datasets.load_boston()\n",
        "\n",
        "#전체 데이터의 key값 출력\n",
        "print('key값 : ', boston_house_prices.keys)\n",
        "\n",
        "#전체 데이터 중 data에 대한 전체 행, 열의 길이 출력\n",
        "print('전체 행 ,열의 길이 : ', boston_house_prices.data.shape)\n",
        "\n",
        "#해당 데이터에 사용하는 컬럼 이름 출력\n",
        "print('컬럼 이름 : ', boston_house_prices.feature_names)"
      ],
      "execution_count": 27,
      "outputs": [
        {
          "output_type": "stream",
          "text": [
            "key값 :  <built-in method keys of Bunch object at 0x7f5acc4a8350>\n",
            "전체 행 ,열의 길이 :  (506, 13)\n",
            "컬럼 이름 :  ['CRIM' 'ZN' 'INDUS' 'CHAS' 'NOX' 'RM' 'AGE' 'DIS' 'RAD' 'TAX' 'PTRATIO'\n",
            " 'B' 'LSTAT']\n"
          ],
          "name": "stdout"
        }
      ]
    },
    {
      "cell_type": "code",
      "metadata": {
        "colab": {
          "base_uri": "https://localhost:8080/"
        },
        "id": "afFwHJj6mLlg",
        "outputId": "1e577dda-d4eb-4730-8819-150259e05953"
      },
      "source": [
        "# dataset정보 보기 : 각 컬럼들의 설명과, 길이를 확인할 수 있음\n",
        "print(boston_house_prices.DESCR)"
      ],
      "execution_count": 28,
      "outputs": [
        {
          "output_type": "stream",
          "text": [
            ".. _boston_dataset:\n",
            "\n",
            "Boston house prices dataset\n",
            "---------------------------\n",
            "\n",
            "**Data Set Characteristics:**  \n",
            "\n",
            "    :Number of Instances: 506 \n",
            "\n",
            "    :Number of Attributes: 13 numeric/categorical predictive. Median Value (attribute 14) is usually the target.\n",
            "\n",
            "    :Attribute Information (in order):\n",
            "        - CRIM     per capita crime rate by town\n",
            "        - ZN       proportion of residential land zoned for lots over 25,000 sq.ft.\n",
            "        - INDUS    proportion of non-retail business acres per town\n",
            "        - CHAS     Charles River dummy variable (= 1 if tract bounds river; 0 otherwise)\n",
            "        - NOX      nitric oxides concentration (parts per 10 million)\n",
            "        - RM       average number of rooms per dwelling\n",
            "        - AGE      proportion of owner-occupied units built prior to 1940\n",
            "        - DIS      weighted distances to five Boston employment centres\n",
            "        - RAD      index of accessibility to radial highways\n",
            "        - TAX      full-value property-tax rate per $10,000\n",
            "        - PTRATIO  pupil-teacher ratio by town\n",
            "        - B        1000(Bk - 0.63)^2 where Bk is the proportion of blacks by town\n",
            "        - LSTAT    % lower status of the population\n",
            "        - MEDV     Median value of owner-occupied homes in $1000's\n",
            "\n",
            "    :Missing Attribute Values: None\n",
            "\n",
            "    :Creator: Harrison, D. and Rubinfeld, D.L.\n",
            "\n",
            "This is a copy of UCI ML housing dataset.\n",
            "https://archive.ics.uci.edu/ml/machine-learning-databases/housing/\n",
            "\n",
            "\n",
            "This dataset was taken from the StatLib library which is maintained at Carnegie Mellon University.\n",
            "\n",
            "The Boston house-price data of Harrison, D. and Rubinfeld, D.L. 'Hedonic\n",
            "prices and the demand for clean air', J. Environ. Economics & Management,\n",
            "vol.5, 81-102, 1978.   Used in Belsley, Kuh & Welsch, 'Regression diagnostics\n",
            "...', Wiley, 1980.   N.B. Various transformations are used in the table on\n",
            "pages 244-261 of the latter.\n",
            "\n",
            "The Boston house-price data has been used in many machine learning papers that address regression\n",
            "problems.   \n",
            "     \n",
            ".. topic:: References\n",
            "\n",
            "   - Belsley, Kuh & Welsch, 'Regression diagnostics: Identifying Influential Data and Sources of Collinearity', Wiley, 1980. 244-261.\n",
            "   - Quinlan,R. (1993). Combining Instance-Based and Model-Based Learning. In Proceedings on the Tenth International Conference of Machine Learning, 236-243, University of Massachusetts, Amherst. Morgan Kaufmann.\n",
            "\n"
          ],
          "name": "stdout"
        }
      ]
    },
    {
      "cell_type": "code",
      "metadata": {
        "colab": {
          "base_uri": "https://localhost:8080/",
          "height": 204
        },
        "id": "2bBZnDpmmM8g",
        "outputId": "c502b2c0-5c72-4429-8219-019ec4fd9f44"
      },
      "source": [
        "#데이터 프레임 정제1 : 전체 데이터 중 data에 해당하는 값만 데이터프레임형으로 변경\n",
        "X = pd.DataFrame(boston_house_prices.data)\n",
        "X.tail()"
      ],
      "execution_count": 29,
      "outputs": [
        {
          "output_type": "execute_result",
          "data": {
            "text/html": [
              "<div>\n",
              "<style scoped>\n",
              "    .dataframe tbody tr th:only-of-type {\n",
              "        vertical-align: middle;\n",
              "    }\n",
              "\n",
              "    .dataframe tbody tr th {\n",
              "        vertical-align: top;\n",
              "    }\n",
              "\n",
              "    .dataframe thead th {\n",
              "        text-align: right;\n",
              "    }\n",
              "</style>\n",
              "<table border=\"1\" class=\"dataframe\">\n",
              "  <thead>\n",
              "    <tr style=\"text-align: right;\">\n",
              "      <th></th>\n",
              "      <th>0</th>\n",
              "      <th>1</th>\n",
              "      <th>2</th>\n",
              "      <th>3</th>\n",
              "      <th>4</th>\n",
              "      <th>5</th>\n",
              "      <th>6</th>\n",
              "      <th>7</th>\n",
              "      <th>8</th>\n",
              "      <th>9</th>\n",
              "      <th>10</th>\n",
              "      <th>11</th>\n",
              "      <th>12</th>\n",
              "    </tr>\n",
              "  </thead>\n",
              "  <tbody>\n",
              "    <tr>\n",
              "      <th>501</th>\n",
              "      <td>0.06263</td>\n",
              "      <td>0.0</td>\n",
              "      <td>11.93</td>\n",
              "      <td>0.0</td>\n",
              "      <td>0.573</td>\n",
              "      <td>6.593</td>\n",
              "      <td>69.1</td>\n",
              "      <td>2.4786</td>\n",
              "      <td>1.0</td>\n",
              "      <td>273.0</td>\n",
              "      <td>21.0</td>\n",
              "      <td>391.99</td>\n",
              "      <td>9.67</td>\n",
              "    </tr>\n",
              "    <tr>\n",
              "      <th>502</th>\n",
              "      <td>0.04527</td>\n",
              "      <td>0.0</td>\n",
              "      <td>11.93</td>\n",
              "      <td>0.0</td>\n",
              "      <td>0.573</td>\n",
              "      <td>6.120</td>\n",
              "      <td>76.7</td>\n",
              "      <td>2.2875</td>\n",
              "      <td>1.0</td>\n",
              "      <td>273.0</td>\n",
              "      <td>21.0</td>\n",
              "      <td>396.90</td>\n",
              "      <td>9.08</td>\n",
              "    </tr>\n",
              "    <tr>\n",
              "      <th>503</th>\n",
              "      <td>0.06076</td>\n",
              "      <td>0.0</td>\n",
              "      <td>11.93</td>\n",
              "      <td>0.0</td>\n",
              "      <td>0.573</td>\n",
              "      <td>6.976</td>\n",
              "      <td>91.0</td>\n",
              "      <td>2.1675</td>\n",
              "      <td>1.0</td>\n",
              "      <td>273.0</td>\n",
              "      <td>21.0</td>\n",
              "      <td>396.90</td>\n",
              "      <td>5.64</td>\n",
              "    </tr>\n",
              "    <tr>\n",
              "      <th>504</th>\n",
              "      <td>0.10959</td>\n",
              "      <td>0.0</td>\n",
              "      <td>11.93</td>\n",
              "      <td>0.0</td>\n",
              "      <td>0.573</td>\n",
              "      <td>6.794</td>\n",
              "      <td>89.3</td>\n",
              "      <td>2.3889</td>\n",
              "      <td>1.0</td>\n",
              "      <td>273.0</td>\n",
              "      <td>21.0</td>\n",
              "      <td>393.45</td>\n",
              "      <td>6.48</td>\n",
              "    </tr>\n",
              "    <tr>\n",
              "      <th>505</th>\n",
              "      <td>0.04741</td>\n",
              "      <td>0.0</td>\n",
              "      <td>11.93</td>\n",
              "      <td>0.0</td>\n",
              "      <td>0.573</td>\n",
              "      <td>6.030</td>\n",
              "      <td>80.8</td>\n",
              "      <td>2.5050</td>\n",
              "      <td>1.0</td>\n",
              "      <td>273.0</td>\n",
              "      <td>21.0</td>\n",
              "      <td>396.90</td>\n",
              "      <td>7.88</td>\n",
              "    </tr>\n",
              "  </tbody>\n",
              "</table>\n",
              "</div>"
            ],
            "text/plain": [
              "          0    1      2    3      4   ...   8      9     10      11    12\n",
              "501  0.06263  0.0  11.93  0.0  0.573  ...  1.0  273.0  21.0  391.99  9.67\n",
              "502  0.04527  0.0  11.93  0.0  0.573  ...  1.0  273.0  21.0  396.90  9.08\n",
              "503  0.06076  0.0  11.93  0.0  0.573  ...  1.0  273.0  21.0  396.90  5.64\n",
              "504  0.10959  0.0  11.93  0.0  0.573  ...  1.0  273.0  21.0  393.45  6.48\n",
              "505  0.04741  0.0  11.93  0.0  0.573  ...  1.0  273.0  21.0  396.90  7.88\n",
              "\n",
              "[5 rows x 13 columns]"
            ]
          },
          "metadata": {
            "tags": []
          },
          "execution_count": 29
        }
      ]
    },
    {
      "cell_type": "code",
      "metadata": {
        "colab": {
          "base_uri": "https://localhost:8080/",
          "height": 204
        },
        "id": "0lk-ro3dmPU_",
        "outputId": "e080029e-cef3-4a58-eeca-531174bb35c4"
      },
      "source": [
        "#데이터 프레임 정제2 : target데이터만 즉 종속변수만 데이터 프레임에 저장하기\n",
        "X['Price'] = boston_house_prices.target\n",
        "X.tail()"
      ],
      "execution_count": 30,
      "outputs": [
        {
          "output_type": "execute_result",
          "data": {
            "text/html": [
              "<div>\n",
              "<style scoped>\n",
              "    .dataframe tbody tr th:only-of-type {\n",
              "        vertical-align: middle;\n",
              "    }\n",
              "\n",
              "    .dataframe tbody tr th {\n",
              "        vertical-align: top;\n",
              "    }\n",
              "\n",
              "    .dataframe thead th {\n",
              "        text-align: right;\n",
              "    }\n",
              "</style>\n",
              "<table border=\"1\" class=\"dataframe\">\n",
              "  <thead>\n",
              "    <tr style=\"text-align: right;\">\n",
              "      <th></th>\n",
              "      <th>0</th>\n",
              "      <th>1</th>\n",
              "      <th>2</th>\n",
              "      <th>3</th>\n",
              "      <th>4</th>\n",
              "      <th>5</th>\n",
              "      <th>6</th>\n",
              "      <th>7</th>\n",
              "      <th>8</th>\n",
              "      <th>9</th>\n",
              "      <th>10</th>\n",
              "      <th>11</th>\n",
              "      <th>12</th>\n",
              "      <th>Price</th>\n",
              "    </tr>\n",
              "  </thead>\n",
              "  <tbody>\n",
              "    <tr>\n",
              "      <th>501</th>\n",
              "      <td>0.06263</td>\n",
              "      <td>0.0</td>\n",
              "      <td>11.93</td>\n",
              "      <td>0.0</td>\n",
              "      <td>0.573</td>\n",
              "      <td>6.593</td>\n",
              "      <td>69.1</td>\n",
              "      <td>2.4786</td>\n",
              "      <td>1.0</td>\n",
              "      <td>273.0</td>\n",
              "      <td>21.0</td>\n",
              "      <td>391.99</td>\n",
              "      <td>9.67</td>\n",
              "      <td>22.4</td>\n",
              "    </tr>\n",
              "    <tr>\n",
              "      <th>502</th>\n",
              "      <td>0.04527</td>\n",
              "      <td>0.0</td>\n",
              "      <td>11.93</td>\n",
              "      <td>0.0</td>\n",
              "      <td>0.573</td>\n",
              "      <td>6.120</td>\n",
              "      <td>76.7</td>\n",
              "      <td>2.2875</td>\n",
              "      <td>1.0</td>\n",
              "      <td>273.0</td>\n",
              "      <td>21.0</td>\n",
              "      <td>396.90</td>\n",
              "      <td>9.08</td>\n",
              "      <td>20.6</td>\n",
              "    </tr>\n",
              "    <tr>\n",
              "      <th>503</th>\n",
              "      <td>0.06076</td>\n",
              "      <td>0.0</td>\n",
              "      <td>11.93</td>\n",
              "      <td>0.0</td>\n",
              "      <td>0.573</td>\n",
              "      <td>6.976</td>\n",
              "      <td>91.0</td>\n",
              "      <td>2.1675</td>\n",
              "      <td>1.0</td>\n",
              "      <td>273.0</td>\n",
              "      <td>21.0</td>\n",
              "      <td>396.90</td>\n",
              "      <td>5.64</td>\n",
              "      <td>23.9</td>\n",
              "    </tr>\n",
              "    <tr>\n",
              "      <th>504</th>\n",
              "      <td>0.10959</td>\n",
              "      <td>0.0</td>\n",
              "      <td>11.93</td>\n",
              "      <td>0.0</td>\n",
              "      <td>0.573</td>\n",
              "      <td>6.794</td>\n",
              "      <td>89.3</td>\n",
              "      <td>2.3889</td>\n",
              "      <td>1.0</td>\n",
              "      <td>273.0</td>\n",
              "      <td>21.0</td>\n",
              "      <td>393.45</td>\n",
              "      <td>6.48</td>\n",
              "      <td>22.0</td>\n",
              "    </tr>\n",
              "    <tr>\n",
              "      <th>505</th>\n",
              "      <td>0.04741</td>\n",
              "      <td>0.0</td>\n",
              "      <td>11.93</td>\n",
              "      <td>0.0</td>\n",
              "      <td>0.573</td>\n",
              "      <td>6.030</td>\n",
              "      <td>80.8</td>\n",
              "      <td>2.5050</td>\n",
              "      <td>1.0</td>\n",
              "      <td>273.0</td>\n",
              "      <td>21.0</td>\n",
              "      <td>396.90</td>\n",
              "      <td>7.88</td>\n",
              "      <td>11.9</td>\n",
              "    </tr>\n",
              "  </tbody>\n",
              "</table>\n",
              "</div>"
            ],
            "text/plain": [
              "           0    1      2    3      4  ...      9    10      11    12  Price\n",
              "501  0.06263  0.0  11.93  0.0  0.573  ...  273.0  21.0  391.99  9.67   22.4\n",
              "502  0.04527  0.0  11.93  0.0  0.573  ...  273.0  21.0  396.90  9.08   20.6\n",
              "503  0.06076  0.0  11.93  0.0  0.573  ...  273.0  21.0  396.90  5.64   23.9\n",
              "504  0.10959  0.0  11.93  0.0  0.573  ...  273.0  21.0  393.45  6.48   22.0\n",
              "505  0.04741  0.0  11.93  0.0  0.573  ...  273.0  21.0  396.90  7.88   11.9\n",
              "\n",
              "[5 rows x 14 columns]"
            ]
          },
          "metadata": {
            "tags": []
          },
          "execution_count": 30
        }
      ]
    },
    {
      "cell_type": "code",
      "metadata": {
        "colab": {
          "base_uri": "https://localhost:8080/"
        },
        "id": "2-SShQ8SmQcY",
        "outputId": "673a7f6b-ad2e-4256-b45b-f04e32962d5b"
      },
      "source": [
        "# 데이터 학습 시키기\n",
        "linear_regression = linear_model.LinearRegression()\n",
        "linear_regression.fit(X=pd.DataFrame(X),y=X['Price'])\n",
        "prediction = linear_regression.predict(X=pd.DataFrame(X))\n",
        "print('a value = ', linear_regression.intercept_)\n",
        "print('b value = ', linear_regression.coef_)"
      ],
      "execution_count": 31,
      "outputs": [
        {
          "output_type": "stream",
          "text": [
            "a value =  1.4210854715202004e-13\n",
            "b value =  [-8.54790267e-17 -2.49800181e-16 -5.85252333e-16 -1.44037004e-14\n",
            " -5.88240665e-16  1.13667078e-15 -1.84314369e-16 -4.45715513e-16\n",
            " -2.58907479e-16 -1.04083409e-17  7.64633582e-17 -2.98372438e-16\n",
            " -4.51461785e-16  1.00000000e+00]\n"
          ],
          "name": "stdout"
        }
      ]
    },
    {
      "cell_type": "code",
      "metadata": {
        "colab": {
          "base_uri": "https://localhost:8080/"
        },
        "id": "QRt_hNaBmRq6",
        "outputId": "539f806b-8be7-4899-dfb1-cb6ce1895eaf"
      },
      "source": [
        "# 적합도 검증: 표본오차\n",
        "residuals = X['Price']- prediction\n",
        "residuals.describe()"
      ],
      "execution_count": 32,
      "outputs": [
        {
          "output_type": "execute_result",
          "data": {
            "text/plain": [
              "count    5.060000e+02\n",
              "mean    -1.929067e-15\n",
              "std      2.551610e-14\n",
              "min     -1.012523e-13\n",
              "25%     -7.105427e-15\n",
              "50%      3.552714e-15\n",
              "75%      1.065814e-14\n",
              "max      3.552714e-14\n",
              "Name: Price, dtype: float64"
            ]
          },
          "metadata": {
            "tags": []
          },
          "execution_count": 32
        }
      ]
    },
    {
      "cell_type": "code",
      "metadata": {
        "colab": {
          "base_uri": "https://localhost:8080/"
        },
        "id": "RXzVmGq7mS1E",
        "outputId": "ca640c09-0249-407e-f002-4ee8c5f44b81"
      },
      "source": [
        "# 적합도 : 결정계수\n",
        "SSE = (residuals**2).sum()\n",
        "SST = ((X['Price']-X['Price'].mean())**2).sum()\n",
        "R_squared = 1-(SSE/SST)\n",
        "print('R_squared = ', R_squared)\n",
        "print()\n",
        "print('x값이 y값에 100% 영향을 준다, 하지만 13개의 독립변수중 1개인 것을 감안하면 비교적 높은 수치임을 알 수 있다.')"
      ],
      "execution_count": 33,
      "outputs": [
        {
          "output_type": "stream",
          "text": [
            "R_squared =  1.0\n",
            "\n",
            "x값이 y값에 100% 영향을 준다, 하지만 13개의 독립변수중 1개인 것을 감안하면 비교적 높은 수치임을 알 수 있다.\n"
          ],
          "name": "stdout"
        }
      ]
    },
    {
      "cell_type": "code",
      "metadata": {
        "colab": {
          "base_uri": "https://localhost:8080/"
        },
        "id": "5grCZcTZmVEZ",
        "outputId": "902ded41-90db-4577-e1aa-d93a70d331a9"
      },
      "source": [
        "#해당 모델의 성능 평가\n",
        "from sklearn.metrics import mean_squared_error\n",
        "print('score = ', linear_regression.score(X=X, y=X['Price']))\n",
        "print('Mean_Squared_Error = ', mean_squared_error(prediction, X['Price']))\n",
        "print('RMSE = ', mean_squared_error(prediction, X['Price'])**0.5)\n",
        "print('RMEX = 0.0000012966001')\n",
        "print('결론: RMSE결과를 통해 오차가 작다는 것을 알수 있다.')"
      ],
      "execution_count": 34,
      "outputs": [
        {
          "output_type": "stream",
          "text": [
            "score =  1.0\n",
            "Mean_Squared_Error =  6.535057814024477e-28\n",
            "RMSE =  2.556375914067506e-14\n",
            "RMEX = 0.0000012966001\n",
            "결론: RMSE결과를 통해 오차가 작다는 것을 알수 있다.\n"
          ],
          "name": "stdout"
        }
      ]
    }
  ]
}