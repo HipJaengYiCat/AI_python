{
  "nbformat": 4,
  "nbformat_minor": 0,
  "metadata": {
    "colab": {
      "name": "sklearn : Single Linear regression[data : boston,weather]&creating SLR function",
      "provenance": [],
      "collapsed_sections": [
        "_YKW9e8QLiIF",
        "3xxLrJv1lJtg",
        "UVxiYeaUjbJ5"
      ],
      "authorship_tag": "ABX9TyMIkYoBVvQma4idYEyBPuub",
      "include_colab_link": true
    },
    "kernelspec": {
      "name": "python3",
      "display_name": "Python 3"
    }
  },
  "cells": [
    {
      "cell_type": "markdown",
      "metadata": {
        "id": "view-in-github",
        "colab_type": "text"
      },
      "source": [
        "<a href=\"https://colab.research.google.com/github/seunghee0518/python_colab/blob/main/sklearn_Single_Linear_regression%5Bdata_boston%2Cweather%5D%26creating_SLR_function.ipynb\" target=\"_parent\"><img src=\"https://colab.research.google.com/assets/colab-badge.svg\" alt=\"Open In Colab\"/></a>"
      ]
    },
    {
      "cell_type": "markdown",
      "metadata": {
        "id": "NmzowB-6TPN3"
      },
      "source": [
        "#single Linear Regression [by LSM(최소자승법)]"
      ]
    },
    {
      "cell_type": "code",
      "metadata": {
        "id": "3WkC5HcaTY-1"
      },
      "source": [
        "#data\n",
        "import numpy as np\n",
        "x = np.array([[2], [4], [6], [8]])\n",
        "y = np.array([[81], [93], [91], [97]])"
      ],
      "execution_count": 46,
      "outputs": []
    },
    {
      "cell_type": "code",
      "metadata": {
        "colab": {
          "base_uri": "https://localhost:8080/"
        },
        "id": "opWpBN4XTrFf",
        "outputId": "b1f3b14c-fb1c-467c-818b-9a8ca44fa527"
      },
      "source": [
        "#LSM : y= ax + b\n",
        "mean_x = np.mean(x)\n",
        "mean_y = np.mean(y)\n",
        "\n",
        "# diff : a = dividend/divisor\n",
        "dividend = sum((x-mean_x) * (y - mean_y))\n",
        "divisor = sum((x - mean_x) * (x - mean_x)) \n",
        "a = dividend/divisor\n",
        "\n",
        "#bias : b = mean_y - (a * mean_x)\n",
        "b = mean_y - (a * mean_x)\n",
        "\n",
        "print('a:', a)\n",
        "print('b:', b)\n",
        "print('y = ', float(a), 'x + ', float(b))"
      ],
      "execution_count": 52,
      "outputs": [
        {
          "output_type": "stream",
          "text": [
            "a: [2.3]\n",
            "b: [79.]\n",
            "y =  2.3 x +  79.0\n"
          ],
          "name": "stdout"
        }
      ]
    },
    {
      "cell_type": "code",
      "metadata": {
        "colab": {
          "base_uri": "https://localhost:8080/"
        },
        "id": "BbsYT9UoVCVP",
        "outputId": "6ba0cc55-2583-49ea-86e7-7520eb7c4226"
      },
      "source": [
        "#prediction\n",
        "preds = (a*x) + b\n",
        "print('predction', str(preds))"
      ],
      "execution_count": 53,
      "outputs": [
        {
          "output_type": "stream",
          "text": [
            "predction [[83.6]\n",
            " [88.2]\n",
            " [92.8]\n",
            " [97.4]]\n"
          ],
          "name": "stdout"
        }
      ]
    },
    {
      "cell_type": "code",
      "metadata": {
        "colab": {
          "base_uri": "https://localhost:8080/",
          "height": 349
        },
        "id": "mx8YfWkdTnQJ",
        "outputId": "371a6337-cf49-4354-b6a4-0c5df7ef9edd"
      },
      "source": [
        "#scatter plot\n",
        "import matplotlib.pyplot as plt\n",
        "import io\n",
        "import base64\n",
        "fig = plt.figure()\n",
        "fig, ax_lst = plt.subplots(1, 1, figsize = (8,4), constrained_layout = True)\n",
        "ax_lst.scatter(x, y, c = None)\n",
        "ax_lst.set_xlabel('time')\n",
        "ax_lst.set_ylabel('score')\n",
        "ax_lst.legend(loc = 'best')\n",
        "ax_lst.plot(x, preds, label = 'prediction', c = 'red')\n",
        "plt.show()"
      ],
      "execution_count": 58,
      "outputs": [
        {
          "output_type": "stream",
          "text": [
            "No handles with labels found to put in legend.\n"
          ],
          "name": "stderr"
        },
        {
          "output_type": "display_data",
          "data": {
            "text/plain": [
              "<Figure size 432x288 with 0 Axes>"
            ]
          },
          "metadata": {
            "tags": []
          }
        },
        {
          "output_type": "display_data",
          "data": {
            "image/png": "[encoded data removed]",
            "text/plain": [
              "<Figure size 576x288 with 1 Axes>"
            ]
          },
          "metadata": {
            "tags": [],
            "needs_background": "light"
          }
        }
      ]
    },
    {
      "cell_type": "code",
      "metadata": {
        "colab": {
          "base_uri": "https://localhost:8080/"
        },
        "id": "deaqSoQRWvIU",
        "outputId": "9992e461-08c2-42da-dea8-55ceadda2007"
      },
      "source": [
        "# x = 3 , predction = ?\n",
        "print('x=3')\n",
        "print('prediction',str((a*3)+b))"
      ],
      "execution_count": 60,
      "outputs": [
        {
          "output_type": "stream",
          "text": [
            "x=3\n",
            "prediction [85.9]\n"
          ],
          "name": "stdout"
        }
      ]
    },
    {
      "cell_type": "markdown",
      "metadata": {
        "id": "Q5FVq8rKFfxm"
      },
      "source": [
        "#Single Linear Regression Function[by numpy]"
      ]
    },
    {
      "cell_type": "code",
      "metadata": {
        "id": "y6fiK7JHG9nr"
      },
      "source": [
        "#data\n",
        "import pandas as pd\n",
        "df = pd.DataFrame([[2,81], [3,85], [4,93], [6,91], [8,97], [10,100]], columns = ['Study time', 'Point'])\n",
        "X_data = df.iloc[:,0]\n",
        "Y_data = df.iloc[:,1]"
      ],
      "execution_count": 11,
      "outputs": []
    },
    {
      "cell_type": "code",
      "metadata": {
        "colab": {
          "base_uri": "https://localhost:8080/"
        },
        "id": "5Lc-24zTHOmk",
        "outputId": "6ebbd9b9-6295-4639-e8e2-1627c45579f4"
      },
      "source": [
        "#creating model : Y= ax+b\n",
        "a = 0 \n",
        "b = 0\n",
        "lr = 0.01 #학습률, 기울기를 얼만큼 변화시키지 지정\n",
        "epochs = 2001 #학습의 반복횟수\n",
        "\n",
        "for i in range(0, epochs) :\n",
        "  Y_pred = (a* X_data)+b\n",
        "  error = Y_data - Y_pred\n",
        "  a_diff = (-(1/(len(X_data)))) * (sum((X_data*error)))\n",
        "  b_diff = (-(1/(len(X_data)))) * (sum((Y_data - Y_pred)))\n",
        "  a = a - (lr * a_diff)\n",
        "  b = b - (lr * b_diff)\n",
        "\n",
        "print('a:', str(a))\n",
        "print('b:', str(b))"
      ],
      "execution_count": 15,
      "outputs": [
        {
          "output_type": "stream",
          "text": [
            "a: 2.3493340805275427\n",
            "b: 77.97684476890103\n"
          ],
          "name": "stdout"
        }
      ]
    },
    {
      "cell_type": "code",
      "metadata": {
        "id": "GMwzKLVLLBrC"
      },
      "source": [
        "#model\n",
        "make_model1 = (a * X_data) + b"
      ],
      "execution_count": 21,
      "outputs": []
    },
    {
      "cell_type": "code",
      "metadata": {
        "colab": {
          "base_uri": "https://localhost:8080/",
          "height": 349
        },
        "id": "0oBpoaSnGErg",
        "outputId": "146bb5de-dca1-4d1d-faeb-280a7cafb82f"
      },
      "source": [
        "import matplotlib.pyplot as plt\n",
        "import io\n",
        "import base64\n",
        "fig = plt.figure()\n",
        "fig, ax_lst = plt.subplots(1, 1, figsize = (8,4), constrained_layout = True)\n",
        "ax_lst.scatter(X_data, Y_data, label = \"\", c = None)\n",
        "ax_lst.set_title(\"data\")\n",
        "ax_lst.set_xlabel(\"Study time\")\n",
        "ax_lst.set_ylabel(\"point\")\n",
        "ax_lst.legend(loc = 'best')\n",
        "ax_lst.plot(X_data, make_model1, label = \"\", c = 'red')\n",
        "plt.show()"
      ],
      "execution_count": 23,
      "outputs": [
        {
          "output_type": "stream",
          "text": [
            "No handles with labels found to put in legend.\n"
          ],
          "name": "stderr"
        },
        {
          "output_type": "display_data",
          "data": {
            "text/plain": [
              "<Figure size 432x288 with 0 Axes>"
            ]
          },
          "metadata": {
            "tags": []
          }
        },
        {
          "output_type": "display_data",
          "data": {
            "image/png": "[encoded data removed]",
            "text/plain": [
              "<Figure size 576x288 with 1 Axes>"
            ]
          },
          "metadata": {
            "tags": [],
            "needs_background": "light"
          }
        }
      ]
    },
    {
      "cell_type": "markdown",
      "metadata": {
        "id": "_YKW9e8QLiIF"
      },
      "source": [
        "#sklearn : SLR"
      ]
    },
    {
      "cell_type": "code",
      "metadata": {
        "colab": {
          "base_uri": "https://localhost:8080/"
        },
        "id": "-MbvRRBkLq-O",
        "outputId": "2d262284-bfee-49ff-c8ef-4510ee301c16"
      },
      "source": [
        "#2차원 행렬로 변경\n",
        "import numpy as np\n",
        "X_data = np.array(X_data)\n",
        "X_data = X_data.reshape(-1, 1)\n",
        "Y_data = np.array(Y_data)\n",
        "Y_data = Y_data.reshape(-1, 1)\n",
        "\n",
        "print((np.shape(X_data)))\n",
        "print((np.shape(Y_data)))"
      ],
      "execution_count": 25,
      "outputs": [
        {
          "output_type": "stream",
          "text": [
            "(6, 1)\n",
            "(6, 1)\n"
          ],
          "name": "stdout"
        }
      ]
    },
    {
      "cell_type": "code",
      "metadata": {
        "colab": {
          "base_uri": "https://localhost:8080/"
        },
        "id": "uchAbDw5MH-A",
        "outputId": "39e8c77d-5afb-4ece-9044-80aca061c0a8"
      },
      "source": [
        "#create model [by sklearn]\n",
        "from sklearn.linear_model import LinearRegression\n",
        "model = LinearRegression()\n",
        "model.fit(X_data, Y_data)\n",
        "predictions = model.predict(X_data)\n",
        "print('예측값' , str(predictions))"
      ],
      "execution_count": 26,
      "outputs": [
        {
          "output_type": "stream",
          "text": [
            "예측값 [[ 83.61403509]\n",
            " [ 85.77192982]\n",
            " [ 87.92982456]\n",
            " [ 92.24561404]\n",
            " [ 96.56140351]\n",
            " [100.87719298]]\n"
          ],
          "name": "stdout"
        }
      ]
    },
    {
      "cell_type": "code",
      "metadata": {
        "colab": {
          "base_uri": "https://localhost:8080/"
        },
        "id": "-nA5RyDHMlyw",
        "outputId": "b4d114ce-fe5c-454c-e114-d43fe85bdc12"
      },
      "source": [
        "# MSE\n",
        "from sklearn.metrics import mean_squared_error\n",
        "MSE = mean_squared_error(Y_data, predictions)\n",
        "print('MSE:', str(MSE))"
      ],
      "execution_count": 27,
      "outputs": [
        {
          "output_type": "stream",
          "text": [
            "MSE: 5.941520467836244\n"
          ],
          "name": "stdout"
        }
      ]
    },
    {
      "cell_type": "code",
      "metadata": {
        "colab": {
          "base_uri": "https://localhost:8080/"
        },
        "id": "ZevNSwxhM1Zj",
        "outputId": "f6ff03b2-3be0-447c-d562-26b9f6902916"
      },
      "source": [
        "#model\n",
        "make_model2 = (model.coef_ * X_data) + (model.intercept_)\n",
        "print('a:', model.coef_)\n",
        "print('b:', model.intercept_)"
      ],
      "execution_count": 32,
      "outputs": [
        {
          "output_type": "stream",
          "text": [
            "a: [[2.15789474]]\n",
            "b: [79.29824561]\n"
          ],
          "name": "stdout"
        }
      ]
    },
    {
      "cell_type": "code",
      "metadata": {
        "colab": {
          "base_uri": "https://localhost:8080/",
          "height": 333
        },
        "id": "i0RlMTFWNIXh",
        "outputId": "ee2880a0-e112-4c3d-b411-23f54b2fbb05"
      },
      "source": [
        "#graph\n",
        "fig, ax_lst = plt.subplots(1, 1, figsize = (8,4), constrained_layout = True)\n",
        "ax_lst.scatter(X_data, Y_data, label = 'Real data', c = None)\n",
        "ax_lst.set_title('SLR[by sklearn]')\n",
        "ax_lst.set_xlabel('Study Time')\n",
        "ax_lst.set_ylabel('Point')\n",
        "ax_lst.legend(loc = 'best')\n",
        "ax_lst.plot(X_data, make_model2, c = 'red')\n",
        "plt.show()"
      ],
      "execution_count": 33,
      "outputs": [
        {
          "output_type": "display_data",
          "data": {
            "image/png": "[encoded data removed]",
            "text/plain": [
              "<Figure size 576x288 with 1 Axes>"
            ]
          },
          "metadata": {
            "tags": [],
            "needs_background": "light"
          }
        }
      ]
    },
    {
      "cell_type": "markdown",
      "metadata": {
        "id": "3xxLrJv1lJtg"
      },
      "source": [
        "#예제1) 간단한 데이터 생성"
      ]
    },
    {
      "cell_type": "code",
      "metadata": {
        "id": "9Ktt78cCjGNA"
      },
      "source": [
        "#회귀분석을 할 수 있게 도와주는 모듈\n",
        "from sklearn import linear_model\n",
        "#numpy : 행렬, 벡터 등 수학 계산을 위한 자료구조와 계산 함수\n",
        "import numpy as np\n",
        "#pandas : csv파일, 데이터베이스에서 데이터를 읽고 쓰기, 데이터를 테이블형태로 조작\n",
        "import pandas as pd\n",
        "#matplotlib : 시각화 패키지(막대그래프, 히스토그램, 파이차트, 산점도 등)\n",
        "import matplotlib\n",
        "#matplotlib의 서브 패키지인 pyplot\n",
        "import matplotlib.pyplot as plt\n",
        "#ipython notebook에 그림을 추력할 수 있게하는 코드\n",
        "%matplotlib inline\n",
        "#atplotlib에서 제공하는 스타일중 하나인 'ggplot'를 사용하겠다는 코드\n",
        "matplotlib.style.use('ggplot')"
      ],
      "execution_count": null,
      "outputs": []
    },
    {
      "cell_type": "code",
      "metadata": {
        "colab": {
          "base_uri": "https://localhost:8080/",
          "height": 227
        },
        "id": "RbVPpuMwjHrJ",
        "outputId": "e14493d1-80a0-46a1-f6f0-81912b737993"
      },
      "source": [
        "# 데이터 만들기\n",
        "data = {'x':[13, 19, 16, 14, 15, 14],\n",
        "        'y':[40, 83, 62, 48, 58, 43]}\n",
        "\n",
        "#data변수 에 저장된 데이터를 2차원의 수정가능한 테이블형태로 변경\n",
        "data= pd.DataFrame(data)\n",
        "data"
      ],
      "execution_count": null,
      "outputs": [
        {
          "output_type": "execute_result",
          "data": {
            "text/html": [
              "<div>\n",
              "<style scoped>\n",
              "    .dataframe tbody tr th:only-of-type {\n",
              "        vertical-align: middle;\n",
              "    }\n",
              "\n",
              "    .dataframe tbody tr th {\n",
              "        vertical-align: top;\n",
              "    }\n",
              "\n",
              "    .dataframe thead th {\n",
              "        text-align: right;\n",
              "    }\n",
              "</style>\n",
              "<table border=\"1\" class=\"dataframe\">\n",
              "  <thead>\n",
              "    <tr style=\"text-align: right;\">\n",
              "      <th></th>\n",
              "      <th>x</th>\n",
              "      <th>y</th>\n",
              "    </tr>\n",
              "  </thead>\n",
              "  <tbody>\n",
              "    <tr>\n",
              "      <th>0</th>\n",
              "      <td>13</td>\n",
              "      <td>40</td>\n",
              "    </tr>\n",
              "    <tr>\n",
              "      <th>1</th>\n",
              "      <td>19</td>\n",
              "      <td>83</td>\n",
              "    </tr>\n",
              "    <tr>\n",
              "      <th>2</th>\n",
              "      <td>16</td>\n",
              "      <td>62</td>\n",
              "    </tr>\n",
              "    <tr>\n",
              "      <th>3</th>\n",
              "      <td>14</td>\n",
              "      <td>48</td>\n",
              "    </tr>\n",
              "    <tr>\n",
              "      <th>4</th>\n",
              "      <td>15</td>\n",
              "      <td>58</td>\n",
              "    </tr>\n",
              "    <tr>\n",
              "      <th>5</th>\n",
              "      <td>14</td>\n",
              "      <td>43</td>\n",
              "    </tr>\n",
              "  </tbody>\n",
              "</table>\n",
              "</div>"
            ],
            "text/plain": [
              "    x   y\n",
              "0  13  40\n",
              "1  19  83\n",
              "2  16  62\n",
              "3  14  48\n",
              "4  15  58\n",
              "5  14  43"
            ]
          },
          "metadata": {
            "tags": []
          },
          "execution_count": 3
        }
      ]
    },
    {
      "cell_type": "code",
      "metadata": {
        "colab": {
          "base_uri": "https://localhost:8080/",
          "height": 355
        },
        "id": "VCI1tDkIjKto",
        "outputId": "9d71ceae-df1a-4764-afba-205b914b574e"
      },
      "source": [
        "#산점도 나타내기\n",
        "data.plot(kind='scatter', x='x', y='y', figsize=(5,5), color='black')\n",
        "\n",
        "#kind : 기본 선 외의 여러가지 플롯 스타일을 사용 가능하도록 함\n",
        "#x, y : 각각 가로, 세로에 표시한 데이터를 지정함"
      ],
      "execution_count": null,
      "outputs": [
        {
          "output_type": "execute_result",
          "data": {
            "text/plain": [
              "<matplotlib.axes._subplots.AxesSubplot at 0x7f20ca604438>"
            ]
          },
          "metadata": {
            "tags": []
          },
          "execution_count": 4
        },
        {
          "output_type": "display_data",
          "data": {
            "image/png": "[encoded data removed]",
            "text/plain": [
              "<Figure size 360x360 with 1 Axes>"
            ]
          },
          "metadata": {
            "tags": []
          }
        }
      ]
    },
    {
      "cell_type": "code",
      "metadata": {
        "colab": {
          "base_uri": "https://localhost:8080/"
        },
        "id": "ixvNVFxVjPQR",
        "outputId": "dfb6b16f-724d-4d02-e445-91494c220e43"
      },
      "source": [
        "#데이터 학습시키기\n",
        "#선형회귀모델을 만들어 해당 변수에 저장\n",
        "linear_regression = linear_model.LinearRegression()\n",
        "\n",
        "#fit 함수를 통해 모델을 학습함\n",
        "linear_regression.fit(X=pd.DataFrame(data['x']),y=data['y'])\n",
        "\n",
        "#학습한 선형회귀모델에 x값을 입력해 y값을 구함, y값이 predicion변수에 저장됨\n",
        "prediction = linear_regression.predict(X=pd.DataFrame(data['x']))\n",
        "\n",
        "#선형회귀모델의 a, b 계수를 출력함\n",
        "#◆종속변수 y의 값 : yi = a(회귀계수) + b(회귀계수)xi+ei(오차항)◆\n",
        "print('a value = ', linear_regression.intercept_)\n",
        "print('b value = ', linear_regression.coef_)"
      ],
      "execution_count": null,
      "outputs": [
        {
          "output_type": "stream",
          "text": [
            "a value =  -55.48175182481753\n",
            "b value =  [7.32846715]\n"
          ],
          "name": "stdout"
        }
      ]
    },
    {
      "cell_type": "code",
      "metadata": {
        "colab": {
          "base_uri": "https://localhost:8080/"
        },
        "id": "tyWRvyg-jQi2",
        "outputId": "54f1867a-b770-45c5-9c1d-d03d81f3edf4"
      },
      "source": [
        "# 적합도 검증 : 방법1) 표준오차 구하기: \n",
        "#residuals = 잔차 : 결과의 오류 : 잔차들의 표준편차\n",
        "residuals = data['y'] - prediction\n",
        "residuals.describe()\n",
        "# 전체개수, 평균, 표준편차, 최대값, 최솟값, 백분위수(25%, 50%, 75%)"
      ],
      "execution_count": null,
      "outputs": [
        {
          "output_type": "execute_result",
          "data": {
            "text/plain": [
              "count    6.000000e+00\n",
              "mean     5.921189e-15\n",
              "std      2.491445e+00\n",
              "min     -4.116788e+00\n",
              "25%     -5.164234e-01\n",
              "50%      2.189781e-01\n",
              "75%      7.189781e-01\n",
              "max      3.554745e+00\n",
              "Name: y, dtype: float64"
            ]
          },
          "metadata": {
            "tags": []
          },
          "execution_count": 6
        }
      ]
    },
    {
      "cell_type": "code",
      "metadata": {
        "colab": {
          "base_uri": "https://localhost:8080/"
        },
        "id": "oahu3RIDjSTg",
        "outputId": "de748ff0-f3c5-475a-b4b3-557e637730eb"
      },
      "source": [
        "#적합도 검증 : 방법2) 결정계수 구하기\n",
        "#결론: x값이 y값에 97%영향을 준다\n",
        "SSE = (residuals**2).sum()\n",
        "SST = ((data['y']-data['y'].mean())**2).sum()\n",
        "R_squared = 1-(SSE/SST)\n",
        "print('R_squared = ', R_squared)"
      ],
      "execution_count": null,
      "outputs": [
        {
          "output_type": "stream",
          "text": [
            "R_squared =  0.9753156179610034\n"
          ],
          "name": "stdout"
        }
      ]
    },
    {
      "cell_type": "code",
      "metadata": {
        "colab": {
          "base_uri": "https://localhost:8080/",
          "height": 355
        },
        "id": "8TPQCIeMjTwF",
        "outputId": "78c32e2f-4b3c-4a7a-c99f-80bee86b2716"
      },
      "source": [
        "#예측한 값을 토대로 산포도에 선형회귀선 그리기\n",
        "data.plot(kind='scatter', x='x', y='y', figsize=(5,5), color='black')\n",
        "plt.plot(data['x'], prediction, color='blue')"
      ],
      "execution_count": null,
      "outputs": [
        {
          "output_type": "execute_result",
          "data": {
            "text/plain": [
              "[<matplotlib.lines.Line2D at 0x7f20c9e07438>]"
            ]
          },
          "metadata": {
            "tags": []
          },
          "execution_count": 8
        },
        {
          "output_type": "display_data",
          "data": {
            "image/png": "[encoded data removed]",
            "text/plain": [
              "<Figure size 360x360 with 1 Axes>"
            ]
          },
          "metadata": {
            "tags": []
          }
        }
      ]
    },
    {
      "cell_type": "code",
      "metadata": {
        "colab": {
          "base_uri": "https://localhost:8080/"
        },
        "id": "Xqh-34OYjXfM",
        "outputId": "e994ce89-a46a-437d-8ffe-9bd0066f8a75"
      },
      "source": [
        "#해당 회귀분선모델의 성능평가하기\n",
        "#MSE를 구하기 위한 모듈을 가져옴\n",
        "from sklearn.metrics import mean_squared_error\n",
        "#score에 예측한 결과값과 정확한 결과값을 비교해서 성능을 평가한 값을 넣음\n",
        "print('score = ', linear_regression.score(X=pd.DataFrame(data['x']), y=data['y']))\n",
        "#평균제곱오차값(MSE)을 구함\n",
        "print('Mean_Squared_Error = ', mean_squared_error(prediction, data['y']))\n",
        "#RMSE값을 구함\n",
        "print('RMSE = ', mean_squared_error(prediction, data['y'])**0.5)\n",
        "print()\n",
        "print('결론 : 결정계수값과 score값이 같다는 것을 알수 있고, RMSE결과를 통해 오차도 작다는 것을 알수 있다.')"
      ],
      "execution_count": null,
      "outputs": [
        {
          "output_type": "stream",
          "text": [
            "score =  0.9753156179610034\n",
            "Mean_Squared_Error =  5.172749391727503\n",
            "RMSE =  2.2743679103714736\n",
            "\n",
            "결론 : 결정계수값과 score값이 같다는 것을 알수 있고, RMSE결과를 통해 오차도 작다는 것을 알수 있다.\n"
          ],
          "name": "stdout"
        }
      ]
    },
    {
      "cell_type": "markdown",
      "metadata": {
        "id": "UVxiYeaUjbJ5"
      },
      "source": [
        "#예제2)보스턴의 집 가격 데이터\n",
        "sklearn에서 제공하는 데이터를 사용함"
      ]
    },
    {
      "cell_type": "code",
      "metadata": {
        "colab": {
          "base_uri": "https://localhost:8080/"
        },
        "id": "3xkVbfeijZIZ",
        "outputId": "73bfec37-6812-41d8-87dd-937ba047b6e1"
      },
      "source": [
        "#데이터 불러오기\n",
        "from sklearn import datasets\n",
        "boston_house_prices = datasets.load_boston()\n",
        "\n",
        "#전체 데이터의 key값 출력\n",
        "print('key값 : ', boston_house_prices.keys)\n",
        "\n",
        "#전체 데이터 중 data에 대한 전체 행, 열의 길이 출력\n",
        "print('전체 행 ,열의 길이 : ', boston_house_prices.data.shape)\n",
        "\n",
        "#해당 데이터에 사용하는 컬럼 이름 출력\n",
        "print('컬럼 이름 : ', boston_house_prices.feature_names)"
      ],
      "execution_count": null,
      "outputs": [
        {
          "output_type": "stream",
          "text": [
            "key값 :  <built-in method keys of Bunch object at 0x7f20c8a236d0>\n",
            "전체 행 ,열의 길이 :  (506, 13)\n",
            "컬럼 이름 :  ['CRIM' 'ZN' 'INDUS' 'CHAS' 'NOX' 'RM' 'AGE' 'DIS' 'RAD' 'TAX' 'PTRATIO'\n",
            " 'B' 'LSTAT']\n"
          ],
          "name": "stdout"
        }
      ]
    },
    {
      "cell_type": "code",
      "metadata": {
        "colab": {
          "base_uri": "https://localhost:8080/"
        },
        "id": "UfTtvg4yjxmu",
        "outputId": "f73a877f-3068-4584-e7f5-7d93bf4d9b3b"
      },
      "source": [
        "# dataset정보 보기 : 각 컬럼들의 설명과, 길이를 확인할 수 있음\n",
        "print(boston_house_prices.DESCR)"
      ],
      "execution_count": null,
      "outputs": [
        {
          "output_type": "stream",
          "text": [
            ".. _boston_dataset:\n",
            "\n",
            "Boston house prices dataset\n",
            "---------------------------\n",
            "\n",
            "**Data Set Characteristics:**  \n",
            "\n",
            "    :Number of Instances: 506 \n",
            "\n",
            "    :Number of Attributes: 13 numeric/categorical predictive. Median Value (attribute 14) is usually the target.\n",
            "\n",
            "    :Attribute Information (in order):\n",
            "        - CRIM     per capita crime rate by town\n",
            "        - ZN       proportion of residential land zoned for lots over 25,000 sq.ft.\n",
            "        - INDUS    proportion of non-retail business acres per town\n",
            "        - CHAS     Charles River dummy variable (= 1 if tract bounds river; 0 otherwise)\n",
            "        - NOX      nitric oxides concentration (parts per 10 million)\n",
            "        - RM       average number of rooms per dwelling\n",
            "        - AGE      proportion of owner-occupied units built prior to 1940\n",
            "        - DIS      weighted distances to five Boston employment centres\n",
            "        - RAD      index of accessibility to radial highways\n",
            "        - TAX      full-value property-tax rate per $10,000\n",
            "        - PTRATIO  pupil-teacher ratio by town\n",
            "        - B        1000(Bk - 0.63)^2 where Bk is the proportion of blacks by town\n",
            "        - LSTAT    % lower status of the population\n",
            "        - MEDV     Median value of owner-occupied homes in $1000's\n",
            "\n",
            "    :Missing Attribute Values: None\n",
            "\n",
            "    :Creator: Harrison, D. and Rubinfeld, D.L.\n",
            "\n",
            "This is a copy of UCI ML housing dataset.\n",
            "https://archive.ics.uci.edu/ml/machine-learning-databases/housing/\n",
            "\n",
            "\n",
            "This dataset was taken from the StatLib library which is maintained at Carnegie Mellon University.\n",
            "\n",
            "The Boston house-price data of Harrison, D. and Rubinfeld, D.L. 'Hedonic\n",
            "prices and the demand for clean air', J. Environ. Economics & Management,\n",
            "vol.5, 81-102, 1978.   Used in Belsley, Kuh & Welsch, 'Regression diagnostics\n",
            "...', Wiley, 1980.   N.B. Various transformations are used in the table on\n",
            "pages 244-261 of the latter.\n",
            "\n",
            "The Boston house-price data has been used in many machine learning papers that address regression\n",
            "problems.   \n",
            "     \n",
            ".. topic:: References\n",
            "\n",
            "   - Belsley, Kuh & Welsch, 'Regression diagnostics: Identifying Influential Data and Sources of Collinearity', Wiley, 1980. 244-261.\n",
            "   - Quinlan,R. (1993). Combining Instance-Based and Model-Based Learning. In Proceedings on the Tenth International Conference of Machine Learning, 236-243, University of Massachusetts, Amherst. Morgan Kaufmann.\n",
            "\n"
          ],
          "name": "stdout"
        }
      ]
    },
    {
      "cell_type": "code",
      "metadata": {
        "colab": {
          "base_uri": "https://localhost:8080/",
          "height": 197
        },
        "id": "KdVsiWNdjyyU",
        "outputId": "1552723c-daf1-4cdd-fc8e-74d85a36c81e"
      },
      "source": [
        "#데이터 프레임 정제1 : 전체 데이터 중 data에 해당하는 값만 데이터프레임형으로 변경\n",
        "data_frame = pd.DataFrame(boston_house_prices.data)\n",
        "data_frame.tail()"
      ],
      "execution_count": null,
      "outputs": [
        {
          "output_type": "execute_result",
          "data": {
            "text/html": [
              "<div>\n",
              "<style scoped>\n",
              "    .dataframe tbody tr th:only-of-type {\n",
              "        vertical-align: middle;\n",
              "    }\n",
              "\n",
              "    .dataframe tbody tr th {\n",
              "        vertical-align: top;\n",
              "    }\n",
              "\n",
              "    .dataframe thead th {\n",
              "        text-align: right;\n",
              "    }\n",
              "</style>\n",
              "<table border=\"1\" class=\"dataframe\">\n",
              "  <thead>\n",
              "    <tr style=\"text-align: right;\">\n",
              "      <th></th>\n",
              "      <th>0</th>\n",
              "      <th>1</th>\n",
              "      <th>2</th>\n",
              "      <th>3</th>\n",
              "      <th>4</th>\n",
              "      <th>5</th>\n",
              "      <th>6</th>\n",
              "      <th>7</th>\n",
              "      <th>8</th>\n",
              "      <th>9</th>\n",
              "      <th>10</th>\n",
              "      <th>11</th>\n",
              "      <th>12</th>\n",
              "    </tr>\n",
              "  </thead>\n",
              "  <tbody>\n",
              "    <tr>\n",
              "      <th>501</th>\n",
              "      <td>0.06263</td>\n",
              "      <td>0.0</td>\n",
              "      <td>11.93</td>\n",
              "      <td>0.0</td>\n",
              "      <td>0.573</td>\n",
              "      <td>6.593</td>\n",
              "      <td>69.1</td>\n",
              "      <td>2.4786</td>\n",
              "      <td>1.0</td>\n",
              "      <td>273.0</td>\n",
              "      <td>21.0</td>\n",
              "      <td>391.99</td>\n",
              "      <td>9.67</td>\n",
              "    </tr>\n",
              "    <tr>\n",
              "      <th>502</th>\n",
              "      <td>0.04527</td>\n",
              "      <td>0.0</td>\n",
              "      <td>11.93</td>\n",
              "      <td>0.0</td>\n",
              "      <td>0.573</td>\n",
              "      <td>6.120</td>\n",
              "      <td>76.7</td>\n",
              "      <td>2.2875</td>\n",
              "      <td>1.0</td>\n",
              "      <td>273.0</td>\n",
              "      <td>21.0</td>\n",
              "      <td>396.90</td>\n",
              "      <td>9.08</td>\n",
              "    </tr>\n",
              "    <tr>\n",
              "      <th>503</th>\n",
              "      <td>0.06076</td>\n",
              "      <td>0.0</td>\n",
              "      <td>11.93</td>\n",
              "      <td>0.0</td>\n",
              "      <td>0.573</td>\n",
              "      <td>6.976</td>\n",
              "      <td>91.0</td>\n",
              "      <td>2.1675</td>\n",
              "      <td>1.0</td>\n",
              "      <td>273.0</td>\n",
              "      <td>21.0</td>\n",
              "      <td>396.90</td>\n",
              "      <td>5.64</td>\n",
              "    </tr>\n",
              "    <tr>\n",
              "      <th>504</th>\n",
              "      <td>0.10959</td>\n",
              "      <td>0.0</td>\n",
              "      <td>11.93</td>\n",
              "      <td>0.0</td>\n",
              "      <td>0.573</td>\n",
              "      <td>6.794</td>\n",
              "      <td>89.3</td>\n",
              "      <td>2.3889</td>\n",
              "      <td>1.0</td>\n",
              "      <td>273.0</td>\n",
              "      <td>21.0</td>\n",
              "      <td>393.45</td>\n",
              "      <td>6.48</td>\n",
              "    </tr>\n",
              "    <tr>\n",
              "      <th>505</th>\n",
              "      <td>0.04741</td>\n",
              "      <td>0.0</td>\n",
              "      <td>11.93</td>\n",
              "      <td>0.0</td>\n",
              "      <td>0.573</td>\n",
              "      <td>6.030</td>\n",
              "      <td>80.8</td>\n",
              "      <td>2.5050</td>\n",
              "      <td>1.0</td>\n",
              "      <td>273.0</td>\n",
              "      <td>21.0</td>\n",
              "      <td>396.90</td>\n",
              "      <td>7.88</td>\n",
              "    </tr>\n",
              "  </tbody>\n",
              "</table>\n",
              "</div>"
            ],
            "text/plain": [
              "          0    1      2    3      4   ...   8      9     10      11    12\n",
              "501  0.06263  0.0  11.93  0.0  0.573  ...  1.0  273.0  21.0  391.99  9.67\n",
              "502  0.04527  0.0  11.93  0.0  0.573  ...  1.0  273.0  21.0  396.90  9.08\n",
              "503  0.06076  0.0  11.93  0.0  0.573  ...  1.0  273.0  21.0  396.90  5.64\n",
              "504  0.10959  0.0  11.93  0.0  0.573  ...  1.0  273.0  21.0  393.45  6.48\n",
              "505  0.04741  0.0  11.93  0.0  0.573  ...  1.0  273.0  21.0  396.90  7.88\n",
              "\n",
              "[5 rows x 13 columns]"
            ]
          },
          "metadata": {
            "tags": []
          },
          "execution_count": 12
        }
      ]
    },
    {
      "cell_type": "code",
      "metadata": {
        "colab": {
          "base_uri": "https://localhost:8080/",
          "height": 197
        },
        "id": "nEWYPd2Rj3BA",
        "outputId": "1be97a46-7e08-4bac-8081-c91a0d1dfb93"
      },
      "source": [
        "#데이터 프레임 정제2 : target데이터만 즉 종속변수만 데이터 프레임에 저장하기\n",
        "#data_frame에 가격 컬럼을 만들고 해당 데이터에 저장된 데이터 중 타켓데이터를 저장함\n",
        "data_frame['Price'] = boston_house_prices.target\n",
        "data_frame.tail()"
      ],
      "execution_count": null,
      "outputs": [
        {
          "output_type": "execute_result",
          "data": {
            "text/html": [
              "<div>\n",
              "<style scoped>\n",
              "    .dataframe tbody tr th:only-of-type {\n",
              "        vertical-align: middle;\n",
              "    }\n",
              "\n",
              "    .dataframe tbody tr th {\n",
              "        vertical-align: top;\n",
              "    }\n",
              "\n",
              "    .dataframe thead th {\n",
              "        text-align: right;\n",
              "    }\n",
              "</style>\n",
              "<table border=\"1\" class=\"dataframe\">\n",
              "  <thead>\n",
              "    <tr style=\"text-align: right;\">\n",
              "      <th></th>\n",
              "      <th>0</th>\n",
              "      <th>1</th>\n",
              "      <th>2</th>\n",
              "      <th>3</th>\n",
              "      <th>4</th>\n",
              "      <th>5</th>\n",
              "      <th>6</th>\n",
              "      <th>7</th>\n",
              "      <th>8</th>\n",
              "      <th>9</th>\n",
              "      <th>10</th>\n",
              "      <th>11</th>\n",
              "      <th>12</th>\n",
              "      <th>Price</th>\n",
              "    </tr>\n",
              "  </thead>\n",
              "  <tbody>\n",
              "    <tr>\n",
              "      <th>501</th>\n",
              "      <td>0.06263</td>\n",
              "      <td>0.0</td>\n",
              "      <td>11.93</td>\n",
              "      <td>0.0</td>\n",
              "      <td>0.573</td>\n",
              "      <td>6.593</td>\n",
              "      <td>69.1</td>\n",
              "      <td>2.4786</td>\n",
              "      <td>1.0</td>\n",
              "      <td>273.0</td>\n",
              "      <td>21.0</td>\n",
              "      <td>391.99</td>\n",
              "      <td>9.67</td>\n",
              "      <td>22.4</td>\n",
              "    </tr>\n",
              "    <tr>\n",
              "      <th>502</th>\n",
              "      <td>0.04527</td>\n",
              "      <td>0.0</td>\n",
              "      <td>11.93</td>\n",
              "      <td>0.0</td>\n",
              "      <td>0.573</td>\n",
              "      <td>6.120</td>\n",
              "      <td>76.7</td>\n",
              "      <td>2.2875</td>\n",
              "      <td>1.0</td>\n",
              "      <td>273.0</td>\n",
              "      <td>21.0</td>\n",
              "      <td>396.90</td>\n",
              "      <td>9.08</td>\n",
              "      <td>20.6</td>\n",
              "    </tr>\n",
              "    <tr>\n",
              "      <th>503</th>\n",
              "      <td>0.06076</td>\n",
              "      <td>0.0</td>\n",
              "      <td>11.93</td>\n",
              "      <td>0.0</td>\n",
              "      <td>0.573</td>\n",
              "      <td>6.976</td>\n",
              "      <td>91.0</td>\n",
              "      <td>2.1675</td>\n",
              "      <td>1.0</td>\n",
              "      <td>273.0</td>\n",
              "      <td>21.0</td>\n",
              "      <td>396.90</td>\n",
              "      <td>5.64</td>\n",
              "      <td>23.9</td>\n",
              "    </tr>\n",
              "    <tr>\n",
              "      <th>504</th>\n",
              "      <td>0.10959</td>\n",
              "      <td>0.0</td>\n",
              "      <td>11.93</td>\n",
              "      <td>0.0</td>\n",
              "      <td>0.573</td>\n",
              "      <td>6.794</td>\n",
              "      <td>89.3</td>\n",
              "      <td>2.3889</td>\n",
              "      <td>1.0</td>\n",
              "      <td>273.0</td>\n",
              "      <td>21.0</td>\n",
              "      <td>393.45</td>\n",
              "      <td>6.48</td>\n",
              "      <td>22.0</td>\n",
              "    </tr>\n",
              "    <tr>\n",
              "      <th>505</th>\n",
              "      <td>0.04741</td>\n",
              "      <td>0.0</td>\n",
              "      <td>11.93</td>\n",
              "      <td>0.0</td>\n",
              "      <td>0.573</td>\n",
              "      <td>6.030</td>\n",
              "      <td>80.8</td>\n",
              "      <td>2.5050</td>\n",
              "      <td>1.0</td>\n",
              "      <td>273.0</td>\n",
              "      <td>21.0</td>\n",
              "      <td>396.90</td>\n",
              "      <td>7.88</td>\n",
              "      <td>11.9</td>\n",
              "    </tr>\n",
              "  </tbody>\n",
              "</table>\n",
              "</div>"
            ],
            "text/plain": [
              "           0    1      2    3      4  ...      9    10      11    12  Price\n",
              "501  0.06263  0.0  11.93  0.0  0.573  ...  273.0  21.0  391.99  9.67   22.4\n",
              "502  0.04527  0.0  11.93  0.0  0.573  ...  273.0  21.0  396.90  9.08   20.6\n",
              "503  0.06076  0.0  11.93  0.0  0.573  ...  273.0  21.0  396.90  5.64   23.9\n",
              "504  0.10959  0.0  11.93  0.0  0.573  ...  273.0  21.0  393.45  6.48   22.0\n",
              "505  0.04741  0.0  11.93  0.0  0.573  ...  273.0  21.0  396.90  7.88   11.9\n",
              "\n",
              "[5 rows x 14 columns]"
            ]
          },
          "metadata": {
            "tags": []
          },
          "execution_count": 13
        }
      ]
    },
    {
      "cell_type": "code",
      "metadata": {
        "colab": {
          "base_uri": "https://localhost:8080/",
          "height": 409
        },
        "id": "RiE1tKZsj36e",
        "outputId": "0f298344-3fe8-4b46-d9c3-13ae1786e4f2"
      },
      "source": [
        "# 산점도 나타내기\n",
        "data_frame.plot(kind='scatter', x=6, y='Price', figsize=(6, 6), color='black')"
      ],
      "execution_count": null,
      "outputs": [
        {
          "output_type": "execute_result",
          "data": {
            "text/plain": [
              "<matplotlib.axes._subplots.AxesSubplot at 0x7f20c8a34860>"
            ]
          },
          "metadata": {
            "tags": []
          },
          "execution_count": 14
        },
        {
          "output_type": "display_data",
          "data": {
            "image/png": "[encoded data removed]",
            "text/plain": [
              "<Figure size 432x432 with 1 Axes>"
            ]
          },
          "metadata": {
            "tags": []
          }
        }
      ]
    },
    {
      "cell_type": "code",
      "metadata": {
        "colab": {
          "base_uri": "https://localhost:8080/"
        },
        "id": "7d4hsA4Qj5QH",
        "outputId": "358bdbb8-b6cf-4085-8620-235e2f5d578b"
      },
      "source": [
        "# 데이터 학습 시키기\n",
        "linear_regression = linear_model.LinearRegression()\n",
        "linear_regression.fit(X=pd.DataFrame(data_frame[6]),y=data_frame['Price'])\n",
        "prediction = linear_regression.predict(X=pd.DataFrame(data_frame[6]))\n",
        "print('a value = ', linear_regression.intercept_)\n",
        "print('b value = ', linear_regression.coef_)"
      ],
      "execution_count": null,
      "outputs": [
        {
          "output_type": "stream",
          "text": [
            "a value =  30.97867776261804\n",
            "b value =  [-0.12316272]\n"
          ],
          "name": "stdout"
        }
      ]
    },
    {
      "cell_type": "code",
      "metadata": {
        "colab": {
          "base_uri": "https://localhost:8080/"
        },
        "id": "wtBesxxBj6Xr",
        "outputId": "6c31f44e-c456-4bed-c71e-6f1eb297c96c"
      },
      "source": [
        "# 적합도 검증: 표본오차\n",
        "residuals = data_frame['Price'] - prediction\n",
        "residuals.describe()"
      ],
      "execution_count": null,
      "outputs": [
        {
          "output_type": "execute_result",
          "data": {
            "text/plain": [
              "count    5.060000e+02\n",
              "mean    -5.655555e-15\n",
              "std      8.518650e+00\n",
              "min     -1.509662e+01\n",
              "25%     -5.138002e+00\n",
              "50%     -1.957464e+00\n",
              "75%      2.397527e+00\n",
              "max      3.133759e+01\n",
              "Name: Price, dtype: float64"
            ]
          },
          "metadata": {
            "tags": []
          },
          "execution_count": 16
        }
      ]
    },
    {
      "cell_type": "code",
      "metadata": {
        "colab": {
          "base_uri": "https://localhost:8080/"
        },
        "id": "cK_jkTzgj7VA",
        "outputId": "abe2375d-156f-4754-f3b3-a2a085adf1de"
      },
      "source": [
        "# 적합도 : 결정계수\n",
        "SSE = (residuals**2).sum()\n",
        "SST = ((data_frame['Price']-data_frame['Price'].mean())**2).sum()\n",
        "R_squared = 1-(SSE/SST)\n",
        "print('R_squared = ', R_squared)\n",
        "print()\n",
        "print('x값이 y값에 14% 영향을 준다, 하지만 13개의 독립변수중 1개인 것을 감안하면 비교적 높은 수치임을 알 수 있다.')\n"
      ],
      "execution_count": null,
      "outputs": [
        {
          "output_type": "stream",
          "text": [
            "R_squared =  0.1420947440778043\n",
            "\n",
            "x값이 y값에 14% 영향을 준다, 하지만 13개의 독립변수중 1개인 것을 감안하면 비교적 높은 수치임을 알 수 있다.\n"
          ],
          "name": "stdout"
        }
      ]
    },
    {
      "cell_type": "code",
      "metadata": {
        "colab": {
          "base_uri": "https://localhost:8080/",
          "height": 355
        },
        "id": "s1LvkrtTj8kj",
        "outputId": "e56d80b5-3fd5-4db3-940e-3659ec83eb2e"
      },
      "source": [
        "# 플롯 나타내기\n",
        "data_frame.plot(kind='scatter', x=6, y='Price', figsize=(5,5), color='black')\n",
        "plt.plot(data_frame[6], prediction, color='yellow')"
      ],
      "execution_count": null,
      "outputs": [
        {
          "output_type": "execute_result",
          "data": {
            "text/plain": [
              "[<matplotlib.lines.Line2D at 0x7f20c8a34898>]"
            ]
          },
          "metadata": {
            "tags": []
          },
          "execution_count": 18
        },
        {
          "output_type": "display_data",
          "data": {
            "image/png": "[encoded data removed]",
            "text/plain": [
              "<Figure size 360x360 with 1 Axes>"
            ]
          },
          "metadata": {
            "tags": []
          }
        }
      ]
    },
    {
      "cell_type": "code",
      "metadata": {
        "colab": {
          "base_uri": "https://localhost:8080/"
        },
        "id": "fkd222G0j-F3",
        "outputId": "85a0dbda-ee3b-4488-f705-5c54c2c95c5b"
      },
      "source": [
        "#해당 모델의 성능 평가\n",
        "from sklearn.metrics import mean_squared_error\n",
        "print('score = ', linear_regression.score(X=pd.DataFrame(data_frame[6]), y=data_frame['Price']))\n",
        "print('Mean_Squared_Error = ', mean_squared_error(prediction, data_frame['Price']))\n",
        "print('RMSE = ', mean_squared_error(prediction, data_frame['Price'])**0.5)\n",
        "print()\n",
        "print('결론: RMSE결과를 통해 오차가 비교적 크다는 것을 알수 있다.')"
      ],
      "execution_count": null,
      "outputs": [
        {
          "output_type": "stream",
          "text": [
            "score =  0.14209474407780442\n",
            "Mean_Squared_Error =  72.42398092899337\n",
            "RMSE =  8.510228018625199\n",
            "\n",
            "결론: RMSE결과를 통해 오차가 비교적 크다는 것을 알수 있다.\n"
          ],
          "name": "stdout"
        }
      ]
    },
    {
      "cell_type": "markdown",
      "metadata": {
        "id": "IvndBqlYkA9r"
      },
      "source": [
        "#예제3) 인구밀도와 절도발생률간의 관계"
      ]
    },
    {
      "cell_type": "markdown",
      "metadata": {
        "id": "u9AtvaXUkLGR"
      },
      "source": [
        "※ 예제 ) 어느 범죄학 연구자가 인구밀도와 절도발생률 간의 관계를 연구하면서 다음의 16개 도시의 자료를 수집하였다. X는 해당 도시의 단위면적당 인구밀도를, Y는 이전년도의 10만명당 절도범죄의 발생횟수를 조사한 것이다.\n",
        "\n",
        "X:{ 59, 49, 75, 54, 78, 56, 60, 82, 69, 83, 88, 94, 47, 65, 89, 70}\n",
        "\n",
        "Y:{ 209, 180, 195, 192, 215, 197, 208, 189, 213, 201, 214, 212, 205, 186, 200, 204} \n",
        "    \n",
        "독립변수 : 인구밀도 = x\n",
        "종속변수 : 절도범죄 = y   "
      ]
    },
    {
      "cell_type": "code",
      "metadata": {
        "id": "WXXA9kb7j_Hg"
      },
      "source": [
        "# 패키지 불러오기\n",
        "from sklearn import linear_model\n",
        "import numpy as np\n",
        "import pandas as pd\n",
        "import matplotlib\n",
        "import matplotlib.pyplot as plt\n",
        "%matplotlib inline\n",
        "matplotlib.style.use('ggplot')"
      ],
      "execution_count": null,
      "outputs": []
    },
    {
      "cell_type": "code",
      "metadata": {
        "colab": {
          "base_uri": "https://localhost:8080/",
          "height": 525
        },
        "id": "dPidnT79kXYN",
        "outputId": "acd5fbb9-95f4-4833-b708-5cfcf789f053"
      },
      "source": [
        "DATA = {'x':[59, 49, 75, 54, 78, 56, 60, 82, 69, 83, 88, 94, 47, 65, 89, 70],\n",
        "    'y':[209, 180, 195, 192, 215, 197, 208, 189, 213, 201, 214, 212, 205, 186, 200, 204]}\n",
        "data = pd.DataFrame(DATA)\n",
        "data"
      ],
      "execution_count": null,
      "outputs": [
        {
          "output_type": "execute_result",
          "data": {
            "text/html": [
              "<div>\n",
              "<style scoped>\n",
              "    .dataframe tbody tr th:only-of-type {\n",
              "        vertical-align: middle;\n",
              "    }\n",
              "\n",
              "    .dataframe tbody tr th {\n",
              "        vertical-align: top;\n",
              "    }\n",
              "\n",
              "    .dataframe thead th {\n",
              "        text-align: right;\n",
              "    }\n",
              "</style>\n",
              "<table border=\"1\" class=\"dataframe\">\n",
              "  <thead>\n",
              "    <tr style=\"text-align: right;\">\n",
              "      <th></th>\n",
              "      <th>x</th>\n",
              "      <th>y</th>\n",
              "    </tr>\n",
              "  </thead>\n",
              "  <tbody>\n",
              "    <tr>\n",
              "      <th>0</th>\n",
              "      <td>59</td>\n",
              "      <td>209</td>\n",
              "    </tr>\n",
              "    <tr>\n",
              "      <th>1</th>\n",
              "      <td>49</td>\n",
              "      <td>180</td>\n",
              "    </tr>\n",
              "    <tr>\n",
              "      <th>2</th>\n",
              "      <td>75</td>\n",
              "      <td>195</td>\n",
              "    </tr>\n",
              "    <tr>\n",
              "      <th>3</th>\n",
              "      <td>54</td>\n",
              "      <td>192</td>\n",
              "    </tr>\n",
              "    <tr>\n",
              "      <th>4</th>\n",
              "      <td>78</td>\n",
              "      <td>215</td>\n",
              "    </tr>\n",
              "    <tr>\n",
              "      <th>5</th>\n",
              "      <td>56</td>\n",
              "      <td>197</td>\n",
              "    </tr>\n",
              "    <tr>\n",
              "      <th>6</th>\n",
              "      <td>60</td>\n",
              "      <td>208</td>\n",
              "    </tr>\n",
              "    <tr>\n",
              "      <th>7</th>\n",
              "      <td>82</td>\n",
              "      <td>189</td>\n",
              "    </tr>\n",
              "    <tr>\n",
              "      <th>8</th>\n",
              "      <td>69</td>\n",
              "      <td>213</td>\n",
              "    </tr>\n",
              "    <tr>\n",
              "      <th>9</th>\n",
              "      <td>83</td>\n",
              "      <td>201</td>\n",
              "    </tr>\n",
              "    <tr>\n",
              "      <th>10</th>\n",
              "      <td>88</td>\n",
              "      <td>214</td>\n",
              "    </tr>\n",
              "    <tr>\n",
              "      <th>11</th>\n",
              "      <td>94</td>\n",
              "      <td>212</td>\n",
              "    </tr>\n",
              "    <tr>\n",
              "      <th>12</th>\n",
              "      <td>47</td>\n",
              "      <td>205</td>\n",
              "    </tr>\n",
              "    <tr>\n",
              "      <th>13</th>\n",
              "      <td>65</td>\n",
              "      <td>186</td>\n",
              "    </tr>\n",
              "    <tr>\n",
              "      <th>14</th>\n",
              "      <td>89</td>\n",
              "      <td>200</td>\n",
              "    </tr>\n",
              "    <tr>\n",
              "      <th>15</th>\n",
              "      <td>70</td>\n",
              "      <td>204</td>\n",
              "    </tr>\n",
              "  </tbody>\n",
              "</table>\n",
              "</div>"
            ],
            "text/plain": [
              "     x    y\n",
              "0   59  209\n",
              "1   49  180\n",
              "2   75  195\n",
              "3   54  192\n",
              "4   78  215\n",
              "5   56  197\n",
              "6   60  208\n",
              "7   82  189\n",
              "8   69  213\n",
              "9   83  201\n",
              "10  88  214\n",
              "11  94  212\n",
              "12  47  205\n",
              "13  65  186\n",
              "14  89  200\n",
              "15  70  204"
            ]
          },
          "metadata": {
            "tags": []
          },
          "execution_count": 24
        }
      ]
    },
    {
      "cell_type": "code",
      "metadata": {
        "colab": {
          "base_uri": "https://localhost:8080/",
          "height": 355
        },
        "id": "yRiw6xGNkTWa",
        "outputId": "5a7650c7-9a57-4f5a-dff6-fabd19f106b3"
      },
      "source": [
        "# 산점도 그리기 kind='scatter'-> 종류는 산점도로 설정\n",
        "data.plot(kind='scatter', x='x', y='y', figsize=(5,5), color='black')"
      ],
      "execution_count": null,
      "outputs": [
        {
          "output_type": "execute_result",
          "data": {
            "text/plain": [
              "<matplotlib.axes._subplots.AxesSubplot at 0x7f20c88c5128>"
            ]
          },
          "metadata": {
            "tags": []
          },
          "execution_count": 25
        },
        {
          "output_type": "display_data",
          "data": {
            "image/png": "[encoded data removed]",
            "text/plain": [
              "<Figure size 360x360 with 1 Axes>"
            ]
          },
          "metadata": {
            "tags": []
          }
        }
      ]
    },
    {
      "cell_type": "code",
      "metadata": {
        "colab": {
          "base_uri": "https://localhost:8080/"
        },
        "id": "wKEEDxmJkVak",
        "outputId": "d80adae4-5ceb-44a8-f66e-75812dccac07"
      },
      "source": [
        "#linear_regression = 선형회귀\n",
        "#독립변수 x 와 종속 변수 y가 있을 때, 실제 x 값에 따른 예측 y 값이 직선상에 있다고 가정하는 모델\n",
        "\n",
        "# fit => 모델을 훈련시키는 함수\n",
        "#prediction -> 예측하는 함수\n",
        "# intercept = 절편 : 회귀분석에서 독립변수(x)가 모두 0일때 종속변수 y의 값\n",
        "# coef = 계수 : 변수에 묶여있는 수  : 효과를 내기위해 함께 작동하는 것 : 4x의 4\n",
        "linear_regression = linear_model.LinearRegression()\n",
        "linear_regression.fit(X=pd.DataFrame(data['x']),y=data['y'])\n",
        "prediction = linear_regression.predict(X=pd.DataFrame(data['x']))\n",
        "print('a value = ', linear_regression.intercept_)\n",
        "print('b value = ', linear_regression.coef_)"
      ],
      "execution_count": null,
      "outputs": [
        {
          "output_type": "stream",
          "text": [
            "a value =  182.9724994372327\n",
            "b value =  [0.26157425]\n"
          ],
          "name": "stdout"
        }
      ]
    },
    {
      "cell_type": "code",
      "metadata": {
        "colab": {
          "base_uri": "https://localhost:8080/"
        },
        "id": "89oS093YkbZe",
        "outputId": "7996c20f-e38a-43b4-a0bb-71d69ec6db8a"
      },
      "source": [
        "# residuals = 잔차 : 결과의 오류\n",
        "residuals = data['y'] - prediction\n",
        "residuals.describe()"
      ],
      "execution_count": null,
      "outputs": [
        {
          "output_type": "execute_result",
          "data": {
            "text/plain": [
              "count    1.600000e+01\n",
              "mean    -1.065814e-14\n",
              "std      9.943299e+00\n",
              "min     -1.578964e+01\n",
              "25%     -6.587098e+00\n",
              "50%      1.048323e+00\n",
              "75%      9.433162e+00\n",
              "max      1.197888e+01\n",
              "Name: y, dtype: float64"
            ]
          },
          "metadata": {
            "tags": []
          },
          "execution_count": 27
        }
      ]
    },
    {
      "cell_type": "code",
      "metadata": {
        "colab": {
          "base_uri": "https://localhost:8080/"
        },
        "id": "0er8jSkCkcgz",
        "outputId": "e9263447-7255-41aa-dc88-432353afe1bf"
      },
      "source": [
        "# SSE = y의 편차제곱의 합, SST=개별 y의 편차제곱의 합\n",
        "#R-squared : R제곱, 결정계수 : 총 변동 중 설명된 변동의 비율\n",
        "SSE = (residuals**2).sum()\n",
        "SST = ((data['y']-data['y'].mean())**2).sum()\n",
        "R_squared = 1-(SSE/SST)\n",
        "print('R_squared = ', R_squared)"
      ],
      "execution_count": null,
      "outputs": [
        {
          "output_type": "stream",
          "text": [
            "R_squared =  0.13323317178816063\n"
          ],
          "name": "stdout"
        }
      ]
    },
    {
      "cell_type": "code",
      "metadata": {
        "colab": {
          "base_uri": "https://localhost:8080/",
          "height": 355
        },
        "id": "UBb6_Bgekds2",
        "outputId": "e5c46d29-a39d-4133-cff8-015182728f22"
      },
      "source": [
        "data.plot(kind='scatter', x='x', y='y', figsize=(5,5), color='black')\n",
        "plt.plot(data['x'], prediction, color='pink')"
      ],
      "execution_count": null,
      "outputs": [
        {
          "output_type": "execute_result",
          "data": {
            "text/plain": [
              "[<matplotlib.lines.Line2D at 0x7f20ca095828>]"
            ]
          },
          "metadata": {
            "tags": []
          },
          "execution_count": 29
        },
        {
          "output_type": "display_data",
          "data": {
            "image/png": "[encoded data removed]",
            "text/plain": [
              "<Figure size 360x360 with 1 Axes>"
            ]
          },
          "metadata": {
            "tags": []
          }
        }
      ]
    },
    {
      "cell_type": "code",
      "metadata": {
        "colab": {
          "base_uri": "https://localhost:8080/"
        },
        "id": "h_puALzSkfOa",
        "outputId": "a34662d9-38a4-45ba-9aec-82d30dc23966"
      },
      "source": [
        "# 모델의 성능평가는 오차율로 평가한다 오차율이 0에 가까울 수록 좋은 것\n",
        "# RMSE = 편차 제곱의 평균의 루트를 씌운 값 : 큰에러를 최대한 줄이는 방향으로 학습함\n",
        "# MAE = 편차에 절대값을 씌운것의 평균 : 작은 에러에 더 민감함\n",
        "\n",
        "# score : 적합한지 여부를 보여줌, 선형회귀에서는 확률로 score를 낼수 없으므로\n",
        "# 결정계수를 점수 화하여 보여준다\n",
        "from sklearn.metrics import mean_squared_error\n",
        "print('score = ', linear_regression.score(X=pd.DataFrame(data['x']), y=data['y']))\n",
        "print('Mean_Squared_Error = ', mean_squared_error(prediction, data['y']))\n",
        "print('RMSE = ', mean_squared_error(prediction, data['y'])**0.5)"
      ],
      "execution_count": null,
      "outputs": [
        {
          "output_type": "stream",
          "text": [
            "score =  0.13323317178816063\n",
            "Mean_Squared_Error =  92.68987769190358\n",
            "RMSE =  9.627558241418411\n"
          ],
          "name": "stdout"
        }
      ]
    },
    {
      "cell_type": "markdown",
      "metadata": {
        "id": "P_XEGCpHOwWS"
      },
      "source": [
        "# SLR : wheather data"
      ]
    },
    {
      "cell_type": "code",
      "metadata": {
        "id": "MF0-C_eGPa4X"
      },
      "source": [
        "import pandas as pd\n",
        "import numpy as np\n",
        "import seaborn as seanornInstance\n",
        "from sklearn.model_selection import train_test_split\n",
        "from sklearn.linear_model import LinearRegression\n",
        "from sklearn import metrics\n",
        "%matplotlib inline"
      ],
      "execution_count": 35,
      "outputs": []
    },
    {
      "cell_type": "code",
      "metadata": {
        "colab": {
          "base_uri": "https://localhost:8080/",
          "height": 224
        },
        "id": "-4uoEaXfPv8M",
        "outputId": "1e661049-dafa-4ad9-d7bb-3d665e647b8c"
      },
      "source": [
        "weather_url = 'https://raw.githubusercontent.com/gilbutITbook/080263/master/chap3/data/weather.csv'\n",
        "wth = pd.read_csv(weather_url)\n",
        "wth.head()"
      ],
      "execution_count": 37,
      "outputs": [
        {
          "output_type": "execute_result",
          "data": {
            "text/html": [
              "<div>\n",
              "<style scoped>\n",
              "    .dataframe tbody tr th:only-of-type {\n",
              "        vertical-align: middle;\n",
              "    }\n",
              "\n",
              "    .dataframe tbody tr th {\n",
              "        vertical-align: top;\n",
              "    }\n",
              "\n",
              "    .dataframe thead th {\n",
              "        text-align: right;\n",
              "    }\n",
              "</style>\n",
              "<table border=\"1\" class=\"dataframe\">\n",
              "  <thead>\n",
              "    <tr style=\"text-align: right;\">\n",
              "      <th></th>\n",
              "      <th>Date</th>\n",
              "      <th>Location</th>\n",
              "      <th>MinTemp</th>\n",
              "      <th>MaxTemp</th>\n",
              "      <th>Rainfall</th>\n",
              "      <th>Evaporation</th>\n",
              "      <th>Sunshine</th>\n",
              "      <th>WindGustDir</th>\n",
              "      <th>WindGustSpeed</th>\n",
              "      <th>WindDir9am</th>\n",
              "      <th>WindDir3pm</th>\n",
              "      <th>WindSpeed9am</th>\n",
              "      <th>WindSpeed3pm</th>\n",
              "      <th>Humidity9am</th>\n",
              "      <th>Humidity3pm</th>\n",
              "      <th>Pressure9am</th>\n",
              "      <th>Pressure3pm</th>\n",
              "      <th>Cloud9am</th>\n",
              "      <th>Cloud3pm</th>\n",
              "      <th>Temp9am</th>\n",
              "      <th>Temp3pm</th>\n",
              "      <th>RainToday</th>\n",
              "      <th>RISK_MM</th>\n",
              "      <th>RainTomorrow</th>\n",
              "    </tr>\n",
              "  </thead>\n",
              "  <tbody>\n",
              "    <tr>\n",
              "      <th>0</th>\n",
              "      <td>11/1/2007</td>\n",
              "      <td>Canberra</td>\n",
              "      <td>8.0</td>\n",
              "      <td>24.3</td>\n",
              "      <td>0.0</td>\n",
              "      <td>3.4</td>\n",
              "      <td>6.3</td>\n",
              "      <td>NW</td>\n",
              "      <td>30.0</td>\n",
              "      <td>SW</td>\n",
              "      <td>NW</td>\n",
              "      <td>6.0</td>\n",
              "      <td>20</td>\n",
              "      <td>68</td>\n",
              "      <td>29</td>\n",
              "      <td>1019.7</td>\n",
              "      <td>1015.0</td>\n",
              "      <td>7</td>\n",
              "      <td>7</td>\n",
              "      <td>14.4</td>\n",
              "      <td>23.6</td>\n",
              "      <td>No</td>\n",
              "      <td>3.6</td>\n",
              "      <td>Yes</td>\n",
              "    </tr>\n",
              "    <tr>\n",
              "      <th>1</th>\n",
              "      <td>11/2/2007</td>\n",
              "      <td>Canberra</td>\n",
              "      <td>14.0</td>\n",
              "      <td>26.9</td>\n",
              "      <td>3.6</td>\n",
              "      <td>4.4</td>\n",
              "      <td>9.7</td>\n",
              "      <td>ENE</td>\n",
              "      <td>39.0</td>\n",
              "      <td>E</td>\n",
              "      <td>W</td>\n",
              "      <td>4.0</td>\n",
              "      <td>17</td>\n",
              "      <td>80</td>\n",
              "      <td>36</td>\n",
              "      <td>1012.4</td>\n",
              "      <td>1008.4</td>\n",
              "      <td>5</td>\n",
              "      <td>3</td>\n",
              "      <td>17.5</td>\n",
              "      <td>25.7</td>\n",
              "      <td>Yes</td>\n",
              "      <td>3.6</td>\n",
              "      <td>Yes</td>\n",
              "    </tr>\n",
              "    <tr>\n",
              "      <th>2</th>\n",
              "      <td>11/3/2007</td>\n",
              "      <td>Canberra</td>\n",
              "      <td>13.7</td>\n",
              "      <td>23.4</td>\n",
              "      <td>3.6</td>\n",
              "      <td>5.8</td>\n",
              "      <td>3.3</td>\n",
              "      <td>NW</td>\n",
              "      <td>85.0</td>\n",
              "      <td>N</td>\n",
              "      <td>NNE</td>\n",
              "      <td>6.0</td>\n",
              "      <td>6</td>\n",
              "      <td>82</td>\n",
              "      <td>69</td>\n",
              "      <td>1009.5</td>\n",
              "      <td>1007.2</td>\n",
              "      <td>8</td>\n",
              "      <td>7</td>\n",
              "      <td>15.4</td>\n",
              "      <td>20.2</td>\n",
              "      <td>Yes</td>\n",
              "      <td>39.8</td>\n",
              "      <td>Yes</td>\n",
              "    </tr>\n",
              "    <tr>\n",
              "      <th>3</th>\n",
              "      <td>11/4/2007</td>\n",
              "      <td>Canberra</td>\n",
              "      <td>13.3</td>\n",
              "      <td>15.5</td>\n",
              "      <td>39.8</td>\n",
              "      <td>7.2</td>\n",
              "      <td>9.1</td>\n",
              "      <td>NW</td>\n",
              "      <td>54.0</td>\n",
              "      <td>WNW</td>\n",
              "      <td>W</td>\n",
              "      <td>30.0</td>\n",
              "      <td>24</td>\n",
              "      <td>62</td>\n",
              "      <td>56</td>\n",
              "      <td>1005.5</td>\n",
              "      <td>1007.0</td>\n",
              "      <td>2</td>\n",
              "      <td>7</td>\n",
              "      <td>13.5</td>\n",
              "      <td>14.1</td>\n",
              "      <td>Yes</td>\n",
              "      <td>2.8</td>\n",
              "      <td>Yes</td>\n",
              "    </tr>\n",
              "    <tr>\n",
              "      <th>4</th>\n",
              "      <td>11/5/2007</td>\n",
              "      <td>Canberra</td>\n",
              "      <td>7.6</td>\n",
              "      <td>16.1</td>\n",
              "      <td>2.8</td>\n",
              "      <td>5.6</td>\n",
              "      <td>10.6</td>\n",
              "      <td>SSE</td>\n",
              "      <td>50.0</td>\n",
              "      <td>SSE</td>\n",
              "      <td>ESE</td>\n",
              "      <td>20.0</td>\n",
              "      <td>28</td>\n",
              "      <td>68</td>\n",
              "      <td>49</td>\n",
              "      <td>1018.3</td>\n",
              "      <td>1018.5</td>\n",
              "      <td>7</td>\n",
              "      <td>7</td>\n",
              "      <td>11.1</td>\n",
              "      <td>15.4</td>\n",
              "      <td>Yes</td>\n",
              "      <td>0.0</td>\n",
              "      <td>No</td>\n",
              "    </tr>\n",
              "  </tbody>\n",
              "</table>\n",
              "</div>"
            ],
            "text/plain": [
              "        Date  Location  MinTemp  ...  RainToday  RISK_MM  RainTomorrow\n",
              "0  11/1/2007  Canberra      8.0  ...         No      3.6           Yes\n",
              "1  11/2/2007  Canberra     14.0  ...        Yes      3.6           Yes\n",
              "2  11/3/2007  Canberra     13.7  ...        Yes     39.8           Yes\n",
              "3  11/4/2007  Canberra     13.3  ...        Yes      2.8           Yes\n",
              "4  11/5/2007  Canberra      7.6  ...        Yes      0.0            No\n",
              "\n",
              "[5 rows x 24 columns]"
            ]
          },
          "metadata": {
            "tags": []
          },
          "execution_count": 37
        }
      ]
    },
    {
      "cell_type": "code",
      "metadata": {
        "colab": {
          "base_uri": "https://localhost:8080/",
          "height": 295
        },
        "id": "nk9uWoFVQX7j",
        "outputId": "98c99f52-8d04-4b2e-cbc0-29e4f02f69e9"
      },
      "source": [
        "#plot\n",
        "wth.plot(x='MinTemp', y = 'MaxTemp', style = 'o')\n",
        "plt.title('MinTemp VS MaxTemp')\n",
        "plt.xlabel('MinTemp')\n",
        "plt.ylabel('MaxTemp')\n",
        "plt.show()"
      ],
      "execution_count": 38,
      "outputs": [
        {
          "output_type": "display_data",
          "data": {
            "image/png": "[encoded data removed]",
            "text/plain": [
              "<Figure size 432x288 with 1 Axes>"
            ]
          },
          "metadata": {
            "tags": [],
            "needs_background": "light"
          }
        }
      ]
    },
    {
      "cell_type": "code",
      "metadata": {
        "id": "W94gClPMQtfq"
      },
      "source": [
        "#spliting : attribute(독립변수)/label(종속변수)\n",
        "X = wth['MinTemp'].values.reshape(-1, 1)\n",
        "y = wth['MaxTemp'].values.reshape(-1, 1)\n",
        "X_train, X_test, y_train, y_test = train_test_split(X, y, test_size = 0.2)"
      ],
      "execution_count": 39,
      "outputs": []
    },
    {
      "cell_type": "code",
      "metadata": {
        "colab": {
          "base_uri": "https://localhost:8080/"
        },
        "id": "0_u1JQm_RSH3",
        "outputId": "907ed6b0-a861-406d-95b0-e3f42a5decbc"
      },
      "source": [
        "#learning model\n",
        "regressor = LinearRegression()\n",
        "regressor.fit(X_train, y_train)"
      ],
      "execution_count": 40,
      "outputs": [
        {
          "output_type": "execute_result",
          "data": {
            "text/plain": [
              "LinearRegression(copy_X=True, fit_intercept=True, n_jobs=None, normalize=False)"
            ]
          },
          "metadata": {
            "tags": []
          },
          "execution_count": 40
        }
      ]
    },
    {
      "cell_type": "code",
      "metadata": {
        "colab": {
          "base_uri": "https://localhost:8080/",
          "height": 419
        },
        "id": "ioD1jOSdRhx_",
        "outputId": "d16b271b-d24b-4cc5-e36d-b2624a8e76be"
      },
      "source": [
        "#prediction\n",
        "y_pred = regressor.predict(X_test)\n",
        "pred_df = pd.DataFrame({'Actual' : y_test.flatten(), 'Predicted' : y_pred.flatten()})\n",
        "pred_df"
      ],
      "execution_count": 43,
      "outputs": [
        {
          "output_type": "execute_result",
          "data": {
            "text/html": [
              "<div>\n",
              "<style scoped>\n",
              "    .dataframe tbody tr th:only-of-type {\n",
              "        vertical-align: middle;\n",
              "    }\n",
              "\n",
              "    .dataframe tbody tr th {\n",
              "        vertical-align: top;\n",
              "    }\n",
              "\n",
              "    .dataframe thead th {\n",
              "        text-align: right;\n",
              "    }\n",
              "</style>\n",
              "<table border=\"1\" class=\"dataframe\">\n",
              "  <thead>\n",
              "    <tr style=\"text-align: right;\">\n",
              "      <th></th>\n",
              "      <th>Actual</th>\n",
              "      <th>Predicted</th>\n",
              "    </tr>\n",
              "  </thead>\n",
              "  <tbody>\n",
              "    <tr>\n",
              "      <th>0</th>\n",
              "      <td>19.4</td>\n",
              "      <td>28.174784</td>\n",
              "    </tr>\n",
              "    <tr>\n",
              "      <th>1</th>\n",
              "      <td>14.5</td>\n",
              "      <td>15.666405</td>\n",
              "    </tr>\n",
              "    <tr>\n",
              "      <th>2</th>\n",
              "      <td>14.1</td>\n",
              "      <td>12.374726</td>\n",
              "    </tr>\n",
              "    <tr>\n",
              "      <th>3</th>\n",
              "      <td>18.8</td>\n",
              "      <td>22.578930</td>\n",
              "    </tr>\n",
              "    <tr>\n",
              "      <th>4</th>\n",
              "      <td>20.6</td>\n",
              "      <td>16.653908</td>\n",
              "    </tr>\n",
              "    <tr>\n",
              "      <th>...</th>\n",
              "      <td>...</td>\n",
              "      <td>...</td>\n",
              "    </tr>\n",
              "    <tr>\n",
              "      <th>69</th>\n",
              "      <td>11.5</td>\n",
              "      <td>13.197646</td>\n",
              "    </tr>\n",
              "    <tr>\n",
              "      <th>70</th>\n",
              "      <td>19.4</td>\n",
              "      <td>25.459149</td>\n",
              "    </tr>\n",
              "    <tr>\n",
              "      <th>71</th>\n",
              "      <td>24.7</td>\n",
              "      <td>20.192463</td>\n",
              "    </tr>\n",
              "    <tr>\n",
              "      <th>72</th>\n",
              "      <td>13.1</td>\n",
              "      <td>20.110171</td>\n",
              "    </tr>\n",
              "    <tr>\n",
              "      <th>73</th>\n",
              "      <td>16.8</td>\n",
              "      <td>16.571617</td>\n",
              "    </tr>\n",
              "  </tbody>\n",
              "</table>\n",
              "<p>74 rows × 2 columns</p>\n",
              "</div>"
            ],
            "text/plain": [
              "    Actual  Predicted\n",
              "0     19.4  28.174784\n",
              "1     14.5  15.666405\n",
              "2     14.1  12.374726\n",
              "3     18.8  22.578930\n",
              "4     20.6  16.653908\n",
              "..     ...        ...\n",
              "69    11.5  13.197646\n",
              "70    19.4  25.459149\n",
              "71    24.7  20.192463\n",
              "72    13.1  20.110171\n",
              "73    16.8  16.571617\n",
              "\n",
              "[74 rows x 2 columns]"
            ]
          },
          "metadata": {
            "tags": []
          },
          "execution_count": 43
        }
      ]
    },
    {
      "cell_type": "code",
      "metadata": {
        "colab": {
          "base_uri": "https://localhost:8080/",
          "height": 265
        },
        "id": "fbum4ocJRxo_",
        "outputId": "6a2d28da-ed3a-4501-dbd6-21fe6397fada"
      },
      "source": [
        "#plot\n",
        "plt.scatter(X_test, y_test, color = 'gray')\n",
        "plt.plot(X_test, y_pred, color = 'red', linewidth = 2)\n",
        "plt.show()"
      ],
      "execution_count": 44,
      "outputs": [
        {
          "output_type": "display_data",
          "data": {
            "image/png": "[encoded data removed]",
            "text/plain": [
              "<Figure size 432x288 with 1 Axes>"
            ]
          },
          "metadata": {
            "tags": [],
            "needs_background": "light"
          }
        }
      ]
    },
    {
      "cell_type": "code",
      "metadata": {
        "colab": {
          "base_uri": "https://localhost:8080/"
        },
        "id": "Qbt70Pp8SVNj",
        "outputId": "59c83b1c-29ed-4c79-8993-164810da7e9f"
      },
      "source": [
        "#evaluation model\n",
        "print('MSE:', metrics.mean_squared_error(y_test, y_pred))\n",
        "print('RMSE:', np.sqrt(metrics.mean_squared_error(y_test, y_pred)))"
      ],
      "execution_count": 45,
      "outputs": [
        {
          "output_type": "stream",
          "text": [
            "MSE: 20.801668226502624\n",
            "RMSE: 4.560884588158598\n"
          ],
          "name": "stdout"
        }
      ]
    }
  ]
}
