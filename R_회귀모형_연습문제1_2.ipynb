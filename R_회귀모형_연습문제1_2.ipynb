{
  "nbformat": 4,
  "nbformat_minor": 0,
  "metadata": {
    "colab": {
      "name": "R_회귀모형_연습문제1.2.ipynb",
      "private_outputs": true,
      "provenance": [],
      "collapsed_sections": [],
      "authorship_tag": "ABX9TyMsITGksvHzKJyfAynnqZio",
      "include_colab_link": true
    },
    "kernelspec": {
      "name": "ir",
      "display_name": "R"
    }
  },
  "cells": [
    {
      "cell_type": "markdown",
      "metadata": {
        "id": "view-in-github",
        "colab_type": "text"
      },
      "source": [
        "<a href=\"https://colab.research.google.com/github/seunghee0518/python_colab/blob/main/R_%ED%9A%8C%EA%B7%80%EB%AA%A8%ED%98%95_%EC%97%B0%EC%8A%B5%EB%AC%B8%EC%A0%9C1_2.ipynb\" target=\"_parent\"><img src=\"https://colab.research.google.com/assets/colab-badge.svg\" alt=\"Open In Colab\"/></a>"
      ]
    },
    {
      "cell_type": "markdown",
      "metadata": {
        "id": "k8oWgXbuZVNh"
      },
      "source": [
        "**Q2. 자동차 무게와 에너지 소모량 관계자료**\r\n",
        "1. 최소제곱법으로 회귀직선 구하기, 산점도, 구한 회귀직선을 산점도 위에 그리기\r\n",
        "2. 분산분석표 작성, 회귀직선의 유의여부 검정(유의수준 a= 0.05)\r\n",
        "3. 무게 3,000kg인 차량의 에너지소모량 예측\r\n",
        "4. 원점을 지나는 회귀직선 구하기\r\n",
        "5. 원점을 지나는 회귀직선의 결정계수 구하기\r\n",
        "6. 오차항의 분산이 같지 않다는 것을 구하기,var(ei)=kx^2으로 x^2의 크기에 비례한다면 가중회귀를 사용해야됨, 가중최소제곱법에 의한 가중회귀직선, 회귀변동(SSR) "
      ]
    },
    {
      "cell_type": "code",
      "metadata": {
        "id": "CwRV6f-LmRW8"
      },
      "source": [
        "#데이터 불러오기\r\n",
        "car = read.table(\"https://raw.githubusercontent.com/seunghee0518/R_File/main/%ED%9A%8C%EA%B7%80%EB%AA%A8%ED%98%95/exercise_1.2.txt\", header=T)\r\n",
        "head(car, 3)\r\n",
        "attach(car)\r\n",
        "X=weight\r\n",
        "Y=energy"
      ],
      "execution_count": null,
      "outputs": []
    },
    {
      "cell_type": "code",
      "metadata": {
        "id": "2BLR1C7jb_L1"
      },
      "source": [
        "#1. 최소제곱법으로 회귀직선 구하기, 산점도, 구한 회귀직선을 산점도 위에 그리기\r\n",
        "car.lm = lm(Y~X, data = car)\r\n",
        "summary(car.lm)\r\n",
        "plot(X, Y, pch=19)\r\n",
        "abline(car.lm)"
      ],
      "execution_count": null,
      "outputs": []
    },
    {
      "cell_type": "code",
      "metadata": {
        "id": "NXC09pV06VHH"
      },
      "source": [
        "#2. 분산분석표 작성, 회귀직선의 유의여부 검정(유의수준 a= 0.05)\r\n",
        "anova(car.lm)"
      ],
      "execution_count": null,
      "outputs": []
    },
    {
      "cell_type": "code",
      "metadata": {
        "id": "ofuy8hEC6kHf"
      },
      "source": [
        "#p값 = 1-pf(F0, 1, 자유도 n-2)\r\n",
        "#p값이 6.797651e-06로 매우작음,귀무가설 기각\r\n",
        "pValue = 1-pf(141.16, 1, 7)\r\n",
        "pValue"
      ],
      "execution_count": null,
      "outputs": []
    },
    {
      "cell_type": "code",
      "metadata": {
        "id": "M7CwQZti6lJK"
      },
      "source": [
        "#3. 무게 3,000kg인 차량의 에너지소모량 예측\r\n",
        "yi <- function(x){\r\n",
        "  y <- 2.1626*x-0.1157\r\n",
        "  return(y)\r\n",
        "}\r\n",
        "yi(3000)"
      ],
      "execution_count": null,
      "outputs": []
    },
    {
      "cell_type": "code",
      "metadata": {
        "id": "0rtfi08b6m9b"
      },
      "source": [
        "#4. 원점을 지나는 회귀직선 구하기"
      ],
      "execution_count": null,
      "outputs": []
    },
    {
      "cell_type": "code",
      "metadata": {
        "id": "KgA_5t7z6oic"
      },
      "source": [
        "#5. 원점을 지나는 회귀직선의 결정계수 구하기"
      ],
      "execution_count": null,
      "outputs": []
    },
    {
      "cell_type": "code",
      "metadata": {
        "id": "FWqsqdJK6r_G"
      },
      "source": [
        "#6. 오차항의 분산이 같지 않다는 것을 구하기,"
      ],
      "execution_count": null,
      "outputs": []
    },
    {
      "cell_type": "code",
      "metadata": {
        "id": "w_xK_n2X6ugK"
      },
      "source": [
        "#    var(ei)=kx^2으로 x^2의 크기에 비례한다면 가중회귀를 사용해야됨\r\n",
        "#    가중최소제곱법에 의한 가중회귀직선, 회귀변동(SSR) "
      ],
      "execution_count": null,
      "outputs": []
    }
  ]
}