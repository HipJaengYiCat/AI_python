{
  "nbformat": 4,
  "nbformat_minor": 0,
  "metadata": {
    "colab": {
      "name": "[BASELINE] EfficientNet_b0을 활용한 분류 모델",
      "provenance": [],
      "collapsed_sections": [],
      "machine_shape": "hm",
      "include_colab_link": true
    },
    "kernelspec": {
      "name": "python3",
      "display_name": "Python 3"
    },
    "language_info": {
      "name": "python"
    },
    "accelerator": "GPU"
  },
  "cells": [
    {
      "cell_type": "markdown",
      "metadata": {
        "id": "view-in-github",
        "colab_type": "text"
      },
      "source": [
        "<a href=\"https://colab.research.google.com/github/seunghee0518/AI_python/blob/main/%5BBASELINE%5D_EfficientNet_b0%EC%9D%84_%ED%99%9C%EC%9A%A9%ED%95%9C_%EB%B6%84%EB%A5%98_%EB%AA%A8%EB%8D%B8_imagesize224_epoch100.ipynb\" target=\"_parent\"><img src=\"https://colab.research.google.com/assets/colab-badge.svg\" alt=\"Open In Colab\"/></a>"
      ]
    },
    {
      "cell_type": "markdown",
      "source": [
        "# 데이터 셋 전처리 및 시각화"
      ],
      "metadata": {
        "id": "KIQY-zObazwG"
      }
    },
    {
      "cell_type": "code",
      "source": [
        "from google.colab import drive\n",
        "drive.mount('/content/drive')\n",
        "\n",
        "# 코랩에서 이미지 출력하기\n",
        "#from google.colab.patches import cv2_imshow\n",
        "# imgfile = '/gdrive/MyDrive/cropStudy/sample.JPG'\n",
        "# img = cv2.imread(imgfile, cv2.IMREAD_COLOR)\n",
        "#이미지 출력하기( ver. colab)\n",
        "# cv2_imshow(a)"
      ],
      "metadata": {
        "colab": {
          "base_uri": "https://localhost:8080/"
        },
        "id": "GZSDGyp_1yYO",
        "outputId": "d0baf1e3-b19f-4a9b-cdb0-eab9db74358e"
      },
      "execution_count": 1,
      "outputs": [
        {
          "output_type": "stream",
          "name": "stdout",
          "text": [
            "Mounted at /content/drive\n"
          ]
        }
      ]
    },
    {
      "cell_type": "code",
      "source": [
        "!pip install timm"
      ],
      "metadata": {
        "colab": {
          "base_uri": "https://localhost:8080/"
        },
        "id": "8LZ2x-IlVQPd",
        "outputId": "a0937c5f-f93f-4ec5-c867-aa5d948cc946"
      },
      "execution_count": 2,
      "outputs": [
        {
          "output_type": "stream",
          "name": "stdout",
          "text": [
            "Collecting timm\n",
            "  Downloading timm-0.5.4-py3-none-any.whl (431 kB)\n",
            "\u001b[?25l\r\u001b[K     |▊                               | 10 kB 27.8 MB/s eta 0:00:01\r\u001b[K     |█▌                              | 20 kB 36.7 MB/s eta 0:00:01\r\u001b[K     |██▎                             | 30 kB 23.6 MB/s eta 0:00:01\r\u001b[K     |███                             | 40 kB 15.0 MB/s eta 0:00:01\r\u001b[K     |███▉                            | 51 kB 12.1 MB/s eta 0:00:01\r\u001b[K     |████▋                           | 61 kB 14.1 MB/s eta 0:00:01\r\u001b[K     |█████▎                          | 71 kB 15.2 MB/s eta 0:00:01\r\u001b[K     |██████                          | 81 kB 13.2 MB/s eta 0:00:01\r\u001b[K     |██████▉                         | 92 kB 14.6 MB/s eta 0:00:01\r\u001b[K     |███████▋                        | 102 kB 16.0 MB/s eta 0:00:01\r\u001b[K     |████████▍                       | 112 kB 16.0 MB/s eta 0:00:01\r\u001b[K     |█████████▏                      | 122 kB 16.0 MB/s eta 0:00:01\r\u001b[K     |█████████▉                      | 133 kB 16.0 MB/s eta 0:00:01\r\u001b[K     |██████████▋                     | 143 kB 16.0 MB/s eta 0:00:01\r\u001b[K     |███████████▍                    | 153 kB 16.0 MB/s eta 0:00:01\r\u001b[K     |████████████▏                   | 163 kB 16.0 MB/s eta 0:00:01\r\u001b[K     |█████████████                   | 174 kB 16.0 MB/s eta 0:00:01\r\u001b[K     |█████████████▊                  | 184 kB 16.0 MB/s eta 0:00:01\r\u001b[K     |██████████████▍                 | 194 kB 16.0 MB/s eta 0:00:01\r\u001b[K     |███████████████▏                | 204 kB 16.0 MB/s eta 0:00:01\r\u001b[K     |████████████████                | 215 kB 16.0 MB/s eta 0:00:01\r\u001b[K     |████████████████▊               | 225 kB 16.0 MB/s eta 0:00:01\r\u001b[K     |█████████████████▌              | 235 kB 16.0 MB/s eta 0:00:01\r\u001b[K     |██████████████████▎             | 245 kB 16.0 MB/s eta 0:00:01\r\u001b[K     |███████████████████             | 256 kB 16.0 MB/s eta 0:00:01\r\u001b[K     |███████████████████▊            | 266 kB 16.0 MB/s eta 0:00:01\r\u001b[K     |████████████████████▌           | 276 kB 16.0 MB/s eta 0:00:01\r\u001b[K     |█████████████████████▎          | 286 kB 16.0 MB/s eta 0:00:01\r\u001b[K     |██████████████████████          | 296 kB 16.0 MB/s eta 0:00:01\r\u001b[K     |██████████████████████▉         | 307 kB 16.0 MB/s eta 0:00:01\r\u001b[K     |███████████████████████▌        | 317 kB 16.0 MB/s eta 0:00:01\r\u001b[K     |████████████████████████▎       | 327 kB 16.0 MB/s eta 0:00:01\r\u001b[K     |█████████████████████████       | 337 kB 16.0 MB/s eta 0:00:01\r\u001b[K     |█████████████████████████▉      | 348 kB 16.0 MB/s eta 0:00:01\r\u001b[K     |██████████████████████████▋     | 358 kB 16.0 MB/s eta 0:00:01\r\u001b[K     |███████████████████████████▍    | 368 kB 16.0 MB/s eta 0:00:01\r\u001b[K     |████████████████████████████    | 378 kB 16.0 MB/s eta 0:00:01\r\u001b[K     |████████████████████████████▉   | 389 kB 16.0 MB/s eta 0:00:01\r\u001b[K     |█████████████████████████████▋  | 399 kB 16.0 MB/s eta 0:00:01\r\u001b[K     |██████████████████████████████▍ | 409 kB 16.0 MB/s eta 0:00:01\r\u001b[K     |███████████████████████████████▏| 419 kB 16.0 MB/s eta 0:00:01\r\u001b[K     |████████████████████████████████| 430 kB 16.0 MB/s eta 0:00:01\r\u001b[K     |████████████████████████████████| 431 kB 16.0 MB/s \n",
            "\u001b[?25hRequirement already satisfied: torch>=1.4 in /usr/local/lib/python3.7/dist-packages (from timm) (1.11.0+cu113)\n",
            "Requirement already satisfied: torchvision in /usr/local/lib/python3.7/dist-packages (from timm) (0.12.0+cu113)\n",
            "Requirement already satisfied: typing-extensions in /usr/local/lib/python3.7/dist-packages (from torch>=1.4->timm) (4.2.0)\n",
            "Requirement already satisfied: pillow!=8.3.*,>=5.3.0 in /usr/local/lib/python3.7/dist-packages (from torchvision->timm) (7.1.2)\n",
            "Requirement already satisfied: requests in /usr/local/lib/python3.7/dist-packages (from torchvision->timm) (2.23.0)\n",
            "Requirement already satisfied: numpy in /usr/local/lib/python3.7/dist-packages (from torchvision->timm) (1.21.6)\n",
            "Requirement already satisfied: certifi>=2017.4.17 in /usr/local/lib/python3.7/dist-packages (from requests->torchvision->timm) (2021.10.8)\n",
            "Requirement already satisfied: chardet<4,>=3.0.2 in /usr/local/lib/python3.7/dist-packages (from requests->torchvision->timm) (3.0.4)\n",
            "Requirement already satisfied: urllib3!=1.25.0,!=1.25.1,<1.26,>=1.21.1 in /usr/local/lib/python3.7/dist-packages (from requests->torchvision->timm) (1.24.3)\n",
            "Requirement already satisfied: idna<3,>=2.5 in /usr/local/lib/python3.7/dist-packages (from requests->torchvision->timm) (2.10)\n",
            "Installing collected packages: timm\n",
            "Successfully installed timm-0.5.4\n"
          ]
        }
      ]
    },
    {
      "cell_type": "code",
      "source": [
        "# 공모전 기본 코드\n",
        "import warnings\n",
        "warnings.filterwarnings('ignore')\n",
        "\n",
        "from glob import glob\n",
        "import pandas as pd\n",
        "import numpy as np \n",
        "from tqdm import tqdm\n",
        "import cv2\n",
        "\n",
        "import os\n",
        "import timm\n",
        "import random\n",
        "\n",
        "import torch\n",
        "from torch.utils.data import Dataset, DataLoader\n",
        "import torch.nn as nn\n",
        "import torchvision.transforms as transforms\n",
        "from sklearn.metrics import f1_score, accuracy_score\n",
        "import time\n",
        "import gc\n",
        "\n",
        "device = torch.device('cuda')\n",
        "\n",
        "## 이미지 경로\n",
        "train_png = sorted(glob('/content/drive/Othercomputers/내 MacBook Pro/open/train/*.png'))\n",
        "#test_png = sorted(glob('/content/drive/Othercomputers/내 MacBook Pro/open/train/*.png'))\n",
        "\n",
        "train_y = pd.read_csv(\"/content/drive/Othercomputers/내 MacBook Pro/open/train_df.csv\")\n",
        "\n",
        "train_labels = train_y[\"label\"]\n",
        "\n",
        "label_unique = sorted(np.unique(train_labels))\n",
        "label_unique = {key:value for key,value in zip(label_unique, range(len(label_unique)))}\n",
        "\n",
        "train_labels = [label_unique[k] for k in train_labels]\n",
        "\n",
        "def img_load(path):\n",
        "    img = cv2.imread(path)[:,:,::-1].astype('float32') # [:,:,::-1] -> BGR -> RGB 변경\n",
        "    img = cv2.resize(img, (224, 224))\n",
        "    img = img/255\n",
        "    return img\n",
        "\n",
        "# for i, m in enumerate(tqdm(train_png)):\n",
        "#   if i == 0:\n",
        "#     train_imgs = img_load(m).copy()\n",
        "#     del m\n",
        "#     gc.collect()\n",
        "#   else:\n",
        "#     train_imgs = np.concatenate([train_imgs, img_load(m)], 0)\n",
        "#     del m\n",
        "#     gc.collect()\n",
        "train_imgs = [img_load(m) for m in tqdm(train_png)]\n",
        "#test_imgs = [img_load(n) for n in tqdm(test_png)]"
      ],
      "metadata": {
        "id": "FHbMopHUyxzV",
        "colab": {
          "base_uri": "https://localhost:8080/"
        },
        "outputId": "f3e7b04e-c176-406f-e01c-9ff1ad118d42"
      },
      "execution_count": 3,
      "outputs": [
        {
          "output_type": "stream",
          "name": "stderr",
          "text": [
            "100%|██████████| 4277/4277 [06:54<00:00, 10.32it/s]\n"
          ]
        }
      ]
    },
    {
      "cell_type": "code",
      "source": [
        "np.shape(train_imgs) # 예상 shape : (4277, 512, 512, 3)"
      ],
      "metadata": {
        "colab": {
          "base_uri": "https://localhost:8080/"
        },
        "id": "gwZEXmI6hLsU",
        "outputId": "107aa507-723f-4e82-c31b-7345167c6049"
      },
      "execution_count": 8,
      "outputs": [
        {
          "output_type": "execute_result",
          "data": {
            "text/plain": [
              "(4277, 224, 224, 3)"
            ]
          },
          "metadata": {},
          "execution_count": 8
        }
      ]
    },
    {
      "cell_type": "code",
      "source": [
        "np.save('/content/drive/MyDrive/DACON_이상치 탐지 알고리즘 경진대회/train_imgs_224', train_imgs)"
      ],
      "metadata": {
        "id": "krqrPGu7haz4"
      },
      "execution_count": 9,
      "outputs": []
    },
    {
      "cell_type": "code",
      "source": [
        "# ## 이미지 가져와서 넘파이 배열 생성\n",
        "# import re\n",
        "# import cv2\n",
        "# from sklearn.model_selection import train_test_split\n",
        "# from tqdm import tqdm\n",
        "# import pandas as pd\n",
        "# import numpy as np\n",
        "# import gc\n",
        "\n",
        "# ## 주어진 train_df에 각 레이블마다 원-핫 인코딩값을 생성할 인덱스 부여\n",
        "# train_df = pd.read_csv('/content/drive/MyDrive/DACON_이상치 탐지 알고리즘 경진대회/open/train_df.csv')\n",
        "# final_train88_df = train_df.copy()\n",
        "# label_lst = final_train88_df.label.unique().tolist()\n",
        "# label_lst.sort()\n",
        "# one_hot_label = pd.DataFrame(label_lst, columns = {'label'})\n",
        "# one_hot_label['one_hot_label'] = one_hot_label.index.tolist()\n",
        "# one_hot_label\n",
        "\n",
        "# final_train88_df = pd.merge(final_train88_df, one_hot_label, how = 'left', on = 'label')\n",
        "# final_train88_df\n",
        "\n",
        "# # 학습 파일 기본 경로 지정 및 넘파이 배열로 변환\n",
        "# # 넘파일 배열을 생성할 레이블의 one_hot_label값 [0 ~ 87] / df > one_hot_label 참조\n",
        "# image_dir = '/content/drive/Othercomputers/내 MacBook Pro/open/train'\n",
        "# num_total_label = 88 # 레이블 총 개수\n",
        "# one_hot_label = [x for x in range(88)]\n",
        "\n",
        "# img_rows = 512\n",
        "# img_cols = 512\n",
        "\n",
        "# X = [] # 입력 데이터\n",
        "# Y = [] # 정답값\n",
        "\n",
        "# ## 이미지 배열 파일 생성\n",
        "# for index, row in tqdm(final_train88_df.iterrows(), total = len(final_train88_df)) : \n",
        "#   filename = row['file_name']\n",
        "#   label_idx = row['one_hot_label']\n",
        "#   # img_label : Y 배열에 들어갈 원-핫 인코딩된 정답값\n",
        "#   img_label = [0 for i in range(num_total_label)]\n",
        "#   img_label[label_idx] = 1\n",
        "\n",
        "#   img = cv2.imread(f'{image_dir}/{filename}')#.astype('float32')\n",
        "#   img = cv2.resize(img, (img_rows,img_cols))#, fx=img_w/img.shape[1], fy=img_h/img.shape[0])\n",
        "#   X.append(img/256)\n",
        "#   Y.append(img_label)\n",
        "\n",
        "# X = np.array(X)\n",
        "# Y = np.array(Y)\n",
        "\n",
        "# x_train, x_test, y_train, y_test = train_test_split(X, Y, stratify=Y, test_size=0.3, random_state=1234)\n",
        "\n",
        "# ## 안쓰는 변수 비우기 : 램관리\n",
        "# del X, Y\n",
        "# gc.collect()"
      ],
      "metadata": {
        "id": "HUc2BWsG3r7C"
      },
      "execution_count": null,
      "outputs": []
    },
    {
      "cell_type": "code",
      "source": [
        "# ## 저장된 이미지 불러오기\n",
        "# import cv2 \n",
        "# import numpy as np \n",
        "# import pandas as pd\n",
        "# import keras\n",
        "# import math\n",
        "\n",
        "# import matplotlib.pyplot as plt\n",
        "# import os # miscellaneous operating system interfaces\n",
        "# import shutil # high-level file operations\n",
        "# from glob import glob\n",
        "# from tqdm import tqdm\n",
        "# import re\n",
        "# from sklearn.model_selection import train_test_split\n",
        "# import random\n",
        "# import cv2\n",
        "# from PIL import Image\n",
        "# import PIL.ImageOps    \n",
        "# from keras.preprocessing.image import ImageDataGenerator\n",
        "# from keras.preprocessing.image import array_to_img, img_to_array, load_img\n",
        "# import gc\n",
        "# imageset_save_dir = '/content/drive/MyDrive/DACON_이상치 탐지 알고리즘 경진대회/open/imageset'\n",
        "# imagset512 = glob(f'{imageset_save_dir}/*type0_512*')\n",
        "# imagset512.sort()\n",
        "\n",
        "# for i in tqdm(range(len(imagset512))):\n",
        "#   path = imagset512[i]\n",
        "#   if i == 0:\n",
        "#     xy_savez_load = np.load(path)\n",
        "#     X = xy_savez_load['x'].astype('float32') # 약 15gb\n",
        "#     Y = xy_savez_load['y'].astype('float32')\n",
        "#     xy_savez_load.close()\n",
        "#   else:\n",
        "#     xy_savez_load = np.load(path)\n",
        "#     each_X = xy_savez_load['x'].astype('float32')\n",
        "#     each_Y = xy_savez_load['y'].astype('float32')\n",
        "#     xy_savez_load.close()\n",
        "\n",
        "\n",
        "#     X = np.concatenate([X, each_X], 0)\n",
        "#     Y = np.concatenate([Y, each_Y], 0)\n",
        "#     try:\n",
        "#       del each_X, each_Y\n",
        "#       gc.collect()\n",
        "#     except: pass\n",
        "\n",
        "# print('X 차원 : ', np.shape(X))\n",
        "# print('Y 차원 : ', np.shape(Y))\n",
        "\n",
        "# x_train, x_test, y_train, y_test = train_test_split(X, Y, stratify=Y, test_size=0.3, random_state=1234)\n",
        "# del \bX, Y\n",
        "# gc.collect()"
      ],
      "metadata": {
        "colab": {
          "base_uri": "https://localhost:8080/"
        },
        "id": "Lxuq87SxPoko",
        "outputId": "6788e9e7-9ed2-427f-f189-bdbd82f84db9"
      },
      "execution_count": 6,
      "outputs": [
        {
          "output_type": "stream",
          "name": "stderr",
          "text": [
            "  1%|          | 1/88 [00:00<00:27,  3.17it/s]Exception ignored in: <function NpzFile.__del__ at 0x7f24b486b0e0>\n",
            "Traceback (most recent call last):\n",
            "  File \"/usr/local/lib/python3.7/dist-packages/numpy/lib/npyio.py\", line 224, in __del__\n",
            "    self.close()\n",
            "  File \"/usr/local/lib/python3.7/dist-packages/numpy/lib/npyio.py\", line 219, in close\n",
            "    self.fid.close()\n",
            "OSError: [Errno 107] Transport endpoint is not connected\n",
            "100%|██████████| 88/88 [06:47<00:00,  4.63s/it]\n"
          ]
        },
        {
          "output_type": "stream",
          "name": "stdout",
          "text": [
            "X 차원 :  (4277, 512, 512, 3)\n",
            "Y 차원 :  (4277, 88)\n"
          ]
        }
      ]
    },
    {
      "cell_type": "code",
      "source": [
        "class Custom_dataset(Dataset):\n",
        "    def __init__(self, img_paths, labels, mode='train'):\n",
        "        self.img_paths = img_paths\n",
        "        self.labels = labels\n",
        "        self.mode=mode\n",
        "    def __len__(self):\n",
        "        return len(self.img_paths)\n",
        "    def __getitem__(self, idx):\n",
        "        img = self.img_paths[idx]\n",
        "        if self.mode=='train':\n",
        "            augmentation = random.randint(0,2)\n",
        "            if augmentation==1:\n",
        "                img = img[::-1].copy()\n",
        "            elif augmentation==2:\n",
        "                img = img[:,::-1].copy()\n",
        "        img = transforms.ToTensor()(img)\n",
        "        if self.mode=='test':\n",
        "            pass\n",
        "        \n",
        "        label = self.labels[idx]\n",
        "        return img, label\n",
        "\n",
        "class Custom_dataset_2(Dataset):\n",
        "    def __init__(self, img_paths, labels, mode='train'):\n",
        "        self.img_paths = img_paths\n",
        "        self.labels = labels\n",
        "        self.mode=mode\n",
        "    def __len__(self):\n",
        "        return len(self.img_paths)\n",
        "    def __getitem__(self, idx):\n",
        "        img = self.img_paths[idx]\n",
        "        # if self.mode=='train':\n",
        "        #     augmentation = random.randint(0,2)\n",
        "        #     if augmentation==1:\n",
        "        #         img = img[::-1].copy()\n",
        "        #     elif augmentation==2:\n",
        "        #         img = img[:,::-1].copy()\n",
        "        img = transforms.ToTensor()(img)\n",
        "        if self.mode=='test':\n",
        "            pass\n",
        "        \n",
        "        label = self.labels[idx]\n",
        "        return img, label\n",
        "    \n",
        "class Network(nn.Module):\n",
        "    def __init__(self):\n",
        "        super(Network, self).__init__()\n",
        "        self.model = timm.create_model('efficientnet_b0', pretrained=True, num_classes=88)\n",
        "        \n",
        "    def forward(self, x):\n",
        "        x = self.model(x)\n",
        "        return x"
      ],
      "metadata": {
        "id": "aKF_VeYoUe44"
      },
      "execution_count": 4,
      "outputs": []
    },
    {
      "cell_type": "code",
      "source": [
        "# ## 저장된 넘파이배열\n",
        "# # 공모전 기본 코드\n",
        "# import warnings\n",
        "# warnings.filterwarnings('ignore')\n",
        "\n",
        "# from glob import glob\n",
        "# import pandas as pd\n",
        "# import numpy as np \n",
        "# from tqdm import tqdm\n",
        "# import cv2\n",
        "\n",
        "# import os\n",
        "# import timm\n",
        "# import random\n",
        "\n",
        "# import torch\n",
        "# from torch.utils.data import Dataset, DataLoader\n",
        "# import torch.nn as nn\n",
        "# import torchvision.transforms as transforms\n",
        "# from sklearn.metrics import f1_score, accuracy_score\n",
        "# import time\n",
        "\n",
        "#train_imgs = np.load('/content/drive/MyDrive/DACON_이상치 탐지 알고리즘 경진대회/train_imgs.npy')"
      ],
      "metadata": {
        "id": "x4sdKJAMo2cz"
      },
      "execution_count": 4,
      "outputs": []
    },
    {
      "cell_type": "code",
      "source": [
        "batch_size = 32\n",
        "epochs = 100\n",
        "\n",
        "# Train\n",
        "train_dataset = Custom_dataset_2(np.array(train_imgs), np.array(train_labels), mode='train')\n",
        "train_loader = DataLoader(train_dataset, shuffle=True, batch_size=batch_size)\n",
        "\n",
        "# # Test\n",
        "# test_dataset = Custom_dataset(np.array(test_imgs), np.array([\"tmp\"]*len(test_imgs)), mode='test')\n",
        "# test_loader = DataLoader(test_dataset, shuffle=False, batch_size=batch_size)\n",
        "\n",
        "def score_function(real, pred):\n",
        "    score = f1_score(real, pred, average=\"macro\")\n",
        "    return score\n",
        "\n",
        "model = Network().to(device)\n",
        "\n",
        "optimizer = torch.optim.Adam(model.parameters(), lr=1e-3)\n",
        "criterion = nn.CrossEntropyLoss()\n",
        "scaler = torch.cuda.amp.GradScaler() \n",
        "\n",
        "best=0\n",
        "for epoch in range(epochs):\n",
        "    start=time.time()\n",
        "    train_loss = 0\n",
        "    train_pred=[]\n",
        "    train_y=[]\n",
        "    model.train()\n",
        "    for batch in (train_loader):\n",
        "        optimizer.zero_grad()\n",
        "        x = torch.tensor(batch[0], dtype=torch.float32, device=device)\n",
        "        y = torch.tensor(batch[1], dtype=torch.long, device=device)\n",
        "        with torch.cuda.amp.autocast():\n",
        "            pred = model(x)\n",
        "        loss = criterion(pred, y)\n",
        "\n",
        "\n",
        "        scaler.scale(loss).backward()\n",
        "        scaler.step(optimizer)\n",
        "        scaler.update()\n",
        "        \n",
        "        train_loss += loss.item()/len(train_loader)\n",
        "        train_pred += pred.argmax(1).detach().cpu().numpy().tolist()\n",
        "        train_y += y.detach().cpu().numpy().tolist()\n",
        "        \n",
        "    \n",
        "    train_f1 = score_function(train_y, train_pred)\n",
        "\n",
        "    TIME = time.time() - start\n",
        "    print(f'epoch : {epoch+1}/{epochs}    time : {TIME:.0f}s/{TIME*(epochs-epoch-1):.0f}s')\n",
        "    print(f'TRAIN    loss : {train_loss:.5f}    f1 : {train_f1:.5f}')"
      ],
      "metadata": {
        "colab": {
          "base_uri": "https://localhost:8080/"
        },
        "id": "L3VD0HpZUhSi",
        "outputId": "39923e64-2f9b-4160-9ebe-223fbdab2169"
      },
      "execution_count": 5,
      "outputs": [
        {
          "output_type": "stream",
          "name": "stderr",
          "text": [
            "Downloading: \"https://github.com/rwightman/pytorch-image-models/releases/download/v0.1-weights/efficientnet_b0_ra-3dd342df.pth\" to /root/.cache/torch/hub/checkpoints/efficientnet_b0_ra-3dd342df.pth\n"
          ]
        },
        {
          "output_type": "stream",
          "name": "stdout",
          "text": [
            "epoch : 1/100    time : 27s/2680s\n",
            "TRAIN    loss : 1.00512    f1 : 0.24234\n",
            "epoch : 2/100    time : 26s/2587s\n",
            "TRAIN    loss : 0.54737    f1 : 0.37586\n",
            "epoch : 3/100    time : 26s/2549s\n",
            "TRAIN    loss : 0.38658    f1 : 0.53500\n",
            "epoch : 4/100    time : 28s/2660s\n",
            "TRAIN    loss : 0.32205    f1 : 0.59923\n",
            "epoch : 5/100    time : 26s/2499s\n",
            "TRAIN    loss : 0.29178    f1 : 0.63599\n",
            "epoch : 6/100    time : 27s/2509s\n",
            "TRAIN    loss : 0.22484    f1 : 0.70578\n",
            "epoch : 7/100    time : 26s/2454s\n",
            "TRAIN    loss : 0.17718    f1 : 0.77005\n",
            "epoch : 8/100    time : 26s/2428s\n",
            "TRAIN    loss : 0.13255    f1 : 0.82845\n",
            "epoch : 9/100    time : 30s/2695s\n",
            "TRAIN    loss : 0.13888    f1 : 0.85453\n",
            "epoch : 10/100    time : 26s/2376s\n",
            "TRAIN    loss : 0.12658    f1 : 0.87199\n",
            "epoch : 11/100    time : 27s/2359s\n",
            "TRAIN    loss : 0.09489    f1 : 0.88341\n",
            "epoch : 12/100    time : 26s/2320s\n",
            "TRAIN    loss : 0.05213    f1 : 0.94714\n",
            "epoch : 13/100    time : 26s/2293s\n",
            "TRAIN    loss : 0.05233    f1 : 0.94921\n",
            "epoch : 14/100    time : 26s/2268s\n",
            "TRAIN    loss : 0.05102    f1 : 0.94272\n",
            "epoch : 15/100    time : 26s/2241s\n",
            "TRAIN    loss : 0.04026    f1 : 0.94340\n",
            "epoch : 16/100    time : 26s/2212s\n",
            "TRAIN    loss : 0.05923    f1 : 0.93556\n",
            "epoch : 17/100    time : 26s/2194s\n",
            "TRAIN    loss : 0.09100    f1 : 0.91832\n",
            "epoch : 18/100    time : 26s/2169s\n",
            "TRAIN    loss : 0.09391    f1 : 0.90864\n",
            "epoch : 19/100    time : 26s/2139s\n",
            "TRAIN    loss : 0.04186    f1 : 0.95454\n",
            "epoch : 20/100    time : 26s/2108s\n",
            "TRAIN    loss : 0.07220    f1 : 0.92727\n",
            "epoch : 21/100    time : 27s/2094s\n",
            "TRAIN    loss : 0.04395    f1 : 0.94788\n",
            "epoch : 22/100    time : 27s/2121s\n",
            "TRAIN    loss : 0.04800    f1 : 0.95218\n",
            "epoch : 23/100    time : 26s/2028s\n",
            "TRAIN    loss : 0.03851    f1 : 0.95146\n",
            "epoch : 24/100    time : 26s/1996s\n",
            "TRAIN    loss : 0.10189    f1 : 0.90606\n",
            "epoch : 25/100    time : 27s/2006s\n",
            "TRAIN    loss : 0.06718    f1 : 0.93642\n",
            "epoch : 26/100    time : 26s/1950s\n",
            "TRAIN    loss : 0.02757    f1 : 0.96678\n",
            "epoch : 27/100    time : 26s/1924s\n",
            "TRAIN    loss : 0.01211    f1 : 0.98418\n",
            "epoch : 28/100    time : 26s/1904s\n",
            "TRAIN    loss : 0.05486    f1 : 0.94582\n",
            "epoch : 29/100    time : 27s/1884s\n",
            "TRAIN    loss : 0.02277    f1 : 0.96737\n",
            "epoch : 30/100    time : 26s/1854s\n",
            "TRAIN    loss : 0.03395    f1 : 0.96448\n",
            "epoch : 31/100    time : 27s/1832s\n",
            "TRAIN    loss : 0.02958    f1 : 0.97522\n",
            "epoch : 32/100    time : 27s/1802s\n",
            "TRAIN    loss : 0.05604    f1 : 0.94379\n",
            "epoch : 33/100    time : 26s/1772s\n",
            "TRAIN    loss : 0.05047    f1 : 0.94832\n",
            "epoch : 34/100    time : 26s/1742s\n",
            "TRAIN    loss : 0.04412    f1 : 0.96300\n",
            "epoch : 35/100    time : 26s/1711s\n",
            "TRAIN    loss : 0.02645    f1 : 0.96847\n",
            "epoch : 36/100    time : 26s/1694s\n",
            "TRAIN    loss : 0.02095    f1 : 0.97830\n",
            "epoch : 37/100    time : 26s/1663s\n",
            "TRAIN    loss : 0.03039    f1 : 0.97348\n",
            "epoch : 38/100    time : 26s/1633s\n",
            "TRAIN    loss : 0.07193    f1 : 0.93623\n",
            "epoch : 39/100    time : 26s/1615s\n",
            "TRAIN    loss : 0.06734    f1 : 0.93166\n",
            "epoch : 40/100    time : 26s/1579s\n",
            "TRAIN    loss : 0.06846    f1 : 0.93670\n",
            "epoch : 41/100    time : 26s/1554s\n",
            "TRAIN    loss : 0.02752    f1 : 0.96593\n",
            "epoch : 42/100    time : 26s/1526s\n",
            "TRAIN    loss : 0.03981    f1 : 0.96882\n",
            "epoch : 43/100    time : 26s/1500s\n",
            "TRAIN    loss : 0.04139    f1 : 0.96529\n",
            "epoch : 44/100    time : 26s/1464s\n",
            "TRAIN    loss : 0.00835    f1 : 0.99025\n",
            "epoch : 45/100    time : 26s/1448s\n",
            "TRAIN    loss : 0.00268    f1 : 0.99812\n",
            "epoch : 46/100    time : 26s/1425s\n",
            "TRAIN    loss : 0.00074    f1 : 1.00000\n",
            "epoch : 47/100    time : 26s/1395s\n",
            "TRAIN    loss : 0.00289    f1 : 0.99678\n",
            "epoch : 48/100    time : 26s/1370s\n",
            "TRAIN    loss : 0.00061    f1 : 1.00000\n",
            "epoch : 49/100    time : 26s/1347s\n",
            "TRAIN    loss : 0.00017    f1 : 1.00000\n",
            "epoch : 50/100    time : 26s/1317s\n",
            "TRAIN    loss : 0.00022    f1 : 1.00000\n",
            "epoch : 51/100    time : 26s/1289s\n",
            "TRAIN    loss : 0.00019    f1 : 1.00000\n",
            "epoch : 52/100    time : 26s/1261s\n",
            "TRAIN    loss : 0.00027    f1 : 1.00000\n",
            "epoch : 53/100    time : 26s/1241s\n",
            "TRAIN    loss : 0.00343    f1 : 0.99870\n",
            "epoch : 54/100    time : 26s/1213s\n",
            "TRAIN    loss : 0.07831    f1 : 0.92881\n",
            "epoch : 55/100    time : 27s/1194s\n",
            "TRAIN    loss : 0.16919    f1 : 0.85319\n",
            "epoch : 56/100    time : 26s/1163s\n",
            "TRAIN    loss : 0.11330    f1 : 0.89301\n",
            "epoch : 57/100    time : 26s/1133s\n",
            "TRAIN    loss : 0.03097    f1 : 0.96715\n",
            "epoch : 58/100    time : 26s/1102s\n",
            "TRAIN    loss : 0.01738    f1 : 0.98031\n",
            "epoch : 59/100    time : 26s/1077s\n",
            "TRAIN    loss : 0.02035    f1 : 0.98354\n",
            "epoch : 60/100    time : 26s/1060s\n",
            "TRAIN    loss : 0.00841    f1 : 0.99191\n",
            "epoch : 61/100    time : 26s/1025s\n",
            "TRAIN    loss : 0.00622    f1 : 0.99644\n",
            "epoch : 62/100    time : 26s/998s\n",
            "TRAIN    loss : 0.02544    f1 : 0.97800\n",
            "epoch : 63/100    time : 26s/974s\n",
            "TRAIN    loss : 0.04108    f1 : 0.95532\n",
            "epoch : 64/100    time : 26s/944s\n",
            "TRAIN    loss : 0.04470    f1 : 0.95600\n",
            "epoch : 65/100    time : 26s/924s\n",
            "TRAIN    loss : 0.03368    f1 : 0.96923\n",
            "epoch : 66/100    time : 26s/896s\n",
            "TRAIN    loss : 0.01323    f1 : 0.98977\n",
            "epoch : 67/100    time : 26s/870s\n",
            "TRAIN    loss : 0.01607    f1 : 0.99092\n",
            "epoch : 68/100    time : 26s/840s\n",
            "TRAIN    loss : 0.02261    f1 : 0.97135\n",
            "epoch : 69/100    time : 26s/816s\n",
            "TRAIN    loss : 0.03972    f1 : 0.96422\n",
            "epoch : 70/100    time : 26s/790s\n",
            "TRAIN    loss : 0.02782    f1 : 0.96733\n",
            "epoch : 71/100    time : 26s/763s\n",
            "TRAIN    loss : 0.03498    f1 : 0.96817\n",
            "epoch : 72/100    time : 26s/738s\n",
            "TRAIN    loss : 0.03602    f1 : 0.96879\n",
            "epoch : 73/100    time : 26s/712s\n",
            "TRAIN    loss : 0.02752    f1 : 0.97718\n",
            "epoch : 74/100    time : 26s/688s\n",
            "TRAIN    loss : 0.02917    f1 : 0.97365\n",
            "epoch : 75/100    time : 26s/659s\n",
            "TRAIN    loss : 0.00934    f1 : 0.98213\n",
            "epoch : 76/100    time : 26s/632s\n",
            "TRAIN    loss : 0.01256    f1 : 0.98789\n",
            "epoch : 77/100    time : 26s/606s\n",
            "TRAIN    loss : 0.02599    f1 : 0.98593\n",
            "epoch : 78/100    time : 26s/579s\n",
            "TRAIN    loss : 0.02870    f1 : 0.97035\n",
            "epoch : 79/100    time : 26s/555s\n",
            "TRAIN    loss : 0.02682    f1 : 0.96443\n",
            "epoch : 80/100    time : 26s/530s\n",
            "TRAIN    loss : 0.01668    f1 : 0.98229\n",
            "epoch : 81/100    time : 26s/503s\n",
            "TRAIN    loss : 0.00414    f1 : 0.99491\n",
            "epoch : 82/100    time : 26s/476s\n",
            "TRAIN    loss : 0.00601    f1 : 0.99048\n",
            "epoch : 83/100    time : 26s/448s\n",
            "TRAIN    loss : 0.00143    f1 : 0.99949\n",
            "epoch : 84/100    time : 26s/424s\n",
            "TRAIN    loss : 0.00140    f1 : 0.99834\n",
            "epoch : 85/100    time : 26s/395s\n",
            "TRAIN    loss : 0.02304    f1 : 0.98849\n",
            "epoch : 86/100    time : 26s/368s\n",
            "TRAIN    loss : 0.02825    f1 : 0.98559\n",
            "epoch : 87/100    time : 26s/342s\n",
            "TRAIN    loss : 0.06295    f1 : 0.96091\n",
            "epoch : 88/100    time : 26s/318s\n",
            "TRAIN    loss : 0.03911    f1 : 0.96466\n",
            "epoch : 89/100    time : 26s/290s\n",
            "TRAIN    loss : 0.01995    f1 : 0.98184\n",
            "epoch : 90/100    time : 26s/264s\n",
            "TRAIN    loss : 0.02061    f1 : 0.97239\n",
            "epoch : 91/100    time : 26s/237s\n",
            "TRAIN    loss : 0.01144    f1 : 0.98481\n",
            "epoch : 92/100    time : 26s/211s\n",
            "TRAIN    loss : 0.01475    f1 : 0.98854\n",
            "epoch : 93/100    time : 26s/184s\n",
            "TRAIN    loss : 0.02485    f1 : 0.98186\n",
            "epoch : 94/100    time : 26s/158s\n",
            "TRAIN    loss : 0.01221    f1 : 0.99174\n",
            "epoch : 95/100    time : 26s/131s\n",
            "TRAIN    loss : 0.04072    f1 : 0.97537\n",
            "epoch : 96/100    time : 26s/105s\n",
            "TRAIN    loss : 0.05726    f1 : 0.96369\n",
            "epoch : 97/100    time : 26s/79s\n",
            "TRAIN    loss : 0.04168    f1 : 0.96572\n",
            "epoch : 98/100    time : 26s/53s\n",
            "TRAIN    loss : 0.01416    f1 : 0.98246\n",
            "epoch : 99/100    time : 26s/26s\n",
            "TRAIN    loss : 0.00775    f1 : 0.98461\n",
            "epoch : 100/100    time : 26s/0s\n",
            "TRAIN    loss : 0.00277    f1 : 0.99845\n"
          ]
        }
      ]
    },
    {
      "cell_type": "code",
      "source": [
        ""
      ],
      "metadata": {
        "id": "BjhAQOK7oa1c"
      },
      "execution_count": null,
      "outputs": []
    },
    {
      "cell_type": "code",
      "source": [
        ""
      ],
      "metadata": {
        "id": "8hnIpaf2oa3y"
      },
      "execution_count": null,
      "outputs": []
    },
    {
      "cell_type": "code",
      "source": [
        ""
      ],
      "metadata": {
        "id": "nnwsuR05oa5q"
      },
      "execution_count": null,
      "outputs": []
    },
    {
      "cell_type": "code",
      "source": [
        "# ## 모델추론 : 램부족으로 수행 X\n",
        "# model.eval()\n",
        "# f_pred = []\n",
        "\n",
        "# with torch.no_grad():\n",
        "#     for batch in (test_loader):\n",
        "#         x = torch.tensor(batch[0], dtype = torch.float32, device = device)\n",
        "#         with torch.cuda.amp.autocast():\n",
        "#             pred = model(x)\n",
        "#         f_pred.extend(pred.argmax(1).detach().cpu().numpy().tolist())\n",
        "\n",
        "# label_decoder = {val:key for key, val in label_unique.items()}\n",
        "\n",
        "# f_result = [label_decoder[result] for result in f_pred]"
      ],
      "metadata": {
        "id": "Wq7GlGn4Ue7C"
      },
      "execution_count": null,
      "outputs": []
    },
    {
      "cell_type": "code",
      "source": [
        "# submission = pd.read_csv(\"/content/drive/Othercomputers/내 MacBook Pro/open/sample_submission.csv\")\n",
        "\n",
        "# submission[\"label\"] = f_result\n",
        "\n",
        "# submission"
      ],
      "metadata": {
        "id": "fZXQMKc3U1Gu"
      },
      "execution_count": null,
      "outputs": []
    },
    {
      "cell_type": "code",
      "source": [
        ""
      ],
      "metadata": {
        "id": "5kJPLUuEU1pH"
      },
      "execution_count": null,
      "outputs": []
    },
    {
      "cell_type": "code",
      "source": [
        ""
      ],
      "metadata": {
        "id": "JJdS3MynU1rS"
      },
      "execution_count": null,
      "outputs": []
    },
    {
      "cell_type": "code",
      "source": [
        ""
      ],
      "metadata": {
        "id": "bZK4jMWoU1tQ"
      },
      "execution_count": null,
      "outputs": []
    },
    {
      "cell_type": "code",
      "source": [
        ""
      ],
      "metadata": {
        "id": "LedsQjpUU1vI"
      },
      "execution_count": null,
      "outputs": []
    },
    {
      "cell_type": "code",
      "source": [
        ""
      ],
      "metadata": {
        "id": "X2jIgWqSU1w9"
      },
      "execution_count": null,
      "outputs": []
    },
    {
      "cell_type": "code",
      "source": [
        ""
      ],
      "metadata": {
        "id": "-o1YRRNYU1zK"
      },
      "execution_count": null,
      "outputs": []
    },
    {
      "cell_type": "code",
      "source": [
        ""
      ],
      "metadata": {
        "id": "gj7gTQv6U11P"
      },
      "execution_count": null,
      "outputs": []
    },
    {
      "cell_type": "code",
      "source": [
        ""
      ],
      "metadata": {
        "id": "30_rcMw4U13G"
      },
      "execution_count": null,
      "outputs": []
    },
    {
      "cell_type": "markdown",
      "source": [
        "### 여기부터 안쓰는 코드"
      ],
      "metadata": {
        "id": "hOarjOziXrg-"
      }
    },
    {
      "cell_type": "code",
      "source": [
        ""
      ],
      "metadata": {
        "id": "5E7AT9mRU15E"
      },
      "execution_count": null,
      "outputs": []
    },
    {
      "cell_type": "code",
      "source": [
        "\n",
        "from sklearn.datasets import load_breast_cancer\n",
        "cancer = load_breast_cancer()\n",
        "x = cancer.data\n",
        "y = cancer.target\n",
        "\n",
        "# 훈련데이터 세트 분할\n",
        "from sklearn.model_selection import train_test_split\n",
        "x_train, x_test, y_train, y_test = train_test_split(x, y, stratify=y, test_size=0.2, random_state=42)"
      ],
      "metadata": {
        "id": "f9CA2_ajyqdD"
      },
      "execution_count": null,
      "outputs": []
    },
    {
      "cell_type": "code",
      "source": [
        ""
      ],
      "metadata": {
        "id": "1ikjp4a0zE8A"
      },
      "execution_count": null,
      "outputs": []
    },
    {
      "cell_type": "code",
      "source": [
        "np.shape(x)"
      ],
      "metadata": {
        "colab": {
          "base_uri": "https://localhost:8080/"
        },
        "id": "gAxEKwFlyuvg",
        "outputId": "53ca0adb-558c-47e0-ed0b-90efd5aeaa07"
      },
      "execution_count": null,
      "outputs": [
        {
          "output_type": "execute_result",
          "data": {
            "text/plain": [
              "(569, 30)"
            ]
          },
          "metadata": {},
          "execution_count": 7
        }
      ]
    },
    {
      "cell_type": "code",
      "source": [
        "np.shape(y_test)"
      ],
      "metadata": {
        "colab": {
          "base_uri": "https://localhost:8080/"
        },
        "id": "0-HRc_TLysC2",
        "outputId": "cfc62f50-9775-43e5-8403-02be04cfe92f"
      },
      "execution_count": null,
      "outputs": [
        {
          "output_type": "execute_result",
          "data": {
            "text/plain": [
              "(114,)"
            ]
          },
          "metadata": {},
          "execution_count": 13
        }
      ]
    },
    {
      "cell_type": "code",
      "source": [
        "yy_test"
      ],
      "metadata": {
        "colab": {
          "base_uri": "https://localhost:8080/"
        },
        "id": "P6frWwZPzUvt",
        "outputId": "766f289a-4273-4b44-e244-61909249d2e5"
      },
      "execution_count": null,
      "outputs": [
        {
          "output_type": "execute_result",
          "data": {
            "text/plain": [
              "array([0, 1, 0, 1, 0, 1, 1, 0, 0, 0, 1, 0, 1, 0, 0, 1, 1, 1, 1, 1, 0, 0,\n",
              "       1, 1, 1, 1, 0, 1, 1, 1, 1, 1, 1, 1, 0, 0, 1, 1, 1, 0, 1, 1, 1, 0,\n",
              "       0, 1, 1, 1, 1, 0, 1, 1, 1, 0, 1, 1, 1, 0, 0, 1, 1, 1, 1, 1, 0, 0,\n",
              "       1, 1, 1, 1, 1, 1, 1, 0, 0, 0, 0, 1, 1, 1, 1, 1, 0, 1, 0, 1, 1, 1,\n",
              "       1, 1, 1, 1, 0, 0, 0, 1, 0, 1, 0, 1, 0, 0, 0, 1, 0, 0, 1, 0, 1, 0,\n",
              "       1, 0, 1, 1])"
            ]
          },
          "metadata": {},
          "execution_count": 12
        }
      ]
    },
    {
      "cell_type": "code",
      "source": [
        "y"
      ],
      "metadata": {
        "colab": {
          "base_uri": "https://localhost:8080/"
        },
        "id": "tVY5CNz9zfMs",
        "outputId": "78870e94-89a4-4801-9b8e-d4e17d4a31f6"
      },
      "execution_count": null,
      "outputs": [
        {
          "output_type": "execute_result",
          "data": {
            "text/plain": [
              "(569,)"
            ]
          },
          "metadata": {},
          "execution_count": 15
        }
      ]
    },
    {
      "cell_type": "code",
      "source": [
        "# 학습 파일 기본 경로 지정 및 분류할 클래스 \n",
        "import re\n",
        "import cv2\n",
        "from sklearn.model_selection import train_test_split\n",
        "\n",
        "# base_dir : /content/drive/MyDrive/DACON_이상치 탐지 알고리즘 경진대회/open\n",
        "train_base_dir = base_dir + '/train_label_88/'\n",
        "\n",
        "categories = train_label_unique\n",
        "categories.sort() # 알파벳 순으로 정렬\n",
        "num_classes = len(categories)"
      ],
      "metadata": {
        "id": "C6Pqos2zv-Uf"
      },
      "execution_count": null,
      "outputs": []
    },
    {
      "cell_type": "code",
      "source": [
        "import pandas as pd\n",
        "## 주어진 train_df에 각 레이블마다 원핫인코딩값을 생성할 인덱스 부여\n",
        "final_train88_df = train_df.copy()\n",
        "label_lst = final_train88_df.label.unique().tolist()\n",
        "label_lst.sort()\n",
        "one_hot_label = pd.DataFrame(label_lst, columns = {'label'})\n",
        "one_hot_label['one_hot_label'] = one_hot_label.index.tolist()\n",
        "one_hot_label\n",
        "\n",
        "final_train88_df = pd.merge(final_train88_df, one_hot_label, how = 'left', on = 'label')\n",
        "final_train88_df"
      ],
      "metadata": {
        "colab": {
          "base_uri": "https://localhost:8080/",
          "height": 423
        },
        "id": "NlMwZfON1q0U",
        "outputId": "c4365511-0d35-4a94-fd3c-6ff07647dc35"
      },
      "execution_count": null,
      "outputs": [
        {
          "output_type": "execute_result",
          "data": {
            "text/plain": [
              "      index  file_name       class state            label  one_hot_label\n",
              "0         0  10000.png  transistor  good  transistor-good             72\n",
              "1         1  10001.png     capsule  good     capsule-good             15\n",
              "2         2  10002.png  transistor  good  transistor-good             72\n",
              "3         3  10003.png        wood  good        wood-good             76\n",
              "4         4  10004.png      bottle  good      bottle-good              3\n",
              "...     ...        ...         ...   ...              ...            ...\n",
              "4272   4272  14272.png  transistor  good  transistor-good             72\n",
              "4273   4273  14273.png  transistor  good  transistor-good             72\n",
              "4274   4274  14274.png        grid  good        grid-good             28\n",
              "4275   4275  14275.png      zipper  good      zipper-good             84\n",
              "4276   4276  14276.png       screw  good       screw-good             55\n",
              "\n",
              "[4277 rows x 6 columns]"
            ],
            "text/html": [
              "\n",
              "  <div id=\"df-3a17fe8c-005d-4603-bf93-857ba6aa300f\">\n",
              "    <div class=\"colab-df-container\">\n",
              "      <div>\n",
              "<style scoped>\n",
              "    .dataframe tbody tr th:only-of-type {\n",
              "        vertical-align: middle;\n",
              "    }\n",
              "\n",
              "    .dataframe tbody tr th {\n",
              "        vertical-align: top;\n",
              "    }\n",
              "\n",
              "    .dataframe thead th {\n",
              "        text-align: right;\n",
              "    }\n",
              "</style>\n",
              "<table border=\"1\" class=\"dataframe\">\n",
              "  <thead>\n",
              "    <tr style=\"text-align: right;\">\n",
              "      <th></th>\n",
              "      <th>index</th>\n",
              "      <th>file_name</th>\n",
              "      <th>class</th>\n",
              "      <th>state</th>\n",
              "      <th>label</th>\n",
              "      <th>one_hot_label</th>\n",
              "    </tr>\n",
              "  </thead>\n",
              "  <tbody>\n",
              "    <tr>\n",
              "      <th>0</th>\n",
              "      <td>0</td>\n",
              "      <td>10000.png</td>\n",
              "      <td>transistor</td>\n",
              "      <td>good</td>\n",
              "      <td>transistor-good</td>\n",
              "      <td>72</td>\n",
              "    </tr>\n",
              "    <tr>\n",
              "      <th>1</th>\n",
              "      <td>1</td>\n",
              "      <td>10001.png</td>\n",
              "      <td>capsule</td>\n",
              "      <td>good</td>\n",
              "      <td>capsule-good</td>\n",
              "      <td>15</td>\n",
              "    </tr>\n",
              "    <tr>\n",
              "      <th>2</th>\n",
              "      <td>2</td>\n",
              "      <td>10002.png</td>\n",
              "      <td>transistor</td>\n",
              "      <td>good</td>\n",
              "      <td>transistor-good</td>\n",
              "      <td>72</td>\n",
              "    </tr>\n",
              "    <tr>\n",
              "      <th>3</th>\n",
              "      <td>3</td>\n",
              "      <td>10003.png</td>\n",
              "      <td>wood</td>\n",
              "      <td>good</td>\n",
              "      <td>wood-good</td>\n",
              "      <td>76</td>\n",
              "    </tr>\n",
              "    <tr>\n",
              "      <th>4</th>\n",
              "      <td>4</td>\n",
              "      <td>10004.png</td>\n",
              "      <td>bottle</td>\n",
              "      <td>good</td>\n",
              "      <td>bottle-good</td>\n",
              "      <td>3</td>\n",
              "    </tr>\n",
              "    <tr>\n",
              "      <th>...</th>\n",
              "      <td>...</td>\n",
              "      <td>...</td>\n",
              "      <td>...</td>\n",
              "      <td>...</td>\n",
              "      <td>...</td>\n",
              "      <td>...</td>\n",
              "    </tr>\n",
              "    <tr>\n",
              "      <th>4272</th>\n",
              "      <td>4272</td>\n",
              "      <td>14272.png</td>\n",
              "      <td>transistor</td>\n",
              "      <td>good</td>\n",
              "      <td>transistor-good</td>\n",
              "      <td>72</td>\n",
              "    </tr>\n",
              "    <tr>\n",
              "      <th>4273</th>\n",
              "      <td>4273</td>\n",
              "      <td>14273.png</td>\n",
              "      <td>transistor</td>\n",
              "      <td>good</td>\n",
              "      <td>transistor-good</td>\n",
              "      <td>72</td>\n",
              "    </tr>\n",
              "    <tr>\n",
              "      <th>4274</th>\n",
              "      <td>4274</td>\n",
              "      <td>14274.png</td>\n",
              "      <td>grid</td>\n",
              "      <td>good</td>\n",
              "      <td>grid-good</td>\n",
              "      <td>28</td>\n",
              "    </tr>\n",
              "    <tr>\n",
              "      <th>4275</th>\n",
              "      <td>4275</td>\n",
              "      <td>14275.png</td>\n",
              "      <td>zipper</td>\n",
              "      <td>good</td>\n",
              "      <td>zipper-good</td>\n",
              "      <td>84</td>\n",
              "    </tr>\n",
              "    <tr>\n",
              "      <th>4276</th>\n",
              "      <td>4276</td>\n",
              "      <td>14276.png</td>\n",
              "      <td>screw</td>\n",
              "      <td>good</td>\n",
              "      <td>screw-good</td>\n",
              "      <td>55</td>\n",
              "    </tr>\n",
              "  </tbody>\n",
              "</table>\n",
              "<p>4277 rows × 6 columns</p>\n",
              "</div>\n",
              "      <button class=\"colab-df-convert\" onclick=\"convertToInteractive('df-3a17fe8c-005d-4603-bf93-857ba6aa300f')\"\n",
              "              title=\"Convert this dataframe to an interactive table.\"\n",
              "              style=\"display:none;\">\n",
              "        \n",
              "  <svg xmlns=\"http://www.w3.org/2000/svg\" height=\"24px\"viewBox=\"0 0 24 24\"\n",
              "       width=\"24px\">\n",
              "    <path d=\"M0 0h24v24H0V0z\" fill=\"none\"/>\n",
              "    <path d=\"M18.56 5.44l.94 2.06.94-2.06 2.06-.94-2.06-.94-.94-2.06-.94 2.06-2.06.94zm-11 1L8.5 8.5l.94-2.06 2.06-.94-2.06-.94L8.5 2.5l-.94 2.06-2.06.94zm10 10l.94 2.06.94-2.06 2.06-.94-2.06-.94-.94-2.06-.94 2.06-2.06.94z\"/><path d=\"M17.41 7.96l-1.37-1.37c-.4-.4-.92-.59-1.43-.59-.52 0-1.04.2-1.43.59L10.3 9.45l-7.72 7.72c-.78.78-.78 2.05 0 2.83L4 21.41c.39.39.9.59 1.41.59.51 0 1.02-.2 1.41-.59l7.78-7.78 2.81-2.81c.8-.78.8-2.07 0-2.86zM5.41 20L4 18.59l7.72-7.72 1.47 1.35L5.41 20z\"/>\n",
              "  </svg>\n",
              "      </button>\n",
              "      \n",
              "  <style>\n",
              "    .colab-df-container {\n",
              "      display:flex;\n",
              "      flex-wrap:wrap;\n",
              "      gap: 12px;\n",
              "    }\n",
              "\n",
              "    .colab-df-convert {\n",
              "      background-color: #E8F0FE;\n",
              "      border: none;\n",
              "      border-radius: 50%;\n",
              "      cursor: pointer;\n",
              "      display: none;\n",
              "      fill: #1967D2;\n",
              "      height: 32px;\n",
              "      padding: 0 0 0 0;\n",
              "      width: 32px;\n",
              "    }\n",
              "\n",
              "    .colab-df-convert:hover {\n",
              "      background-color: #E2EBFA;\n",
              "      box-shadow: 0px 1px 2px rgba(60, 64, 67, 0.3), 0px 1px 3px 1px rgba(60, 64, 67, 0.15);\n",
              "      fill: #174EA6;\n",
              "    }\n",
              "\n",
              "    [theme=dark] .colab-df-convert {\n",
              "      background-color: #3B4455;\n",
              "      fill: #D2E3FC;\n",
              "    }\n",
              "\n",
              "    [theme=dark] .colab-df-convert:hover {\n",
              "      background-color: #434B5C;\n",
              "      box-shadow: 0px 1px 3px 1px rgba(0, 0, 0, 0.15);\n",
              "      filter: drop-shadow(0px 1px 2px rgba(0, 0, 0, 0.3));\n",
              "      fill: #FFFFFF;\n",
              "    }\n",
              "  </style>\n",
              "\n",
              "      <script>\n",
              "        const buttonEl =\n",
              "          document.querySelector('#df-3a17fe8c-005d-4603-bf93-857ba6aa300f button.colab-df-convert');\n",
              "        buttonEl.style.display =\n",
              "          google.colab.kernel.accessAllowed ? 'block' : 'none';\n",
              "\n",
              "        async function convertToInteractive(key) {\n",
              "          const element = document.querySelector('#df-3a17fe8c-005d-4603-bf93-857ba6aa300f');\n",
              "          const dataTable =\n",
              "            await google.colab.kernel.invokeFunction('convertToInteractive',\n",
              "                                                     [key], {});\n",
              "          if (!dataTable) return;\n",
              "\n",
              "          const docLinkHtml = 'Like what you see? Visit the ' +\n",
              "            '<a target=\"_blank\" href=https://colab.research.google.com/notebooks/data_table.ipynb>data table notebook</a>'\n",
              "            + ' to learn more about interactive tables.';\n",
              "          element.innerHTML = '';\n",
              "          dataTable['output_type'] = 'display_data';\n",
              "          await google.colab.output.renderOutput(dataTable, element);\n",
              "          const docLink = document.createElement('div');\n",
              "          docLink.innerHTML = docLinkHtml;\n",
              "          element.appendChild(docLink);\n",
              "        }\n",
              "      </script>\n",
              "    </div>\n",
              "  </div>\n",
              "  "
            ]
          },
          "metadata": {},
          "execution_count": 19
        }
      ]
    },
    {
      "cell_type": "code",
      "source": [
        "from google.colab import drive\n",
        "drive.mount('/content/drive')"
      ],
      "metadata": {
        "colab": {
          "base_uri": "https://localhost:8080/"
        },
        "id": "ySCxrBKI5zAD",
        "outputId": "95f88cb6-cff4-47e5-93ec-54aa24ad19b8"
      },
      "execution_count": null,
      "outputs": [
        {
          "output_type": "stream",
          "name": "stdout",
          "text": [
            "Mounted at /content/drive\n"
          ]
        }
      ]
    },
    {
      "cell_type": "code",
      "source": [
        "112"
      ],
      "metadata": {
        "id": "8Ah6u-_XBHDg"
      },
      "execution_count": null,
      "outputs": []
    },
    {
      "cell_type": "code",
      "source": [
        "import re\n",
        "import cv2\n",
        "from sklearn.model_selection import train_test_split\n",
        "from tqdm import tqdm\n",
        "import pandas as pd\n",
        "import numpy as np\n",
        "import gc\n",
        "\n",
        "## 주어진 train_df에 각 레이블마다 원-핫인코딩값을 생성할 인덱스 부여\n",
        "train_df = pd.read_csv('/content/drive/MyDrive/DACON_이상치 탐지 알고리즘 경진대회/open/train_df.csv')\n",
        "final_train88_df = train_df.copy()\n",
        "label_lst = final_train88_df.label.unique().tolist()\n",
        "label_lst.sort()\n",
        "one_hot_label = pd.DataFrame(label_lst, columns = {'label'})\n",
        "one_hot_label['one_hot_label'] = one_hot_label.index.tolist()\n",
        "one_hot_label\n",
        "\n",
        "final_train88_df = pd.merge(final_train88_df, one_hot_label, how = 'left', on = 'label')\n",
        "final_train88_df\n",
        "\n",
        "# 학습 파일 기본 경로 지정 및 넘파이 배열로 변환\n",
        "# 넘파일 배열을 생성할 레이블의 one_hot_label값 [0 ~ 87] / df > one_hot_label 참조\n",
        "image_dir = '/content/drive/Othercomputers/내 MacBook Pro/open/train'\n",
        "num_total_label = 88 # 레이블 총 개수\n",
        "one_hot_label = [x for x in range(88)]\n",
        "\n",
        "img_rows = 512\n",
        "img_cols = 512\n",
        "\n",
        "X = [] # 입력 데이터\n",
        "Y = [] # 정답값\n",
        "\n",
        "## 이미지 배열 파일 생성\n",
        "for index, row in tqdm(final_train88_df.iterrows(), total = len(final_train88_df)) : \n",
        "  filename = row['file_name']\n",
        "  label_idx = row['one_hot_label']\n",
        "  # img_label : Y 배열에 들어갈 원-핫 인코딩된 정답값\n",
        "  img_label = [0 for i in range(num_total_label)]\n",
        "  img_label[label_idx] = 1\n",
        "\n",
        "  img = cv2.imread(f'{image_dir}/{filename}').astype('float32')\n",
        "  img = cv2.resize(img, (img_rows,img_cols))#, fx=img_w/img.shape[1], fy=img_h/img.shape[0])\n",
        "  X.append(img/256)\n",
        "  Y.append(img_label)\n",
        "\n",
        "X = np.array(X)\n",
        "Y = np.array(Y)\n",
        "\n",
        "x_train, x_test, y_train, y_test = train_test_split(X, Y, stratify=Y, test_size=0.3, random_state=1234)\n",
        "\n",
        "## 안쓰는 변수 비우기 : 램관리\n",
        "del X, Y\n",
        "gc.collect()"
      ],
      "metadata": {
        "colab": {
          "base_uri": "https://localhost:8080/"
        },
        "id": "FxQBJMIYwC3B",
        "outputId": "b9f35809-5273-400e-f984-09ca8b866176"
      },
      "execution_count": null,
      "outputs": [
        {
          "output_type": "stream",
          "name": "stderr",
          "text": [
            "100%|██████████| 4277/4277 [01:59<00:00, 35.90it/s]\n"
          ]
        },
        {
          "output_type": "execute_result",
          "data": {
            "text/plain": [
              "15"
            ]
          },
          "metadata": {},
          "execution_count": 4
        }
      ]
    },
    {
      "cell_type": "code",
      "source": [
        "x_train"
      ],
      "metadata": {
        "colab": {
          "base_uri": "https://localhost:8080/"
        },
        "id": "QOcGKv_fFpIv",
        "outputId": "0133bbfb-c9f0-491e-b5bc-601aeeecb011"
      },
      "execution_count": null,
      "outputs": [
        {
          "output_type": "execute_result",
          "data": {
            "text/plain": [
              "array([[[[0.4250781 , 0.4250781 , 0.4250781 ],\n",
              "         [0.37980467, 0.37980467, 0.37980467],\n",
              "         [0.23007812, 0.23007812, 0.23007812],\n",
              "         ...,\n",
              "         [0.42089844, 0.42089844, 0.42089844],\n",
              "         [0.501836  , 0.501836  , 0.501836  ],\n",
              "         [0.7121484 , 0.7121484 , 0.7121484 ]],\n",
              "\n",
              "        [[0.33839858, 0.33839858, 0.33839858],\n",
              "         [0.39253944, 0.39253944, 0.39253944],\n",
              "         [0.5798828 , 0.5798828 , 0.5798828 ],\n",
              "         ...,\n",
              "         [0.2873047 , 0.2873047 , 0.2873047 ],\n",
              "         [0.27617216, 0.27617216, 0.27617216],\n",
              "         [0.31433606, 0.31433606, 0.31433606]],\n",
              "\n",
              "        [[0.4734375 , 0.4734375 , 0.4734375 ],\n",
              "         [0.54648435, 0.54648435, 0.54648435],\n",
              "         [0.5205078 , 0.5205078 , 0.5205078 ],\n",
              "         ...,\n",
              "         [0.6611328 , 0.6611328 , 0.6611328 ],\n",
              "         [0.71738315, 0.71738315, 0.71738315],\n",
              "         [0.6976564 , 0.6976564 , 0.6976564 ]],\n",
              "\n",
              "        ...,\n",
              "\n",
              "        [[0.19882812, 0.19882812, 0.19882812],\n",
              "         [0.2775392 , 0.2775392 , 0.2775392 ],\n",
              "         [0.23242188, 0.23242188, 0.23242188],\n",
              "         ...,\n",
              "         [0.6123047 , 0.6123047 , 0.6123047 ],\n",
              "         [0.59609365, 0.59609365, 0.59609365],\n",
              "         [0.35878932, 0.35878932, 0.35878932]],\n",
              "\n",
              "        [[0.6088673 , 0.6088673 , 0.6088673 ],\n",
              "         [0.7269141 , 0.7269141 , 0.7269141 ],\n",
              "         [0.72324204, 0.72324204, 0.72324204],\n",
              "         ...,\n",
              "         [0.20917964, 0.20917964, 0.20917964],\n",
              "         [0.51054716, 0.51054716, 0.51054716],\n",
              "         [0.34035096, 0.34035096, 0.34035096]],\n",
              "\n",
              "        [[0.47769535, 0.47769535, 0.47769535],\n",
              "         [0.2570312 , 0.2570312 , 0.2570312 ],\n",
              "         [0.3091799 , 0.3091799 , 0.3091799 ],\n",
              "         ...,\n",
              "         [0.62246096, 0.62246096, 0.62246096],\n",
              "         [0.27867204, 0.27867204, 0.27867204],\n",
              "         [0.34722722, 0.34722722, 0.34722722]]],\n",
              "\n",
              "\n",
              "       [[[0.76316404, 0.76316404, 0.76316404],\n",
              "         [0.7521875 , 0.7521875 , 0.7521875 ],\n",
              "         [0.7308594 , 0.7308594 , 0.7308594 ],\n",
              "         ...,\n",
              "         [0.7876953 , 0.7876953 , 0.7876953 ],\n",
              "         [0.7823044 , 0.7823044 , 0.7823044 ],\n",
              "         [0.79015636, 0.79015636, 0.79015636]],\n",
              "\n",
              "        [[0.7633594 , 0.7633594 , 0.7633594 ],\n",
              "         [0.73191416, 0.73191416, 0.73191416],\n",
              "         [0.6955078 , 0.6955078 , 0.6955078 ],\n",
              "         ...,\n",
              "         [0.7849609 , 0.7849609 , 0.7849609 ],\n",
              "         [0.7894534 , 0.7894534 , 0.7894534 ],\n",
              "         [0.78101563, 0.78101563, 0.78101563]],\n",
              "\n",
              "        [[0.76484376, 0.76484376, 0.76484376],\n",
              "         [0.7462891 , 0.7462891 , 0.7462891 ],\n",
              "         [0.58203125, 0.58203125, 0.58203125],\n",
              "         ...,\n",
              "         [0.77734375, 0.77734375, 0.77734375],\n",
              "         [0.78671885, 0.78671885, 0.78671885],\n",
              "         [0.79941404, 0.79941404, 0.79941404]],\n",
              "\n",
              "        ...,\n",
              "\n",
              "        [[0.78574216, 0.78574216, 0.78574216],\n",
              "         [0.7910156 , 0.7910156 , 0.7910156 ],\n",
              "         [0.78515625, 0.78515625, 0.78515625],\n",
              "         ...,\n",
              "         [0.5839844 , 0.5839844 , 0.5839844 ],\n",
              "         [0.74394536, 0.74394536, 0.74394536],\n",
              "         [0.79511726, 0.79511726, 0.79511726]],\n",
              "\n",
              "        [[0.79402345, 0.79402345, 0.79402345],\n",
              "         [0.79972684, 0.79972684, 0.79972684],\n",
              "         [0.79296875, 0.79296875, 0.79296875],\n",
              "         ...,\n",
              "         [0.32421875, 0.32421875, 0.32421875],\n",
              "         [0.7617578 , 0.7617578 , 0.7617578 ],\n",
              "         [0.7888282 , 0.7888282 , 0.7888282 ]],\n",
              "\n",
              "        [[0.7921485 , 0.7921485 , 0.7921485 ],\n",
              "         [0.79296875, 0.79296875, 0.79296875],\n",
              "         [0.7884766 , 0.7884766 , 0.7884766 ],\n",
              "         ...,\n",
              "         [0.74609375, 0.74609375, 0.74609375],\n",
              "         [0.7848829 , 0.7848829 , 0.7848829 ],\n",
              "         [0.78562504, 0.78562504, 0.78562504]]],\n",
              "\n",
              "\n",
              "       [[[0.35023436, 0.41714847, 0.5892188 ],\n",
              "         [0.3689844 , 0.43582028, 0.6144922 ],\n",
              "         [0.37695312, 0.44921875, 0.6355469 ],\n",
              "         ...,\n",
              "         [0.38925782, 0.46738282, 0.64941406],\n",
              "         [0.17437506, 0.200664  , 0.2796875 ],\n",
              "         [0.37273428, 0.4289844 , 0.6091016 ]],\n",
              "\n",
              "        [[0.11964844, 0.12589842, 0.1762891 ],\n",
              "         [0.34496102, 0.43757814, 0.6348827 ],\n",
              "         [0.2746092 , 0.3257811 , 0.4925779 ],\n",
              "         ...,\n",
              "         [0.0919922 , 0.09765625, 0.14394528],\n",
              "         [0.16441397, 0.19249997, 0.25820327],\n",
              "         [0.14191413, 0.1391797 , 0.1789062 ]],\n",
              "\n",
              "        [[0.34277344, 0.41875   , 0.5808594 ],\n",
              "         [0.328125  , 0.38945317, 0.5601562 ],\n",
              "         [0.2529297 , 0.29101562, 0.40820312],\n",
              "         ...,\n",
              "         [0.2890625 , 0.34570312, 0.49609375],\n",
              "         [0.14257812, 0.17226553, 0.24003911],\n",
              "         [0.38300765, 0.45761716, 0.6414063 ]],\n",
              "\n",
              "        ...,\n",
              "\n",
              "        [[0.34570312, 0.39472657, 0.5335938 ],\n",
              "         [0.30957037, 0.36914062, 0.5171875 ],\n",
              "         [0.23339844, 0.26660156, 0.38671875],\n",
              "         ...,\n",
              "         [0.24414062, 0.2705078 , 0.31054688],\n",
              "         [0.14277339, 0.15390635, 0.20878911],\n",
              "         [0.33222663, 0.3843751 , 0.5361327 ]],\n",
              "\n",
              "        [[0.11746087, 0.11624995, 0.15144524],\n",
              "         [0.32097661, 0.3877734 , 0.5397265 ],\n",
              "         [0.12460947, 0.13398457, 0.18261743],\n",
              "         ...,\n",
              "         [0.1078124 , 0.11171865, 0.14648438],\n",
              "         [0.14957005, 0.16796875, 0.21207005],\n",
              "         [0.12249988, 0.12484378, 0.15207037]],\n",
              "\n",
              "        [[0.34347665, 0.3800001 , 0.5457424 ],\n",
              "         [0.3577343 , 0.41285157, 0.5789063 ],\n",
              "         [0.38027346, 0.41992188, 0.5857421 ],\n",
              "         ...,\n",
              "         [0.3820312 , 0.4388672 , 0.625     ],\n",
              "         [0.15156269, 0.1655077 , 0.22824249],\n",
              "         [0.33375016, 0.3888281 , 0.539492  ]]],\n",
              "\n",
              "\n",
              "       ...,\n",
              "\n",
              "\n",
              "       [[[0.40128908, 0.41558594, 0.41808596],\n",
              "         [0.19898441, 0.19042984, 0.20320326],\n",
              "         [0.26367188, 0.2605469 , 0.28886724],\n",
              "         ...,\n",
              "         [0.4736328 , 0.48515627, 0.49394536],\n",
              "         [0.5153142 , 0.5317595 , 0.5145323 ],\n",
              "         [0.12269534, 0.11027341, 0.10652334]],\n",
              "\n",
              "        [[0.54039043, 0.5810152 , 0.562851  ],\n",
              "         [0.29117107, 0.29488176, 0.32120958],\n",
              "         [0.31113237, 0.3087886 , 0.31406212],\n",
              "         ...,\n",
              "         [0.29433626, 0.27539122, 0.22539163],\n",
              "         [0.42609295, 0.4155846 , 0.36839676],\n",
              "         [0.22590005, 0.19773594, 0.10109445]],\n",
              "\n",
              "        [[0.47109383, 0.49082035, 0.497461  ],\n",
              "         [0.47597665, 0.50234365, 0.5074216 ],\n",
              "         [0.44628906, 0.4501953 , 0.421875  ],\n",
              "         ...,\n",
              "         [0.28222656, 0.27539062, 0.19726562],\n",
              "         [0.33827972, 0.34609175, 0.30429506],\n",
              "         [0.09277332, 0.07695293, 0.06093717]],\n",
              "\n",
              "        ...,\n",
              "\n",
              "        [[0.38730463, 0.41738284, 0.4169922 ],\n",
              "         [0.45878905, 0.45957035, 0.43515623],\n",
              "         [0.35839844, 0.34472656, 0.3486328 ],\n",
              "         ...,\n",
              "         [0.39257812, 0.37597656, 0.3623047 ],\n",
              "         [0.43124962, 0.43320274, 0.4361322 ],\n",
              "         [0.44648457, 0.4517578 , 0.4791013 ]],\n",
              "\n",
              "        [[0.4389445 , 0.45519507, 0.45421875],\n",
              "         [0.2634747 , 0.27577898, 0.31257677],\n",
              "         [0.4124999 , 0.40566373, 0.4015622 ],\n",
              "         ...,\n",
              "         [0.4925785 , 0.48730493, 0.50585985],\n",
              "         [0.51648605, 0.5175023 , 0.5129321 ],\n",
              "         [0.49097732, 0.50332165, 0.51672083]],\n",
              "\n",
              "        [[0.5051562 , 0.52582043, 0.51640624],\n",
              "         [0.29753816, 0.30285108, 0.30390596],\n",
              "         [0.48437476, 0.4976561 , 0.50644505],\n",
              "         ...,\n",
              "         [0.19238245, 0.18007779, 0.14843726],\n",
              "         [0.474572  , 0.47711116, 0.4723065 ],\n",
              "         [0.19289038, 0.17542924, 0.1863277 ]]],\n",
              "\n",
              "\n",
              "       [[[0.99609375, 0.99609375, 0.99609375],\n",
              "         [0.24078116, 0.24078116, 0.24078116],\n",
              "         [0.24472657, 0.24472657, 0.24472657],\n",
              "         ...,\n",
              "         [0.17753905, 0.17753905, 0.17753905],\n",
              "         [0.23648506, 0.23648506, 0.23648506],\n",
              "         [0.99609375, 0.99609375, 0.99609375]],\n",
              "\n",
              "        [[0.99609375, 0.99609375, 0.99609375],\n",
              "         [0.2489062 , 0.2489062 , 0.2489062 ],\n",
              "         [0.2328124 , 0.2328124 , 0.2328124 ],\n",
              "         ...,\n",
              "         [0.17304695, 0.17304695, 0.17304695],\n",
              "         [0.23707072, 0.23707072, 0.23707072],\n",
              "         [0.99609375, 0.99609375, 0.99609375]],\n",
              "\n",
              "        [[0.99609375, 0.99609375, 0.99609375],\n",
              "         [0.22753876, 0.22753876, 0.22753876],\n",
              "         [0.17871094, 0.17871094, 0.17871094],\n",
              "         ...,\n",
              "         [0.18457031, 0.18457031, 0.18457031],\n",
              "         [0.22363305, 0.22363305, 0.22363305],\n",
              "         [0.99609375, 0.99609375, 0.99609375]],\n",
              "\n",
              "        ...,\n",
              "\n",
              "        [[0.99609375, 0.99609375, 0.99609375],\n",
              "         [0.24687493, 0.24687493, 0.24687493],\n",
              "         [0.20019531, 0.20019531, 0.20019531],\n",
              "         ...,\n",
              "         [0.203125  , 0.203125  , 0.203125  ],\n",
              "         [0.21523476, 0.21523476, 0.21523476],\n",
              "         [0.99609375, 0.99609375, 0.99609375]],\n",
              "\n",
              "        [[0.99609375, 0.99609375, 0.99609375],\n",
              "         [0.27781263, 0.27781263, 0.27781263],\n",
              "         [0.2285161 , 0.2285161 , 0.2285161 ],\n",
              "         ...,\n",
              "         [0.23417974, 0.23417974, 0.23417974],\n",
              "         [0.20945156, 0.20945156, 0.20945156],\n",
              "         [0.99609375, 0.99609375, 0.99609375]],\n",
              "\n",
              "        [[0.99609375, 0.99609375, 0.99609375],\n",
              "         [0.29046893, 0.29046893, 0.29046893],\n",
              "         [0.19570303, 0.19570303, 0.19570303],\n",
              "         ...,\n",
              "         [0.21972668, 0.21972668, 0.21972668],\n",
              "         [0.2506639 , 0.2506639 , 0.2506639 ],\n",
              "         [0.99609375, 0.99609375, 0.99609375]]],\n",
              "\n",
              "\n",
              "       [[[0.04296875, 0.02734375, 0.02734375],\n",
              "         [0.04296875, 0.02734375, 0.02734375],\n",
              "         [0.04101562, 0.02832031, 0.02636719],\n",
              "         ...,\n",
              "         [0.04492188, 0.02734375, 0.02734375],\n",
              "         [0.04101562, 0.02539062, 0.02539062],\n",
              "         [0.04492188, 0.02636719, 0.02734375]],\n",
              "\n",
              "        [[0.04003906, 0.02539062, 0.02929688],\n",
              "         [0.04980469, 0.03222656, 0.03320312],\n",
              "         [0.05078125, 0.03710938, 0.03320312],\n",
              "         ...,\n",
              "         [0.05371094, 0.03125   , 0.03027344],\n",
              "         [0.04882812, 0.02832031, 0.02832031],\n",
              "         [0.03710938, 0.02441406, 0.0234375 ]],\n",
              "\n",
              "        [[0.046875  , 0.02929688, 0.02832031],\n",
              "         [0.04882812, 0.03320312, 0.02832031],\n",
              "         [0.06445312, 0.04199219, 0.04394531],\n",
              "         ...,\n",
              "         [0.04882812, 0.03710938, 0.03515625],\n",
              "         [0.04882812, 0.02734375, 0.02734375],\n",
              "         [0.04101562, 0.02734375, 0.02734375]],\n",
              "\n",
              "        ...,\n",
              "\n",
              "        [[0.04882812, 0.03027344, 0.02734375],\n",
              "         [0.04394531, 0.02539062, 0.02734375],\n",
              "         [0.05078125, 0.03222656, 0.03125   ],\n",
              "         ...,\n",
              "         [0.04882812, 0.03808594, 0.03320312],\n",
              "         [0.046875  , 0.02832031, 0.02734375],\n",
              "         [0.03515625, 0.02734375, 0.0234375 ]],\n",
              "\n",
              "        [[0.04003906, 0.02636719, 0.02539062],\n",
              "         [0.04980469, 0.03125   , 0.03125   ],\n",
              "         [0.04492188, 0.02832031, 0.02734375],\n",
              "         ...,\n",
              "         [0.04394531, 0.02734375, 0.02734375],\n",
              "         [0.04199219, 0.03125   , 0.02734375],\n",
              "         [0.03515625, 0.0234375 , 0.02636719]],\n",
              "\n",
              "        [[0.04101562, 0.02636719, 0.02148438],\n",
              "         [0.03710938, 0.02734375, 0.02929688],\n",
              "         [0.04296875, 0.02832031, 0.02734375],\n",
              "         ...,\n",
              "         [0.0390625 , 0.02734375, 0.02832031],\n",
              "         [0.03710938, 0.02734375, 0.02734375],\n",
              "         [0.04101562, 0.0234375 , 0.0234375 ]]]], dtype=float32)"
            ]
          },
          "metadata": {},
          "execution_count": 5
        }
      ]
    },
    {
      "cell_type": "code",
      "source": [
        "x_train = x_train.astype('float32')\n",
        "y_train = y_train.astype('float32')\n",
        "\n",
        "\n",
        "## 안쓰는 변수 비우기 : 램관리\n",
        "del X, Y\n",
        "gc.collect()"
      ],
      "metadata": {
        "colab": {
          "base_uri": "https://localhost:8080/"
        },
        "id": "Isq6pbUzBw1o",
        "outputId": "3b0faaae-6340-4454-bec2-8fde35644239"
      },
      "execution_count": null,
      "outputs": [
        {
          "output_type": "execute_result",
          "data": {
            "text/plain": [
              "82"
            ]
          },
          "metadata": {},
          "execution_count": 2
        }
      ]
    },
    {
      "cell_type": "code",
      "source": [
        "np.shape(x_train)"
      ],
      "metadata": {
        "colab": {
          "base_uri": "https://localhost:8080/"
        },
        "id": "NjjV-ijZB0rd",
        "outputId": "d8124e1b-db0e-446b-f5c0-6a5baf90fcf5"
      },
      "execution_count": null,
      "outputs": [
        {
          "output_type": "execute_result",
          "data": {
            "text/plain": [
              "(2993, 10, 10, 3)"
            ]
          },
          "metadata": {},
          "execution_count": 3
        }
      ]
    },
    {
      "cell_type": "code",
      "source": [
        "# 저장한 배열로 학습 / 검증 데이터로 분리\n",
        "X_train, X_test, y_train, y_test = train_test_split(X, Y) # test_size=0.25(default), shuffle : 셔플여부설정 (default = True)\n",
        "\n",
        "X_train = X_train.astype('float32')\n",
        "y_train = y_train.astype('float32')"
      ],
      "metadata": {
        "id": "uyHJ2NSPwG4J"
      },
      "execution_count": null,
      "outputs": []
    },
    {
      "cell_type": "code",
      "source": [
        ""
      ],
      "metadata": {
        "id": "s6pZ0OE4v-WZ"
      },
      "execution_count": null,
      "outputs": []
    },
    {
      "cell_type": "markdown",
      "source": [
        "1. Import libraries"
      ],
      "metadata": {
        "id": "KTCUxqBxeXHD"
      }
    },
    {
      "cell_type": "code",
      "source": [
        "import cv2 \n",
        "import numpy as np \n",
        "import pandas as pd\n",
        "import keras\n",
        "import math\n",
        "#from tensorflow import keras\n",
        "#from tensorflow.keras import layers\n",
        "#from tensorflow.keras.layers.core import Layer # !pip install dependencies # 설치 안됨\n",
        "import keras.backend as K\n",
        "import tensorflow as tf\n",
        "from keras.models import Model\n",
        "from keras.layers import Conv2D, MaxPool2D,  \\\n",
        "    Dropout, Dense, Input, concatenate,      \\\n",
        "    GlobalAveragePooling2D, AveragePooling2D,\\\n",
        "    Flatten\n",
        "from keras.datasets import cifar10 \n",
        "from keras import backend as K \n",
        "from keras.utils import np_utils \n",
        "from tensorflow.keras.optimizers import SGD \n",
        "from keras.callbacks import LearningRateScheduler\n",
        "\n",
        "from keras.preprocessing import image\n",
        "from keras.preprocessing.image import ImageDataGenerator\n",
        "from glob import glob\n",
        "from tensorflow.keras.utils import to_categorical\n",
        "\n",
        "import matplotlib.pyplot as plt\n",
        "import os # miscellaneous operating system interfaces\n",
        "import shutil # high-level file operations\n",
        "from glob import glob\n",
        "from tqdm import tqdm\n",
        "\n",
        "import re\n",
        "from sklearn.model_selection import train_test_split"
      ],
      "metadata": {
        "id": "s3lJpiMT_k2R"
      },
      "execution_count": null,
      "outputs": []
    },
    {
      "cell_type": "code",
      "source": [
        "#!pip install keras\n",
        "print(keras.__version__)"
      ],
      "metadata": {
        "id": "LgUCB-sHeRvz",
        "colab": {
          "base_uri": "https://localhost:8080/"
        },
        "outputId": "615ea50d-a7be-4e9f-f389-4f7cb2e3fad2"
      },
      "execution_count": null,
      "outputs": [
        {
          "output_type": "stream",
          "name": "stdout",
          "text": [
            "2.8.0\n"
          ]
        }
      ]
    },
    {
      "cell_type": "code",
      "source": [
        "base_dir = '/content/drive/MyDrive/DACON_이상치 탐지 알고리즘 경진대회/open'\n",
        "train_dir = '/content/drive/MyDrive/DACON_이상치 탐지 알고리즘 경진대회/open/train'\n",
        "test_dir = '/content/drive/MyDrive/DACON_이상치 탐지 알고리즘 경진대회/open/test'\n",
        "\n",
        "train_df = pd.read_csv('/content/drive/MyDrive/DACON_이상치 탐지 알고리즘 경진대회/open/train_df.csv')\n",
        "test_df = pd.read_csv('/content/drive/MyDrive/DACON_이상치 탐지 알고리즘 경진대회/open/test_df.csv')"
      ],
      "metadata": {
        "id": "neeJGz3SbI1D"
      },
      "execution_count": null,
      "outputs": []
    },
    {
      "cell_type": "code",
      "source": [
        "len(os.listdir(train_dir)), len(os.listdir(test_dir))"
      ],
      "metadata": {
        "colab": {
          "base_uri": "https://localhost:8080/"
        },
        "id": "_tw1tN1xazAc",
        "outputId": "142e52c3-8d27-429d-9ec0-02e1feda5683"
      },
      "execution_count": null,
      "outputs": [
        {
          "output_type": "execute_result",
          "data": {
            "text/plain": [
              "(4277, 2154)"
            ]
          },
          "metadata": {},
          "execution_count": 8
        }
      ]
    },
    {
      "cell_type": "code",
      "source": [
        "## train 데이터 개수 및 레이블 개수\n",
        "train_label = train_df.label.tolist()\n",
        "train_label_unique = list(set(train_label))\n",
        "print(len(train_label), len(train_label_unique))"
      ],
      "metadata": {
        "colab": {
          "base_uri": "https://localhost:8080/"
        },
        "id": "R960XjK2azGK",
        "outputId": "e5a07b9e-5c46-40f5-ee93-cb7a60934ac2"
      },
      "execution_count": null,
      "outputs": [
        {
          "output_type": "stream",
          "name": "stdout",
          "text": [
            "4277 88\n"
          ]
        }
      ]
    },
    {
      "cell_type": "markdown",
      "source": [
        ""
      ],
      "metadata": {
        "id": "kvBVA8drZB6R"
      }
    },
    {
      "cell_type": "code",
      "source": [
        "# ## 88개 레이블 폴더 생성\n",
        "# os.mkdir(base_dir+f'train_label_88')\n",
        "# for dir in train_label_unique:\n",
        "#   os.mkdir(base_dir+f'train_label_88/{dir}')"
      ],
      "metadata": {
        "id": "d9LLeDPmazH9"
      },
      "execution_count": null,
      "outputs": []
    },
    {
      "cell_type": "code",
      "source": [
        "# import shutil\n",
        "# from tqdm import tqdm\n",
        "\n",
        "# for i in tqdm(range(len(train_df))):\n",
        "#   file_name = train_df.loc[i, 'file_name']\n",
        "#   label     = train_df.loc[i, 'label']\n",
        "\n",
        "#   source = train_dir + f'/{file_name}'\n",
        "#   destination = base_dir + f'train_label_88/{label}/{file_name}'\n",
        "#   shutil.copyfile(source, destination) # 이동이 아닌 카피로 실행함\n",
        "#   # shutil.move(file_source, file_destination) # 이동하는 코드"
      ],
      "metadata": {
        "colab": {
          "base_uri": "https://localhost:8080/"
        },
        "id": "dgueJKRsazKG",
        "outputId": "0483f6da-df73-4b82-d9c1-c819972c6709"
      },
      "execution_count": null,
      "outputs": [
        {
          "output_type": "stream",
          "name": "stderr",
          "text": [
            "100%|██████████| 4277/4277 [23:58<00:00,  2.97it/s]\n"
          ]
        }
      ]
    },
    {
      "cell_type": "code",
      "source": [
        "# # 분리된 이미지 파일 전체 개수 확인\n",
        "# all_folder = glob(base_dir + 'train_label_88/*')\n",
        "# all_img_cnt = 0\n",
        "# all_img_path = []\n",
        "# for folder in tqdm(all_folder, total = len(all_folder)):\n",
        "#   img_list = glob(folder + '/*')\n",
        "#   all_img_path += img_list\n",
        "#   img_cnt = len(img_list)\n",
        "#   all_img_cnt += img_cnt"
      ],
      "metadata": {
        "colab": {
          "base_uri": "https://localhost:8080/"
        },
        "id": "f3-oo5XOnyus",
        "outputId": "ec4c5019-612d-4ab9-9000-af62f8f14226"
      },
      "execution_count": null,
      "outputs": [
        {
          "output_type": "stream",
          "name": "stderr",
          "text": [
            "100%|██████████| 90/90 [00:08<00:00, 10.40it/s]\n"
          ]
        }
      ]
    },
    {
      "cell_type": "code",
      "source": [
        "# print('분리된 이미지 파일 총 개수 : ', all_img_cnt)"
      ],
      "metadata": {
        "colab": {
          "base_uri": "https://localhost:8080/"
        },
        "id": "2z8ndVnZon7B",
        "outputId": "9b25bb5b-fd1e-4282-fdc3-76e65971b1f1"
      },
      "execution_count": null,
      "outputs": [
        {
          "output_type": "stream",
          "name": "stdout",
          "text": [
            "분리된 이미지 파일 총 개수 :  4277\n"
          ]
        }
      ]
    },
    {
      "cell_type": "markdown",
      "source": [
        "## 이미지 파일 로딩 + float array 변환 + 전처리"
      ],
      "metadata": {
        "id": "0pkjscwPqOYz"
      }
    },
    {
      "cell_type": "code",
      "source": [
        "# from keras.preprocessing import image\n",
        "\n",
        "# def preprocess_img(img_path, target_size):\n",
        "#   img = image.load_img(img_path, target_size = (target_size, target_size))\n",
        "#   img_tensor = image.img_to_array(img)\n",
        "#   img_tensor = np.expand_dims(img_tensor, axis = 0) # 차원 추가\n",
        "#   img_tensor /= 255. # [0, 1] 범위로 표준화\n",
        "#   return img_tensor"
      ],
      "metadata": {
        "id": "h_Un-AanovPw"
      },
      "execution_count": null,
      "outputs": []
    },
    {
      "cell_type": "code",
      "source": [
        "# ## 이미지 시각화(랜덤 30개만)\n",
        "# import random\n",
        "# n_pic = 30 # 시각화할 이미지 수\n",
        "# n_col = 5 # 가로 개수\n",
        "# n_row = 6 # 세로 개수\n",
        "\n",
        "# target_size = 100\n",
        "# margin = 3\n",
        "\n",
        "# total = np.zeros((n_row * target_size + (n_row - 1) * margin, n_col * target_size + (n_col - 1) * margin, 3))\n",
        "\n",
        "# img_seq = 0\n",
        "\n",
        "# # 전체 중 랜덤 샘플 추출함\n",
        "# sampleList = random.sample(all_img_path, n_pic)\n",
        "\n",
        "# for i in range(n_row):\n",
        "#   for j in range(n_col):\n",
        "#     img_path = sampleList[img_seq]\n",
        "#     img_tensor = preprocess_img(img_path, target_size)\n",
        "\n",
        "#     h_start = i * target_size + i * margin\n",
        "#     h_end   = h_start + target_size\n",
        "#     v_start = j * target_size + j * margin\n",
        "#     v_end   = v_start + target_size\n",
        "\n",
        "#     total[h_start:h_end, v_start:v_end] = img_tensor[0]\n",
        "#     img_seq += 1\n",
        "\n",
        "# plt.figure(figsize = (200, 200))\n",
        "# plt.imshow(total)\n",
        "# plt.show()"
      ],
      "metadata": {
        "id": "k7WdndFKrlmW"
      },
      "execution_count": null,
      "outputs": []
    },
    {
      "cell_type": "markdown",
      "source": [
        "## 이미지 파일 -> 학습 데이터로 변경"
      ],
      "metadata": {
        "id": "YfPMqStHxY2h"
      }
    },
    {
      "cell_type": "code",
      "source": [
        "base_dir + '/train_label_88/'"
      ],
      "metadata": {
        "colab": {
          "base_uri": "https://localhost:8080/",
          "height": 36
        },
        "id": "bSsYqK7nkzGL",
        "outputId": "fdb3ab11-3340-4c3c-fc99-323ec20a4e7e"
      },
      "execution_count": null,
      "outputs": [
        {
          "output_type": "execute_result",
          "data": {
            "text/plain": [
              "'/content/drive/MyDrive/DACON_이상치 탐지 알고리즘 경진대회/open/train_label_88/'"
            ],
            "application/vnd.google.colaboratory.intrinsic+json": {
              "type": "string"
            }
          },
          "metadata": {},
          "execution_count": 10
        }
      ]
    },
    {
      "cell_type": "code",
      "source": [
        "# 학습 파일 기본 경로 지정 및 분류할 클래스 \n",
        "import re\n",
        "import cv2\n",
        "from sklearn.model_selection import train_test_split\n",
        "\n",
        "# base_dir : /content/drive/MyDrive/DACON_이상치 탐지 알고리즘 경진대회/open\n",
        "train_base_dir = base_dir + '/train_label_88/'\n",
        "\n",
        "categories = train_label_unique\n",
        "categories.sort() # 알파벳 순으로 정렬\n",
        "num_classes = len(categories)"
      ],
      "metadata": {
        "id": "tZCaY4kQoZo_"
      },
      "execution_count": null,
      "outputs": []
    },
    {
      "cell_type": "code",
      "source": [
        "import gc\n",
        "del X, Y\n",
        "gc.collect()"
      ],
      "metadata": {
        "colab": {
          "base_uri": "https://localhost:8080/"
        },
        "id": "ywhqWTe2p08x",
        "outputId": "6e136cfd-9ca9-4935-de9e-0640188abea8"
      },
      "execution_count": null,
      "outputs": [
        {
          "output_type": "execute_result",
          "data": {
            "text/plain": [
              "454"
            ]
          },
          "metadata": {},
          "execution_count": 15
        }
      ]
    },
    {
      "cell_type": "code",
      "source": [
        "# 학습 파일 기본 경로 지정 및 분류할 클래스 \n",
        "import re\n",
        "import cv2\n",
        "from sklearn.model_selection import train_test_split\n",
        "\n",
        "# base_dir : /content/drive/MyDrive/DACON_이상치 탐지 알고리즘 경진대회/open\n",
        "train_base_dir = base_dir + '/train_label_88/'\n",
        "\n",
        "categories = train_label_unique\n",
        "categories.sort() # 알파벳 순으로 정렬\n",
        "num_classes = len(categories)\n",
        "\n",
        "# 이미지 사이즈 변경 : \n",
        "img_rows = 1024\n",
        "img_cols = 1024\n",
        "\n",
        "X = [] # 입력 데이터\n",
        "Y = [] # 정답값\n",
        "\n",
        "for idx, categorie in enumerate(tqdm(categories[22:33])):\n",
        "  ## label -> 원-핫 인코딩\n",
        "  label = [0 for i in range(num_classes)]\n",
        "  label[idx] = 1\n",
        "\n",
        "  # 이미지 파일 경로\n",
        "  image_dir = train_base_dir + categorie + '/'\n",
        "\n",
        "  # 레이블 폴더 별로 이미지 파일 추출\n",
        "  for top, dir, f in os.walk(image_dir):\n",
        "    for filename in f:\n",
        "      img = cv2.imread(image_dir + filename)\n",
        "      img = cv2.resize(img, (img_rows,img_cols))#, fx=img_w/img.shape[1], fy=img_h/img.shape[0])\n",
        "      X.append(img/256)\n",
        "      Y.append(label)\n",
        "\n",
        "# 배열 -> 넘파이 배열로 변환\n",
        "X = np.array(X)\n",
        "Y = np.array(Y)\n",
        "\n",
        "# numpy 배열 save\n",
        "np.savez(f\"{train_base_dir}/imageset_1024*1024_3.npz\", x=X, y=Y)\n",
        "\n",
        "# # 학습 / 검증 데이터로 분리\n",
        "# X_train, X_test, y_train, y_test = train_test_split(X, Y) # test_size=0.25(default)\n",
        "\n",
        "# X_train = X_train.astype('float32')\n",
        "# y_train = y_train.astype('float32')\n",
        "\n",
        "# # numpy 배열 저장하기\n",
        "# xy = (X_train, X_test, y_train, y_test)\n",
        "# np.save(f\"{train_base_dir}img_data.npy\", xy)"
      ],
      "metadata": {
        "id": "Pr9UuWInvjJ5",
        "colab": {
          "base_uri": "https://localhost:8080/"
        },
        "outputId": "6bcc8924-8ea2-4b9c-b78f-e31dae016823"
      },
      "execution_count": null,
      "outputs": [
        {
          "output_type": "stream",
          "name": "stderr",
          "text": [
            "100%|██████████| 11/11 [00:41<00:00,  3.76s/it]\n"
          ]
        }
      ]
    },
    {
      "cell_type": "code",
      "source": [
        "np.savez(f\"{train_base_dir}/imageset_512*512_2.npz\", x=X, y=Y)"
      ],
      "metadata": {
        "id": "1ZXCpgXwkk_U"
      },
      "execution_count": null,
      "outputs": []
    },
    {
      "cell_type": "code",
      "source": [
        "## 저장한 x,y. 배열 가져오기\n",
        "# 배열로 불러오기\n",
        "train_base_dir = base_dir + '/train_label_88/'\n",
        "xy_savez_load = np.load(f\"{train_base_dir}/imageset_224*224.npz\")\n",
        "type(xy_savez_load)\n",
        "X = xy_savez_load['x']\n",
        "Y = xy_savez_load['y']"
      ],
      "metadata": {
        "id": "JUIj6hQIKdig"
      },
      "execution_count": null,
      "outputs": []
    },
    {
      "cell_type": "code",
      "source": [
        "# 저장한 배열로 학습 / 검증 데이터로 분리\n",
        "X_train, X_test, y_train, y_test = train_test_split(X, Y) # test_size=0.25(default), shuffle : 셔플여부설정 (default = True)\n",
        "\n",
        "X_train = X_train.astype('float32')\n",
        "y_train = y_train.astype('float32')"
      ],
      "metadata": {
        "id": "NQav2-KcLGHa"
      },
      "execution_count": null,
      "outputs": []
    },
    {
      "cell_type": "markdown",
      "source": [
        "2. Prepare the dataset"
      ],
      "metadata": {
        "id": "G3sKGLANCEcu"
      }
    },
    {
      "cell_type": "code",
      "source": [
        "# # load_cifar10_data 전처리 코드\n",
        "# num_classes = 10 # 분류할 레이블 수\n",
        "\n",
        "# def load_cifar10_data(img_rows, img_cols):\n",
        "\n",
        "#     # Load cifar10 training and validation sets\n",
        "#     (X_train, Y_train), (X_valid, Y_valid) = #cifar10.load_data()\n",
        "\n",
        "#     ## 데이터셋이 넘 커서 램 감당 안됨\n",
        "#     X_train = X_train[:100]\n",
        "#     Y_train = Y_train[:100]\n",
        "\n",
        "#     X_valid = X_valid[:10]\n",
        "#     Y_valid = Y_valid[:10]\n",
        "    \n",
        "#     # Resize training images\n",
        "#     X_train = np.array([cv2.resize(img, (img_rows,img_cols)) for img in X_train[:,:,:,:]])\n",
        "#     X_valid = np.array([cv2.resize(img, (img_rows,img_cols)) for img in X_valid[:,:,:,:]])\n",
        "\n",
        "#     # Transform targets to keras compatible format [np_utils.to_categorical ->  Converts a class vector (integers) to binary class matrix] \n",
        "#     Y_train = np_utils.to_categorical(Y_train, num_classes)\n",
        "#     Y_valid = np_utils.to_categorical(Y_valid, num_classes)\n",
        "    \n",
        "#     X_train = X_train.astype('float32')\n",
        "#     X_valid = X_valid.astype('float32')\n",
        "\n",
        "#     # preprocess data\n",
        "#     X_train = X_train / 255.0\n",
        "#     X_valid = X_valid / 255.0\n",
        "\n",
        "#     return X_train, Y_train, X_valid, Y_valid\n",
        "# X_train, y_train, X_test, y_test = load_cifar10_data(224, 224) # 이미지 사이즈를 줄임"
      ],
      "metadata": {
        "id": "D_aOmszl_oAj"
      },
      "execution_count": null,
      "outputs": []
    },
    {
      "cell_type": "markdown",
      "source": [
        "3. Create the inception module"
      ],
      "metadata": {
        "id": "yBNhC_-NB-iq"
      }
    },
    {
      "cell_type": "code",
      "source": [
        "def inception_module(x,\n",
        "                     filters_1x1,\n",
        "                     filters_3x3_reduce,\n",
        "                     filters_3x3,\n",
        "                     filters_5x5_reduce,\n",
        "                     filters_5x5,\n",
        "                     filters_pool_proj,\n",
        "                     name=None):\n",
        "    \n",
        "    conv_1x1 = Conv2D(filters_1x1, (1, 1), padding='same', activation='relu', kernel_initializer=kernel_init, bias_initializer=bias_init)(x)\n",
        "    \n",
        "    conv_3x3 = Conv2D(filters_3x3_reduce, (1, 1), padding='same', activation='relu', kernel_initializer=kernel_init, bias_initializer=bias_init)(x)\n",
        "    conv_3x3 = Conv2D(filters_3x3, (3, 3), padding='same', activation='relu', kernel_initializer=kernel_init, bias_initializer=bias_init)(conv_3x3)\n",
        "\n",
        "    conv_5x5 = Conv2D(filters_5x5_reduce, (1, 1), padding='same', activation='relu', kernel_initializer=kernel_init, bias_initializer=bias_init)(x)\n",
        "    conv_5x5 = Conv2D(filters_5x5, (5, 5), padding='same', activation='relu', kernel_initializer=kernel_init, bias_initializer=bias_init)(conv_5x5)\n",
        "\n",
        "    pool_proj = MaxPool2D((3, 3), strides=(1, 1), padding='same')(x)\n",
        "    pool_proj = Conv2D(filters_pool_proj, (1, 1), padding='same', activation='relu', kernel_initializer=kernel_init, bias_initializer=bias_init)(pool_proj)\n",
        "\n",
        "    output = concatenate([conv_1x1, conv_3x3, conv_5x5, pool_proj], axis=3, name=name)\n",
        "    ## concatenate  : 선택한 축 방향으로 배열 연결하는 함수[3차원 일 경우 0 : 높이, 1 : 행, 2 : 열, 3 : ?]\n",
        "    return output"
      ],
      "metadata": {
        "id": "Tyx2rcj3_rDH"
      },
      "execution_count": null,
      "outputs": []
    },
    {
      "cell_type": "markdown",
      "source": [
        "4. Create the GoogLeNet architecture"
      ],
      "metadata": {
        "id": "8-imZgUIARhD"
      }
    },
    {
      "cell_type": "code",
      "source": [
        "# ## 책 코드 카피 + 88레이블로 분류 위해 코드 조정\n",
        "# from keras.layers.normalization.batch_normalization import BatchNormalization\n",
        "# kernel_init = keras.initializers.glorot_uniform()\n",
        "# bias_init = keras.initializers.Constant(value=0.2)\n",
        "\n",
        "# input_layer = Input(shape=(224, 224, 3)) # (가로, 세로, 채널(컬러 = 3))\n",
        "\n",
        "# ### A부분 ### \n",
        "# x = Conv2D(64, (7, 7), padding='same', strides=(2, 2), activation='relu', name='conv_1_7x7/2', kernel_initializer=kernel_init, bias_initializer=bias_init)(input_layer)\n",
        "# x = MaxPool2D((3, 3), padding='same', strides=(2, 2), name='max_pool_1_3x3/2')(x)\n",
        "# x = BatchNormalization()(x) # 책내용 코드 추가\n",
        "\n",
        "# ## 합성곱층 -> 1,1풀링 : 차원축소 +  3,3 풀링\n",
        "# x = Conv2D(64, (1, 1), padding='same', strides=(1, 1), activation='relu', name='conv_2a_3x3/1')(x)\n",
        "# x = Conv2D(192, (3, 3), padding='same', strides=(1, 1), activation='relu', name='conv_2b_3x3/1')(x)\n",
        "# x = BatchNormalization()(x) # 책내용 코드 추가\n",
        "# x = MaxPool2D((3, 3), padding='same', strides=(2, 2), name='max_pool_2_3x3/2')(x)\n",
        "\n",
        "# ### B 부분 - 인셉션 모듈 2 + 최대풀링 + 인셉션5 + 최대풀링 + 인셉션2 + 평균 풀링\n",
        "# x = inception_module(x,\n",
        "#                      filters_1x1=64,\n",
        "#                      filters_3x3_reduce=96,\n",
        "#                      filters_3x3=128,\n",
        "#                      filters_5x5_reduce=16,\n",
        "#                      filters_5x5=32,\n",
        "#                      filters_pool_proj=32,\n",
        "#                      name='inception_3a')\n",
        "\n",
        "# x = inception_module(x,\n",
        "#                      filters_1x1=128,\n",
        "#                      filters_3x3_reduce=128,\n",
        "#                      filters_3x3=192,\n",
        "#                      filters_5x5_reduce=32,\n",
        "#                      filters_5x5=96,\n",
        "#                      filters_pool_proj=64,\n",
        "#                      name='inception_3b')\n",
        "\n",
        "# x = MaxPool2D((3, 3), padding='same', strides=(2, 2), name='max_pool_2_3x3/2')(x)\n",
        "\n",
        "# x = inception_module(x,\n",
        "#                      filters_1x1=192,\n",
        "#                      filters_3x3_reduce=96,\n",
        "#                      filters_3x3=208,\n",
        "#                      filters_5x5_reduce=16,\n",
        "#                      filters_5x5=48,\n",
        "#                      filters_pool_proj=64,\n",
        "#                      name='inception_4a')\n",
        "\n",
        "# # 중간 분류기 제외\n",
        "# # classifier_1 = AveragePooling2D((5, 5), strides=3)(x)\n",
        "# # classifier_1 = Conv2D(128, (1, 1), padding='same', activation='relu')(classifier_1)\n",
        "# # classifier_1 = Flatten()(classifier_1)\n",
        "# # classifier_1 = Dense(1024, activation='relu')(classifier_1)\n",
        "# # classifier_1 = Dropout(0.7)(classifier_1)\n",
        "# # classifier_1 = Dense(88, activation='softmax', name='auxilliary_output_1')(classifier_1) # 10\n",
        "\n",
        "# x = inception_module(x,\n",
        "#                      filters_1x1=160,\n",
        "#                      filters_3x3_reduce=112,\n",
        "#                      filters_3x3=224,\n",
        "#                      filters_5x5_reduce=24,\n",
        "#                      filters_5x5=64,\n",
        "#                      filters_pool_proj=64,\n",
        "#                      name='inception_4b')\n",
        "\n",
        "# x = inception_module(x,\n",
        "#                      filters_1x1=128,\n",
        "#                      filters_3x3_reduce=128,\n",
        "#                      filters_3x3=256,\n",
        "#                      filters_5x5_reduce=24,\n",
        "#                      filters_5x5=64,\n",
        "#                      filters_pool_proj=64,\n",
        "#                      name='inception_4c')\n",
        "\n",
        "# x = inception_module(x,\n",
        "#                      filters_1x1=112,\n",
        "#                      filters_3x3_reduce=144,\n",
        "#                      filters_3x3=288,\n",
        "#                      filters_5x5_reduce=32,\n",
        "#                      filters_5x5=64,\n",
        "#                      filters_pool_proj=64,\n",
        "#                      name='inception_4d')\n",
        "# # 중간 분류기 제외\n",
        "# # classifier_2 = AveragePooling2D((5, 5), strides=3)(x)\n",
        "# # classifier_2 = Conv2D(128, (1, 1), padding='same', activation='relu')(classifier_2)\n",
        "# # classifier_2 = Flatten()(classifier_2)\n",
        "# # classifier_2 = Dense(1024, activation='relu')(classifier_2)\n",
        "# # classifier_2 = Dropout(0.7)(classifier_2)\n",
        "# # classifier_2 = Dense(88, activation='softmax', name='auxilliary_output_2')(classifier_2) # 10\n",
        "\n",
        "# x = inception_module(x,\n",
        "#                      filters_1x1=256,\n",
        "#                      filters_3x3_reduce=160,\n",
        "#                      filters_3x3=320,\n",
        "#                      filters_5x5_reduce=32,\n",
        "#                      filters_5x5=128,\n",
        "#                      filters_pool_proj=128,\n",
        "#                      name='inception_4e')\n",
        "\n",
        "# x = MaxPool2D((3, 3), padding='same', strides=(2, 2), name='max_pool_3_3x3/2')(x)\n",
        "\n",
        "# x = inception_module(x,\n",
        "#                      filters_1x1=256,\n",
        "#                      filters_3x3_reduce=160,\n",
        "#                      filters_3x3=320,\n",
        "#                      filters_5x5_reduce=32,\n",
        "#                      filters_5x5=128,\n",
        "#                      filters_pool_proj=128,\n",
        "#                      name='inception_5a')\n",
        "\n",
        "# x = inception_module(x,\n",
        "#                      filters_1x1=384,\n",
        "#                      filters_3x3_reduce=192,\n",
        "#                      filters_3x3=384,\n",
        "#                      filters_5x5_reduce=48,\n",
        "#                      filters_5x5=128,\n",
        "#                      filters_pool_proj=128,\n",
        "#                      name='inception_5b')\n",
        "# ## C 부분 : 분류기 구현\n",
        "# x = AveragePooling2D(pool_size=(7,7), strides=1, padding='valid',name='avg_pool_5_3x3/1')(x)\n",
        "# x = Conv2D(128, (1, 1), padding='same' activation='relu', name='conv_3_3x3/1')(\bx)\n",
        "# x = Flatten()\n",
        "# x = Dense(1024, activation='relu', name='linear')(x)\n",
        "# x = Dropout(0.4)(x) # 40% 드롭아웃\n",
        "# x = Dense(88, activation='softmax', name='output')(x)\n",
        "\n",
        "# ## 모델 생성\n",
        "# # GoogleNet model without the classfiers 1 and 2 \n",
        "# model = Model(input_layer, [x], name='googlenet')\n",
        "# ## 모델 요약\n",
        "# model.summary()"
      ],
      "metadata": {
        "id": "4uAYmKhNAqNY"
      },
      "execution_count": null,
      "outputs": []
    },
    {
      "cell_type": "code",
      "source": [
        "# ## 책 코드 카피\n",
        "# from keras.layers.normalization.batch_normalization import BatchNormalization\n",
        "# kernel_init = keras.initializers.glorot_uniform()\n",
        "# bias_init = keras.initializers.Constant(value=0.2)\n",
        "\n",
        "# input_layer = Input(shape=(224, 224, 3)) # (가로, 세로, 채널(컬러 = 3))\n",
        "\n",
        "# ### A부분 ### \n",
        "# x = Conv2D(64, (7, 7), padding='same', strides=(2, 2), activation='relu', name='conv_1_7x7/2', kernel_initializer=kernel_init, bias_initializer=bias_init)(input_layer)\n",
        "# x = MaxPool2D((3, 3), padding='same', strides=(2, 2), name='max_pool_1_3x3/2')(x)\n",
        "# x = BatchNormalization()(x) # 책내용 코드 추가\n",
        "\n",
        "# ## 합성곱층 -> 1,1풀링 : 차원축소 +  3,3 풀링\n",
        "# x = Conv2D(64, (1, 1), padding='same', strides=(1, 1), activation='relu', name='conv_2a_3x3/1')(x)\n",
        "# x = Conv2D(192, (3, 3), padding='same', strides=(1, 1), activation='relu', name='conv_2b_3x3/1')(x)\n",
        "# x = BatchNormalization()(x) # 책내용 코드 추가\n",
        "# x = MaxPool2D((3, 3), padding='same', strides=(2, 2), name='max_pool_2_3x3/2')(x)\n",
        "\n",
        "# ### B 부분 - 인셉션 모듈 2 + 최대풀링 + 인셉션5 + 최대풀링 + 인셉션2 + 평균 풀링\n",
        "# x = inception_module(x,\n",
        "#                      filters_1x1=64,\n",
        "#                      filters_3x3_reduce=96,\n",
        "#                      filters_3x3=128,\n",
        "#                      filters_5x5_reduce=16,\n",
        "#                      filters_5x5=32,\n",
        "#                      filters_pool_proj=32,\n",
        "#                      name='inception_3a')\n",
        "\n",
        "# x = inception_module(x,\n",
        "#                      filters_1x1=128,\n",
        "#                      filters_3x3_reduce=128,\n",
        "#                      filters_3x3=192,\n",
        "#                      filters_5x5_reduce=32,\n",
        "#                      filters_5x5=96,\n",
        "#                      filters_pool_proj=64,\n",
        "#                      name='inception_3b')\n",
        "\n",
        "# x = MaxPool2D((3, 3), padding='same', strides=(2, 2), name='max_pool_2_3x3/2')(x)\n",
        "\n",
        "# x = inception_module(x,\n",
        "#                      filters_1x1=192,\n",
        "#                      filters_3x3_reduce=96,\n",
        "#                      filters_3x3=208,\n",
        "#                      filters_5x5_reduce=16,\n",
        "#                      filters_5x5=48,\n",
        "#                      filters_pool_proj=64,\n",
        "#                      name='inception_4a')\n",
        "\n",
        "# # 중간 분류기 제외\n",
        "# # classifier_1 = AveragePooling2D((5, 5), strides=3)(x)\n",
        "# # classifier_1 = Conv2D(128, (1, 1), padding='same', activation='relu')(classifier_1)\n",
        "# # classifier_1 = Flatten()(classifier_1)\n",
        "# # classifier_1 = Dense(1024, activation='relu')(classifier_1)\n",
        "# # classifier_1 = Dropout(0.7)(classifier_1)\n",
        "# # classifier_1 = Dense(88, activation='softmax', name='auxilliary_output_1')(classifier_1) # 10\n",
        "\n",
        "# x = inception_module(x,\n",
        "#                      filters_1x1=160,\n",
        "#                      filters_3x3_reduce=112,\n",
        "#                      filters_3x3=224,\n",
        "#                      filters_5x5_reduce=24,\n",
        "#                      filters_5x5=64,\n",
        "#                      filters_pool_proj=64,\n",
        "#                      name='inception_4b')\n",
        "\n",
        "# x = inception_module(x,\n",
        "#                      filters_1x1=128,\n",
        "#                      filters_3x3_reduce=128,\n",
        "#                      filters_3x3=256,\n",
        "#                      filters_5x5_reduce=24,\n",
        "#                      filters_5x5=64,\n",
        "#                      filters_pool_proj=64,\n",
        "#                      name='inception_4c')\n",
        "\n",
        "# x = inception_module(x,\n",
        "#                      filters_1x1=112,\n",
        "#                      filters_3x3_reduce=144,\n",
        "#                      filters_3x3=288,\n",
        "#                      filters_5x5_reduce=32,\n",
        "#                      filters_5x5=64,\n",
        "#                      filters_pool_proj=64,\n",
        "#                      name='inception_4d')\n",
        "# # 중간 분류기 제외\n",
        "# # classifier_2 = AveragePooling2D((5, 5), strides=3)(x)\n",
        "# # classifier_2 = Conv2D(128, (1, 1), padding='same', activation='relu')(classifier_2)\n",
        "# # classifier_2 = Flatten()(classifier_2)\n",
        "# # classifier_2 = Dense(1024, activation='relu')(classifier_2)\n",
        "# # classifier_2 = Dropout(0.7)(classifier_2)\n",
        "# # classifier_2 = Dense(88, activation='softmax', name='auxilliary_output_2')(classifier_2) # 10\n",
        "\n",
        "# x = inception_module(x,\n",
        "#                      filters_1x1=256,\n",
        "#                      filters_3x3_reduce=160,\n",
        "#                      filters_3x3=320,\n",
        "#                      filters_5x5_reduce=32,\n",
        "#                      filters_5x5=128,\n",
        "#                      filters_pool_proj=128,\n",
        "#                      name='inception_4e')\n",
        "\n",
        "# x = MaxPool2D((3, 3), padding='same', strides=(2, 2), name='max_pool_3_3x3/2')(x)\n",
        "\n",
        "# x = inception_module(x,\n",
        "#                      filters_1x1=256,\n",
        "#                      filters_3x3_reduce=160,\n",
        "#                      filters_3x3=320,\n",
        "#                      filters_5x5_reduce=32,\n",
        "#                      filters_5x5=128,\n",
        "#                      filters_pool_proj=128,\n",
        "#                      name='inception_5a')\n",
        "\n",
        "# x = inception_module(x,\n",
        "#                      filters_1x1=384,\n",
        "#                      filters_3x3_reduce=192,\n",
        "#                      filters_3x3=384,\n",
        "#                      filters_5x5_reduce=48,\n",
        "#                      filters_5x5=128,\n",
        "#                      filters_pool_proj=128,\n",
        "#                      name='inception_5b')\n",
        "# ## C 부분 : 분류기 구현\n",
        "# x = AveragePooling2D(pool_size=(7,7), strides=1, padding='valid',name='avg_pool_5_3x3/1')(x)\n",
        "# x = Dropout(0.4)(x) # 40% 드롭아웃\n",
        "# x = Dense(10, activation='softmax', name='output')(x)\n",
        "\n",
        "# ## 모델 생성\n",
        "# # GoogleNet model without the classfiers 1 and 2 \n",
        "# model = Model(input_layer, [x], name='googlenet')\n",
        "# ## 모델 요약\n",
        "# model.summary()"
      ],
      "metadata": {
        "id": "v1uXmB8g_rKp"
      },
      "execution_count": null,
      "outputs": []
    },
    {
      "cell_type": "code",
      "source": [
        ""
      ],
      "metadata": {
        "id": "kIVynSfx_Omj"
      },
      "execution_count": null,
      "outputs": []
    },
    {
      "cell_type": "code",
      "source": [
        ""
      ],
      "metadata": {
        "id": "OblLCo3F_Oof"
      },
      "execution_count": null,
      "outputs": []
    },
    {
      "cell_type": "markdown",
      "source": [
        "저자 최신 코드"
      ],
      "metadata": {
        "id": "bhzdZcL2_PrT"
      }
    },
    {
      "cell_type": "code",
      "source": [
        "kernel_init = keras.initializers.glorot_uniform()\n",
        "bias_init = keras.initializers.Constant(value=0.2)\n",
        "input_layer = Input(shape=(224, 224, 3))\n",
        "\n",
        "x = Conv2D(64, (7, 7), padding='same', strides=(2, 2), activation='relu', name='conv_1_7x7/2', kernel_initializer=kernel_init, bias_initializer=bias_init)(input_layer)\n",
        "x = MaxPool2D((3, 3), padding='same', strides=(2, 2), name='max_pool_1_3x3/2')(x)\n",
        "# x = Conv2D(64, (1, 1), padding='same', strides=(1, 1), activation='relu', name='conv_2a_3x3/1')(x)\n",
        "x = Conv2D(192, (3, 3), padding='same', strides=(1, 1), activation='relu', name='conv_2b_3x3/1')(x)\n",
        "x = MaxPool2D((3, 3), padding='same', strides=(2, 2), name='max_pool_2_3x3/2')(x)\n",
        "\n",
        "x = inception_module(x,\n",
        "                     filters_1x1=64,\n",
        "                     filters_3x3_reduce=96,\n",
        "                     filters_3x3=128,\n",
        "                     filters_5x5_reduce=16,\n",
        "                     filters_5x5=32,\n",
        "                     filters_pool_proj=32,\n",
        "                     name='inception_3a')\n",
        "\n",
        "x = inception_module(x,\n",
        "                     filters_1x1=128,\n",
        "                     filters_3x3_reduce=128,\n",
        "                     filters_3x3=192,\n",
        "                     filters_5x5_reduce=32,\n",
        "                     filters_5x5=96,\n",
        "                     filters_pool_proj=64,\n",
        "                     name='inception_3b')\n",
        "\n",
        "x = MaxPool2D((3, 3), padding='same', strides=(2, 2), name='max_pool_3_3x3/2')(x)\n",
        "\n",
        "x = inception_module(x,\n",
        "                     filters_1x1=192,\n",
        "                     filters_3x3_reduce=96,\n",
        "                     filters_3x3=208,\n",
        "                     filters_5x5_reduce=16,\n",
        "                     filters_5x5=48,\n",
        "                     filters_pool_proj=64,\n",
        "                     name='inception_4a')\n",
        "\n",
        "\n",
        "classifier_1 = AveragePooling2D((5, 5), strides=3)(x)\n",
        "classifier_1 = Conv2D(128, (1, 1), padding='same', activation='relu')(classifier_1)\n",
        "classifier_1 = Flatten()(classifier_1)\n",
        "classifier_1 = Dense(1024, activation='relu')(classifier_1)\n",
        "classifier_1 = Dropout(0.7)(classifier_1)\n",
        "classifier_1 = Dense(88, activation='softmax', name='auxilliary_output_1')(classifier_1)\n",
        "\n",
        "x = inception_module(x,\n",
        "                     filters_1x1=160,\n",
        "                     filters_3x3_reduce=112,\n",
        "                     filters_3x3=224,\n",
        "                     filters_5x5_reduce=24,\n",
        "                     filters_5x5=64,\n",
        "                     filters_pool_proj=64,\n",
        "                     name='inception_4b')\n",
        "\n",
        "x = inception_module(x,\n",
        "                     filters_1x1=128,\n",
        "                     filters_3x3_reduce=128,\n",
        "                     filters_3x3=256,\n",
        "                     filters_5x5_reduce=24,\n",
        "                     filters_5x5=64,\n",
        "                     filters_pool_proj=64,\n",
        "                     name='inception_4c')\n",
        "\n",
        "x = inception_module(x,\n",
        "                     filters_1x1=112,\n",
        "                     filters_3x3_reduce=144,\n",
        "                     filters_3x3=288,\n",
        "                     filters_5x5_reduce=32,\n",
        "                     filters_5x5=64,\n",
        "                     filters_pool_proj=64,\n",
        "                     name='inception_4d')\n",
        "\n",
        "\n",
        "classifier_2 = AveragePooling2D((5, 5), strides=3)(x)\n",
        "classifier_2 = Conv2D(128, (1, 1), padding='same', activation='relu')(classifier_2)\n",
        "classifier_2 = Flatten()(classifier_2)\n",
        "classifier_2 = Dense(1024, activation='relu')(classifier_2)\n",
        "classifier_2 = Dropout(0.7)(classifier_2)\n",
        "classifier_2 = Dense(88, activation='softmax', name='auxilliary_output_2')(classifier_2)\n",
        "\n",
        "x = inception_module(x,\n",
        "                     filters_1x1=256,\n",
        "                     filters_3x3_reduce=160,\n",
        "                     filters_3x3=320,\n",
        "                     filters_5x5_reduce=32,\n",
        "                     filters_5x5=128,\n",
        "                     filters_pool_proj=128,\n",
        "                     name='inception_4e')\n",
        "\n",
        "x = MaxPool2D((3, 3), padding='same', strides=(2, 2), name='max_pool_4_3x3/2')(x)\n",
        "\n",
        "x = inception_module(x,\n",
        "                     filters_1x1=256,\n",
        "                     filters_3x3_reduce=160,\n",
        "                     filters_3x3=320,\n",
        "                     filters_5x5_reduce=32,\n",
        "                     filters_5x5=128,\n",
        "                     filters_pool_proj=128,\n",
        "                     name='inception_5a')\n",
        "\n",
        "x = inception_module(x,\n",
        "                     filters_1x1=384,\n",
        "                     filters_3x3_reduce=192,\n",
        "                     filters_3x3=384,\n",
        "                     filters_5x5_reduce=48,\n",
        "                     filters_5x5=128,\n",
        "                     filters_pool_proj=128,\n",
        "                     name='inception_5b')\n",
        "\n",
        "x = AveragePooling2D(pool_size=(7,7), strides=1, padding='valid',name='avg_pool_5_3x3/1')(x)\n",
        "\n",
        "x = Conv2D(128, (1, 1), padding='same', activation='relu')(x)\n",
        "x = Flatten()(x)\n",
        "x = Dropout(0.4)(x)\n",
        "x = Dense(1024, activation='relu', name='linear')(x)\n",
        "x = Dropout(0.7)(x)\n",
        "x = Dense(88, activation='softmax', name='output')(x)"
      ],
      "metadata": {
        "id": "Ljm1f5yF_Oqe"
      },
      "execution_count": null,
      "outputs": []
    },
    {
      "cell_type": "markdown",
      "source": [
        ""
      ],
      "metadata": {
        "id": "m8pI8r8sLwjL"
      }
    },
    {
      "cell_type": "code",
      "source": [
        "## 모델 생성\n",
        "# GoogleNet model without the classfiers 1 and 2 \n",
        "model = Model(input_layer, [x], name='googlenet')\n",
        "## 모델 요약\n",
        "model.summary()"
      ],
      "metadata": {
        "colab": {
          "base_uri": "https://localhost:8080/"
        },
        "id": "97TrKjdW_Osa",
        "outputId": "517492d7-be3f-4155-a651-cdc9b708e5bb"
      },
      "execution_count": null,
      "outputs": [
        {
          "output_type": "stream",
          "name": "stdout",
          "text": [
            "Model: \"googlenet\"\n",
            "__________________________________________________________________________________________________\n",
            " Layer (type)                   Output Shape         Param #     Connected to                     \n",
            "==================================================================================================\n",
            " input_1 (InputLayer)           [(None, 224, 224, 3  0           []                               \n",
            "                                )]                                                                \n",
            "                                                                                                  \n",
            " conv_1_7x7/2 (Conv2D)          (None, 112, 112, 64  9472        ['input_1[0][0]']                \n",
            "                                )                                                                 \n",
            "                                                                                                  \n",
            " max_pool_1_3x3/2 (MaxPooling2D  (None, 56, 56, 64)  0           ['conv_1_7x7/2[0][0]']           \n",
            " )                                                                                                \n",
            "                                                                                                  \n",
            " conv_2b_3x3/1 (Conv2D)         (None, 56, 56, 192)  110784      ['max_pool_1_3x3/2[0][0]']       \n",
            "                                                                                                  \n",
            " max_pool_2_3x3/2 (MaxPooling2D  (None, 28, 28, 192)  0          ['conv_2b_3x3/1[0][0]']          \n",
            " )                                                                                                \n",
            "                                                                                                  \n",
            " conv2d_1 (Conv2D)              (None, 28, 28, 96)   18528       ['max_pool_2_3x3/2[0][0]']       \n",
            "                                                                                                  \n",
            " conv2d_3 (Conv2D)              (None, 28, 28, 16)   3088        ['max_pool_2_3x3/2[0][0]']       \n",
            "                                                                                                  \n",
            " max_pooling2d (MaxPooling2D)   (None, 28, 28, 192)  0           ['max_pool_2_3x3/2[0][0]']       \n",
            "                                                                                                  \n",
            " conv2d (Conv2D)                (None, 28, 28, 64)   12352       ['max_pool_2_3x3/2[0][0]']       \n",
            "                                                                                                  \n",
            " conv2d_2 (Conv2D)              (None, 28, 28, 128)  110720      ['conv2d_1[0][0]']               \n",
            "                                                                                                  \n",
            " conv2d_4 (Conv2D)              (None, 28, 28, 32)   12832       ['conv2d_3[0][0]']               \n",
            "                                                                                                  \n",
            " conv2d_5 (Conv2D)              (None, 28, 28, 32)   6176        ['max_pooling2d[0][0]']          \n",
            "                                                                                                  \n",
            " inception_3a (Concatenate)     (None, 28, 28, 256)  0           ['conv2d[0][0]',                 \n",
            "                                                                  'conv2d_2[0][0]',               \n",
            "                                                                  'conv2d_4[0][0]',               \n",
            "                                                                  'conv2d_5[0][0]']               \n",
            "                                                                                                  \n",
            " conv2d_7 (Conv2D)              (None, 28, 28, 128)  32896       ['inception_3a[0][0]']           \n",
            "                                                                                                  \n",
            " conv2d_9 (Conv2D)              (None, 28, 28, 32)   8224        ['inception_3a[0][0]']           \n",
            "                                                                                                  \n",
            " max_pooling2d_1 (MaxPooling2D)  (None, 28, 28, 256)  0          ['inception_3a[0][0]']           \n",
            "                                                                                                  \n",
            " conv2d_6 (Conv2D)              (None, 28, 28, 128)  32896       ['inception_3a[0][0]']           \n",
            "                                                                                                  \n",
            " conv2d_8 (Conv2D)              (None, 28, 28, 192)  221376      ['conv2d_7[0][0]']               \n",
            "                                                                                                  \n",
            " conv2d_10 (Conv2D)             (None, 28, 28, 96)   76896       ['conv2d_9[0][0]']               \n",
            "                                                                                                  \n",
            " conv2d_11 (Conv2D)             (None, 28, 28, 64)   16448       ['max_pooling2d_1[0][0]']        \n",
            "                                                                                                  \n",
            " inception_3b (Concatenate)     (None, 28, 28, 480)  0           ['conv2d_6[0][0]',               \n",
            "                                                                  'conv2d_8[0][0]',               \n",
            "                                                                  'conv2d_10[0][0]',              \n",
            "                                                                  'conv2d_11[0][0]']              \n",
            "                                                                                                  \n",
            " max_pool_3_3x3/2 (MaxPooling2D  (None, 14, 14, 480)  0          ['inception_3b[0][0]']           \n",
            " )                                                                                                \n",
            "                                                                                                  \n",
            " conv2d_13 (Conv2D)             (None, 14, 14, 96)   46176       ['max_pool_3_3x3/2[0][0]']       \n",
            "                                                                                                  \n",
            " conv2d_15 (Conv2D)             (None, 14, 14, 16)   7696        ['max_pool_3_3x3/2[0][0]']       \n",
            "                                                                                                  \n",
            " max_pooling2d_2 (MaxPooling2D)  (None, 14, 14, 480)  0          ['max_pool_3_3x3/2[0][0]']       \n",
            "                                                                                                  \n",
            " conv2d_12 (Conv2D)             (None, 14, 14, 192)  92352       ['max_pool_3_3x3/2[0][0]']       \n",
            "                                                                                                  \n",
            " conv2d_14 (Conv2D)             (None, 14, 14, 208)  179920      ['conv2d_13[0][0]']              \n",
            "                                                                                                  \n",
            " conv2d_16 (Conv2D)             (None, 14, 14, 48)   19248       ['conv2d_15[0][0]']              \n",
            "                                                                                                  \n",
            " conv2d_17 (Conv2D)             (None, 14, 14, 64)   30784       ['max_pooling2d_2[0][0]']        \n",
            "                                                                                                  \n",
            " inception_4a (Concatenate)     (None, 14, 14, 512)  0           ['conv2d_12[0][0]',              \n",
            "                                                                  'conv2d_14[0][0]',              \n",
            "                                                                  'conv2d_16[0][0]',              \n",
            "                                                                  'conv2d_17[0][0]']              \n",
            "                                                                                                  \n",
            " conv2d_20 (Conv2D)             (None, 14, 14, 112)  57456       ['inception_4a[0][0]']           \n",
            "                                                                                                  \n",
            " conv2d_22 (Conv2D)             (None, 14, 14, 24)   12312       ['inception_4a[0][0]']           \n",
            "                                                                                                  \n",
            " max_pooling2d_3 (MaxPooling2D)  (None, 14, 14, 512)  0          ['inception_4a[0][0]']           \n",
            "                                                                                                  \n",
            " conv2d_19 (Conv2D)             (None, 14, 14, 160)  82080       ['inception_4a[0][0]']           \n",
            "                                                                                                  \n",
            " conv2d_21 (Conv2D)             (None, 14, 14, 224)  226016      ['conv2d_20[0][0]']              \n",
            "                                                                                                  \n",
            " conv2d_23 (Conv2D)             (None, 14, 14, 64)   38464       ['conv2d_22[0][0]']              \n",
            "                                                                                                  \n",
            " conv2d_24 (Conv2D)             (None, 14, 14, 64)   32832       ['max_pooling2d_3[0][0]']        \n",
            "                                                                                                  \n",
            " inception_4b (Concatenate)     (None, 14, 14, 512)  0           ['conv2d_19[0][0]',              \n",
            "                                                                  'conv2d_21[0][0]',              \n",
            "                                                                  'conv2d_23[0][0]',              \n",
            "                                                                  'conv2d_24[0][0]']              \n",
            "                                                                                                  \n",
            " conv2d_26 (Conv2D)             (None, 14, 14, 128)  65664       ['inception_4b[0][0]']           \n",
            "                                                                                                  \n",
            " conv2d_28 (Conv2D)             (None, 14, 14, 24)   12312       ['inception_4b[0][0]']           \n",
            "                                                                                                  \n",
            " max_pooling2d_4 (MaxPooling2D)  (None, 14, 14, 512)  0          ['inception_4b[0][0]']           \n",
            "                                                                                                  \n",
            " conv2d_25 (Conv2D)             (None, 14, 14, 128)  65664       ['inception_4b[0][0]']           \n",
            "                                                                                                  \n",
            " conv2d_27 (Conv2D)             (None, 14, 14, 256)  295168      ['conv2d_26[0][0]']              \n",
            "                                                                                                  \n",
            " conv2d_29 (Conv2D)             (None, 14, 14, 64)   38464       ['conv2d_28[0][0]']              \n",
            "                                                                                                  \n",
            " conv2d_30 (Conv2D)             (None, 14, 14, 64)   32832       ['max_pooling2d_4[0][0]']        \n",
            "                                                                                                  \n",
            " inception_4c (Concatenate)     (None, 14, 14, 512)  0           ['conv2d_25[0][0]',              \n",
            "                                                                  'conv2d_27[0][0]',              \n",
            "                                                                  'conv2d_29[0][0]',              \n",
            "                                                                  'conv2d_30[0][0]']              \n",
            "                                                                                                  \n",
            " conv2d_32 (Conv2D)             (None, 14, 14, 144)  73872       ['inception_4c[0][0]']           \n",
            "                                                                                                  \n",
            " conv2d_34 (Conv2D)             (None, 14, 14, 32)   16416       ['inception_4c[0][0]']           \n",
            "                                                                                                  \n",
            " max_pooling2d_5 (MaxPooling2D)  (None, 14, 14, 512)  0          ['inception_4c[0][0]']           \n",
            "                                                                                                  \n",
            " conv2d_31 (Conv2D)             (None, 14, 14, 112)  57456       ['inception_4c[0][0]']           \n",
            "                                                                                                  \n",
            " conv2d_33 (Conv2D)             (None, 14, 14, 288)  373536      ['conv2d_32[0][0]']              \n",
            "                                                                                                  \n",
            " conv2d_35 (Conv2D)             (None, 14, 14, 64)   51264       ['conv2d_34[0][0]']              \n",
            "                                                                                                  \n",
            " conv2d_36 (Conv2D)             (None, 14, 14, 64)   32832       ['max_pooling2d_5[0][0]']        \n",
            "                                                                                                  \n",
            " inception_4d (Concatenate)     (None, 14, 14, 528)  0           ['conv2d_31[0][0]',              \n",
            "                                                                  'conv2d_33[0][0]',              \n",
            "                                                                  'conv2d_35[0][0]',              \n",
            "                                                                  'conv2d_36[0][0]']              \n",
            "                                                                                                  \n",
            " conv2d_39 (Conv2D)             (None, 14, 14, 160)  84640       ['inception_4d[0][0]']           \n",
            "                                                                                                  \n",
            " conv2d_41 (Conv2D)             (None, 14, 14, 32)   16928       ['inception_4d[0][0]']           \n",
            "                                                                                                  \n",
            " max_pooling2d_6 (MaxPooling2D)  (None, 14, 14, 528)  0          ['inception_4d[0][0]']           \n",
            "                                                                                                  \n",
            " conv2d_38 (Conv2D)             (None, 14, 14, 256)  135424      ['inception_4d[0][0]']           \n",
            "                                                                                                  \n",
            " conv2d_40 (Conv2D)             (None, 14, 14, 320)  461120      ['conv2d_39[0][0]']              \n",
            "                                                                                                  \n",
            " conv2d_42 (Conv2D)             (None, 14, 14, 128)  102528      ['conv2d_41[0][0]']              \n",
            "                                                                                                  \n",
            " conv2d_43 (Conv2D)             (None, 14, 14, 128)  67712       ['max_pooling2d_6[0][0]']        \n",
            "                                                                                                  \n",
            " inception_4e (Concatenate)     (None, 14, 14, 832)  0           ['conv2d_38[0][0]',              \n",
            "                                                                  'conv2d_40[0][0]',              \n",
            "                                                                  'conv2d_42[0][0]',              \n",
            "                                                                  'conv2d_43[0][0]']              \n",
            "                                                                                                  \n",
            " max_pool_4_3x3/2 (MaxPooling2D  (None, 7, 7, 832)   0           ['inception_4e[0][0]']           \n",
            " )                                                                                                \n",
            "                                                                                                  \n",
            " conv2d_45 (Conv2D)             (None, 7, 7, 160)    133280      ['max_pool_4_3x3/2[0][0]']       \n",
            "                                                                                                  \n",
            " conv2d_47 (Conv2D)             (None, 7, 7, 32)     26656       ['max_pool_4_3x3/2[0][0]']       \n",
            "                                                                                                  \n",
            " max_pooling2d_7 (MaxPooling2D)  (None, 7, 7, 832)   0           ['max_pool_4_3x3/2[0][0]']       \n",
            "                                                                                                  \n",
            " conv2d_44 (Conv2D)             (None, 7, 7, 256)    213248      ['max_pool_4_3x3/2[0][0]']       \n",
            "                                                                                                  \n",
            " conv2d_46 (Conv2D)             (None, 7, 7, 320)    461120      ['conv2d_45[0][0]']              \n",
            "                                                                                                  \n",
            " conv2d_48 (Conv2D)             (None, 7, 7, 128)    102528      ['conv2d_47[0][0]']              \n",
            "                                                                                                  \n",
            " conv2d_49 (Conv2D)             (None, 7, 7, 128)    106624      ['max_pooling2d_7[0][0]']        \n",
            "                                                                                                  \n",
            " inception_5a (Concatenate)     (None, 7, 7, 832)    0           ['conv2d_44[0][0]',              \n",
            "                                                                  'conv2d_46[0][0]',              \n",
            "                                                                  'conv2d_48[0][0]',              \n",
            "                                                                  'conv2d_49[0][0]']              \n",
            "                                                                                                  \n",
            " conv2d_51 (Conv2D)             (None, 7, 7, 192)    159936      ['inception_5a[0][0]']           \n",
            "                                                                                                  \n",
            " conv2d_53 (Conv2D)             (None, 7, 7, 48)     39984       ['inception_5a[0][0]']           \n",
            "                                                                                                  \n",
            " max_pooling2d_8 (MaxPooling2D)  (None, 7, 7, 832)   0           ['inception_5a[0][0]']           \n",
            "                                                                                                  \n",
            " conv2d_50 (Conv2D)             (None, 7, 7, 384)    319872      ['inception_5a[0][0]']           \n",
            "                                                                                                  \n",
            " conv2d_52 (Conv2D)             (None, 7, 7, 384)    663936      ['conv2d_51[0][0]']              \n",
            "                                                                                                  \n",
            " conv2d_54 (Conv2D)             (None, 7, 7, 128)    153728      ['conv2d_53[0][0]']              \n",
            "                                                                                                  \n",
            " conv2d_55 (Conv2D)             (None, 7, 7, 128)    106624      ['max_pooling2d_8[0][0]']        \n",
            "                                                                                                  \n",
            " inception_5b (Concatenate)     (None, 7, 7, 1024)   0           ['conv2d_50[0][0]',              \n",
            "                                                                  'conv2d_52[0][0]',              \n",
            "                                                                  'conv2d_54[0][0]',              \n",
            "                                                                  'conv2d_55[0][0]']              \n",
            "                                                                                                  \n",
            " avg_pool_5_3x3/1 (AveragePooli  (None, 1, 1, 1024)  0           ['inception_5b[0][0]']           \n",
            " ng2D)                                                                                            \n",
            "                                                                                                  \n",
            " conv2d_56 (Conv2D)             (None, 1, 1, 128)    131200      ['avg_pool_5_3x3/1[0][0]']       \n",
            "                                                                                                  \n",
            " flatten_2 (Flatten)            (None, 128)          0           ['conv2d_56[0][0]']              \n",
            "                                                                                                  \n",
            " dropout_2 (Dropout)            (None, 128)          0           ['flatten_2[0][0]']              \n",
            "                                                                                                  \n",
            " linear (Dense)                 (None, 1024)         132096      ['dropout_2[0][0]']              \n",
            "                                                                                                  \n",
            " dropout_3 (Dropout)            (None, 1024)         0           ['linear[0][0]']                 \n",
            "                                                                                                  \n",
            " output (Dense)                 (None, 88)           90200       ['dropout_3[0][0]']              \n",
            "                                                                                                  \n",
            "==================================================================================================\n",
            "Total params: 6,322,888\n",
            "Trainable params: 6,322,888\n",
            "Non-trainable params: 0\n",
            "__________________________________________________________________________________________________\n"
          ]
        }
      ]
    },
    {
      "cell_type": "markdown",
      "source": [
        "GoogLeNet model after adding classifiers 1 and 2"
      ],
      "metadata": {
        "id": "QPG2Qqk7AIDm"
      }
    },
    {
      "cell_type": "code",
      "source": [
        "model_with_classifiers = Model(input_layer, [x, classifier_1, classifier_2], name='googlenet_complete_architecture')\n",
        "model_with_classifiers.summary()"
      ],
      "metadata": {
        "id": "_pJ6FxMs_rQX",
        "colab": {
          "base_uri": "https://localhost:8080/"
        },
        "outputId": "396e9e94-74b8-4101-80a9-2c5e52716287"
      },
      "execution_count": null,
      "outputs": [
        {
          "output_type": "stream",
          "name": "stdout",
          "text": [
            "Model: \"googlenet_complete_architecture\"\n",
            "__________________________________________________________________________________________________\n",
            " Layer (type)                   Output Shape         Param #     Connected to                     \n",
            "==================================================================================================\n",
            " input_1 (InputLayer)           [(None, 224, 224, 3  0           []                               \n",
            "                                )]                                                                \n",
            "                                                                                                  \n",
            " conv_1_7x7/2 (Conv2D)          (None, 112, 112, 64  9472        ['input_1[0][0]']                \n",
            "                                )                                                                 \n",
            "                                                                                                  \n",
            " max_pool_1_3x3/2 (MaxPooling2D  (None, 56, 56, 64)  0           ['conv_1_7x7/2[0][0]']           \n",
            " )                                                                                                \n",
            "                                                                                                  \n",
            " conv_2b_3x3/1 (Conv2D)         (None, 56, 56, 192)  110784      ['max_pool_1_3x3/2[0][0]']       \n",
            "                                                                                                  \n",
            " max_pool_2_3x3/2 (MaxPooling2D  (None, 28, 28, 192)  0          ['conv_2b_3x3/1[0][0]']          \n",
            " )                                                                                                \n",
            "                                                                                                  \n",
            " conv2d_1 (Conv2D)              (None, 28, 28, 96)   18528       ['max_pool_2_3x3/2[0][0]']       \n",
            "                                                                                                  \n",
            " conv2d_3 (Conv2D)              (None, 28, 28, 16)   3088        ['max_pool_2_3x3/2[0][0]']       \n",
            "                                                                                                  \n",
            " max_pooling2d (MaxPooling2D)   (None, 28, 28, 192)  0           ['max_pool_2_3x3/2[0][0]']       \n",
            "                                                                                                  \n",
            " conv2d (Conv2D)                (None, 28, 28, 64)   12352       ['max_pool_2_3x3/2[0][0]']       \n",
            "                                                                                                  \n",
            " conv2d_2 (Conv2D)              (None, 28, 28, 128)  110720      ['conv2d_1[0][0]']               \n",
            "                                                                                                  \n",
            " conv2d_4 (Conv2D)              (None, 28, 28, 32)   12832       ['conv2d_3[0][0]']               \n",
            "                                                                                                  \n",
            " conv2d_5 (Conv2D)              (None, 28, 28, 32)   6176        ['max_pooling2d[0][0]']          \n",
            "                                                                                                  \n",
            " inception_3a (Concatenate)     (None, 28, 28, 256)  0           ['conv2d[0][0]',                 \n",
            "                                                                  'conv2d_2[0][0]',               \n",
            "                                                                  'conv2d_4[0][0]',               \n",
            "                                                                  'conv2d_5[0][0]']               \n",
            "                                                                                                  \n",
            " conv2d_7 (Conv2D)              (None, 28, 28, 128)  32896       ['inception_3a[0][0]']           \n",
            "                                                                                                  \n",
            " conv2d_9 (Conv2D)              (None, 28, 28, 32)   8224        ['inception_3a[0][0]']           \n",
            "                                                                                                  \n",
            " max_pooling2d_1 (MaxPooling2D)  (None, 28, 28, 256)  0          ['inception_3a[0][0]']           \n",
            "                                                                                                  \n",
            " conv2d_6 (Conv2D)              (None, 28, 28, 128)  32896       ['inception_3a[0][0]']           \n",
            "                                                                                                  \n",
            " conv2d_8 (Conv2D)              (None, 28, 28, 192)  221376      ['conv2d_7[0][0]']               \n",
            "                                                                                                  \n",
            " conv2d_10 (Conv2D)             (None, 28, 28, 96)   76896       ['conv2d_9[0][0]']               \n",
            "                                                                                                  \n",
            " conv2d_11 (Conv2D)             (None, 28, 28, 64)   16448       ['max_pooling2d_1[0][0]']        \n",
            "                                                                                                  \n",
            " inception_3b (Concatenate)     (None, 28, 28, 480)  0           ['conv2d_6[0][0]',               \n",
            "                                                                  'conv2d_8[0][0]',               \n",
            "                                                                  'conv2d_10[0][0]',              \n",
            "                                                                  'conv2d_11[0][0]']              \n",
            "                                                                                                  \n",
            " max_pool_3_3x3/2 (MaxPooling2D  (None, 14, 14, 480)  0          ['inception_3b[0][0]']           \n",
            " )                                                                                                \n",
            "                                                                                                  \n",
            " conv2d_13 (Conv2D)             (None, 14, 14, 96)   46176       ['max_pool_3_3x3/2[0][0]']       \n",
            "                                                                                                  \n",
            " conv2d_15 (Conv2D)             (None, 14, 14, 16)   7696        ['max_pool_3_3x3/2[0][0]']       \n",
            "                                                                                                  \n",
            " max_pooling2d_2 (MaxPooling2D)  (None, 14, 14, 480)  0          ['max_pool_3_3x3/2[0][0]']       \n",
            "                                                                                                  \n",
            " conv2d_12 (Conv2D)             (None, 14, 14, 192)  92352       ['max_pool_3_3x3/2[0][0]']       \n",
            "                                                                                                  \n",
            " conv2d_14 (Conv2D)             (None, 14, 14, 208)  179920      ['conv2d_13[0][0]']              \n",
            "                                                                                                  \n",
            " conv2d_16 (Conv2D)             (None, 14, 14, 48)   19248       ['conv2d_15[0][0]']              \n",
            "                                                                                                  \n",
            " conv2d_17 (Conv2D)             (None, 14, 14, 64)   30784       ['max_pooling2d_2[0][0]']        \n",
            "                                                                                                  \n",
            " inception_4a (Concatenate)     (None, 14, 14, 512)  0           ['conv2d_12[0][0]',              \n",
            "                                                                  'conv2d_14[0][0]',              \n",
            "                                                                  'conv2d_16[0][0]',              \n",
            "                                                                  'conv2d_17[0][0]']              \n",
            "                                                                                                  \n",
            " conv2d_20 (Conv2D)             (None, 14, 14, 112)  57456       ['inception_4a[0][0]']           \n",
            "                                                                                                  \n",
            " conv2d_22 (Conv2D)             (None, 14, 14, 24)   12312       ['inception_4a[0][0]']           \n",
            "                                                                                                  \n",
            " max_pooling2d_3 (MaxPooling2D)  (None, 14, 14, 512)  0          ['inception_4a[0][0]']           \n",
            "                                                                                                  \n",
            " conv2d_19 (Conv2D)             (None, 14, 14, 160)  82080       ['inception_4a[0][0]']           \n",
            "                                                                                                  \n",
            " conv2d_21 (Conv2D)             (None, 14, 14, 224)  226016      ['conv2d_20[0][0]']              \n",
            "                                                                                                  \n",
            " conv2d_23 (Conv2D)             (None, 14, 14, 64)   38464       ['conv2d_22[0][0]']              \n",
            "                                                                                                  \n",
            " conv2d_24 (Conv2D)             (None, 14, 14, 64)   32832       ['max_pooling2d_3[0][0]']        \n",
            "                                                                                                  \n",
            " inception_4b (Concatenate)     (None, 14, 14, 512)  0           ['conv2d_19[0][0]',              \n",
            "                                                                  'conv2d_21[0][0]',              \n",
            "                                                                  'conv2d_23[0][0]',              \n",
            "                                                                  'conv2d_24[0][0]']              \n",
            "                                                                                                  \n",
            " conv2d_26 (Conv2D)             (None, 14, 14, 128)  65664       ['inception_4b[0][0]']           \n",
            "                                                                                                  \n",
            " conv2d_28 (Conv2D)             (None, 14, 14, 24)   12312       ['inception_4b[0][0]']           \n",
            "                                                                                                  \n",
            " max_pooling2d_4 (MaxPooling2D)  (None, 14, 14, 512)  0          ['inception_4b[0][0]']           \n",
            "                                                                                                  \n",
            " conv2d_25 (Conv2D)             (None, 14, 14, 128)  65664       ['inception_4b[0][0]']           \n",
            "                                                                                                  \n",
            " conv2d_27 (Conv2D)             (None, 14, 14, 256)  295168      ['conv2d_26[0][0]']              \n",
            "                                                                                                  \n",
            " conv2d_29 (Conv2D)             (None, 14, 14, 64)   38464       ['conv2d_28[0][0]']              \n",
            "                                                                                                  \n",
            " conv2d_30 (Conv2D)             (None, 14, 14, 64)   32832       ['max_pooling2d_4[0][0]']        \n",
            "                                                                                                  \n",
            " inception_4c (Concatenate)     (None, 14, 14, 512)  0           ['conv2d_25[0][0]',              \n",
            "                                                                  'conv2d_27[0][0]',              \n",
            "                                                                  'conv2d_29[0][0]',              \n",
            "                                                                  'conv2d_30[0][0]']              \n",
            "                                                                                                  \n",
            " conv2d_32 (Conv2D)             (None, 14, 14, 144)  73872       ['inception_4c[0][0]']           \n",
            "                                                                                                  \n",
            " conv2d_34 (Conv2D)             (None, 14, 14, 32)   16416       ['inception_4c[0][0]']           \n",
            "                                                                                                  \n",
            " max_pooling2d_5 (MaxPooling2D)  (None, 14, 14, 512)  0          ['inception_4c[0][0]']           \n",
            "                                                                                                  \n",
            " conv2d_31 (Conv2D)             (None, 14, 14, 112)  57456       ['inception_4c[0][0]']           \n",
            "                                                                                                  \n",
            " conv2d_33 (Conv2D)             (None, 14, 14, 288)  373536      ['conv2d_32[0][0]']              \n",
            "                                                                                                  \n",
            " conv2d_35 (Conv2D)             (None, 14, 14, 64)   51264       ['conv2d_34[0][0]']              \n",
            "                                                                                                  \n",
            " conv2d_36 (Conv2D)             (None, 14, 14, 64)   32832       ['max_pooling2d_5[0][0]']        \n",
            "                                                                                                  \n",
            " inception_4d (Concatenate)     (None, 14, 14, 528)  0           ['conv2d_31[0][0]',              \n",
            "                                                                  'conv2d_33[0][0]',              \n",
            "                                                                  'conv2d_35[0][0]',              \n",
            "                                                                  'conv2d_36[0][0]']              \n",
            "                                                                                                  \n",
            " conv2d_39 (Conv2D)             (None, 14, 14, 160)  84640       ['inception_4d[0][0]']           \n",
            "                                                                                                  \n",
            " conv2d_41 (Conv2D)             (None, 14, 14, 32)   16928       ['inception_4d[0][0]']           \n",
            "                                                                                                  \n",
            " max_pooling2d_6 (MaxPooling2D)  (None, 14, 14, 528)  0          ['inception_4d[0][0]']           \n",
            "                                                                                                  \n",
            " conv2d_38 (Conv2D)             (None, 14, 14, 256)  135424      ['inception_4d[0][0]']           \n",
            "                                                                                                  \n",
            " conv2d_40 (Conv2D)             (None, 14, 14, 320)  461120      ['conv2d_39[0][0]']              \n",
            "                                                                                                  \n",
            " conv2d_42 (Conv2D)             (None, 14, 14, 128)  102528      ['conv2d_41[0][0]']              \n",
            "                                                                                                  \n",
            " conv2d_43 (Conv2D)             (None, 14, 14, 128)  67712       ['max_pooling2d_6[0][0]']        \n",
            "                                                                                                  \n",
            " inception_4e (Concatenate)     (None, 14, 14, 832)  0           ['conv2d_38[0][0]',              \n",
            "                                                                  'conv2d_40[0][0]',              \n",
            "                                                                  'conv2d_42[0][0]',              \n",
            "                                                                  'conv2d_43[0][0]']              \n",
            "                                                                                                  \n",
            " max_pool_4_3x3/2 (MaxPooling2D  (None, 7, 7, 832)   0           ['inception_4e[0][0]']           \n",
            " )                                                                                                \n",
            "                                                                                                  \n",
            " conv2d_45 (Conv2D)             (None, 7, 7, 160)    133280      ['max_pool_4_3x3/2[0][0]']       \n",
            "                                                                                                  \n",
            " conv2d_47 (Conv2D)             (None, 7, 7, 32)     26656       ['max_pool_4_3x3/2[0][0]']       \n",
            "                                                                                                  \n",
            " max_pooling2d_7 (MaxPooling2D)  (None, 7, 7, 832)   0           ['max_pool_4_3x3/2[0][0]']       \n",
            "                                                                                                  \n",
            " conv2d_44 (Conv2D)             (None, 7, 7, 256)    213248      ['max_pool_4_3x3/2[0][0]']       \n",
            "                                                                                                  \n",
            " conv2d_46 (Conv2D)             (None, 7, 7, 320)    461120      ['conv2d_45[0][0]']              \n",
            "                                                                                                  \n",
            " conv2d_48 (Conv2D)             (None, 7, 7, 128)    102528      ['conv2d_47[0][0]']              \n",
            "                                                                                                  \n",
            " conv2d_49 (Conv2D)             (None, 7, 7, 128)    106624      ['max_pooling2d_7[0][0]']        \n",
            "                                                                                                  \n",
            " inception_5a (Concatenate)     (None, 7, 7, 832)    0           ['conv2d_44[0][0]',              \n",
            "                                                                  'conv2d_46[0][0]',              \n",
            "                                                                  'conv2d_48[0][0]',              \n",
            "                                                                  'conv2d_49[0][0]']              \n",
            "                                                                                                  \n",
            " conv2d_51 (Conv2D)             (None, 7, 7, 192)    159936      ['inception_5a[0][0]']           \n",
            "                                                                                                  \n",
            " conv2d_53 (Conv2D)             (None, 7, 7, 48)     39984       ['inception_5a[0][0]']           \n",
            "                                                                                                  \n",
            " max_pooling2d_8 (MaxPooling2D)  (None, 7, 7, 832)   0           ['inception_5a[0][0]']           \n",
            "                                                                                                  \n",
            " conv2d_50 (Conv2D)             (None, 7, 7, 384)    319872      ['inception_5a[0][0]']           \n",
            "                                                                                                  \n",
            " conv2d_52 (Conv2D)             (None, 7, 7, 384)    663936      ['conv2d_51[0][0]']              \n",
            "                                                                                                  \n",
            " conv2d_54 (Conv2D)             (None, 7, 7, 128)    153728      ['conv2d_53[0][0]']              \n",
            "                                                                                                  \n",
            " conv2d_55 (Conv2D)             (None, 7, 7, 128)    106624      ['max_pooling2d_8[0][0]']        \n",
            "                                                                                                  \n",
            " inception_5b (Concatenate)     (None, 7, 7, 1024)   0           ['conv2d_50[0][0]',              \n",
            "                                                                  'conv2d_52[0][0]',              \n",
            "                                                                  'conv2d_54[0][0]',              \n",
            "                                                                  'conv2d_55[0][0]']              \n",
            "                                                                                                  \n",
            " avg_pool_5_3x3/1 (AveragePooli  (None, 1, 1, 1024)  0           ['inception_5b[0][0]']           \n",
            " ng2D)                                                                                            \n",
            "                                                                                                  \n",
            " conv2d_56 (Conv2D)             (None, 1, 1, 128)    131200      ['avg_pool_5_3x3/1[0][0]']       \n",
            "                                                                                                  \n",
            " average_pooling2d (AveragePool  (None, 4, 4, 512)   0           ['inception_4a[0][0]']           \n",
            " ing2D)                                                                                           \n",
            "                                                                                                  \n",
            " average_pooling2d_1 (AveragePo  (None, 4, 4, 528)   0           ['inception_4d[0][0]']           \n",
            " oling2D)                                                                                         \n",
            "                                                                                                  \n",
            " flatten_2 (Flatten)            (None, 128)          0           ['conv2d_56[0][0]']              \n",
            "                                                                                                  \n",
            " conv2d_18 (Conv2D)             (None, 4, 4, 128)    65664       ['average_pooling2d[0][0]']      \n",
            "                                                                                                  \n",
            " conv2d_37 (Conv2D)             (None, 4, 4, 128)    67712       ['average_pooling2d_1[0][0]']    \n",
            "                                                                                                  \n",
            " dropout_2 (Dropout)            (None, 128)          0           ['flatten_2[0][0]']              \n",
            "                                                                                                  \n",
            " flatten (Flatten)              (None, 2048)         0           ['conv2d_18[0][0]']              \n",
            "                                                                                                  \n",
            " flatten_1 (Flatten)            (None, 2048)         0           ['conv2d_37[0][0]']              \n",
            "                                                                                                  \n",
            " linear (Dense)                 (None, 1024)         132096      ['dropout_2[0][0]']              \n",
            "                                                                                                  \n",
            " dense (Dense)                  (None, 1024)         2098176     ['flatten[0][0]']                \n",
            "                                                                                                  \n",
            " dense_1 (Dense)                (None, 1024)         2098176     ['flatten_1[0][0]']              \n",
            "                                                                                                  \n",
            " dropout_3 (Dropout)            (None, 1024)         0           ['linear[0][0]']                 \n",
            "                                                                                                  \n",
            " dropout (Dropout)              (None, 1024)         0           ['dense[0][0]']                  \n",
            "                                                                                                  \n",
            " dropout_1 (Dropout)            (None, 1024)         0           ['dense_1[0][0]']                \n",
            "                                                                                                  \n",
            " output (Dense)                 (None, 88)           90200       ['dropout_3[0][0]']              \n",
            "                                                                                                  \n",
            " auxilliary_output_1 (Dense)    (None, 88)           90200       ['dropout[0][0]']                \n",
            "                                                                                                  \n",
            " auxilliary_output_2 (Dense)    (None, 88)           90200       ['dropout_1[0][0]']              \n",
            "                                                                                                  \n",
            "==================================================================================================\n",
            "Total params: 10,833,016\n",
            "Trainable params: 10,833,016\n",
            "Non-trainable params: 0\n",
            "__________________________________________________________________________________________________\n"
          ]
        }
      ]
    },
    {
      "cell_type": "code",
      "source": [
        ""
      ],
      "metadata": {
        "id": "OImL35Tj_NqR"
      },
      "execution_count": null,
      "outputs": []
    },
    {
      "cell_type": "code",
      "source": [
        ""
      ],
      "metadata": {
        "id": "lj2kmJuH_NsW"
      },
      "execution_count": null,
      "outputs": []
    },
    {
      "cell_type": "markdown",
      "source": [
        "compile a network with three models"
      ],
      "metadata": {
        "id": "-_-oIQpqAC_s"
      }
    },
    {
      "cell_type": "code",
      "source": [
        "epochs = 25\n",
        "initial_lrate = 0.01\n",
        "\n",
        "def decay(epoch, steps=100):\n",
        "    initial_lrate = 0.01\n",
        "    drop = 0.96\n",
        "    epochs_drop = 8\n",
        "    lrate = initial_lrate * math.pow(drop, math.floor((1+epoch)/epochs_drop))\n",
        "    return lrate\n",
        "\n",
        "sgd = SGD(lr=initial_lrate, momentum=0.9, nesterov=False)\n",
        "\n",
        "lr_sc = LearningRateScheduler(decay, verbose=1)\n",
        "\n",
        "model_with_classifiers.compile(loss=['categorical_crossentropy', 'categorical_crossentropy', 'categorical_crossentropy'], \n",
        "                               loss_weights=[1, 0.3, 0.3], optimizer=sgd, metrics=['accuracy'])\n",
        "\n",
        "model_with_classifiers_hist = model_with_classifiers.fit(X_train, [y_train, y_train, y_train], validation_data=(X_test, [y_test, y_test, y_test]), \n",
        "                                                        epochs=epochs, batch_size=256, callbacks=[lr_sc])"
      ],
      "metadata": {
        "id": "P4SPgaEAACnJ",
        "colab": {
          "base_uri": "https://localhost:8080/"
        },
        "outputId": "125ac035-33d7-46e4-f3e9-9a2f0b995f15"
      },
      "execution_count": null,
      "outputs": [
        {
          "metadata": {
            "tags": null
          },
          "name": "stdout",
          "output_type": "stream",
          "text": [
            "\n",
            "Epoch 1: LearningRateScheduler setting learning rate to 0.01.\n",
            "Epoch 1/25\n"
          ]
        },
        {
          "metadata": {
            "tags": null
          },
          "name": "stderr",
          "output_type": "stream",
          "text": [
            "/usr/local/lib/python3.7/dist-packages/keras/optimizer_v2/gradient_descent.py:102: UserWarning: The `lr` argument is deprecated, use `learning_rate` instead.\n",
            "  super(SGD, self).__init__(name, **kwargs)\n"
          ]
        },
        {
          "output_type": "stream",
          "name": "stdout",
          "text": [
            "13/13 [==============================] - 77s 6s/step - loss: 6.6967 - output_loss: 4.1745 - auxilliary_output_1_loss: 4.2455 - auxilliary_output_2_loss: 4.1618 - output_accuracy: 0.0505 - auxilliary_output_1_accuracy: 0.0452 - auxilliary_output_2_accuracy: 0.0490 - val_loss: 5.4749 - val_output_loss: 3.3965 - val_auxilliary_output_1_loss: 3.4972 - val_auxilliary_output_2_loss: 3.4309 - val_output_accuracy: 0.0953 - val_auxilliary_output_1_accuracy: 0.0953 - val_auxilliary_output_2_accuracy: 0.0953 - lr: 0.0100\n",
            "\n",
            "Epoch 2: LearningRateScheduler setting learning rate to 0.01.\n",
            "Epoch 2/25\n",
            "13/13 [==============================] - 70s 5s/step - loss: 5.7569 - output_loss: 3.5943 - auxilliary_output_1_loss: 3.5999 - auxilliary_output_2_loss: 3.6088 - output_accuracy: 0.0664 - auxilliary_output_1_accuracy: 0.0742 - auxilliary_output_2_accuracy: 0.0680 - val_loss: 5.3968 - val_output_loss: 3.3765 - val_auxilliary_output_1_loss: 3.3725 - val_auxilliary_output_2_loss: 3.3618 - val_output_accuracy: 0.0953 - val_auxilliary_output_1_accuracy: 0.0953 - val_auxilliary_output_2_accuracy: 0.0953 - lr: 0.0100\n",
            "\n",
            "Epoch 3: LearningRateScheduler setting learning rate to 0.01.\n",
            "Epoch 3/25\n",
            "13/13 [==============================] - 71s 5s/step - loss: 5.5583 - output_loss: 3.4715 - auxilliary_output_1_loss: 3.4610 - auxilliary_output_2_loss: 3.4951 - output_accuracy: 0.0708 - auxilliary_output_1_accuracy: 0.0929 - auxilliary_output_2_accuracy: 0.0711 - val_loss: 5.3527 - val_output_loss: 3.3717 - val_auxilliary_output_1_loss: 3.2732 - val_auxilliary_output_2_loss: 3.3300 - val_output_accuracy: 0.0953 - val_auxilliary_output_1_accuracy: 0.1766 - val_auxilliary_output_2_accuracy: 0.1729 - lr: 0.0100\n",
            "\n",
            "Epoch 4: LearningRateScheduler setting learning rate to 0.01.\n",
            "Epoch 4/25\n",
            "13/13 [==============================] - 71s 5s/step - loss: 5.4746 - output_loss: 3.4537 - auxilliary_output_1_loss: 3.3273 - auxilliary_output_2_loss: 3.4091 - output_accuracy: 0.0661 - auxilliary_output_1_accuracy: 0.1313 - auxilliary_output_2_accuracy: 0.1029 - val_loss: 5.2394 - val_output_loss: 3.3681 - val_auxilliary_output_1_loss: 3.0550 - val_auxilliary_output_2_loss: 3.1827 - val_output_accuracy: 0.0953 - val_auxilliary_output_1_accuracy: 0.1766 - val_auxilliary_output_2_accuracy: 0.1766 - lr: 0.0100\n",
            "\n",
            "Epoch 5: LearningRateScheduler setting learning rate to 0.01.\n",
            "Epoch 5/25\n",
            "13/13 [==============================] - 71s 5s/step - loss: 5.2831 - output_loss: 3.4172 - auxilliary_output_1_loss: 3.0414 - auxilliary_output_2_loss: 3.1785 - output_accuracy: 0.0836 - auxilliary_output_1_accuracy: 0.2279 - auxilliary_output_2_accuracy: 0.1824 - val_loss: 4.8781 - val_output_loss: 3.2572 - val_auxilliary_output_1_loss: 2.6088 - val_auxilliary_output_2_loss: 2.7945 - val_output_accuracy: 0.1766 - val_auxilliary_output_1_accuracy: 0.3430 - val_auxilliary_output_2_accuracy: 0.2047 - lr: 0.0100\n",
            "\n",
            "Epoch 6: LearningRateScheduler setting learning rate to 0.01.\n",
            "Epoch 6/25\n",
            "13/13 [==============================] - 70s 5s/step - loss: 4.9429 - output_loss: 3.2689 - auxilliary_output_1_loss: 2.7063 - auxilliary_output_2_loss: 2.8739 - output_accuracy: 0.1331 - auxilliary_output_1_accuracy: 0.3474 - auxilliary_output_2_accuracy: 0.2744 - val_loss: 4.8772 - val_output_loss: 3.1864 - val_auxilliary_output_1_loss: 2.7375 - val_auxilliary_output_2_loss: 2.8983 - val_output_accuracy: 0.1766 - val_auxilliary_output_1_accuracy: 0.2804 - val_auxilliary_output_2_accuracy: 0.2626 - lr: 0.0100\n",
            "\n",
            "Epoch 7: LearningRateScheduler setting learning rate to 0.01.\n",
            "Epoch 7/25\n",
            "13/13 [==============================] - 70s 5s/step - loss: 4.8268 - output_loss: 3.1760 - auxilliary_output_1_loss: 2.6445 - auxilliary_output_2_loss: 2.8580 - output_accuracy: 0.1431 - auxilliary_output_1_accuracy: 0.3477 - auxilliary_output_2_accuracy: 0.2710 - val_loss: 4.2896 - val_output_loss: 2.9539 - val_auxilliary_output_1_loss: 2.1142 - val_auxilliary_output_2_loss: 2.3382 - val_output_accuracy: 0.1766 - val_auxilliary_output_1_accuracy: 0.4981 - val_auxilliary_output_2_accuracy: 0.4692 - lr: 0.0100\n",
            "\n",
            "Epoch 8: LearningRateScheduler setting learning rate to 0.0096.\n",
            "Epoch 8/25\n",
            "13/13 [==============================] - 70s 5s/step - loss: 4.3730 - output_loss: 3.0142 - auxilliary_output_1_loss: 2.1699 - auxilliary_output_2_loss: 2.3595 - output_accuracy: 0.1581 - auxilliary_output_1_accuracy: 0.5198 - auxilliary_output_2_accuracy: 0.4415 - val_loss: 3.8454 - val_output_loss: 2.7622 - val_auxilliary_output_1_loss: 1.6954 - val_auxilliary_output_2_loss: 1.9153 - val_output_accuracy: 0.3271 - val_auxilliary_output_1_accuracy: 0.7336 - val_auxilliary_output_2_accuracy: 0.6187 - lr: 0.0096\n",
            "\n",
            "Epoch 9: LearningRateScheduler setting learning rate to 0.0096.\n",
            "Epoch 9/25\n",
            "13/13 [==============================] - 70s 5s/step - loss: 4.0199 - output_loss: 2.8833 - auxilliary_output_1_loss: 1.7962 - auxilliary_output_2_loss: 1.9925 - output_accuracy: 0.2086 - auxilliary_output_1_accuracy: 0.6654 - auxilliary_output_2_accuracy: 0.5753 - val_loss: 3.4703 - val_output_loss: 2.5900 - val_auxilliary_output_1_loss: 1.3803 - val_auxilliary_output_2_loss: 1.5543 - val_output_accuracy: 0.3785 - val_auxilliary_output_1_accuracy: 0.7925 - val_auxilliary_output_2_accuracy: 0.7430 - lr: 0.0096\n",
            "\n",
            "Epoch 10: LearningRateScheduler setting learning rate to 0.0096.\n",
            "Epoch 10/25\n",
            "13/13 [==============================] - 71s 5s/step - loss: 3.6361 - output_loss: 2.6861 - auxilliary_output_1_loss: 1.4988 - auxilliary_output_2_loss: 1.6677 - output_accuracy: 0.2859 - auxilliary_output_1_accuracy: 0.7499 - auxilliary_output_2_accuracy: 0.6897 - val_loss: 3.0847 - val_output_loss: 2.3137 - val_auxilliary_output_1_loss: 1.2314 - val_auxilliary_output_2_loss: 1.3384 - val_output_accuracy: 0.4794 - val_auxilliary_output_1_accuracy: 0.7991 - val_auxilliary_output_2_accuracy: 0.7495 - lr: 0.0096\n",
            "\n",
            "Epoch 11: LearningRateScheduler setting learning rate to 0.0096.\n",
            "Epoch 11/25\n",
            "13/13 [==============================] - 70s 5s/step - loss: 3.3153 - output_loss: 2.4572 - auxilliary_output_1_loss: 1.3737 - auxilliary_output_2_loss: 1.4868 - output_accuracy: 0.3764 - auxilliary_output_1_accuracy: 0.7767 - auxilliary_output_2_accuracy: 0.7309 - val_loss: 4.1587 - val_output_loss: 3.0197 - val_auxilliary_output_1_loss: 1.5914 - val_auxilliary_output_2_loss: 2.2055 - val_output_accuracy: 0.1822 - val_auxilliary_output_1_accuracy: 0.6879 - val_auxilliary_output_2_accuracy: 0.5234 - lr: 0.0096\n",
            "\n",
            "Epoch 12: LearningRateScheduler setting learning rate to 0.0096.\n",
            "Epoch 12/25\n",
            "13/13 [==============================] - 70s 5s/step - loss: 4.5451 - output_loss: 3.1302 - auxilliary_output_1_loss: 2.1720 - auxilliary_output_2_loss: 2.5444 - output_accuracy: 0.1821 - auxilliary_output_1_accuracy: 0.5129 - auxilliary_output_2_accuracy: 0.4228 - val_loss: 3.8292 - val_output_loss: 2.8217 - val_auxilliary_output_1_loss: 1.5563 - val_auxilliary_output_2_loss: 1.8020 - val_output_accuracy: 0.2290 - val_auxilliary_output_1_accuracy: 0.7056 - val_auxilliary_output_2_accuracy: 0.6495 - lr: 0.0096\n",
            "\n",
            "Epoch 13: LearningRateScheduler setting learning rate to 0.0096.\n",
            "Epoch 13/25\n",
            "13/13 [==============================] - 71s 5s/step - loss: 3.6598 - output_loss: 2.6618 - auxilliary_output_1_loss: 1.5752 - auxilliary_output_2_loss: 1.7514 - output_accuracy: 0.2791 - auxilliary_output_1_accuracy: 0.7007 - auxilliary_output_2_accuracy: 0.6352 - val_loss: 2.8600 - val_output_loss: 2.1162 - val_auxilliary_output_1_loss: 1.1714 - val_auxilliary_output_2_loss: 1.3079 - val_output_accuracy: 0.5178 - val_auxilliary_output_1_accuracy: 0.8009 - val_auxilliary_output_2_accuracy: 0.7692 - lr: 0.0096\n",
            "\n",
            "Epoch 14: LearningRateScheduler setting learning rate to 0.0096.\n",
            "Epoch 14/25\n",
            "13/13 [==============================] - 70s 5s/step - loss: 3.0974 - output_loss: 2.2990 - auxilliary_output_1_loss: 1.2803 - auxilliary_output_2_loss: 1.3810 - output_accuracy: 0.4365 - auxilliary_output_1_accuracy: 0.7805 - auxilliary_output_2_accuracy: 0.7546 - val_loss: 2.4905 - val_output_loss: 1.8346 - val_auxilliary_output_1_loss: 1.0740 - val_auxilliary_output_2_loss: 1.1123 - val_output_accuracy: 0.7206 - val_auxilliary_output_1_accuracy: 0.8019 - val_auxilliary_output_2_accuracy: 0.8019 - lr: 0.0096\n",
            "\n",
            "Epoch 15: LearningRateScheduler setting learning rate to 0.0096.\n",
            "Epoch 15/25\n",
            "13/13 [==============================] - 70s 5s/step - loss: 2.7981 - output_loss: 2.0666 - auxilliary_output_1_loss: 1.1971 - auxilliary_output_2_loss: 1.2415 - output_accuracy: 0.5423 - auxilliary_output_1_accuracy: 0.7867 - auxilliary_output_2_accuracy: 0.7764 - val_loss: 2.1431 - val_output_loss: 1.5300 - val_auxilliary_output_1_loss: 1.0181 - val_auxilliary_output_2_loss: 1.0255 - val_output_accuracy: 0.7822 - val_auxilliary_output_1_accuracy: 0.8037 - val_auxilliary_output_2_accuracy: 0.8103 - lr: 0.0096\n",
            "\n",
            "Epoch 16: LearningRateScheduler setting learning rate to 0.009216.\n",
            "Epoch 16/25\n",
            "13/13 [==============================] - 70s 5s/step - loss: 2.5558 - output_loss: 1.8546 - auxilliary_output_1_loss: 1.1583 - auxilliary_output_2_loss: 1.1788 - output_accuracy: 0.6436 - auxilliary_output_1_accuracy: 0.7814 - auxilliary_output_2_accuracy: 0.7824 - val_loss: 2.0517 - val_output_loss: 1.4551 - val_auxilliary_output_1_loss: 0.9740 - val_auxilliary_output_2_loss: 1.0145 - val_output_accuracy: 0.7664 - val_auxilliary_output_1_accuracy: 0.8224 - val_auxilliary_output_2_accuracy: 0.7963 - lr: 0.0092\n",
            "\n",
            "Epoch 17: LearningRateScheduler setting learning rate to 0.009216.\n",
            "Epoch 17/25\n",
            "13/13 [==============================] - 70s 5s/step - loss: 2.5260 - output_loss: 1.8072 - auxilliary_output_1_loss: 1.1874 - auxilliary_output_2_loss: 1.2087 - output_accuracy: 0.6283 - auxilliary_output_1_accuracy: 0.7767 - auxilliary_output_2_accuracy: 0.7633 - val_loss: 2.0812 - val_output_loss: 1.4355 - val_auxilliary_output_1_loss: 1.0454 - val_auxilliary_output_2_loss: 1.1069 - val_output_accuracy: 0.7402 - val_auxilliary_output_1_accuracy: 0.8019 - val_auxilliary_output_2_accuracy: 0.7981 - lr: 0.0092\n",
            "\n",
            "Epoch 18: LearningRateScheduler setting learning rate to 0.009216.\n",
            "Epoch 18/25\n",
            "13/13 [==============================] - 70s 5s/step - loss: 2.7054 - output_loss: 1.9358 - auxilliary_output_1_loss: 1.2203 - auxilliary_output_2_loss: 1.3452 - output_accuracy: 0.5734 - auxilliary_output_1_accuracy: 0.7565 - auxilliary_output_2_accuracy: 0.7309 - val_loss: 1.9794 - val_output_loss: 1.3786 - val_auxilliary_output_1_loss: 0.9823 - val_auxilliary_output_2_loss: 1.0200 - val_output_accuracy: 0.7196 - val_auxilliary_output_1_accuracy: 0.8019 - val_auxilliary_output_2_accuracy: 0.8093 - lr: 0.0092\n",
            "\n",
            "Epoch 19: LearningRateScheduler setting learning rate to 0.009216.\n",
            "Epoch 19/25\n",
            "13/13 [==============================] - 70s 5s/step - loss: 2.5091 - output_loss: 1.7994 - auxilliary_output_1_loss: 1.1472 - auxilliary_output_2_loss: 1.2186 - output_accuracy: 0.6268 - auxilliary_output_1_accuracy: 0.7833 - auxilliary_output_2_accuracy: 0.7611 - val_loss: 1.8623 - val_output_loss: 1.2811 - val_auxilliary_output_1_loss: 0.9590 - val_auxilliary_output_2_loss: 0.9783 - val_output_accuracy: 0.7402 - val_auxilliary_output_1_accuracy: 0.8121 - val_auxilliary_output_2_accuracy: 0.7991 - lr: 0.0092\n",
            "\n",
            "Epoch 20: LearningRateScheduler setting learning rate to 0.009216.\n",
            "Epoch 20/25\n",
            "13/13 [==============================] - 70s 5s/step - loss: 2.1218 - output_loss: 1.4768 - auxilliary_output_1_loss: 1.0669 - auxilliary_output_2_loss: 1.0831 - output_accuracy: 0.7203 - auxilliary_output_1_accuracy: 0.7933 - auxilliary_output_2_accuracy: 0.7848 - val_loss: 1.6535 - val_output_loss: 1.1101 - val_auxilliary_output_1_loss: 0.9052 - val_auxilliary_output_2_loss: 0.9060 - val_output_accuracy: 0.7888 - val_auxilliary_output_1_accuracy: 0.8187 - val_auxilliary_output_2_accuracy: 0.8037 - lr: 0.0092\n",
            "\n",
            "Epoch 21: LearningRateScheduler setting learning rate to 0.009216.\n",
            "Epoch 21/25\n",
            "13/13 [==============================] - 70s 5s/step - loss: 1.9415 - output_loss: 1.3323 - auxilliary_output_1_loss: 1.0301 - auxilliary_output_2_loss: 1.0003 - output_accuracy: 0.7515 - auxilliary_output_1_accuracy: 0.7951 - auxilliary_output_2_accuracy: 0.7898 - val_loss: 1.5543 - val_output_loss: 1.0274 - val_auxilliary_output_1_loss: 0.8766 - val_auxilliary_output_2_loss: 0.8797 - val_output_accuracy: 0.8028 - val_auxilliary_output_1_accuracy: 0.8308 - val_auxilliary_output_2_accuracy: 0.8150 - lr: 0.0092\n",
            "\n",
            "Epoch 22: LearningRateScheduler setting learning rate to 0.009216.\n",
            "Epoch 22/25\n",
            "13/13 [==============================] - 71s 5s/step - loss: 1.8727 - output_loss: 1.2823 - auxilliary_output_1_loss: 0.9908 - auxilliary_output_2_loss: 0.9771 - output_accuracy: 0.7655 - auxilliary_output_1_accuracy: 0.8042 - auxilliary_output_2_accuracy: 0.7976 - val_loss: 1.5094 - val_output_loss: 0.9947 - val_auxilliary_output_1_loss: 0.8582 - val_auxilliary_output_2_loss: 0.8574 - val_output_accuracy: 0.8019 - val_auxilliary_output_1_accuracy: 0.8187 - val_auxilliary_output_2_accuracy: 0.8364 - lr: 0.0092\n",
            "\n",
            "Epoch 23: LearningRateScheduler setting learning rate to 0.009216.\n",
            "Epoch 23/25\n",
            "13/13 [==============================] - 70s 5s/step - loss: 1.7900 - output_loss: 1.2166 - auxilliary_output_1_loss: 0.9624 - auxilliary_output_2_loss: 0.9489 - output_accuracy: 0.7677 - auxilliary_output_1_accuracy: 0.8001 - auxilliary_output_2_accuracy: 0.8095 - val_loss: 1.5012 - val_output_loss: 0.9878 - val_auxilliary_output_1_loss: 0.8621 - val_auxilliary_output_2_loss: 0.8490 - val_output_accuracy: 0.8037 - val_auxilliary_output_1_accuracy: 0.8047 - val_auxilliary_output_2_accuracy: 0.8243 - lr: 0.0092\n",
            "\n",
            "Epoch 24: LearningRateScheduler setting learning rate to 0.008847359999999999.\n",
            "Epoch 24/25\n",
            "13/13 [==============================] - 71s 5s/step - loss: 1.7582 - output_loss: 1.1973 - auxilliary_output_1_loss: 0.9350 - auxilliary_output_2_loss: 0.9348 - output_accuracy: 0.7724 - auxilliary_output_1_accuracy: 0.8110 - auxilliary_output_2_accuracy: 0.8157 - val_loss: 1.4608 - val_output_loss: 0.9683 - val_auxilliary_output_1_loss: 0.8189 - val_auxilliary_output_2_loss: 0.8227 - val_output_accuracy: 0.8047 - val_auxilliary_output_1_accuracy: 0.8393 - val_auxilliary_output_2_accuracy: 0.8271 - lr: 0.0088\n",
            "\n",
            "Epoch 25: LearningRateScheduler setting learning rate to 0.008847359999999999.\n",
            "Epoch 25/25\n",
            "13/13 [==============================] - 70s 5s/step - loss: 1.6941 - output_loss: 1.1468 - auxilliary_output_1_loss: 0.9282 - auxilliary_output_2_loss: 0.8960 - output_accuracy: 0.7917 - auxilliary_output_1_accuracy: 0.8213 - auxilliary_output_2_accuracy: 0.8276 - val_loss: 1.3679 - val_output_loss: 0.8920 - val_auxilliary_output_1_loss: 0.7975 - val_auxilliary_output_2_loss: 0.7889 - val_output_accuracy: 0.8262 - val_auxilliary_output_1_accuracy: 0.8430 - val_auxilliary_output_2_accuracy: 0.8364 - lr: 0.0088\n"
          ]
        }
      ]
    },
    {
      "cell_type": "code",
      "source": [
        "# 5. 학습 과정 살펴보기\n",
        "%matplotlib inline\n",
        "import matplotlib.pyplot as plt\n",
        "\n",
        "## 그래프1 : loss , val_loss\n",
        "fig, loss_ax = plt.subplots()\n",
        "acc_ax = loss_ax.twinx()\n",
        "\n",
        "## loss 그래프\n",
        "loss_ax.plot(model_with_classifiers_hist.history['loss'],'y',label='train_loss') # 노란색\n",
        "loss_ax.plot(model_with_classifiers_hist.history['val_loss'],color='red' ,label='val_loss') # 빨간색\n",
        "\n",
        "## accuracy 그래프\n",
        "acc_ax.plot(model_with_classifiers_hist.history['output_accuracy'],'g',label='train_accuracy') # 초록색\n",
        "acc_ax.plot(model_with_classifiers_hist.history['val_output_accuracy'],'b',label='val_accuracy') # 파란색\n",
        "\n",
        "loss_ax.set_xlabel('epoch')\n",
        "loss_ax.set_ylabel('loss')\n",
        "acc_ax.set_ylabel('accuracy')\n",
        "\n",
        "loss_ax.legend(loc='upper left')\n",
        "acc_ax.legend(loc='lower left')\n",
        "plt.show()\n",
        "\n",
        "## 그래프 2 : loss , outloss, val_loss\n",
        "fig, loss_ax2 = plt.subplots()\n",
        "acc_ax2 = loss_ax2.twinx()\n",
        "\n",
        "## loss 그래프\n",
        "loss_ax2.plot(model_with_classifiers_hist.history['loss'],'y',label='train_loss') # 노란색\n",
        "loss_ax2.plot(model_with_classifiers_hist.history['output_loss'],color='orange' ,label='output_loss') # 주황색\n",
        "loss_ax2.plot(model_with_classifiers_hist.history['val_loss'],color='red' ,label='val_loss') # 빨간색\n",
        "loss_ax2.plot(model_with_classifiers_hist.history['val_output_loss'],color='magenta',label='val_output_loss') # 찐핑크\n",
        "\n",
        "## accuracy 그래프\n",
        "acc_ax2.plot(model_with_classifiers_hist.history['output_accuracy'],'g',label='output_accuracy') # 초록색\n",
        "acc_ax2.plot(model_with_classifiers_hist.history['val_output_accuracy'],'b',label='val_output_accuracy') # 파란색\n",
        "\n",
        "loss_ax2.set_xlabel('epoch')\n",
        "loss_ax2.set_ylabel('loss')\n",
        "acc_ax2.set_ylabel('accuracy')\n",
        "\n",
        "loss_ax2.legend(loc='upper left')\n",
        "acc_ax2.legend(loc='lower left')\n",
        "plt.show()\n",
        "\n",
        "######  그래프 3 : loss&val + auxilliary loss & accuracy #####\n",
        "fig2, loss_ax3 = plt.subplots()\n",
        "acc_ax3 = loss_ax3.twinx()\n",
        "\n",
        "## loss 그래프\n",
        "loss_ax3.plot(model_with_classifiers_hist.history['loss'],'y',label='train_loss') # 노란색\n",
        "loss_ax3.plot(model_with_classifiers_hist.history['val_loss'],color='red' ,label='val_loss') # 빨간색\n",
        "\n",
        "loss_ax3.plot(model_with_classifiers_hist.history['auxilliary_output_1_loss'],color='darkorange',label='auxilliary_output_1_loss') # 다크 오렌지\n",
        "loss_ax3.plot(model_with_classifiers_hist.history['auxilliary_output_2_loss'],color='darkgoldenrod' ,label='auxilliary_output_2_loss') # 똥색\n",
        "loss_ax3.plot(model_with_classifiers_hist.history['val_auxilliary_output_1_accuracy'],color='lightsalmon' ,label='val_auxilliary_output_1_accuracy') # 연어색\n",
        "loss_ax3.plot(model_with_classifiers_hist.history['val_auxilliary_output_2_accuracy'],color='saddlebrown',label='val_auxilliary_output_2_accuracy') # 고동색?\n",
        "\n",
        "## accuracy 그래프\n",
        "acc_ax3.plot(model_with_classifiers_hist.history['output_accuracy'],'g',label='train accuracy') # 초록색\n",
        "acc_ax3.plot(model_with_classifiers_hist.history['val_output_accuracy'],'b',label='train accuracy') # 파란색\n",
        "\n",
        "acc_ax3.plot(model_with_classifiers_hist.history['auxilliary_output_1_accuracy'],color = 'yellowgreen',label='auxilliary_output_1_accuracy') # 연두색\n",
        "acc_ax3.plot(model_with_classifiers_hist.history['auxilliary_output_2_accuracy'],color = 'lightgreen',label='auxilliary_output_2_accuracy') # 라임색\n",
        "acc_ax3.plot(model_with_classifiers_hist.history['val_auxilliary_output_1_accuracy'],color = 'lightblue',label='val_auxilliary_output_1_accuracy') # 스카이블루\n",
        "acc_ax3.plot(model_with_classifiers_hist.history['val_auxilliary_output_2_accuracy'],color = 'royalblue',label='val_auxilliary_output_2_accuracy') # 로얄 블루\n",
        "\n",
        "loss_ax3.set_xlabel('epoch')\n",
        "loss_ax3.set_ylabel('auxilliary_loss')\n",
        "acc_ax3.set_ylabel('auxilliary_accuracy')\n",
        "\n",
        "loss_ax3.legend(loc='upper left')\n",
        "acc_ax3.legend(loc='lower left')\n",
        "plt.show()"
      ],
      "metadata": {
        "id": "IXU7-2r4ACo_",
        "colab": {
          "base_uri": "https://localhost:8080/",
          "height": 807
        },
        "outputId": "6ae5c431-1a0b-455e-e852-2b1e49476d9b"
      },
      "execution_count": null,
      "outputs": [
        {
          "output_type": "display_data",
          "data": {
            "text/plain": [
              "<Figure size 432x288 with 2 Axes>"
            ],
            "image/png": "[encoded data removed]"
          },
          "metadata": {
            "needs_background": "light"
          }
        },
        {
          "output_type": "display_data",
          "data": {
            "text/plain": [
              "<Figure size 432x288 with 2 Axes>"
            ],
            "image/png": "[encoded data removed]"
          },
          "metadata": {
            "needs_background": "light"
          }
        },
        {
          "output_type": "display_data",
          "data": {
            "text/plain": [
              "<Figure size 432x288 with 2 Axes>"
            ],
            "image/png": "[encoded data removed]"
          },
          "metadata": {
            "needs_background": "light"
          }
        }
      ]
    },
    {
      "cell_type": "code",
      "source": [
        "# 6. 모델 평가하기\n",
        "loss_and_metrics = model_with_classifiers.evaluate(X_test,y_test,batch_size=32)\n",
        "#변수명 : X_train, X_test, y_train, y_test \n",
        "print('##### Test Result #####')\n",
        "print('loss : ',str(loss_and_metrics[0]))\n",
        "print('Accuracy : ',str(loss_and_metrics[1]))\n",
        "\n",
        "# 7. 모델 저장하기\n",
        "from tensorflow.python.keras.models import load_model\n",
        "model_with_classifiers.save(f'{base_dir}/googlenet1_with_classifiers_88_test_220422.h5')\n"
      ],
      "metadata": {
        "colab": {
          "base_uri": "https://localhost:8080/"
        },
        "id": "ywL019OQMzqz",
        "outputId": "e2bda266-5d4a-484b-9bd1-e7bd6f58c098"
      },
      "execution_count": null,
      "outputs": [
        {
          "output_type": "stream",
          "name": "stdout",
          "text": [
            "34/34 [==============================] - 5s 136ms/step - loss: 1.3679 - output_loss: 0.8920 - auxilliary_output_1_loss: 0.7975 - auxilliary_output_2_loss: 0.7889 - output_accuracy: 0.8262 - auxilliary_output_1_accuracy: 0.8430 - auxilliary_output_2_accuracy: 0.8364\n",
            "##### Test Result #####\n",
            "loss :  1.3678909540176392\n",
            "Accuracy :  0.8919836282730103\n"
          ]
        }
      ]
    },
    {
      "cell_type": "code",
      "source": [
        ""
      ],
      "metadata": {
        "id": "Xjlxh7-LMzsl"
      },
      "execution_count": null,
      "outputs": []
    },
    {
      "cell_type": "code",
      "source": [
        ""
      ],
      "metadata": {
        "id": "oAnGnmsDMzui"
      },
      "execution_count": null,
      "outputs": []
    },
    {
      "cell_type": "code",
      "source": [
        ""
      ],
      "metadata": {
        "id": "nKTgi8riMzwf"
      },
      "execution_count": null,
      "outputs": []
    },
    {
      "cell_type": "markdown",
      "source": [
        "## GoogleNet 구현 코드 활용 [참고 블로그 :  논문 구현_GoogleNetv1]\n",
        "* https://velog.io/@noooooh_042/%EB%85%BC%EB%AC%B8-%EA%B5%AC%ED%98%84GoogleNetv1"
      ],
      "metadata": {
        "id": "hJzKhaG8oTw1"
      }
    },
    {
      "cell_type": "code",
      "source": [
        "import tensorflow as tf\n",
        "from tensorflow.keras.layers import Dropout,AveragePooling2D,Dense,Conv2D,MaxPooling2D,Activation,Concatenate,GlobalAveragePooling2D,Flatten\n",
        "from tensorflow.keras import Input\n",
        "\n",
        "def inception(x_in, x1_f,x3r_f,x3_f,x5r_f,x5_f,po):\n",
        "    \n",
        "    x1 = MaxPooling2D(pool_size=(3,3),strides=(1,1),padding = 'SAME')(x_in)\n",
        "    x1 = Conv2D(filters= po,kernel_size=(1,1),padding=\"SAME\")(x1)\n",
        "    x1 = Activation('relu')(x1)\n",
        "\n",
        "    x2 = Conv2D(filters=x5r_f,kernel_size=(1,1),padding=\"SAME\")(x_in)\n",
        "    x2 = Conv2D(filters=x5_f,kernel_size=(5,5),padding=\"SAME\")(x2)\n",
        "    x2 = Activation('relu')(x2)\n",
        "\n",
        "    x3 = Conv2D(filters=x3r_f,kernel_size=(1,1),padding=\"SAME\")(x_in)\n",
        "    x3 = Conv2D(filters=x3_f,kernel_size=(3,3),padding=\"SAME\")(x3)\n",
        "    x3 = Activation('relu')(x3)\n",
        "\n",
        "    x4 = Conv2D(filters=x1_f,kernel_size=(1,1),padding=\"SAME\")(x_in)\n",
        "    x4 = Activation('relu')(x4)\n",
        "\n",
        "    out = Concatenate()([x1,x2,x3,x4])\n",
        "    return out\n",
        "\n",
        "\n",
        "input_data = Input(shape=(224,224,3))\n",
        "x = Conv2D(filters=64,kernel_size=(7,7),strides=(2,2),padding=\"SAME\")(input_data)\n",
        "x = MaxPooling2D(pool_size=(3,3),strides=(2,2),padding=\"SAME\")(x)\n",
        "x = tf.keras.layers.LayerNormalization()(x)\n",
        "\n",
        "x = Conv2D(filters=64,kernel_size=(1,1),strides=(1,1),padding=\"SAME\")(x)\n",
        "x = Conv2D(filters=192,kernel_size=(3,3),strides=(1,1),padding=\"SAME\")(x)\n",
        "\n",
        "x = tf.keras.layers.LayerNormalization()(x)\n",
        "x = MaxPooling2D(pool_size=(3,3),strides=(2,2),padding=\"SAME\")(x)\n",
        "\n",
        "\n",
        "x = inception(x,64,96,128,16,32,32)\n",
        "x = inception(x,128,128,192,32,96,64)\n",
        "\n",
        "x = MaxPooling2D(pool_size=(3,3),strides=(2,2),padding=\"SAME\")(x)\n",
        "x = inception(x,192,96,208,16,48,64)\n",
        "\n",
        "ax1 = AveragePooling2D(pool_size=(5,5),strides=(3,3))(x)\n",
        "ax1 = Conv2D(filters=128,kernel_size=(1,1),padding=\"SAME\")(ax1)\n",
        "ax1 = Flatten()(ax1)\n",
        "ax1 = Dense(1024,activation=\"relu\")(ax1)\n",
        "ax1 = Dropout(0.7)(ax1)\n",
        "ax1 = Dense(88,activation=\"softmax\")(ax1) # 1000\n",
        "\n",
        "x = inception(x,160,112,224,24,64,64)\n",
        "x = inception(x,128,128,256,24,64,64)\n",
        "\n",
        "x = inception(x,112,114,288,32,64,64)\n",
        "\n",
        "ax2 = AveragePooling2D(pool_size=(5,5),strides=(3,3))(x)\n",
        "ax2 = Conv2D(filters=128,kernel_size=(1,1),padding=\"SAME\")(ax2)\n",
        "ax2 = Flatten()(ax2)\n",
        "ax2 = Dense(1024,activation=\"relu\")(ax2)\n",
        "ax2 = Dropout(0.7)(ax2)\n",
        "ax2 = Dense(88,activation=\"softmax\")(ax2) # 1000\n",
        "\n",
        "x = inception(x,256,160,320,32,128,128)\n",
        "x = MaxPooling2D(pool_size=(3,3),strides=(2,2),padding=\"SAME\")(x)\n",
        "\n",
        "x = inception(x,256,160,320,32,128,128)\n",
        "x = inception(x,384,192,384,48,128,128)\n",
        "\n",
        "x = GlobalAveragePooling2D()(x)\n",
        "x = Dropout(0.4)(x)\n",
        "\n",
        "outputs = Dense(88,activation=\"softmax\")(x) # 기존 코드 -> 1000\n",
        "googlenet = tf.keras.models.Model(input_data,[outputs,ax1,ax2],name = 'googlenet')\n",
        "googlenet.summary()"
      ],
      "metadata": {
        "id": "xRUlYQIhACrC",
        "colab": {
          "base_uri": "https://localhost:8080/"
        },
        "outputId": "352535a6-3ea9-4471-c0d7-6b8f773f6249"
      },
      "execution_count": null,
      "outputs": [
        {
          "output_type": "stream",
          "name": "stdout",
          "text": [
            "Model: \"googlenet\"\n",
            "__________________________________________________________________________________________________\n",
            " Layer (type)                   Output Shape         Param #     Connected to                     \n",
            "==================================================================================================\n",
            " input_4 (InputLayer)           [(None, 224, 224, 3  0           []                               \n",
            "                                )]                                                                \n",
            "                                                                                                  \n",
            " conv2d_101 (Conv2D)            (None, 112, 112, 64  9472        ['input_4[0][0]']                \n",
            "                                )                                                                 \n",
            "                                                                                                  \n",
            " max_pooling2d_21 (MaxPooling2D  (None, 56, 56, 64)  0           ['conv2d_101[0][0]']             \n",
            " )                                                                                                \n",
            "                                                                                                  \n",
            " layer_normalization_4 (LayerNo  (None, 56, 56, 64)  128         ['max_pooling2d_21[0][0]']       \n",
            " rmalization)                                                                                     \n",
            "                                                                                                  \n",
            " conv2d_102 (Conv2D)            (None, 56, 56, 64)   4160        ['layer_normalization_4[0][0]']  \n",
            "                                                                                                  \n",
            " conv2d_103 (Conv2D)            (None, 56, 56, 192)  110784      ['conv2d_102[0][0]']             \n",
            "                                                                                                  \n",
            " layer_normalization_5 (LayerNo  (None, 56, 56, 192)  384        ['conv2d_103[0][0]']             \n",
            " rmalization)                                                                                     \n",
            "                                                                                                  \n",
            " max_pooling2d_22 (MaxPooling2D  (None, 28, 28, 192)  0          ['layer_normalization_5[0][0]']  \n",
            " )                                                                                                \n",
            "                                                                                                  \n",
            " max_pooling2d_23 (MaxPooling2D  (None, 28, 28, 192)  0          ['max_pooling2d_22[0][0]']       \n",
            " )                                                                                                \n",
            "                                                                                                  \n",
            " conv2d_105 (Conv2D)            (None, 28, 28, 16)   3088        ['max_pooling2d_22[0][0]']       \n",
            "                                                                                                  \n",
            " conv2d_107 (Conv2D)            (None, 28, 28, 96)   18528       ['max_pooling2d_22[0][0]']       \n",
            "                                                                                                  \n",
            " conv2d_104 (Conv2D)            (None, 28, 28, 32)   6176        ['max_pooling2d_23[0][0]']       \n",
            "                                                                                                  \n",
            " conv2d_106 (Conv2D)            (None, 28, 28, 32)   12832       ['conv2d_105[0][0]']             \n",
            "                                                                                                  \n",
            " conv2d_108 (Conv2D)            (None, 28, 28, 128)  110720      ['conv2d_107[0][0]']             \n",
            "                                                                                                  \n",
            " conv2d_109 (Conv2D)            (None, 28, 28, 64)   12352       ['max_pooling2d_22[0][0]']       \n",
            "                                                                                                  \n",
            " activation_24 (Activation)     (None, 28, 28, 32)   0           ['conv2d_104[0][0]']             \n",
            "                                                                                                  \n",
            " activation_25 (Activation)     (None, 28, 28, 32)   0           ['conv2d_106[0][0]']             \n",
            "                                                                                                  \n",
            " activation_26 (Activation)     (None, 28, 28, 128)  0           ['conv2d_108[0][0]']             \n",
            "                                                                                                  \n",
            " activation_27 (Activation)     (None, 28, 28, 64)   0           ['conv2d_109[0][0]']             \n",
            "                                                                                                  \n",
            " concatenate_6 (Concatenate)    (None, 28, 28, 256)  0           ['activation_24[0][0]',          \n",
            "                                                                  'activation_25[0][0]',          \n",
            "                                                                  'activation_26[0][0]',          \n",
            "                                                                  'activation_27[0][0]']          \n",
            "                                                                                                  \n",
            " max_pooling2d_24 (MaxPooling2D  (None, 28, 28, 256)  0          ['concatenate_6[0][0]']          \n",
            " )                                                                                                \n",
            "                                                                                                  \n",
            " conv2d_111 (Conv2D)            (None, 28, 28, 32)   8224        ['concatenate_6[0][0]']          \n",
            "                                                                                                  \n",
            " conv2d_113 (Conv2D)            (None, 28, 28, 128)  32896       ['concatenate_6[0][0]']          \n",
            "                                                                                                  \n",
            " conv2d_110 (Conv2D)            (None, 28, 28, 64)   16448       ['max_pooling2d_24[0][0]']       \n",
            "                                                                                                  \n",
            " conv2d_112 (Conv2D)            (None, 28, 28, 96)   76896       ['conv2d_111[0][0]']             \n",
            "                                                                                                  \n",
            " conv2d_114 (Conv2D)            (None, 28, 28, 192)  221376      ['conv2d_113[0][0]']             \n",
            "                                                                                                  \n",
            " conv2d_115 (Conv2D)            (None, 28, 28, 128)  32896       ['concatenate_6[0][0]']          \n",
            "                                                                                                  \n",
            " activation_28 (Activation)     (None, 28, 28, 64)   0           ['conv2d_110[0][0]']             \n",
            "                                                                                                  \n",
            " activation_29 (Activation)     (None, 28, 28, 96)   0           ['conv2d_112[0][0]']             \n",
            "                                                                                                  \n",
            " activation_30 (Activation)     (None, 28, 28, 192)  0           ['conv2d_114[0][0]']             \n",
            "                                                                                                  \n",
            " activation_31 (Activation)     (None, 28, 28, 128)  0           ['conv2d_115[0][0]']             \n",
            "                                                                                                  \n",
            " concatenate_7 (Concatenate)    (None, 28, 28, 480)  0           ['activation_28[0][0]',          \n",
            "                                                                  'activation_29[0][0]',          \n",
            "                                                                  'activation_30[0][0]',          \n",
            "                                                                  'activation_31[0][0]']          \n",
            "                                                                                                  \n",
            " max_pooling2d_25 (MaxPooling2D  (None, 14, 14, 480)  0          ['concatenate_7[0][0]']          \n",
            " )                                                                                                \n",
            "                                                                                                  \n",
            " max_pooling2d_26 (MaxPooling2D  (None, 14, 14, 480)  0          ['max_pooling2d_25[0][0]']       \n",
            " )                                                                                                \n",
            "                                                                                                  \n",
            " conv2d_117 (Conv2D)            (None, 14, 14, 16)   7696        ['max_pooling2d_25[0][0]']       \n",
            "                                                                                                  \n",
            " conv2d_119 (Conv2D)            (None, 14, 14, 96)   46176       ['max_pooling2d_25[0][0]']       \n",
            "                                                                                                  \n",
            " conv2d_116 (Conv2D)            (None, 14, 14, 64)   30784       ['max_pooling2d_26[0][0]']       \n",
            "                                                                                                  \n",
            " conv2d_118 (Conv2D)            (None, 14, 14, 48)   19248       ['conv2d_117[0][0]']             \n",
            "                                                                                                  \n",
            " conv2d_120 (Conv2D)            (None, 14, 14, 208)  179920      ['conv2d_119[0][0]']             \n",
            "                                                                                                  \n",
            " conv2d_121 (Conv2D)            (None, 14, 14, 192)  92352       ['max_pooling2d_25[0][0]']       \n",
            "                                                                                                  \n",
            " activation_32 (Activation)     (None, 14, 14, 64)   0           ['conv2d_116[0][0]']             \n",
            "                                                                                                  \n",
            " activation_33 (Activation)     (None, 14, 14, 48)   0           ['conv2d_118[0][0]']             \n",
            "                                                                                                  \n",
            " activation_34 (Activation)     (None, 14, 14, 208)  0           ['conv2d_120[0][0]']             \n",
            "                                                                                                  \n",
            " activation_35 (Activation)     (None, 14, 14, 192)  0           ['conv2d_121[0][0]']             \n",
            "                                                                                                  \n",
            " concatenate_8 (Concatenate)    (None, 14, 14, 512)  0           ['activation_32[0][0]',          \n",
            "                                                                  'activation_33[0][0]',          \n",
            "                                                                  'activation_34[0][0]',          \n",
            "                                                                  'activation_35[0][0]']          \n",
            "                                                                                                  \n",
            " max_pooling2d_27 (MaxPooling2D  (None, 14, 14, 512)  0          ['concatenate_8[0][0]']          \n",
            " )                                                                                                \n",
            "                                                                                                  \n",
            " conv2d_124 (Conv2D)            (None, 14, 14, 24)   12312       ['concatenate_8[0][0]']          \n",
            "                                                                                                  \n",
            " conv2d_126 (Conv2D)            (None, 14, 14, 112)  57456       ['concatenate_8[0][0]']          \n",
            "                                                                                                  \n",
            " conv2d_123 (Conv2D)            (None, 14, 14, 64)   32832       ['max_pooling2d_27[0][0]']       \n",
            "                                                                                                  \n",
            " conv2d_125 (Conv2D)            (None, 14, 14, 64)   38464       ['conv2d_124[0][0]']             \n",
            "                                                                                                  \n",
            " conv2d_127 (Conv2D)            (None, 14, 14, 224)  226016      ['conv2d_126[0][0]']             \n",
            "                                                                                                  \n",
            " conv2d_128 (Conv2D)            (None, 14, 14, 160)  82080       ['concatenate_8[0][0]']          \n",
            "                                                                                                  \n",
            " activation_36 (Activation)     (None, 14, 14, 64)   0           ['conv2d_123[0][0]']             \n",
            "                                                                                                  \n",
            " activation_37 (Activation)     (None, 14, 14, 64)   0           ['conv2d_125[0][0]']             \n",
            "                                                                                                  \n",
            " activation_38 (Activation)     (None, 14, 14, 224)  0           ['conv2d_127[0][0]']             \n",
            "                                                                                                  \n",
            " activation_39 (Activation)     (None, 14, 14, 160)  0           ['conv2d_128[0][0]']             \n",
            "                                                                                                  \n",
            " concatenate_9 (Concatenate)    (None, 14, 14, 512)  0           ['activation_36[0][0]',          \n",
            "                                                                  'activation_37[0][0]',          \n",
            "                                                                  'activation_38[0][0]',          \n",
            "                                                                  'activation_39[0][0]']          \n",
            "                                                                                                  \n",
            " max_pooling2d_28 (MaxPooling2D  (None, 14, 14, 512)  0          ['concatenate_9[0][0]']          \n",
            " )                                                                                                \n",
            "                                                                                                  \n",
            " conv2d_130 (Conv2D)            (None, 14, 14, 24)   12312       ['concatenate_9[0][0]']          \n",
            "                                                                                                  \n",
            " conv2d_132 (Conv2D)            (None, 14, 14, 128)  65664       ['concatenate_9[0][0]']          \n",
            "                                                                                                  \n",
            " conv2d_129 (Conv2D)            (None, 14, 14, 64)   32832       ['max_pooling2d_28[0][0]']       \n",
            "                                                                                                  \n",
            " conv2d_131 (Conv2D)            (None, 14, 14, 64)   38464       ['conv2d_130[0][0]']             \n",
            "                                                                                                  \n",
            " conv2d_133 (Conv2D)            (None, 14, 14, 256)  295168      ['conv2d_132[0][0]']             \n",
            "                                                                                                  \n",
            " conv2d_134 (Conv2D)            (None, 14, 14, 128)  65664       ['concatenate_9[0][0]']          \n",
            "                                                                                                  \n",
            " activation_40 (Activation)     (None, 14, 14, 64)   0           ['conv2d_129[0][0]']             \n",
            "                                                                                                  \n",
            " activation_41 (Activation)     (None, 14, 14, 64)   0           ['conv2d_131[0][0]']             \n",
            "                                                                                                  \n",
            " activation_42 (Activation)     (None, 14, 14, 256)  0           ['conv2d_133[0][0]']             \n",
            "                                                                                                  \n",
            " activation_43 (Activation)     (None, 14, 14, 128)  0           ['conv2d_134[0][0]']             \n",
            "                                                                                                  \n",
            " concatenate_10 (Concatenate)   (None, 14, 14, 512)  0           ['activation_40[0][0]',          \n",
            "                                                                  'activation_41[0][0]',          \n",
            "                                                                  'activation_42[0][0]',          \n",
            "                                                                  'activation_43[0][0]']          \n",
            "                                                                                                  \n",
            " max_pooling2d_29 (MaxPooling2D  (None, 14, 14, 512)  0          ['concatenate_10[0][0]']         \n",
            " )                                                                                                \n",
            "                                                                                                  \n",
            " conv2d_136 (Conv2D)            (None, 14, 14, 32)   16416       ['concatenate_10[0][0]']         \n",
            "                                                                                                  \n",
            " conv2d_138 (Conv2D)            (None, 14, 14, 114)  58482       ['concatenate_10[0][0]']         \n",
            "                                                                                                  \n",
            " conv2d_135 (Conv2D)            (None, 14, 14, 64)   32832       ['max_pooling2d_29[0][0]']       \n",
            "                                                                                                  \n",
            " conv2d_137 (Conv2D)            (None, 14, 14, 64)   51264       ['conv2d_136[0][0]']             \n",
            "                                                                                                  \n",
            " conv2d_139 (Conv2D)            (None, 14, 14, 288)  295776      ['conv2d_138[0][0]']             \n",
            "                                                                                                  \n",
            " conv2d_140 (Conv2D)            (None, 14, 14, 112)  57456       ['concatenate_10[0][0]']         \n",
            "                                                                                                  \n",
            " activation_44 (Activation)     (None, 14, 14, 64)   0           ['conv2d_135[0][0]']             \n",
            "                                                                                                  \n",
            " activation_45 (Activation)     (None, 14, 14, 64)   0           ['conv2d_137[0][0]']             \n",
            "                                                                                                  \n",
            " activation_46 (Activation)     (None, 14, 14, 288)  0           ['conv2d_139[0][0]']             \n",
            "                                                                                                  \n",
            " activation_47 (Activation)     (None, 14, 14, 112)  0           ['conv2d_140[0][0]']             \n",
            "                                                                                                  \n",
            " concatenate_11 (Concatenate)   (None, 14, 14, 528)  0           ['activation_44[0][0]',          \n",
            "                                                                  'activation_45[0][0]',          \n",
            "                                                                  'activation_46[0][0]',          \n",
            "                                                                  'activation_47[0][0]']          \n",
            "                                                                                                  \n",
            " max_pooling2d_30 (MaxPooling2D  (None, 14, 14, 528)  0          ['concatenate_11[0][0]']         \n",
            " )                                                                                                \n",
            "                                                                                                  \n",
            " conv2d_143 (Conv2D)            (None, 14, 14, 32)   16928       ['concatenate_11[0][0]']         \n",
            "                                                                                                  \n",
            " conv2d_145 (Conv2D)            (None, 14, 14, 160)  84640       ['concatenate_11[0][0]']         \n",
            "                                                                                                  \n",
            " conv2d_142 (Conv2D)            (None, 14, 14, 128)  67712       ['max_pooling2d_30[0][0]']       \n",
            "                                                                                                  \n",
            " conv2d_144 (Conv2D)            (None, 14, 14, 128)  102528      ['conv2d_143[0][0]']             \n",
            "                                                                                                  \n",
            " conv2d_146 (Conv2D)            (None, 14, 14, 320)  461120      ['conv2d_145[0][0]']             \n",
            "                                                                                                  \n",
            " conv2d_147 (Conv2D)            (None, 14, 14, 256)  135424      ['concatenate_11[0][0]']         \n",
            "                                                                                                  \n",
            " activation_48 (Activation)     (None, 14, 14, 128)  0           ['conv2d_142[0][0]']             \n",
            "                                                                                                  \n",
            " activation_49 (Activation)     (None, 14, 14, 128)  0           ['conv2d_144[0][0]']             \n",
            "                                                                                                  \n",
            " activation_50 (Activation)     (None, 14, 14, 320)  0           ['conv2d_146[0][0]']             \n",
            "                                                                                                  \n",
            " activation_51 (Activation)     (None, 14, 14, 256)  0           ['conv2d_147[0][0]']             \n",
            "                                                                                                  \n",
            " concatenate_12 (Concatenate)   (None, 14, 14, 832)  0           ['activation_48[0][0]',          \n",
            "                                                                  'activation_49[0][0]',          \n",
            "                                                                  'activation_50[0][0]',          \n",
            "                                                                  'activation_51[0][0]']          \n",
            "                                                                                                  \n",
            " max_pooling2d_31 (MaxPooling2D  (None, 7, 7, 832)   0           ['concatenate_12[0][0]']         \n",
            " )                                                                                                \n",
            "                                                                                                  \n",
            " max_pooling2d_32 (MaxPooling2D  (None, 7, 7, 832)   0           ['max_pooling2d_31[0][0]']       \n",
            " )                                                                                                \n",
            "                                                                                                  \n",
            " conv2d_149 (Conv2D)            (None, 7, 7, 32)     26656       ['max_pooling2d_31[0][0]']       \n",
            "                                                                                                  \n",
            " conv2d_151 (Conv2D)            (None, 7, 7, 160)    133280      ['max_pooling2d_31[0][0]']       \n",
            "                                                                                                  \n",
            " conv2d_148 (Conv2D)            (None, 7, 7, 128)    106624      ['max_pooling2d_32[0][0]']       \n",
            "                                                                                                  \n",
            " conv2d_150 (Conv2D)            (None, 7, 7, 128)    102528      ['conv2d_149[0][0]']             \n",
            "                                                                                                  \n",
            " conv2d_152 (Conv2D)            (None, 7, 7, 320)    461120      ['conv2d_151[0][0]']             \n",
            "                                                                                                  \n",
            " conv2d_153 (Conv2D)            (None, 7, 7, 256)    213248      ['max_pooling2d_31[0][0]']       \n",
            "                                                                                                  \n",
            " activation_52 (Activation)     (None, 7, 7, 128)    0           ['conv2d_148[0][0]']             \n",
            "                                                                                                  \n",
            " activation_53 (Activation)     (None, 7, 7, 128)    0           ['conv2d_150[0][0]']             \n",
            "                                                                                                  \n",
            " activation_54 (Activation)     (None, 7, 7, 320)    0           ['conv2d_152[0][0]']             \n",
            "                                                                                                  \n",
            " activation_55 (Activation)     (None, 7, 7, 256)    0           ['conv2d_153[0][0]']             \n",
            "                                                                                                  \n",
            " concatenate_13 (Concatenate)   (None, 7, 7, 832)    0           ['activation_52[0][0]',          \n",
            "                                                                  'activation_53[0][0]',          \n",
            "                                                                  'activation_54[0][0]',          \n",
            "                                                                  'activation_55[0][0]']          \n",
            "                                                                                                  \n",
            " max_pooling2d_33 (MaxPooling2D  (None, 7, 7, 832)   0           ['concatenate_13[0][0]']         \n",
            " )                                                                                                \n",
            "                                                                                                  \n",
            " conv2d_155 (Conv2D)            (None, 7, 7, 48)     39984       ['concatenate_13[0][0]']         \n",
            "                                                                                                  \n",
            " conv2d_157 (Conv2D)            (None, 7, 7, 192)    159936      ['concatenate_13[0][0]']         \n",
            "                                                                                                  \n",
            " conv2d_154 (Conv2D)            (None, 7, 7, 128)    106624      ['max_pooling2d_33[0][0]']       \n",
            "                                                                                                  \n",
            " conv2d_156 (Conv2D)            (None, 7, 7, 128)    153728      ['conv2d_155[0][0]']             \n",
            "                                                                                                  \n",
            " conv2d_158 (Conv2D)            (None, 7, 7, 384)    663936      ['conv2d_157[0][0]']             \n",
            "                                                                                                  \n",
            " conv2d_159 (Conv2D)            (None, 7, 7, 384)    319872      ['concatenate_13[0][0]']         \n",
            "                                                                                                  \n",
            " average_pooling2d_4 (AveragePo  (None, 4, 4, 512)   0           ['concatenate_8[0][0]']          \n",
            " oling2D)                                                                                         \n",
            "                                                                                                  \n",
            " average_pooling2d_5 (AveragePo  (None, 4, 4, 528)   0           ['concatenate_11[0][0]']         \n",
            " oling2D)                                                                                         \n",
            "                                                                                                  \n",
            " activation_56 (Activation)     (None, 7, 7, 128)    0           ['conv2d_154[0][0]']             \n",
            "                                                                                                  \n",
            " activation_57 (Activation)     (None, 7, 7, 128)    0           ['conv2d_156[0][0]']             \n",
            "                                                                                                  \n",
            " activation_58 (Activation)     (None, 7, 7, 384)    0           ['conv2d_158[0][0]']             \n",
            "                                                                                                  \n",
            " activation_59 (Activation)     (None, 7, 7, 384)    0           ['conv2d_159[0][0]']             \n",
            "                                                                                                  \n",
            " conv2d_122 (Conv2D)            (None, 4, 4, 128)    65664       ['average_pooling2d_4[0][0]']    \n",
            "                                                                                                  \n",
            " conv2d_141 (Conv2D)            (None, 4, 4, 128)    67712       ['average_pooling2d_5[0][0]']    \n",
            "                                                                                                  \n",
            " concatenate_14 (Concatenate)   (None, 7, 7, 1024)   0           ['activation_56[0][0]',          \n",
            "                                                                  'activation_57[0][0]',          \n",
            "                                                                  'activation_58[0][0]',          \n",
            "                                                                  'activation_59[0][0]']          \n",
            "                                                                                                  \n",
            " flatten_5 (Flatten)            (None, 2048)         0           ['conv2d_122[0][0]']             \n",
            "                                                                                                  \n",
            " flatten_6 (Flatten)            (None, 2048)         0           ['conv2d_141[0][0]']             \n",
            "                                                                                                  \n",
            " global_average_pooling2d (Glob  (None, 1024)        0           ['concatenate_14[0][0]']         \n",
            " alAveragePooling2D)                                                                              \n",
            "                                                                                                  \n",
            " dense_4 (Dense)                (None, 1024)         2098176     ['flatten_5[0][0]']              \n",
            "                                                                                                  \n",
            " dense_6 (Dense)                (None, 1024)         2098176     ['flatten_6[0][0]']              \n",
            "                                                                                                  \n",
            " dropout_8 (Dropout)            (None, 1024)         0           ['global_average_pooling2d[0][0]'\n",
            "                                                                 ]                                \n",
            "                                                                                                  \n",
            " dropout_6 (Dropout)            (None, 1024)         0           ['dense_4[0][0]']                \n",
            "                                                                                                  \n",
            " dropout_7 (Dropout)            (None, 1024)         0           ['dense_6[0][0]']                \n",
            "                                                                                                  \n",
            " dense_8 (Dense)                (None, 88)           90200       ['dropout_8[0][0]']              \n",
            "                                                                                                  \n",
            " dense_5 (Dense)                (None, 88)           90200       ['dropout_6[0][0]']              \n",
            "                                                                                                  \n",
            " dense_7 (Dense)                (None, 88)           90200       ['dropout_7[0][0]']              \n",
            "                                                                                                  \n",
            "==================================================================================================\n",
            "Total params: 10,481,242\n",
            "Trainable params: 10,481,242\n",
            "Non-trainable params: 0\n",
            "__________________________________________________________________________________________________\n"
          ]
        }
      ]
    },
    {
      "cell_type": "code",
      "source": [
        "from tensorflow.keras.optimizers import SGD \n",
        "from keras.callbacks import LearningRateScheduler\n",
        "epochs = 25\n",
        "initial_lrate = 0.01\n",
        "\n",
        "def decay(epoch, steps=100):\n",
        "    initial_lrate = 0.01\n",
        "    drop = 0.96\n",
        "    epochs_drop = 8\n",
        "    lrate = initial_lrate * math.pow(drop, math.floor((1+epoch)/epochs_drop))\n",
        "    return lrate\n",
        "\n",
        "sgd = SGD(lr=initial_lrate, momentum=0.9, nesterov=False)\n",
        "\n",
        "lr_sc = LearningRateScheduler(decay, verbose=1)\n",
        "# from tensorflow.python.keras.callbacks import EarlyStopping\n",
        "# early_stopping = EarlyStopping(patience=20)\n",
        "\n",
        "googlenet.compile(loss=['categorical_crossentropy', 'categorical_crossentropy', 'categorical_crossentropy'], \n",
        "              loss_weights=[1, 0.3, 0.3], optimizer=sgd, metrics=['accuracy'])\n",
        "\n",
        "googlenet2_history = googlenet.fit(X_train, [y_train, y_train, y_train],\n",
        "                        validation_data=(X_test, [y_test, y_test, y_test]), \n",
        "                        epochs=epochs, batch_size=256, callbacks=[lr_sc])"
      ],
      "metadata": {
        "id": "LDr6wsPw_ghr",
        "colab": {
          "base_uri": "https://localhost:8080/"
        },
        "outputId": "33d67293-a987-469b-8d8b-2d526c195e1d"
      },
      "execution_count": null,
      "outputs": [
        {
          "output_type": "stream",
          "name": "stdout",
          "text": [
            "\n",
            "Epoch 1: LearningRateScheduler setting learning rate to 0.01.\n",
            "Epoch 1/25\n"
          ]
        },
        {
          "output_type": "stream",
          "name": "stderr",
          "text": [
            "/usr/local/lib/python3.7/dist-packages/keras/optimizer_v2/gradient_descent.py:102: UserWarning: The `lr` argument is deprecated, use `learning_rate` instead.\n",
            "  super(SGD, self).__init__(name, **kwargs)\n"
          ]
        },
        {
          "output_type": "stream",
          "name": "stdout",
          "text": [
            "13/13 [==============================] - 90s 7s/step - loss: 6.4819 - dense_8_loss: 3.9348 - dense_5_loss: 4.1933 - dense_7_loss: 4.2969 - dense_8_accuracy: 0.0586 - dense_5_accuracy: 0.0527 - dense_7_accuracy: 0.0433 - val_loss: 5.5974 - val_dense_8_loss: 3.4542 - val_dense_5_loss: 3.4535 - val_dense_7_loss: 3.6906 - val_dense_8_accuracy: 0.0561 - val_dense_5_accuracy: 0.0533 - val_dense_7_accuracy: 0.0953 - lr: 0.0100\n",
            "\n",
            "Epoch 2: LearningRateScheduler setting learning rate to 0.01.\n",
            "Epoch 2/25\n",
            "13/13 [==============================] - 81s 6s/step - loss: 5.5695 - dense_8_loss: 3.4122 - dense_5_loss: 3.5424 - dense_7_loss: 3.6486 - dense_8_accuracy: 0.0770 - dense_5_accuracy: 0.0817 - dense_7_accuracy: 0.0655 - val_loss: 5.4110 - val_dense_8_loss: 3.3806 - val_dense_5_loss: 3.2765 - val_dense_7_loss: 3.4915 - val_dense_8_accuracy: 0.0953 - val_dense_5_accuracy: 0.0953 - val_dense_7_accuracy: 0.0953 - lr: 0.0100\n",
            "\n",
            "Epoch 3: LearningRateScheduler setting learning rate to 0.01.\n",
            "Epoch 3/25\n",
            "13/13 [==============================] - 81s 6s/step - loss: 5.4461 - dense_8_loss: 3.3830 - dense_5_loss: 3.3619 - dense_7_loss: 3.5152 - dense_8_accuracy: 0.0742 - dense_5_accuracy: 0.1188 - dense_7_accuracy: 0.0851 - val_loss: 5.0654 - val_dense_8_loss: 3.2322 - val_dense_5_loss: 2.8810 - val_dense_7_loss: 3.2298 - val_dense_8_accuracy: 0.1542 - val_dense_5_accuracy: 0.2991 - val_dense_7_accuracy: 0.0953 - lr: 0.0100\n",
            "\n",
            "Epoch 4: LearningRateScheduler setting learning rate to 0.01.\n",
            "Epoch 4/25\n",
            "13/13 [==============================] - 82s 6s/step - loss: 5.3636 - dense_8_loss: 3.3140 - dense_5_loss: 3.4208 - dense_7_loss: 3.4110 - dense_8_accuracy: 0.1107 - dense_5_accuracy: 0.1690 - dense_7_accuracy: 0.0988 - val_loss: 5.4321 - val_dense_8_loss: 3.3804 - val_dense_5_loss: 3.5018 - val_dense_7_loss: 3.3371 - val_dense_8_accuracy: 0.0953 - val_dense_5_accuracy: 0.0953 - val_dense_7_accuracy: 0.0953 - lr: 0.0100\n",
            "\n",
            "Epoch 5: LearningRateScheduler setting learning rate to 0.01.\n",
            "Epoch 5/25\n",
            "13/13 [==============================] - 82s 6s/step - loss: 5.4249 - dense_8_loss: 3.3450 - dense_5_loss: 3.4844 - dense_7_loss: 3.4487 - dense_8_accuracy: 0.0964 - dense_5_accuracy: 0.0942 - dense_7_accuracy: 0.0954 - val_loss: 5.7816 - val_dense_8_loss: 3.6939 - val_dense_5_loss: 3.4614 - val_dense_7_loss: 3.4977 - val_dense_8_accuracy: 0.0822 - val_dense_5_accuracy: 0.0953 - val_dense_7_accuracy: 0.0822 - lr: 0.0100\n",
            "\n",
            "Epoch 6: LearningRateScheduler setting learning rate to 0.01.\n",
            "Epoch 6/25\n",
            "13/13 [==============================] - 82s 6s/step - loss: 5.5952 - dense_8_loss: 3.4459 - dense_5_loss: 3.5826 - dense_7_loss: 3.5819 - dense_8_accuracy: 0.0764 - dense_5_accuracy: 0.0742 - dense_7_accuracy: 0.0645 - val_loss: 5.3247 - val_dense_8_loss: 3.3486 - val_dense_5_loss: 3.1945 - val_dense_7_loss: 3.3925 - val_dense_8_accuracy: 0.0953 - val_dense_5_accuracy: 0.0953 - val_dense_7_accuracy: 0.0953 - lr: 0.0100\n",
            "\n",
            "Epoch 7: LearningRateScheduler setting learning rate to 0.01.\n",
            "Epoch 7/25\n",
            "13/13 [==============================] - 82s 6s/step - loss: 5.2469 - dense_8_loss: 3.3119 - dense_5_loss: 3.1137 - dense_7_loss: 3.3361 - dense_8_accuracy: 0.1210 - dense_5_accuracy: 0.1971 - dense_7_accuracy: 0.1247 - val_loss: 4.6425 - val_dense_8_loss: 3.0236 - val_dense_5_loss: 2.4970 - val_dense_7_loss: 2.8993 - val_dense_8_accuracy: 0.2037 - val_dense_5_accuracy: 0.4112 - val_dense_7_accuracy: 0.2252 - lr: 0.0100\n",
            "\n",
            "Epoch 8: LearningRateScheduler setting learning rate to 0.0096.\n",
            "Epoch 8/25\n",
            "13/13 [==============================] - 82s 6s/step - loss: 5.0371 - dense_8_loss: 3.1716 - dense_5_loss: 3.0271 - dense_7_loss: 3.1912 - dense_8_accuracy: 0.1653 - dense_5_accuracy: 0.2604 - dense_7_accuracy: 0.1996 - val_loss: 4.5576 - val_dense_8_loss: 2.9742 - val_dense_5_loss: 2.4762 - val_dense_7_loss: 2.8017 - val_dense_8_accuracy: 0.1766 - val_dense_5_accuracy: 0.4252 - val_dense_7_accuracy: 0.2664 - lr: 0.0096\n",
            "\n",
            "Epoch 9: LearningRateScheduler setting learning rate to 0.0096.\n",
            "Epoch 9/25\n",
            "13/13 [==============================] - 81s 6s/step - loss: 4.5655 - dense_8_loss: 2.9093 - dense_5_loss: 2.6694 - dense_7_loss: 2.8510 - dense_8_accuracy: 0.2354 - dense_5_accuracy: 0.3655 - dense_7_accuracy: 0.3227 - val_loss: 3.8111 - val_dense_8_loss: 2.5554 - val_dense_5_loss: 1.9713 - val_dense_7_loss: 2.2144 - val_dense_8_accuracy: 0.2813 - val_dense_5_accuracy: 0.5467 - val_dense_7_accuracy: 0.5262 - lr: 0.0096\n",
            "\n",
            "Epoch 10: LearningRateScheduler setting learning rate to 0.0096.\n",
            "Epoch 10/25\n",
            "13/13 [==============================] - 81s 6s/step - loss: 3.5052 - dense_8_loss: 2.2221 - dense_5_loss: 2.0400 - dense_7_loss: 2.2371 - dense_8_accuracy: 0.4287 - dense_5_accuracy: 0.5220 - dense_7_accuracy: 0.4621 - val_loss: 2.8316 - val_dense_8_loss: 1.8388 - val_dense_5_loss: 1.5895 - val_dense_7_loss: 1.7198 - val_dense_8_accuracy: 0.6402 - val_dense_5_accuracy: 0.6299 - val_dense_7_accuracy: 0.6168 - lr: 0.0096\n",
            "\n",
            "Epoch 11: LearningRateScheduler setting learning rate to 0.0096.\n",
            "Epoch 11/25\n",
            "13/13 [==============================] - 81s 6s/step - loss: 2.8445 - dense_8_loss: 1.7659 - dense_5_loss: 1.7412 - dense_7_loss: 1.8540 - dense_8_accuracy: 0.5535 - dense_5_accuracy: 0.6099 - dense_7_accuracy: 0.5594 - val_loss: 2.3763 - val_dense_8_loss: 1.5022 - val_dense_5_loss: 1.4162 - val_dense_7_loss: 1.4976 - val_dense_8_accuracy: 0.6308 - val_dense_5_accuracy: 0.6458 - val_dense_7_accuracy: 0.6364 - lr: 0.0096\n",
            "\n",
            "Epoch 12: LearningRateScheduler setting learning rate to 0.0096.\n",
            "Epoch 12/25\n",
            "13/13 [==============================] - 82s 6s/step - loss: 2.9756 - dense_8_loss: 1.8854 - dense_5_loss: 1.7426 - dense_7_loss: 1.8914 - dense_8_accuracy: 0.4905 - dense_5_accuracy: 0.5784 - dense_7_accuracy: 0.5435 - val_loss: 2.5545 - val_dense_8_loss: 1.6520 - val_dense_5_loss: 1.4779 - val_dense_7_loss: 1.5303 - val_dense_8_accuracy: 0.5196 - val_dense_5_accuracy: 0.7047 - val_dense_7_accuracy: 0.6299 - lr: 0.0096\n",
            "\n",
            "Epoch 13: LearningRateScheduler setting learning rate to 0.0096.\n",
            "Epoch 13/25\n",
            "13/13 [==============================] - 81s 6s/step - loss: 2.6382 - dense_8_loss: 1.6680 - dense_5_loss: 1.5768 - dense_7_loss: 1.6574 - dense_8_accuracy: 0.5525 - dense_5_accuracy: 0.6264 - dense_7_accuracy: 0.6043 - val_loss: 2.2478 - val_dense_8_loss: 1.4434 - val_dense_5_loss: 1.2931 - val_dense_7_loss: 1.3883 - val_dense_8_accuracy: 0.6514 - val_dense_5_accuracy: 0.6935 - val_dense_7_accuracy: 0.6888 - lr: 0.0096\n",
            "\n",
            "Epoch 14: LearningRateScheduler setting learning rate to 0.0096.\n",
            "Epoch 14/25\n",
            "13/13 [==============================] - 81s 6s/step - loss: 2.3369 - dense_8_loss: 1.4470 - dense_5_loss: 1.4417 - dense_7_loss: 1.5247 - dense_8_accuracy: 0.6342 - dense_5_accuracy: 0.6667 - dense_7_accuracy: 0.6486 - val_loss: 1.9442 - val_dense_8_loss: 1.2081 - val_dense_5_loss: 1.2070 - val_dense_7_loss: 1.2465 - val_dense_8_accuracy: 0.7262 - val_dense_5_accuracy: 0.7224 - val_dense_7_accuracy: 0.7318 - lr: 0.0096\n",
            "\n",
            "Epoch 15: LearningRateScheduler setting learning rate to 0.0096.\n",
            "Epoch 15/25\n",
            "13/13 [==============================] - 81s 6s/step - loss: 2.3980 - dense_8_loss: 1.4859 - dense_5_loss: 1.4851 - dense_7_loss: 1.5551 - dense_8_accuracy: 0.6093 - dense_5_accuracy: 0.6514 - dense_7_accuracy: 0.6311 - val_loss: 2.7636 - val_dense_8_loss: 1.8183 - val_dense_5_loss: 1.5063 - val_dense_7_loss: 1.6449 - val_dense_8_accuracy: 0.5206 - val_dense_5_accuracy: 0.6159 - val_dense_7_accuracy: 0.5701 - lr: 0.0096\n",
            "\n",
            "Epoch 16: LearningRateScheduler setting learning rate to 0.009216.\n",
            "Epoch 16/25\n",
            "13/13 [==============================] - 82s 6s/step - loss: 3.8692 - dense_8_loss: 2.5799 - dense_5_loss: 2.0229 - dense_7_loss: 2.2748 - dense_8_accuracy: 0.3530 - dense_5_accuracy: 0.5167 - dense_7_accuracy: 0.4649 - val_loss: 2.8579 - val_dense_8_loss: 1.8765 - val_dense_5_loss: 1.5851 - val_dense_7_loss: 1.6864 - val_dense_8_accuracy: 0.4822 - val_dense_5_accuracy: 0.6897 - val_dense_7_accuracy: 0.6262 - lr: 0.0092\n",
            "\n",
            "Epoch 17: LearningRateScheduler setting learning rate to 0.009216.\n",
            "Epoch 17/25\n",
            "13/13 [==============================] - ETA: 0s - loss: 2.7115 - dense_8_loss: 1.7132 - dense_5_loss: 1.6391 - dense_7_loss: 1.6887 - dense_8_accuracy: 0.5647 - dense_5_accuracy: 0.6155 - dense_7_accuracy: 0.5918\n",
            "Epoch 18: LearningRateScheduler setting learning rate to 0.009216.\n",
            "Epoch 18/25\n",
            "13/13 [==============================] - 82s 6s/step - loss: 2.2044 - dense_8_loss: 1.3428 - dense_5_loss: 1.4135 - dense_7_loss: 1.4585 - dense_8_accuracy: 0.6751 - dense_5_accuracy: 0.6869 - dense_7_accuracy: 0.6617 - val_loss: 2.0345 - val_dense_8_loss: 1.2853 - val_dense_5_loss: 1.2203 - val_dense_7_loss: 1.2771 - val_dense_8_accuracy: 0.7140 - val_dense_5_accuracy: 0.7514 - val_dense_7_accuracy: 0.7196 - lr: 0.0092\n",
            "\n",
            "Epoch 19: LearningRateScheduler setting learning rate to 0.009216.\n",
            "Epoch 19/25\n",
            "13/13 [==============================] - 82s 6s/step - loss: 2.1057 - dense_8_loss: 1.2957 - dense_5_loss: 1.3317 - dense_7_loss: 1.3682 - dense_8_accuracy: 0.6657 - dense_5_accuracy: 0.7016 - dense_7_accuracy: 0.6829 - val_loss: 1.8040 - val_dense_8_loss: 1.0995 - val_dense_5_loss: 1.1681 - val_dense_7_loss: 1.1803 - val_dense_8_accuracy: 0.7224 - val_dense_5_accuracy: 0.7561 - val_dense_7_accuracy: 0.7785 - lr: 0.0092\n",
            "\n",
            "Epoch 20: LearningRateScheduler setting learning rate to 0.009216.\n",
            "Epoch 20/25\n",
            "13/13 [==============================] - 82s 6s/step - loss: 1.8914 - dense_8_loss: 1.1434 - dense_5_loss: 1.2191 - dense_7_loss: 1.2741 - dense_8_accuracy: 0.7343 - dense_5_accuracy: 0.7421 - dense_7_accuracy: 0.7215 - val_loss: 1.6230 - val_dense_8_loss: 1.0001 - val_dense_5_loss: 1.0144 - val_dense_7_loss: 1.0619 - val_dense_8_accuracy: 0.7850 - val_dense_5_accuracy: 0.8009 - val_dense_7_accuracy: 0.7860 - lr: 0.0092\n",
            "\n",
            "Epoch 21: LearningRateScheduler setting learning rate to 0.009216.\n",
            "Epoch 21/25\n",
            "13/13 [==============================] - 82s 6s/step - loss: 1.6814 - dense_8_loss: 0.9977 - dense_5_loss: 1.1331 - dense_7_loss: 1.1461 - dense_8_accuracy: 0.7758 - dense_5_accuracy: 0.7786 - dense_7_accuracy: 0.7702 - val_loss: 1.4818 - val_dense_8_loss: 0.8993 - val_dense_5_loss: 0.9634 - val_dense_7_loss: 0.9780 - val_dense_8_accuracy: 0.8084 - val_dense_5_accuracy: 0.8252 - val_dense_7_accuracy: 0.8206 - lr: 0.0092\n",
            "\n",
            "Epoch 22: LearningRateScheduler setting learning rate to 0.009216.\n",
            "Epoch 22/25\n",
            "13/13 [==============================] - 82s 6s/step - loss: 1.5590 - dense_8_loss: 0.9188 - dense_5_loss: 1.0695 - dense_7_loss: 1.0645 - dense_8_accuracy: 0.8004 - dense_5_accuracy: 0.7939 - dense_7_accuracy: 0.7883 - val_loss: 1.4092 - val_dense_8_loss: 0.8604 - val_dense_5_loss: 0.9125 - val_dense_7_loss: 0.9167 - val_dense_8_accuracy: 0.7972 - val_dense_5_accuracy: 0.8140 - val_dense_7_accuracy: 0.8000 - lr: 0.0092\n",
            "\n",
            "Epoch 23: LearningRateScheduler setting learning rate to 0.009216.\n",
            "Epoch 23/25\n",
            "13/13 [==============================] - 82s 6s/step - loss: 1.9658 - dense_8_loss: 1.2188 - dense_5_loss: 1.2106 - dense_7_loss: 1.2794 - dense_8_accuracy: 0.7078 - dense_5_accuracy: 0.7437 - dense_7_accuracy: 0.7215 - val_loss: 1.6959 - val_dense_8_loss: 1.0661 - val_dense_5_loss: 1.0457 - val_dense_7_loss: 1.0539 - val_dense_8_accuracy: 0.7542 - val_dense_5_accuracy: 0.7804 - val_dense_7_accuracy: 0.7832 - lr: 0.0092\n",
            "\n",
            "Epoch 24: LearningRateScheduler setting learning rate to 0.008847359999999999.\n",
            "Epoch 24/25\n",
            "13/13 [==============================] - 82s 6s/step - loss: 1.7231 - dense_8_loss: 1.0519 - dense_5_loss: 1.1300 - dense_7_loss: 1.1076 - dense_8_accuracy: 0.7683 - dense_5_accuracy: 0.7640 - dense_7_accuracy: 0.7774 - val_loss: 1.4580 - val_dense_8_loss: 0.8878 - val_dense_5_loss: 0.9704 - val_dense_7_loss: 0.9302 - val_dense_8_accuracy: 0.7981 - val_dense_5_accuracy: 0.7925 - val_dense_7_accuracy: 0.8196 - lr: 0.0088\n",
            "\n",
            "Epoch 25: LearningRateScheduler setting learning rate to 0.008847359999999999.\n",
            "Epoch 25/25\n",
            "13/13 [==============================] - 82s 6s/step - loss: 1.4960 - dense_8_loss: 0.8861 - dense_5_loss: 1.0176 - dense_7_loss: 1.0156 - dense_8_accuracy: 0.8004 - dense_5_accuracy: 0.7939 - dense_7_accuracy: 0.8045 - val_loss: 1.3373 - val_dense_8_loss: 0.8109 - val_dense_5_loss: 0.8922 - val_dense_7_loss: 0.8624 - val_dense_8_accuracy: 0.8121 - val_dense_5_accuracy: 0.8215 - val_dense_7_accuracy: 0.8187 - lr: 0.0088\n"
          ]
        }
      ]
    },
    {
      "cell_type": "markdown",
      "source": [
        "** 참고 블로그 : https://ssongnote.tistory.com/12"
      ],
      "metadata": {
        "id": "M_UuSo5ITFJs"
      }
    },
    {
      "cell_type": "code",
      "metadata": {
        "id": "10HJtbuKQAtE",
        "colab": {
          "base_uri": "https://localhost:8080/",
          "height": 297
        },
        "outputId": "248ebf20-58be-4909-e864-b8c46f5f6656"
      },
      "source": [
        "# 5. 학습 과정 살펴보기\n",
        "%matplotlib inline\n",
        "import matplotlib.pyplot as plt\n",
        "\n",
        "print('loss만 추출')\n",
        "fig, loss_ax = plt.subplots()\n",
        "\n",
        "loss_ax.plot(googlenet2_history.history['loss'],'y',label='train loss')\n",
        "loss_ax.plot(googlenet2_history.history['val_loss'],'r',label='val loss')\n",
        "\n",
        "loss_ax.set_xlabel('epoch')\n",
        "loss_ax.set_ylabel('loss')\n",
        "\n",
        "loss_ax.legend(loc='lower left')\n",
        "plt.show()"
      ],
      "execution_count": null,
      "outputs": [
        {
          "output_type": "stream",
          "name": "stdout",
          "text": [
            "loss만 추출\n"
          ]
        },
        {
          "output_type": "display_data",
          "data": {
            "text/plain": [
              "<Figure size 432x288 with 1 Axes>"
            ],
            "image/png": "[encoded data removed]"
          },
          "metadata": {
            "needs_background": "light"
          }
        }
      ]
    },
    {
      "cell_type": "code",
      "source": [
        "# 6. 모델 평가하기\n",
        "loss_and_metrics = googlenet.evaluate(X_test,y_test,batch_size=32)\n",
        "#변수명 : X_train, X_test, y_train, y_test \n",
        "print('##### Test Result #####')\n",
        "print('loss : ',str(loss_and_metrics[0]))\n",
        "print('Accuracy : ',str(loss_and_metrics[1]))\n",
        "\n",
        "# 7. 모델 저장하기\n",
        "from tensorflow.python.keras.models import load_model\n",
        "googlenet.save(f'{base_dir}/googlenet2_with_classifiers_88_test_220422.h5')"
      ],
      "metadata": {
        "colab": {
          "base_uri": "https://localhost:8080/"
        },
        "id": "rlGnCLG8E_ZR",
        "outputId": "56f7f679-e230-4c2c-8595-ce25ab2e313c"
      },
      "execution_count": null,
      "outputs": [
        {
          "output_type": "stream",
          "name": "stdout",
          "text": [
            "34/34 [==============================] - 7s 174ms/step - loss: 1.3373 - dense_8_loss: 0.8109 - dense_5_loss: 0.8922 - dense_7_loss: 0.8624 - dense_8_accuracy: 0.8121 - dense_5_accuracy: 0.8215 - dense_7_accuracy: 0.8187\n",
            "##### Test Result #####\n",
            "loss :  1.3372535705566406\n",
            "Accuracy :  0.8108696341514587\n"
          ]
        }
      ]
    },
    {
      "cell_type": "code",
      "source": [
        ""
      ],
      "metadata": {
        "id": "1zWu-D7WdRmQ"
      },
      "execution_count": null,
      "outputs": []
    }
  ]
}